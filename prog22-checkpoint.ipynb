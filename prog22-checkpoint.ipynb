{
 "cells": [
  {
   "cell_type": "markdown",
   "id": "686e1269",
   "metadata": {},
   "source": [
    "## 講義（後期，第８回）ノート　＜１０章　シミュレーション１　酔歩問題，10.1～10.3節＞<br>提出課題については，最下部を参照"
   ]
  },
  {
   "cell_type": "markdown",
   "id": "8602c984",
   "metadata": {},
   "source": [
    "## 【再掲】7.3.2 乱数でグラフを書く（応用例：第 10,11 章）<br><br>関数 random() を使うことで，乱数が生成される．random() を使うためには，次の Code セルを実行し，random モジュールをインポートする必要がある．"
   ]
  },
  {
   "cell_type": "code",
   "execution_count": 1,
   "id": "c586b5fb",
   "metadata": {},
   "outputs": [],
   "source": [
    "import random"
   ]
  },
  {
   "cell_type": "markdown",
   "id": "ca8ae4da",
   "metadata": {},
   "source": [
    "## 10.1 シミュレーション（p.119～）<br><br>　物理法則や確率・統計などを利用して，コンピュータの中で現実世界の事象を再現したり予測を行うことを「シミュレーション」と呼ぶ．実際の物理現象を確認したいときは，現象に関わるもの自体を用いた実験の代わりに，原理に従う計算式を土台としたシミュレーションの方が使われやすい．理由としては，前者の物理的な実験よりも後者のシミュレーションの方が，実験や試作のコストがかからないだけでなく，視覚的に捉えにくいパラメータ（物体の重さ・速さ，温度，感染症の感染確率など）を数として可視化することで，メカニズムの本質を捉えた現実社会の諸問題（交通渋滞，気象予測，感染症の流行拡大など）の早期解決に役立つためである．<br>　本章では，簡単な例として，熱伝導や分子の運動現象に応用される酔歩問題と呼ばれる移動のシミュレーションについて学ぶ．<br><br>10.2&10.3 １次元の酔歩問題（p.120～）<br><br>　酔歩問題とは，ランダムに人が歩いた場合の位置を計算する問題で，酔歩という語をランダムウォークと呼ぶこともある．本節では，１次元の酔歩問題を考える．<br><br>【１次元の酔歩問題のモデル（シミュレーションに使われる計算式・規則）とアルゴリズム】<br><font size=\"4\">左上：アルゴリズム，左下：移動方向・移動距離の決め方，<br>右：ステップ毎に位置が $0$ → $-1$ → $0$ → $1$ → $2$ → $1$ → $\\cdots$ と変化する場合の図</font>"
   ]
  },
  {
   "cell_type": "code",
   "execution_count": 2,
   "id": "498f7a77",
   "metadata": {},
   "outputs": [
    {
     "data": {
      "text/html": [
       "<img src=\"https://www.rs.tus.ac.jp/yenatsu/idm2021prog/suiho.jpg\"/>"
      ],
      "text/plain": [
       "<IPython.core.display.Image object>"
      ]
     },
     "execution_count": 2,
     "metadata": {},
     "output_type": "execute_result"
    }
   ],
   "source": [
    "from IPython.display import Image\n",
    "Image(url= 'https://www.rs.tus.ac.jp/yenatsu/idm2021prog/suiho.jpg')"
   ]
  },
  {
   "cell_type": "markdown",
   "id": "ac497cfe",
   "metadata": {},
   "source": [
    "## 上記の画像における確率的な決め方の規則②に基づいて，各ステップでの位置を決める関数 next_step() を次に示す．"
   ]
  },
  {
   "cell_type": "code",
   "execution_count": 3,
   "id": "c36b8a26",
   "metadata": {},
   "outputs": [],
   "source": [
    "def next_step():\n",
    "    if random.random() > .5: # \".5\" は \"0.5\" を表す\n",
    "        return 1\n",
    "    else:\n",
    "        return -1"
   ]
  },
  {
   "cell_type": "markdown",
   "id": "b760892f",
   "metadata": {},
   "source": [
    "## 【確認】next_step() を 1 回適用して 1 ステップ目の位置を計算し，表示する．ただし，位置を pos として，初期（0 ステップ目）の位置を 0 とする（以降，実行の度に出力が変わる）．"
   ]
  },
  {
   "cell_type": "code",
   "execution_count": 4,
   "id": "1a29e482",
   "metadata": {},
   "outputs": [
    {
     "name": "stdout",
     "output_type": "stream",
     "text": [
      "-1\n"
     ]
    }
   ],
   "source": [
    "pos = 0 # 初期位置\n",
    "\n",
    "pos += next_step()\n",
    "print(pos)"
   ]
  },
  {
   "cell_type": "markdown",
   "id": "068cdddd",
   "metadata": {},
   "source": [
    "## 上記の確認で問題は見られなかったため，next_step() を 5 回適用して 0 ステップ目から 5 ステップ目までの位置を計算し，表示する．ただし，位置を pos として，初期（0 ステップ目）の位置を 0 とする．"
   ]
  },
  {
   "cell_type": "code",
   "execution_count": 5,
   "id": "848136da",
   "metadata": {},
   "outputs": [
    {
     "name": "stdout",
     "output_type": "stream",
     "text": [
      "0 ：初期位置\n",
      "-1\n",
      "0\n",
      "1\n",
      "2\n",
      "1\n"
     ]
    }
   ],
   "source": [
    "pos = 0 # 初期位置\n",
    "print(pos,\"：初期位置\") # 初期位置の表示\n",
    "\n",
    "for i in range(5):\n",
    "    pos += next_step()\n",
    "    print(pos)"
   ]
  },
  {
   "cell_type": "markdown",
   "id": "f954a124",
   "metadata": {},
   "source": [
    "## 次に，matplotlib を使って，規則②に基づいた 0 ステップ目から 100 ステップ目までの位置に関する次の２点の情報：<br><br>（１）位置の移動経過＜折れ線グラフ＞<br>（２）ステップ毎にいる位置の頻度＜ヒストグラム，例 10.1（テキスト p.125）＞<br><br>を図示する．"
   ]
  },
  {
   "cell_type": "code",
   "execution_count": 6,
   "id": "9b181afb",
   "metadata": {},
   "outputs": [
    {
     "data": {
      "image/png": "[encoded data removed]",
      "text/plain": [
       "<Figure size 432x288 with 1 Axes>"
      ]
     },
     "metadata": {
      "needs_background": "light"
     },
     "output_type": "display_data"
    },
    {
     "data": {
      "image/png": "[encoded data removed]",
      "text/plain": [
       "<Figure size 432x288 with 1 Axes>"
      ]
     },
     "metadata": {
      "needs_background": "light"
     },
     "output_type": "display_data"
    }
   ],
   "source": [
    "%matplotlib inline\n",
    "import matplotlib.pyplot as plt\n",
    "\n",
    "pos = 0\n",
    "pos_history = [0] # pos_history：ステップ毎にいる位置を記録するリスト（初期の位置のみ格納済み）\n",
    "\n",
    "for i in range(100):\n",
    "    pos += next_step()\n",
    "    pos_history.append(pos)\n",
    "\n",
    "### （１）位置の移動経過 ###\n",
    "plt.plot(pos_history)\n",
    "plt.title('Position for each step',{\"fontsize\":15})\n",
    "plt.xlabel('step')\n",
    "plt.ylabel('position')\n",
    "plt.show() # グラフ表示\n",
    "\n",
    "### （２）ステップ毎にいる位置の頻度 ###\n",
    "### （頻度を与える位置の範囲は自動で調整される） ###\n",
    "plt.hist(pos_history, rwidth=0.9) # rwidth=0.9：バーの横幅をデフォルトの 0.9 倍とする\n",
    "plt.title('Frequency of positions',{\"fontsize\":15})\n",
    "plt.xlabel('position')\n",
    "plt.show() # グラフ表示"
   ]
  },
  {
   "cell_type": "markdown",
   "id": "e4e7e4f2",
   "metadata": {},
   "source": [
    "## 実際，0 ステップ目の位置を 0 として，$n$ ステップ目の位置が 0 である確率は次の通りである．<br><br>・$n$ が偶数ならば $ \\frac{{}_n C_{\\frac{n}{2}}}{2^n}(={}_n C_{\\frac{n}{2}} (\\frac{1}{2})^{\\frac{n}{2}} (\\frac{1}{2})^{\\frac{n}{2}}) $<br><br>＜ポイント＞規則②における２つの移動操作「現在位置＋１」，「現在位置－１」の回数がそれぞれ同一の $\\frac{n}{2}$ 回であるときは，$n$ ステップ目の位置は移動パターンによらず 0 である．<br><br>・$n$ が奇数ならば $0$<br><br>＜ポイント＞規則②における２つの移動操作「現在位置＋１」，「現在位置－１」の回数はそれぞれ同一になり得ない．"
   ]
  },
  {
   "cell_type": "markdown",
   "id": "6500a995",
   "metadata": {},
   "source": [
    "## <span style=\"color: red; \">提出課題＜締切：１１月１１日（土）２３：５９＞</span><br><br>prog22_kadai_sample.ipynb 内の問に答えよ．<br>prog22_kadai_sample.ipynb 内の空欄すべてを埋め終えたら，ファイル名を<br><span style=\"color: blue; \">「prog22_kadai_sample」から「prog22_kadai_892〇〇〇〇」<br>（〇〇〇〇：半角の学籍番号下４桁）<br>へ変更し</span>，江夏の宛先へメール添付によりファイルを送信すること．"
   ]
  }
 ],
 "metadata": {
  "kernelspec": {
   "display_name": "Python 3",
   "language": "python",
   "name": "python3"
  },
  "language_info": {
   "codemirror_mode": {
    "name": "ipython",
    "version": 3
   },
   "file_extension": ".py",
   "mimetype": "text/x-python",
   "name": "python",
   "nbconvert_exporter": "python",
   "pygments_lexer": "ipython3",
   "version": "3.8.5"
  }
 },
 "nbformat": 4,
 "nbformat_minor": 5
}
