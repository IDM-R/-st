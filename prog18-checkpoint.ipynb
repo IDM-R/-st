{
 "cells": [
  {
   "cell_type": "markdown",
   "id": "47c83391",
   "metadata": {},
   "source": [
    "## 講義（後期，第３回）ノート　＜８章　アルゴリズム１　線形探索と二分探索，8.4節＞<br>提出課題（任意）については，最下部を参照"
   ]
  },
  {
   "cell_type": "markdown",
   "id": "6b44da0c",
   "metadata": {},
   "source": [
    "## 【再掲】7.3.2 乱数でグラフを書く（応用例：第 10,11 章）<br><br>関数 random() を使うことで，乱数が生成される．random() を使うためには，次の Code セルを実行し，random モジュールをインポートする必要がある．"
   ]
  },
  {
   "cell_type": "code",
   "execution_count": 1,
   "id": "fb83ca3e",
   "metadata": {},
   "outputs": [],
   "source": [
    "import random"
   ]
  },
  {
   "cell_type": "markdown",
   "id": "f887219b",
   "metadata": {},
   "source": [
    "## 【準備】ソートにおける数や文字列の大小関係<br><br>数値と同様に，文字列も演算子 <, <=, >, >= により比較が可能である．"
   ]
  },
  {
   "cell_type": "code",
   "execution_count": 2,
   "id": "93306c23",
   "metadata": {},
   "outputs": [
    {
     "data": {
      "text/plain": [
       "True"
      ]
     },
     "execution_count": 2,
     "metadata": {},
     "output_type": "execute_result"
    }
   ],
   "source": [
    "0<1"
   ]
  },
  {
   "cell_type": "code",
   "execution_count": 3,
   "id": "e926221b",
   "metadata": {},
   "outputs": [
    {
     "data": {
      "text/plain": [
       "True"
      ]
     },
     "execution_count": 3,
     "metadata": {},
     "output_type": "execute_result"
    }
   ],
   "source": [
    "\"H\"<\"J\""
   ]
  },
  {
   "cell_type": "code",
   "execution_count": 4,
   "id": "4f3bf2dc",
   "metadata": {},
   "outputs": [
    {
     "data": {
      "text/plain": [
       "True"
      ]
     },
     "execution_count": 4,
     "metadata": {},
     "output_type": "execute_result"
    }
   ],
   "source": [
    "\"H1\"<\"H8\""
   ]
  },
  {
   "cell_type": "code",
   "execution_count": 5,
   "id": "be6b5a78",
   "metadata": {},
   "outputs": [
    {
     "data": {
      "text/plain": [
       "True"
      ]
     },
     "execution_count": 5,
     "metadata": {},
     "output_type": "execute_result"
    }
   ],
   "source": [
    "\"abc\"<\"abcd\""
   ]
  },
  {
   "cell_type": "markdown",
   "id": "460156a4",
   "metadata": {},
   "source": [
    "## Python3 では，文字列の大小は文字の Unicode コードポイント（文字コード）の大小で判定される．関数 ord() を使うと，文字の Unicode コードポイントがわかる．"
   ]
  },
  {
   "cell_type": "code",
   "execution_count": 6,
   "id": "40c04dfb",
   "metadata": {},
   "outputs": [
    {
     "data": {
      "text/plain": [
       "106"
      ]
     },
     "execution_count": 6,
     "metadata": {},
     "output_type": "execute_result"
    }
   ],
   "source": [
    "ord('j')"
   ]
  },
  {
   "cell_type": "code",
   "execution_count": 7,
   "id": "90a85fb3",
   "metadata": {
    "scrolled": true
   },
   "outputs": [
    {
     "data": {
      "text/plain": [
       "74"
      ]
     },
     "execution_count": 7,
     "metadata": {},
     "output_type": "execute_result"
    }
   ],
   "source": [
    "ord('J')"
   ]
  },
  {
   "cell_type": "code",
   "execution_count": 8,
   "id": "25f22dfa",
   "metadata": {},
   "outputs": [
    {
     "data": {
      "text/plain": [
       "52"
      ]
     },
     "execution_count": 8,
     "metadata": {},
     "output_type": "execute_result"
    }
   ],
   "source": [
    "ord('4') # 数値ではなく，文字列の 4"
   ]
  },
  {
   "cell_type": "code",
   "execution_count": 9,
   "id": "28a5dc3d",
   "metadata": {
    "scrolled": false
   },
   "outputs": [
    {
     "data": {
      "text/plain": [
       "True"
      ]
     },
     "execution_count": 9,
     "metadata": {},
     "output_type": "execute_result"
    }
   ],
   "source": [
    "\"J\"<\"j\" # 74<106 より"
   ]
  },
  {
   "cell_type": "code",
   "execution_count": 10,
   "id": "d8379d92",
   "metadata": {},
   "outputs": [
    {
     "data": {
      "text/plain": [
       "True"
      ]
     },
     "execution_count": 10,
     "metadata": {},
     "output_type": "execute_result"
    }
   ],
   "source": [
    "\"4\"<\"J\" # 52<74 より"
   ]
  },
  {
   "cell_type": "markdown",
   "id": "be8a13f8",
   "metadata": {},
   "source": [
    "## 8.4 二分探索アルゴリズム（p.105～）<br><br>二分探索アルゴリズムは，探索範囲を逐次半分に絞りながら探索を進める方法である．次の条件：<br><br>１．要素に大小の判断がつく<br>２．要素が順に並んでいる<br><br>が満たされていれば，線形探索と比べて探索に必要な回数は大幅に減る．具体的には，データの（要素）数を $n$ とおくと，線形探索アルゴリズムによるデータ探索の処理時間は，<span style=\"color: blue; \">$\\log_2 n$ に比例する</span>．一方，検索範囲の要素をあらかじめソートしなければならない点に注意しよう．<br><br>8.4.1．二分探索アルゴリズムの例<br><br>【例１．数当て】＜当たりの数が 80 である場合＞<br><br>Step 0．探索範囲の上限を 100，探索範囲の下限を 1 とする．<br><br>Step 1．80 は Step 0 で与えられた探索範囲内の数の中央値 $\\frac{1+100}{2}=50.5$ より大きいため，探索範囲の上限を 100，下限を 51 とする．<br><br>Step 2．80 は Step 1 で与えられた探索範囲内の数の中央値 $\\frac{51+100}{2}=75.5$ より大きいため，探索範囲の上限を 100，下限を 76 とする．<br><br>Step 3．80 は Step 2 で与えられた探索範囲内の数の中央値 $\\frac{76+100}{2}=88$ より小さいため，探索範囲の上限を 87，下限を 76 とする．<br><br>Step 4．80 は Step 3 で与えられた探索範囲内の数の中央値 $\\frac{76+87}{2}=81.5$ より小さいため，探索範囲の上限を 81，下限を 76 とする．<br><br>Step 5．80 は Step 4 で与えられた探索範囲内の数の中央値 $\\frac{76+81}{2}=78.5$ より大きいため，探索範囲の上限を 81，下限を 79 とする．<br><br>Step 6．80 は Step 5 で与えられた探索範囲内の数の中央値 $\\frac{79+81}{2}=80$ と同一であるため，所望の数が発見されたとして，処理を終了する．<br><br>注意．上の数当てにおいては，線形探索アルゴリズムでは 80 回もの探索が必要となるが，二分探索アルゴリズムでは<span style=\"color: blue; \">「たった」6 回</span>の絞り込みによって所望のデータが発見される．<br><br>【例２．トランプのカード当て】＜当たりのカードが 80 である場合＞<br><br>下記の表の通り，トランプは<br><br>・ハート　　　13枚<br>・スペード　　13枚<br>・クラブ　　　13枚<br>・ダイヤ　　　13枚<br>・ジョーカー　1枚<br><br>の全53枚から構成されるものとする（例．HA：ハートのエース，S7：スペードの７）．"
   ]
  },
  {
   "cell_type": "markdown",
   "id": "1ca6e93f",
   "metadata": {},
   "source": [
    "| <span style=\"font-size: 150%;\">インデックス/スート|<span style=\"font-size: 150%;\">ハート |<span style=\"font-size: 150%;\">スペード |<span style=\"font-size: 150%;\">クラブ |<span style=\"font-size: 150%;\">ダイヤ |<span style=\"font-size: 150%;\">他|\n",
    "|:---:|:---:|:---:|:---:|:---:|:---:|\n",
    "|<span style=\"font-size: 150%;\">A（エース） |<span style=\"font-size: 150%;\">HA| <span style=\"font-size: 150%;\">SA |<span style=\"font-size: 150%;\">CA |<span style=\"font-size: 150%;\">DA ||\n",
    "|<span style=\"font-size: 150%;\">2 |<span style=\"font-size: 150%;\">H2| <span style=\"font-size: 150%;\">S2 |<span style=\"font-size: 150%;\">C2 |<span style=\"font-size: 150%;\">D2 ||\n",
    "|<span style=\"font-size: 150%;\">3 |<span style=\"font-size: 150%;\">H3| <span style=\"font-size: 150%;\">S3 |<span style=\"font-size: 150%;\">C3 |<span style=\"font-size: 150%;\">D3 ||\n",
    "|<span style=\"font-size: 150%;\">4 |<span style=\"font-size: 150%;\">H4| <span style=\"font-size: 150%;\">S4 |<span style=\"font-size: 150%;\">C4 |<span style=\"font-size: 150%;\">D4 ||\n",
    "|<span style=\"font-size: 150%;\">5 |<span style=\"font-size: 150%;\">H5| <span style=\"font-size: 150%;\">S5 |<span style=\"font-size: 150%;\">C5 |<span style=\"font-size: 150%;\">D5 ||\n",
    "|<span style=\"font-size: 150%;\">6 |<span style=\"font-size: 150%;\">H6| <span style=\"font-size: 150%;\">S6 |<span style=\"font-size: 150%;\">C6 |<span style=\"font-size: 150%;\">D6 ||\n",
    "|<span style=\"font-size: 150%;\">7 |<span style=\"font-size: 150%;\">H7| <span style=\"font-size: 150%;\">S7 |<span style=\"font-size: 150%;\">C7 |<span style=\"font-size: 150%;\">D7 ||\n",
    "|<span style=\"font-size: 150%;\">8 |<span style=\"font-size: 150%;\">H8| <span style=\"font-size: 150%;\">S8 |<span style=\"font-size: 150%;\">C8 |<span style=\"font-size: 150%;\">D8 ||\n",
    "|<span style=\"font-size: 150%;\">9 |<span style=\"font-size: 150%;\">H9| <span style=\"font-size: 150%;\">S9 |<span style=\"font-size: 150%;\">C9 |<span style=\"font-size: 150%;\">D9 ||\n",
    "|<span style=\"font-size: 150%;\">10 |<span style=\"font-size: 150%;\">H10| <span style=\"font-size: 150%;\">S10 |<span style=\"font-size: 150%;\">C10 |<span style=\"font-size: 150%;\">D10 ||\n",
    "|<span style=\"font-size: 150%;\">J（ジャック） |<span style=\"font-size: 150%;\">HJ| <span style=\"font-size: 150%;\">SJ |<span style=\"font-size: 150%;\">CJ |<span style=\"font-size: 150%;\">DJ ||\n",
    "|<span style=\"font-size: 150%;\">Q（クイーン） |<span style=\"font-size: 150%;\">HQ| <span style=\"font-size: 150%;\">SQ |<span style=\"font-size: 150%;\">CQ |<span style=\"font-size: 150%;\">DQ ||\n",
    "|<span style=\"font-size: 150%;\">K（キング） |<span style=\"font-size: 150%;\">HK| <span style=\"font-size: 150%;\">SK |<span style=\"font-size: 150%;\">CK |<span style=\"font-size: 150%;\">DK ||\n",
    "|<span style=\"font-size: 150%;\">Joker（ジョーカー） |||||<span style=\"font-size: 150%;\">Joker|"
   ]
  },
  {
   "cell_type": "markdown",
   "id": "f462f272",
   "metadata": {},
   "source": [
    "## 配られた札を Python のリストで表現したい．そのために，以下の命令文を実行し，Python ですべてのカードを含むリスト（変数名：cards）を始めに作成する．"
   ]
  },
  {
   "cell_type": "code",
   "execution_count": 11,
   "id": "ae39ffe2",
   "metadata": {},
   "outputs": [],
   "source": [
    "cards = [\"HA\", \"H2\", \"H3\", \"H4\", \"H5\", \"H6\", \"H7\", \"H8\", \"H9\", \"H10\", \"HJ\", \"HQ\", \"HK\", \"SA\", \"S2\", \"S3\", \"S4\", \"S5\", \"S6\", \"S7\", \"S8\", \"S9\", \"S10\", \"SJ\", \"SQ\", \"SK\", \"CA\", \"C2\", \"C3\", \"C4\", \"C5\", \"C6\", \"C7\", \"C8\", \"C9\", \"C10\", \"CJ\", \"CQ\", \"CK\", \"DA\", \"D2\", \"D3\", \"D4\", \"D5\", \"D6\", \"D7\", \"D8\", \"D9\", \"D10\", \"DJ\", \"DQ\", \"DK\", \"Joker\"]"
   ]
  },
  {
   "cell_type": "code",
   "execution_count": 12,
   "id": "2bc9597c",
   "metadata": {},
   "outputs": [
    {
     "data": {
      "text/plain": [
       "['HA',\n",
       " 'H2',\n",
       " 'H3',\n",
       " 'H4',\n",
       " 'H5',\n",
       " 'H6',\n",
       " 'H7',\n",
       " 'H8',\n",
       " 'H9',\n",
       " 'H10',\n",
       " 'HJ',\n",
       " 'HQ',\n",
       " 'HK',\n",
       " 'SA',\n",
       " 'S2',\n",
       " 'S3',\n",
       " 'S4',\n",
       " 'S5',\n",
       " 'S6',\n",
       " 'S7',\n",
       " 'S8',\n",
       " 'S9',\n",
       " 'S10',\n",
       " 'SJ',\n",
       " 'SQ',\n",
       " 'SK',\n",
       " 'CA',\n",
       " 'C2',\n",
       " 'C3',\n",
       " 'C4',\n",
       " 'C5',\n",
       " 'C6',\n",
       " 'C7',\n",
       " 'C8',\n",
       " 'C9',\n",
       " 'C10',\n",
       " 'CJ',\n",
       " 'CQ',\n",
       " 'CK',\n",
       " 'DA',\n",
       " 'D2',\n",
       " 'D3',\n",
       " 'D4',\n",
       " 'D5',\n",
       " 'D6',\n",
       " 'D7',\n",
       " 'D8',\n",
       " 'D9',\n",
       " 'D10',\n",
       " 'DJ',\n",
       " 'DQ',\n",
       " 'DK',\n",
       " 'Joker']"
      ]
     },
     "execution_count": 12,
     "metadata": {},
     "output_type": "execute_result"
    }
   ],
   "source": [
    "cards"
   ]
  },
  {
   "cell_type": "markdown",
   "id": "46992a82",
   "metadata": {},
   "source": [
    "## 次に，最初に配る札13枚をランダムに選択し，リスト first に代入する．ここでは，カードのリストから要素をランダムに選択するため，random モジュールを利用する．関数 random.sample() は，リスト cards の中から「重複なく」13枚を選択する関数である（実行の度に出力が変わる）．"
   ]
  },
  {
   "cell_type": "code",
   "execution_count": 15,
   "id": "7e0b48b4",
   "metadata": {},
   "outputs": [
    {
     "name": "stdout",
     "output_type": "stream",
     "text": [
      "['Joker', 'H10', 'HA', 'D3', 'HJ', 'C6', 'DJ', 'DK', 'D8', 'C5', 'S3', 'SA', 'C4']\n"
     ]
    }
   ],
   "source": [
    "first = random.sample(cards, 13)\n",
    "print(first)"
   ]
  },
  {
   "cell_type": "markdown",
   "id": "fe6cde79",
   "metadata": {},
   "source": [
    "## 下記のプログラムを実行することで手札のリスト first をソートし，ソートされた後のリストを改めて first とする（ソート後の要素の並び順については，ノートブック上部の【準備】を参照）．"
   ]
  },
  {
   "cell_type": "code",
   "execution_count": 16,
   "id": "fb51c3d5",
   "metadata": {},
   "outputs": [
    {
     "data": {
      "text/plain": [
       "['C4',\n",
       " 'C5',\n",
       " 'C6',\n",
       " 'D3',\n",
       " 'D8',\n",
       " 'DJ',\n",
       " 'DK',\n",
       " 'H10',\n",
       " 'HA',\n",
       " 'HJ',\n",
       " 'Joker',\n",
       " 'S3',\n",
       " 'SA']"
      ]
     },
     "execution_count": 16,
     "metadata": {},
     "output_type": "execute_result"
    }
   ],
   "source": [
    "first.sort()\n",
    "first"
   ]
  },
  {
   "cell_type": "markdown",
   "id": "e364c18e",
   "metadata": {},
   "source": [
    "## リスト first の中にジョーカーが含まれているかどうかを，二分探索アルゴリズムを使って調べる．次の命令文を実行し，二分探索アルゴリズムによるカード探索のプログラムを作成する．"
   ]
  },
  {
   "cell_type": "code",
   "execution_count": 17,
   "id": "0bbe6ef3",
   "metadata": {
    "scrolled": true
   },
   "outputs": [],
   "source": [
    "def findJoker2(l):\n",
    "    min_idx = 0 # min_idx：探索範囲の下限\n",
    "    max_idx = len(l) - 1 # max_idx：探索範囲の上限\n",
    "    while min_idx <= max_idx: # 探索範囲の下限と上限の大小が逆転しない限り，探索を続ける\n",
    "        mid_idx = int((min_idx + max_idx) / 2)\n",
    "        if l[mid_idx] == \"Joker\":\n",
    "            print(\"発見\") # 要素が \"Joker\" であれば，発見\n",
    "            return\n",
    "        if l[mid_idx] > \"Joker\":\n",
    "            max_idx = mid_idx - 1 # 探索範囲の上限の再設定\n",
    "        else:\n",
    "            min_idx = mid_idx + 1 # 探索範囲の下限の再設定\n",
    "    return # 未発見"
   ]
  },
  {
   "cell_type": "markdown",
   "id": "93f79377",
   "metadata": {},
   "source": [
    "## 関数 findJoker2() の引数を２つ前のセルで定めたリスト first として，リスト first の中に Joker が含まれていれば「発見」という文字列が出力される（含まれていなければ，出力無し）．"
   ]
  },
  {
   "cell_type": "code",
   "execution_count": 18,
   "id": "15520ab9",
   "metadata": {},
   "outputs": [
    {
     "name": "stdout",
     "output_type": "stream",
     "text": [
      "発見\n"
     ]
    }
   ],
   "source": [
    "# ２つ上の Code セルでの実行結果では，\n",
    "# first = ['C4', 'C5', 'C6', 'D3', 'D8', 'DJ', 'DK', 'H10', 'HA', 'HJ', 'Joker', 'S3', 'SA']\n",
    "findJoker2(first)"
   ]
  },
  {
   "cell_type": "markdown",
   "id": "25729b54",
   "metadata": {},
   "source": [
    "## 8.4.2．二分探索アルゴリズムの処理時間<br><br>前節の線形探索と同様に，3枚のカードをランダムに選択してから，ジョーカーが含まれているかどうかを調べるまでの試行を 100,000 回行う．ジョーカーを発見した回数を集計するために，直前の Code セルで定めた関数 findJoker2() の数行を修正した次の関数 findJpoint2() を定める．"
   ]
  },
  {
   "cell_type": "code",
   "execution_count": 19,
   "id": "dd1e27ad",
   "metadata": {},
   "outputs": [],
   "source": [
    "def findJpoint2(l):\n",
    "    min_idx = 0 # min_idx：探索範囲の下限\n",
    "    max_idx = len(l) - 1 # max_idx：探索範囲の上限\n",
    "    while min_idx <= max_idx: # 探索範囲の下限と上限の大小が逆転しない限り，探索を続ける\n",
    "        mid_idx = int((min_idx + max_idx) / 2)\n",
    "        if l[mid_idx] == \"Joker\":\n",
    "            return 1 # 発見\n",
    "        if l[mid_idx] > \"Joker\":\n",
    "            max_idx = mid_idx - 1 # 探索範囲の上限の再設定\n",
    "        else:\n",
    "            min_idx = mid_idx + 1 # 探索範囲の下限の再設定\n",
    "    return 0 # 未発見"
   ]
  },
  {
   "cell_type": "markdown",
   "id": "c29302ff",
   "metadata": {},
   "source": [
    "## 上のプログラムを実行した後に次のプログラムを実行することで，100000 回のうちでジョーカーを発見した回数が出力される．"
   ]
  },
  {
   "cell_type": "code",
   "execution_count": 20,
   "id": "419e2582",
   "metadata": {
    "scrolled": true
   },
   "outputs": [
    {
     "name": "stdout",
     "output_type": "stream",
     "text": [
      "24641\n"
     ]
    }
   ],
   "source": [
    "sum = 0\n",
    "for i in range(100000):\n",
    "    first = random.sample(cards, 13)\n",
    "    first.sort()\n",
    "    sum += findJpoint2(first)\n",
    "print(sum)"
   ]
  },
  {
   "cell_type": "markdown",
   "id": "b111ccf9",
   "metadata": {},
   "source": [
    "## 直前の Code セルで与えた findJpoint() による集計プログラムの実行時間を測定するためには，以下のプログラムを実行すれば良い．"
   ]
  },
  {
   "cell_type": "code",
   "execution_count": 21,
   "id": "a6909265",
   "metadata": {
    "scrolled": true
   },
   "outputs": [
    {
     "name": "stdout",
     "output_type": "stream",
     "text": [
      "24248\n",
      "Wall time: 941 ms\n"
     ]
    }
   ],
   "source": [
    "%%time\n",
    "sum = 0\n",
    "for i in range(100000):\n",
    "    first = random.sample(cards, 13)\n",
    "    first.sort()\n",
    "    sum += findJpoint2(first)\n",
    "print(sum)"
   ]
  },
  {
   "cell_type": "markdown",
   "id": "ac0fa370",
   "metadata": {},
   "source": [
    "## <span style=\"color: red; \">提出課題（任意）＜締切：１０月１４日（土）２３：５９＞</span><br><br>prog18_kadai_sample.ipynb 内の問に答えよ．<br>prog18_kadai_sample.ipynb 内の空欄すべてを埋め終えたら，ファイル名を<br><span style=\"color: blue; \">「prog18_kadai_sample」から「prog18_kadai_892〇〇〇〇」<br>（〇〇〇〇：半角の学籍番号下４桁）<br>へ変更し</span>，江夏の宛先へメール添付によりファイルを送信すること．"
   ]
  }
 ],
 "metadata": {
  "kernelspec": {
   "display_name": "Python 3",
   "language": "python",
   "name": "python3"
  },
  "language_info": {
   "codemirror_mode": {
    "name": "ipython",
    "version": 3
   },
   "file_extension": ".py",
   "mimetype": "text/x-python",
   "name": "python",
   "nbconvert_exporter": "python",
   "pygments_lexer": "ipython3",
   "version": "3.8.5"
  }
 },
 "nbformat": 4,
 "nbformat_minor": 5
}
