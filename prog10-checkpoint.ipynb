{
 "cells": [
  {
   "cell_type": "markdown",
   "id": "f24d648c",
   "metadata": {},
   "source": [
    "## 講義（第１０回）ノート　＜５章　データ型（リスト，辞書），5.2節＞<br>提出課題は最下部を参照"
   ]
  },
  {
   "cell_type": "markdown",
   "id": "2a392aa3",
   "metadata": {},
   "source": [
    "## 5.2 辞書（p.64～）<br><br>リストでは，インデックスを利用して要素を取り出せた．辞書では，インデックスの代わりにキーを使って要素を取り出せる．"
   ]
  },
  {
   "cell_type": "markdown",
   "id": "7872f354",
   "metadata": {},
   "source": [
    "## 5.2.1 辞書の作成<br><br>リストは，カギ括弧 [ ] とカンマ , を用いて表されていた．一方，辞書は，中括弧（＝波括弧）{} を使い，次の形式で作成する．"
   ]
  },
  {
   "cell_type": "code",
   "execution_count": null,
   "id": "ae15eb2e",
   "metadata": {},
   "outputs": [],
   "source": [
    "{ キー 1:値 1, キー 2:値 2, ...}"
   ]
  },
  {
   "cell_type": "markdown",
   "id": "90c4d017",
   "metadata": {},
   "source": [
    "## キーには，文字列や数字を指定することができるが，キーの重複はできない．<br><br>例１．都市の平均気温を辞書 temperature とするプログラム（辞書のキーとして文字列の都市名を使っている）"
   ]
  },
  {
   "cell_type": "code",
   "execution_count": 1,
   "id": "c319e136",
   "metadata": {},
   "outputs": [
    {
     "data": {
      "text/plain": [
       "{'札幌': 8.0,\n",
       " '仙台': 11.9,\n",
       " '東京': 15.3,\n",
       " '名古屋': 14.9,\n",
       " '大阪': 16.2,\n",
       " '福岡': 16.0,\n",
       " '那覇': 22.4}"
      ]
     },
     "execution_count": 1,
     "metadata": {},
     "output_type": "execute_result"
    }
   ],
   "source": [
    "temperature={ \"札幌\":8.0, \"仙台\":11.9, \"東京\":15.3, \"名古屋\":14.9, \"大阪\":16.2, \"福岡\":16.0, \"那覇\":22.4 } # 辞書 temperature の作成\n",
    "temperature # 上で作成した辞書 temperature の出力"
   ]
  },
  {
   "cell_type": "markdown",
   "id": "2069d0ca",
   "metadata": {},
   "source": [
    "## 注意．リストと違い，辞書のデータには順序がない．また，キーが重複してしまった場合，<span style=\"color: blue; \">後から</span>指定した値に上書きされる．<br><br>例２．一つの辞書に，同じキー（福岡）を登録してしまったプログラム"
   ]
  },
  {
   "cell_type": "code",
   "execution_count": 2,
   "id": "c939a8e2",
   "metadata": {},
   "outputs": [
    {
     "data": {
      "text/plain": [
       "{'札幌': 8.0,\n",
       " '仙台': 11.9,\n",
       " '東京': 15.3,\n",
       " '名古屋': 14.9,\n",
       " '大阪': 16.2,\n",
       " '福岡': -100.0,\n",
       " '那覇': 22.4}"
      ]
     },
     "execution_count": 2,
     "metadata": {},
     "output_type": "execute_result"
    }
   ],
   "source": [
    "temperature2={ \"札幌\":8.0, \"仙台\":11.9, \"東京\":15.3, \"名古屋\":14.9, \"大阪\":16.2, \"福岡\":16.0, \"那覇\":22.4, \"福岡\":-100.0 }\n",
    "temperature2"
   ]
  },
  {
   "cell_type": "markdown",
   "id": "3e98e50d",
   "metadata": {},
   "source": [
    "## 5.2.2 要素の参照<span style=\"color: blue; \">（以降，例１，２のプログラムを予め実行すること！）</span><br><br>辞書では，キーを使って直接要素を取り出せる．辞書に格納された要素を参照するためには，次の形式を用いる．"
   ]
  },
  {
   "cell_type": "code",
   "execution_count": null,
   "id": "52ce632d",
   "metadata": {},
   "outputs": [],
   "source": [
    "辞書名[キー]"
   ]
  },
  {
   "cell_type": "markdown",
   "id": "450bc1c5",
   "metadata": {},
   "source": [
    "## 例３．辞書 temperature での要素の参照"
   ]
  },
  {
   "cell_type": "code",
   "execution_count": 3,
   "id": "d2d783f6",
   "metadata": {
    "scrolled": false
   },
   "outputs": [
    {
     "data": {
      "text/plain": [
       "8.0"
      ]
     },
     "execution_count": 3,
     "metadata": {},
     "output_type": "execute_result"
    }
   ],
   "source": [
    "temperature[\"札幌\"]"
   ]
  },
  {
   "cell_type": "code",
   "execution_count": null,
   "id": "7fe58f7d",
   "metadata": {},
   "outputs": [],
   "source": [
    "temperature[\"名古屋\"]"
   ]
  },
  {
   "cell_type": "code",
   "execution_count": null,
   "id": "e387b5cd",
   "metadata": {},
   "outputs": [],
   "source": [
    "temperature[\"福岡\"]"
   ]
  },
  {
   "cell_type": "markdown",
   "id": "8f248a4c",
   "metadata": {},
   "source": [
    "## 辞書 temperature では，都市名をキーにしているため，都市名から気温を出力することができる（が，逆に気温から都市名を出力することはできない）．<br><br>注意．辞書に含まれていないキーを指定した場合，エラーとなる．"
   ]
  },
  {
   "cell_type": "code",
   "execution_count": 4,
   "id": "9c05a127",
   "metadata": {},
   "outputs": [
    {
     "ename": "KeyError",
     "evalue": "'ニューヨーク'",
     "output_type": "error",
     "traceback": [
      "\u001b[1;31m---------------------------------------------------------------------------\u001b[0m",
      "\u001b[1;31mKeyError\u001b[0m                                  Traceback (most recent call last)",
      "\u001b[1;32m<ipython-input-4-a1629d1c756a>\u001b[0m in \u001b[0;36m<module>\u001b[1;34m\u001b[0m\n\u001b[1;32m----> 1\u001b[1;33m \u001b[0mtemperature\u001b[0m\u001b[1;33m[\u001b[0m\u001b[1;34m\"ニューヨーク\"\u001b[0m\u001b[1;33m]\u001b[0m\u001b[1;33m\u001b[0m\u001b[1;33m\u001b[0m\u001b[0m\n\u001b[0m",
      "\u001b[1;31mKeyError\u001b[0m: 'ニューヨーク'"
     ]
    }
   ],
   "source": [
    "temperature[\"ニューヨーク\"]"
   ]
  },
  {
   "cell_type": "markdown",
   "id": "6fa6dd66",
   "metadata": {},
   "source": [
    "## 5.2.3 要素の追加<br><br>辞書に新たに要素を追加するには，次の通りにキーを指定して代入する．<br><br>例４．辞書 temperature での要素の追加"
   ]
  },
  {
   "cell_type": "code",
   "execution_count": 5,
   "id": "1bea4968",
   "metadata": {
    "scrolled": true
   },
   "outputs": [
    {
     "data": {
      "text/plain": [
       "{'札幌': 8.0,\n",
       " '仙台': 11.9,\n",
       " '東京': 15.3,\n",
       " '名古屋': 14.9,\n",
       " '大阪': 16.2,\n",
       " '福岡': 16.0,\n",
       " '那覇': 22.4,\n",
       " '長崎': 21.4}"
      ]
     },
     "execution_count": 5,
     "metadata": {},
     "output_type": "execute_result"
    }
   ],
   "source": [
    "temperature[\"長崎\"]=21.4 # 辞書 temperature への要素追加\n",
    "temperature"
   ]
  },
  {
   "cell_type": "markdown",
   "id": "f9234cc0",
   "metadata": {},
   "source": [
    "## 追加しようとする要素が元から辞書内にある場合は，値が更新（上書き）される．"
   ]
  },
  {
   "cell_type": "code",
   "execution_count": 6,
   "id": "c8ed57ac",
   "metadata": {
    "scrolled": true
   },
   "outputs": [
    {
     "data": {
      "text/plain": [
       "{'札幌': 8.0,\n",
       " '仙台': 11.9,\n",
       " '東京': 15.3,\n",
       " '名古屋': 14.9,\n",
       " '大阪': 16.2,\n",
       " '福岡': -100.0,\n",
       " '那覇': 100}"
      ]
     },
     "execution_count": 6,
     "metadata": {},
     "output_type": "execute_result"
    }
   ],
   "source": [
    "temperature2[\"那覇\"]=100\n",
    "temperature2"
   ]
  },
  {
   "cell_type": "markdown",
   "id": "c0c60636",
   "metadata": {},
   "source": [
    "## 辞書に要素を複数個追加するためには，update() を使う．"
   ]
  },
  {
   "cell_type": "code",
   "execution_count": 7,
   "id": "f77d647e",
   "metadata": {},
   "outputs": [],
   "source": [
    "temperature2.update(大宮=15.1,横浜=15.0, 京都=15.7)"
   ]
  },
  {
   "cell_type": "code",
   "execution_count": 8,
   "id": "e07768e0",
   "metadata": {},
   "outputs": [
    {
     "data": {
      "text/plain": [
       "{'札幌': 8.0,\n",
       " '仙台': 11.9,\n",
       " '東京': 15.3,\n",
       " '名古屋': 14.9,\n",
       " '大阪': 16.2,\n",
       " '福岡': -100.0,\n",
       " '那覇': 100,\n",
       " '大宮': 15.1,\n",
       " '横浜': 15.0,\n",
       " '京都': 15.7}"
      ]
     },
     "execution_count": 8,
     "metadata": {},
     "output_type": "execute_result"
    }
   ],
   "source": [
    "temperature2"
   ]
  },
  {
   "cell_type": "markdown",
   "id": "28b8fbb2",
   "metadata": {},
   "source": [
    "## 5.2.4 要素の削除<br><br>辞書から要素を削除するためには，関数 pop() を使う．"
   ]
  },
  {
   "cell_type": "code",
   "execution_count": 9,
   "id": "90ae752d",
   "metadata": {},
   "outputs": [
    {
     "data": {
      "text/plain": [
       "21.4"
      ]
     },
     "execution_count": 9,
     "metadata": {},
     "output_type": "execute_result"
    }
   ],
   "source": [
    "temperature.pop(\"長崎\") # 長崎の値 21.4 を返した上で，長崎のデータは temperature から削除される"
   ]
  },
  {
   "cell_type": "code",
   "execution_count": 10,
   "id": "3f74168a",
   "metadata": {},
   "outputs": [
    {
     "data": {
      "text/plain": [
       "{'札幌': 8.0,\n",
       " '仙台': 11.9,\n",
       " '東京': 15.3,\n",
       " '名古屋': 14.9,\n",
       " '大阪': 16.2,\n",
       " '福岡': 16.0,\n",
       " '那覇': 22.4}"
      ]
     },
     "execution_count": 10,
     "metadata": {},
     "output_type": "execute_result"
    }
   ],
   "source": [
    "temperature"
   ]
  },
  {
   "cell_type": "code",
   "execution_count": 11,
   "id": "0ffcf612",
   "metadata": {},
   "outputs": [
    {
     "data": {
      "text/plain": [
       "-100.0"
      ]
     },
     "execution_count": 11,
     "metadata": {},
     "output_type": "execute_result"
    }
   ],
   "source": [
    "temperature2.pop(\"福岡\")"
   ]
  },
  {
   "cell_type": "code",
   "execution_count": 12,
   "id": "53acfc52",
   "metadata": {
    "scrolled": true
   },
   "outputs": [
    {
     "data": {
      "text/plain": [
       "{'札幌': 8.0,\n",
       " '仙台': 11.9,\n",
       " '東京': 15.3,\n",
       " '名古屋': 14.9,\n",
       " '大阪': 16.2,\n",
       " '那覇': 100,\n",
       " '大宮': 15.1,\n",
       " '横浜': 15.0,\n",
       " '京都': 15.7}"
      ]
     },
     "execution_count": 12,
     "metadata": {},
     "output_type": "execute_result"
    }
   ],
   "source": [
    "temperature2"
   ]
  },
  {
   "cell_type": "markdown",
   "id": "b6677f30",
   "metadata": {},
   "source": [
    "## 辞書から要素を複数個削除するためには，del コマンドを使う．"
   ]
  },
  {
   "cell_type": "code",
   "execution_count": null,
   "id": "46f35a44",
   "metadata": {},
   "outputs": [],
   "source": [
    "del 辞書[キー]"
   ]
  },
  {
   "cell_type": "code",
   "execution_count": 13,
   "id": "b6e1d115",
   "metadata": {},
   "outputs": [],
   "source": [
    "del temperature2[\"仙台\"], temperature2[\"名古屋\"]"
   ]
  },
  {
   "cell_type": "code",
   "execution_count": 14,
   "id": "af70fd5c",
   "metadata": {},
   "outputs": [
    {
     "data": {
      "text/plain": [
       "{'札幌': 8.0,\n",
       " '東京': 15.3,\n",
       " '大阪': 16.2,\n",
       " '那覇': 100,\n",
       " '大宮': 15.1,\n",
       " '横浜': 15.0,\n",
       " '京都': 15.7}"
      ]
     },
     "execution_count": 14,
     "metadata": {},
     "output_type": "execute_result"
    }
   ],
   "source": [
    "temperature2"
   ]
  },
  {
   "cell_type": "code",
   "execution_count": null,
   "id": "6f3e4514",
   "metadata": {},
   "outputs": [],
   "source": [
    "del temperature2[\"札幌\"], temperature2[\"大宮\"], temperature2[\"那覇\"]"
   ]
  },
  {
   "cell_type": "markdown",
   "id": "44612dbe",
   "metadata": {},
   "source": [
    "## 5.2.5 要素の検索<br><br>リストと同じ（講義（第９回）ノート，例９－１～９－３参照）ように，辞書に対しても演算子 in を使うことで，辞書内に所望のキーがあるかどうかを調べることができる．"
   ]
  },
  {
   "cell_type": "code",
   "execution_count": 15,
   "id": "15d03ebf",
   "metadata": {},
   "outputs": [
    {
     "data": {
      "text/plain": [
       "True"
      ]
     },
     "execution_count": 15,
     "metadata": {},
     "output_type": "execute_result"
    }
   ],
   "source": [
    "\"大阪\" in temperature"
   ]
  },
  {
   "cell_type": "code",
   "execution_count": 16,
   "id": "6343ad7e",
   "metadata": {},
   "outputs": [
    {
     "data": {
      "text/plain": [
       "False"
      ]
     },
     "execution_count": 16,
     "metadata": {},
     "output_type": "execute_result"
    }
   ],
   "source": [
    "\"山形\" in temperature"
   ]
  },
  {
   "cell_type": "code",
   "execution_count": null,
   "id": "677e0a02",
   "metadata": {},
   "outputs": [],
   "source": [
    "\"札幌\" in temperature"
   ]
  },
  {
   "cell_type": "code",
   "execution_count": null,
   "id": "f3da5d4f",
   "metadata": {},
   "outputs": [],
   "source": [
    "\"ニューヨーク\" in temperature"
   ]
  },
  {
   "cell_type": "markdown",
   "id": "d84ccc98",
   "metadata": {},
   "source": [
    "## 例５．input 文で入力した都市を辞書 temperature 内で検索し平均気温を出力するプログラム"
   ]
  },
  {
   "cell_type": "code",
   "execution_count": 17,
   "id": "b69d13f5",
   "metadata": {
    "scrolled": true
   },
   "outputs": [
    {
     "name": "stdout",
     "output_type": "stream",
     "text": [
      "平均気温を出力したい都市を入力してください\n",
      "仙台\n",
      "仙台 11.9\n"
     ]
    }
   ],
   "source": [
    "k = input(\"平均気温を出力したい都市を入力してください\\n\")\n",
    "print(k, temperature[k])"
   ]
  },
  {
   "cell_type": "markdown",
   "id": "e3021e6b",
   "metadata": {},
   "source": [
    "## 注意．辞書にない都市名を検索しようとすると，エラーとなる．"
   ]
  },
  {
   "cell_type": "code",
   "execution_count": 18,
   "id": "ba8f03d8",
   "metadata": {},
   "outputs": [
    {
     "name": "stdout",
     "output_type": "stream",
     "text": [
      "平均気温を出力したい都市を入力してください\n",
      "ニューヨーク\n"
     ]
    },
    {
     "ename": "KeyError",
     "evalue": "'ニューヨーク'",
     "output_type": "error",
     "traceback": [
      "\u001b[1;31m---------------------------------------------------------------------------\u001b[0m",
      "\u001b[1;31mKeyError\u001b[0m                                  Traceback (most recent call last)",
      "\u001b[1;32m<ipython-input-18-9f9b61448b4b>\u001b[0m in \u001b[0;36m<module>\u001b[1;34m\u001b[0m\n\u001b[0;32m      1\u001b[0m \u001b[0mk\u001b[0m \u001b[1;33m=\u001b[0m \u001b[0minput\u001b[0m\u001b[1;33m(\u001b[0m\u001b[1;34m\"平均気温を出力したい都市を入力してください\\n\"\u001b[0m\u001b[1;33m)\u001b[0m\u001b[1;33m\u001b[0m\u001b[1;33m\u001b[0m\u001b[0m\n\u001b[1;32m----> 2\u001b[1;33m \u001b[0mprint\u001b[0m\u001b[1;33m(\u001b[0m\u001b[0mk\u001b[0m\u001b[1;33m,\u001b[0m \u001b[0mtemperature\u001b[0m\u001b[1;33m[\u001b[0m\u001b[0mk\u001b[0m\u001b[1;33m]\u001b[0m\u001b[1;33m)\u001b[0m\u001b[1;33m\u001b[0m\u001b[1;33m\u001b[0m\u001b[0m\n\u001b[0m",
      "\u001b[1;31mKeyError\u001b[0m: 'ニューヨーク'"
     ]
    }
   ],
   "source": [
    "k = input(\"平均気温を出力したい都市を入力してください\\n\")\n",
    "print(k, temperature[k])"
   ]
  },
  {
   "cell_type": "markdown",
   "id": "1b04f710",
   "metadata": {},
   "source": [
    "## 例６．上の例５のように，辞書にない都市名を検索した場合でも，例外処理として「都市名が見つかりません」と出力するプログラム"
   ]
  },
  {
   "cell_type": "code",
   "execution_count": 19,
   "id": "f91ec513",
   "metadata": {},
   "outputs": [
    {
     "name": "stdout",
     "output_type": "stream",
     "text": [
      "平均気温を出力したい都市を入力してください\n",
      "ニューヨーク\n",
      "ニューヨーク という都市名は見つかりません\n"
     ]
    }
   ],
   "source": [
    "k = input(\"平均気温を出力したい都市を入力してください\\n\")\n",
    "\n",
    "if k in temperature:\n",
    "    print(k, temperature[k])\n",
    "else:\n",
    "    print(k, \"という都市名は見つかりません\")"
   ]
  },
  {
   "cell_type": "markdown",
   "id": "2606eb64",
   "metadata": {},
   "source": [
    "## 5.2.6 辞書を使った繰り返し<br><br>for 文を使うと，辞書内の全体データの出力といった要素すべてについての処理を行える．<br><br>例７．辞書 temperature のデータを表示するプログラム"
   ]
  },
  {
   "cell_type": "code",
   "execution_count": 20,
   "id": "71beb8a0",
   "metadata": {},
   "outputs": [
    {
     "name": "stdout",
     "output_type": "stream",
     "text": [
      "札幌 8.0\n",
      "仙台 11.9\n",
      "東京 15.3\n",
      "名古屋 14.9\n",
      "大阪 16.2\n",
      "福岡 16.0\n",
      "那覇 22.4\n"
     ]
    }
   ],
   "source": [
    "# 辞書 temperature から 1 つずつ順番にキーを取り出し，city に代入する\n",
    "for city in temperature:\n",
    "    print(city, temperature[city])"
   ]
  },
  {
   "cell_type": "markdown",
   "id": "1bedd322",
   "metadata": {},
   "source": [
    "## 【解説】例７のプログラムでは，変数 city に辞書 temperature のキー \"札幌\", \"仙台\", ... , \"那覇\" を順次代入し，次の操作が行われている．<br><br>Step 1. city を \"札幌\" として，<br>&emsp; &emsp; &emsp; &emsp; &emsp; &emsp; &nbsp; &nbsp; print(\"札幌\",  <span style=\"color: blue; \">temperature[\"札幌\"]</span>)<br>&emsp; &emsp; &nbsp; &nbsp; すなわち，「札幌  <span style=\"color: blue; \">8.0</span>」と出力させる<br><br>Step 2. city を \"仙台\" として，<br>&emsp; &emsp; &emsp; &emsp; &emsp; &emsp; &nbsp; &nbsp; print(\"仙台\",  <span style=\"color: blue; \">temperature[\"仙台\"]</span>)<br>&emsp; &emsp; &nbsp; &nbsp; すなわち，「仙台  <span style=\"color: blue; \">11.9</span>」と出力させる<br><br>Step 3～Step 6. Steps 1,2 と同様<br><br>Step 7. city を \"那覇\" として，<br>&emsp; &emsp; &emsp; &emsp; &emsp; &emsp; &nbsp; &nbsp; print(\"那覇\",  <span style=\"color: blue; \">temperature[\"那覇\"]</span>)<br>&emsp; &emsp; &nbsp; &nbsp; すなわち，「那覇  <span style=\"color: blue; \">22.4</span>」と出力させる"
   ]
  },
  {
   "cell_type": "markdown",
   "id": "7b6906df",
   "metadata": {},
   "source": [
    "## 5.2.7 要素の結合<br><br>次の通りに複数の辞書データを結合することができる．<br><br>例８－１．２つの辞書 d1 と d2 の結合（辞書全体のキーが互いに重複していない場合）"
   ]
  },
  {
   "cell_type": "code",
   "execution_count": 1,
   "id": "61d74643",
   "metadata": {},
   "outputs": [
    {
     "data": {
      "text/plain": [
       "{'A': 60, 'B': 75, 'C': 90, 'D': 70, 'E': 80, 'F': 65}"
      ]
     },
     "execution_count": 1,
     "metadata": {},
     "output_type": "execute_result"
    }
   ],
   "source": [
    "d1 = {\"A\": 60, \"B\": 75, \"C\": 90}\n",
    "d2 = {\"D\": 70, \"E\": 80, \"F\": 65}\n",
    "\n",
    "d1.update(d2) # 辞書 d1 のデータに辞書 d2 のデータを結合する\n",
    "d=d1          # 辞書 d2 のデータが結合される形で更新された辞書 d1 を d とする\n",
    "d"
   ]
  },
  {
   "cell_type": "code",
   "execution_count": 2,
   "id": "c72b097c",
   "metadata": {},
   "outputs": [
    {
     "data": {
      "text/plain": [
       "{'D': 70, 'E': 80, 'F': 65, 'A': 60, 'B': 75, 'C': 90}"
      ]
     },
     "execution_count": 2,
     "metadata": {},
     "output_type": "execute_result"
    }
   ],
   "source": [
    "d1 = {\"A\": 60, \"B\": 75, \"C\": 90}\n",
    "d2 = {\"D\": 70, \"E\": 80, \"F\": 65}\n",
    "\n",
    "d2.update(d1) # 辞書 d2 のデータに辞書 d1 のデータを結合する\n",
    "d=d2          # 辞書 d1 のデータが結合される形で更新された辞書 d2 を d とする\n",
    "d"
   ]
  },
  {
   "cell_type": "markdown",
   "id": "fa816729",
   "metadata": {},
   "source": [
    "## 例８－１のように，元の辞書と結合用の辞書が d1 と d2，d2 と d1 のいずれであっても，辞書全体のキーが互いに重複していない限り，結合版として得られる辞書 d のキーと値の組は互いに同じ．<br><br>例８－２．３つの辞書 d1, d2, d3 の結合（辞書全体でキーが互いに重複していない場合）<br><br>注意．update() の中に複数の辞書を含める場合，<span style=\"color: blue; \">各辞書名の手前に「**」を付ける</span>必要がある．"
   ]
  },
  {
   "cell_type": "code",
   "execution_count": null,
   "id": "fcec3723",
   "metadata": {},
   "outputs": [],
   "source": [
    "d1 = {\"A\": 60, \"B\": 75, \"C\": 90}\n",
    "d2 = {\"D\": 70, \"E\": 80, \"F\": 65}\n",
    "d3 = {\"G\": 50, \"H\": 75}\n",
    "\n",
    "d1.update(**d2,**d3) # 辞書 d1 のデータに辞書 d2, d3 のデータを結合する\n",
    "d=d1                 # 辞書 d2, d3 のデータが結合される形で更新された辞書 d1 を d とする\n",
    "d"
   ]
  },
  {
   "cell_type": "markdown",
   "id": "0bf24eab",
   "metadata": {},
   "source": [
    "## 例９．２つの辞書 d1 と d4 の結合（辞書全体でキーのいくつかが重複している場合）"
   ]
  },
  {
   "cell_type": "code",
   "execution_count": 3,
   "id": "5e65cf76",
   "metadata": {},
   "outputs": [
    {
     "data": {
      "text/plain": [
       "{'A': 85, 'B': 75, 'C': 100, 'D': 50, 'E': 80, 'F': 75}"
      ]
     },
     "execution_count": 3,
     "metadata": {},
     "output_type": "execute_result"
    }
   ],
   "source": [
    "d1 = {\"A\": 60, \"B\": 75, \"C\": 90}\n",
    "d4 = {\"A\": 85, \"C\": 100, \"D\": 50, \"E\": 80, \"F\": 75}\n",
    "\n",
    "d1.update(d4) # 辞書 d1 のデータに辞書 d4 のデータを結合する\n",
    "d=d1          # 辞書 d4 のデータが結合される形で更新された辞書 d1 を d とする\n",
    "d"
   ]
  },
  {
   "cell_type": "code",
   "execution_count": 4,
   "id": "1cdf963c",
   "metadata": {},
   "outputs": [
    {
     "data": {
      "text/plain": [
       "{'A': 60, 'C': 90, 'D': 50, 'E': 80, 'F': 75, 'B': 75}"
      ]
     },
     "execution_count": 4,
     "metadata": {},
     "output_type": "execute_result"
    }
   ],
   "source": [
    "d1 = {\"A\": 60, \"B\": 75, \"C\": 90}\n",
    "d4 = {\"A\": 85, \"C\": 100, \"D\": 50, \"E\": 80, \"F\": 75}\n",
    "\n",
    "d4.update(d1) # 辞書 d4 のデータに辞書 d1 のデータを結合する\n",
    "d=d4          # 辞書 d1 のデータが結合される形で更新された辞書 d4 を d とする\n",
    "d"
   ]
  },
  {
   "cell_type": "markdown",
   "id": "169821aa",
   "metadata": {},
   "source": [
    "## 例９のように，辞書全体でキーのいくつかが重複する場合は，<span style=\"color: blue; \">update() の括弧内に引数として指定した辞書の値で</span>同じキーの値が上書きされる．そのため，元の辞書と結合用の辞書が入れ替わると，重複するキーの値が異なれば，結合版として得られる辞書 d において，<span style=\"color: blue; \">同じキーでも値が互いに異なる</span>ようなキーと値の組が少なくとも一組存在する．"
   ]
  },
  {
   "cell_type": "markdown",
   "id": "5df9f7b0",
   "metadata": {},
   "source": [
    "## <span style=\"color: red; \">提出課題＜締切：６月３０日（金）２３：５９＞</span><br><br>prog10_kadai_sample.ipynb 内の問に答えよ．<br>prog10_kadai_sample.ipynb 内の空欄すべてを埋め終えたら，ファイル名を<br><span style=\"color: blue; \">「prog10_kadai_sample」から「prog10_kadai_892〇〇〇〇」<br>（〇〇〇〇：半角の学籍番号下４桁）<br>へ変更し</span>，江夏の宛先へメール添付によりファイルを送信すること．"
   ]
  },
  {
   "cell_type": "markdown",
   "id": "2431e37e",
   "metadata": {},
   "source": [
    "## 【お知らせ】<br>第１１回では，Web で公開されている実際の（気象）データを使ったデータ分析を行います．プログラミング技法に加えて，平均や分散・標準偏差などの確率統計での予備知識にもふれているため，早めに学習したい人向けに第１１回講義ノートも，第１０回講義ノートと同時に公開します．<br>（第１１回分の課題は，これまでと同じ間隔として，およそ１週間後の公開とします）"
   ]
  }
 ],
 "metadata": {
  "kernelspec": {
   "display_name": "Python 3",
   "language": "python",
   "name": "python3"
  },
  "language_info": {
   "codemirror_mode": {
    "name": "ipython",
    "version": 3
   },
   "file_extension": ".py",
   "mimetype": "text/x-python",
   "name": "python",
   "nbconvert_exporter": "python",
   "pygments_lexer": "ipython3",
   "version": "3.8.8"
  }
 },
 "nbformat": 4,
 "nbformat_minor": 5
}
