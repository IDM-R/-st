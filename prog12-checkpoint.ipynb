{
 "cells": [
  {
   "cell_type": "markdown",
   "id": "c1956285",
   "metadata": {},
   "source": [
    "## 講義（第１２回）ノート　＜６章　関数，6.1節～6.2節＞　<br>提出課題は最下部を参照"
   ]
  },
  {
   "cell_type": "markdown",
   "id": "96632250",
   "metadata": {},
   "source": [
    "## 6.1 関数（p.71～）<br><br>関数（function）は，よく利用する機能をまとめて再利用できるようにする仕組みである．処理の一部を行う副プログラムの意味で，関数は「サブルーチン」とも呼ばれる．関数を使うメリットは，次の通りである．<br><br>１．再利用性<br>　何度も同じ処理を実行する必要があったり，類似した処理を記述する場合は，それらを関数としてまとめておくと，<span style=\"color: blue; \">命令処理一式の再利用が簡単になる</span>．<br><br>２．維持管理のしやすさ<br>　プログラム内で，何度も出てくる処理に対して変更を加えたい場合は，予めそれらの処理を関数としてまとめておけば，<span style=\"color: blue; \">修正の量が最小限に抑えられる</span>．<br><br>３．見通しの良さ<br>　処理の一部を関数としてまとめておくと，プログラム全体が見易くかつ短くなり，<span style=\"color: blue; \">処理の見通しが良くなる</span>．<br><br>＜関数の例＞print(), range(), math モジュールのインポートによって使った算術演算など"
   ]
  },
  {
   "cell_type": "markdown",
   "id": "503182d8",
   "metadata": {},
   "source": [
    "## 6.1.1 関数を定義する方法<br><br>関数を定義する場合は，次の書式を用いる．なお，下記のプログラム１行目の def は define の略であり，関数を定義するコマンドである．"
   ]
  },
  {
   "cell_type": "code",
   "execution_count": null,
   "id": "800d6d8c",
   "metadata": {},
   "outputs": [],
   "source": [
    "def 関数名(引数 1, 引数 2, ...): # 関数の定義，ここから\n",
    "    関数本体\n",
    "    実行する命令 1\n",
    "    実行する命令 2\n",
    "    ...\n",
    "    return 戻り値                # 関数の定義，ここまで"
   ]
  },
  {
   "cell_type": "markdown",
   "id": "54ac9cc5",
   "metadata": {},
   "source": [
    "## 関数の記述では次の５点に注意する．<br><br>(1) 引数を含む関数名を書き終えた後に，<span style=\"color: blue; \">必ず半角コロン「:」を書く</span><br>(2) 関数名の命名規則は，変数名の命名規則（第４回，2.4.1 変数とその命名規則）と同じである<br>(3) 引数は，関数を呼び出すときに指定するパラメータ（変数）である<br>(4) 関数本体は段付けして記述する．段付けが終わるまでが，その関数の定義範囲である<br>(5) 戻り値を指定する場合には，return 文を使う．この return 文で一連の処理は終了する<br><br>【関数を定義する際の要注意（6.1.2 関数の名前の付与方法）】<br><br>・可能な限りで<span style=\"color: red; \">用途がわかるような関数名を付与する</span>こと<br>・関数の定義範囲内の文が複雑であったり長い場合は，処理内容やパラメータなどに対して，\"#\" を用いたコメントアウトのような方法で<span style=\"color: red; \">簡潔な解説コメントを定義範囲内に書き残す</span>こと"
   ]
  },
  {
   "cell_type": "markdown",
   "id": "b181bf77",
   "metadata": {},
   "source": [
    "## 6.1.3 関数の定義"
   ]
  },
  {
   "cell_type": "markdown",
   "id": "acac1ce0",
   "metadata": {},
   "source": [
    "## 例１－１（引数を１つ必要とする関数）．引数が奇数であれば True を返す関数 isodd()"
   ]
  },
  {
   "cell_type": "code",
   "execution_count": 1,
   "id": "23caae62",
   "metadata": {},
   "outputs": [],
   "source": [
    "def isodd(x):         # 関数の定義，ここから\n",
    "    if (x%2==1):      # x を 2 で割った余りの数に応じて，偶奇を判別\n",
    "        return True\n",
    "    else:\n",
    "        return False # 関数の定義，ここまで"
   ]
  },
  {
   "cell_type": "code",
   "execution_count": 2,
   "id": "fb6b7522",
   "metadata": {},
   "outputs": [
    {
     "data": {
      "text/plain": [
       "True"
      ]
     },
     "execution_count": 2,
     "metadata": {},
     "output_type": "execute_result"
    }
   ],
   "source": [
    "isodd(-5) # 引数を −5 としたときの関数の出力結果表示"
   ]
  },
  {
   "cell_type": "code",
   "execution_count": null,
   "id": "1ea82858",
   "metadata": {},
   "outputs": [],
   "source": [
    "isodd(8)"
   ]
  },
  {
   "cell_type": "markdown",
   "id": "e5950128",
   "metadata": {},
   "source": [
    "## 関数 isodd() の場合は，() 内に引数 x を与えないと，TypeError というエラーが表示される："
   ]
  },
  {
   "cell_type": "code",
   "execution_count": 3,
   "id": "17879593",
   "metadata": {},
   "outputs": [
    {
     "ename": "TypeError",
     "evalue": "isodd() missing 1 required positional argument: 'x'",
     "output_type": "error",
     "traceback": [
      "\u001b[1;31m---------------------------------------------------------------------------\u001b[0m",
      "\u001b[1;31mTypeError\u001b[0m                                 Traceback (most recent call last)",
      "\u001b[1;32m<ipython-input-3-577c0ddf29e8>\u001b[0m in \u001b[0;36m<module>\u001b[1;34m\u001b[0m\n\u001b[1;32m----> 1\u001b[1;33m \u001b[0misodd\u001b[0m\u001b[1;33m(\u001b[0m\u001b[1;33m)\u001b[0m\u001b[1;33m\u001b[0m\u001b[1;33m\u001b[0m\u001b[0m\n\u001b[0m",
      "\u001b[1;31mTypeError\u001b[0m: isodd() missing 1 required positional argument: 'x'"
     ]
    }
   ],
   "source": [
    "isodd()"
   ]
  },
  {
   "cell_type": "markdown",
   "id": "57798b3e",
   "metadata": {},
   "source": [
    "## 例１－２（引数を２つ必要とする関数）．引数同士の引き算（subtraction）を返す関数 sub()"
   ]
  },
  {
   "cell_type": "code",
   "execution_count": null,
   "id": "f6ce2a9d",
   "metadata": {},
   "outputs": [],
   "source": [
    "def sub(x,y):   # 関数の定義，ここから（引き算：subtraction）\n",
    "    return x-y # 関数の定義，ここまで"
   ]
  },
  {
   "cell_type": "code",
   "execution_count": null,
   "id": "d91af7ec",
   "metadata": {},
   "outputs": [],
   "source": [
    "sub(4,-9)"
   ]
  },
  {
   "cell_type": "code",
   "execution_count": null,
   "id": "8407a534",
   "metadata": {},
   "outputs": [],
   "source": [
    "sub(-9,4)"
   ]
  },
  {
   "cell_type": "markdown",
   "id": "08c7bd64",
   "metadata": {},
   "source": [
    "## 注意．関数の引数の表記順について（p.75，コラム４後半）<br><br>上の関数 sub を使った計算では，関数定義内の引数 x, y は呼び出しの順番に対応付けられるため，sub(-9,4) は sub(4,-9) と等しくならない．一方で，関数側で定義されている引数の名前を使って，<span style=\"color: blue; \">「引数の名前=引数」の形式で呼び出しの順番によらずに各引数を指定する</span>ことも可能である．<br>このようなイコール \"=\" が手前に付く引数をキーワード引数とよぶ．<br><br>例えば，下記の入力文を実行すると，入力された数は左右逆であっても，出力値は sub(4,-9) と等しくなる．"
   ]
  },
  {
   "cell_type": "code",
   "execution_count": null,
   "id": "f4dbaadc",
   "metadata": {},
   "outputs": [],
   "source": [
    "sub(y=-9,x=4)"
   ]
  },
  {
   "cell_type": "markdown",
   "id": "83a5d5ea",
   "metadata": {},
   "source": [
    "## 例２（引数を必要としない関数）．前もって代入された数値や文字列を表示する関数 printX()"
   ]
  },
  {
   "cell_type": "code",
   "execution_count": 4,
   "id": "f51d101c",
   "metadata": {},
   "outputs": [],
   "source": [
    "x = 100\n",
    "\n",
    "def printX(): # 関数の定義，ここから\n",
    "    print(x)  # 関数の定義，ここまで"
   ]
  },
  {
   "cell_type": "code",
   "execution_count": 5,
   "id": "d4087746",
   "metadata": {
    "scrolled": true
   },
   "outputs": [
    {
     "name": "stdout",
     "output_type": "stream",
     "text": [
      "100\n"
     ]
    }
   ],
   "source": [
    "printX() # 関数 printX() の実行"
   ]
  },
  {
   "cell_type": "markdown",
   "id": "447131b6",
   "metadata": {},
   "source": [
    "## 関数 printX() の場合は，() 内に引数を与えてしまうと，例１と同じTypeError が表示される："
   ]
  },
  {
   "cell_type": "code",
   "execution_count": 6,
   "id": "43f094ab",
   "metadata": {},
   "outputs": [
    {
     "ename": "TypeError",
     "evalue": "printX() takes 0 positional arguments but 1 was given",
     "output_type": "error",
     "traceback": [
      "\u001b[1;31m---------------------------------------------------------------------------\u001b[0m",
      "\u001b[1;31mTypeError\u001b[0m                                 Traceback (most recent call last)",
      "\u001b[1;32m<ipython-input-6-46e7c61d94ea>\u001b[0m in \u001b[0;36m<module>\u001b[1;34m\u001b[0m\n\u001b[1;32m----> 1\u001b[1;33m \u001b[0mprintX\u001b[0m\u001b[1;33m(\u001b[0m\u001b[1;36m1\u001b[0m\u001b[1;33m)\u001b[0m\u001b[1;33m\u001b[0m\u001b[1;33m\u001b[0m\u001b[0m\n\u001b[0m",
      "\u001b[1;31mTypeError\u001b[0m: printX() takes 0 positional arguments but 1 was given"
     ]
    }
   ],
   "source": [
    "printX(1)"
   ]
  },
  {
   "cell_type": "markdown",
   "id": "ef75ea08",
   "metadata": {},
   "source": [
    "## 6.1.4 値を返さない関数<br><br>特定の条件以外で値を返す必要がない場合は，値を返さない関数を定義することもできる．値を返さない関数をプログラム内で作成する過程で，次の２点に注意すること．<br><br>(1) return 文だけを記述した場合は，何も値が返されずに処理は終了する<br>(2) 関数の最後に到達した場合は，値は何も返されない．<br><br>例３．点数が 100 の場合にのみ「満点です」と表示するプログラム"
   ]
  },
  {
   "cell_type": "code",
   "execution_count": 7,
   "id": "0240c697",
   "metadata": {},
   "outputs": [],
   "source": [
    "def myprint(x):              # 関数の定義，ここから\n",
    "    print(\"点数は\",x,\"です\")\n",
    "    if x != 100:\n",
    "        return               # x に代入される数が 100 でない限り，return 文だけの記述によって何も値が返されずに処理は終了する\n",
    "    print(\"満点です\")         # 関数の定義，ここまで"
   ]
  },
  {
   "cell_type": "code",
   "execution_count": 8,
   "id": "43eed432",
   "metadata": {},
   "outputs": [
    {
     "name": "stdout",
     "output_type": "stream",
     "text": [
      "点数は 100 です\n",
      "満点です\n"
     ]
    }
   ],
   "source": [
    "myprint(100)"
   ]
  },
  {
   "cell_type": "code",
   "execution_count": 9,
   "id": "4df49383",
   "metadata": {},
   "outputs": [
    {
     "name": "stdout",
     "output_type": "stream",
     "text": [
      "点数は 35 です\n"
     ]
    }
   ],
   "source": [
    "myprint(35)"
   ]
  },
  {
   "cell_type": "markdown",
   "id": "dd40c773",
   "metadata": {},
   "source": [
    "## 6.2 関数を書いてみよう（p.76～）<br><br>例４．入力された２つの数字を比較して大きい方の数字を返す関数"
   ]
  },
  {
   "cell_type": "code",
   "execution_count": 1,
   "id": "60b4ff2a",
   "metadata": {},
   "outputs": [],
   "source": [
    "def max(x,y):\n",
    "    if x>y:\n",
    "        return x\n",
    "    else:\n",
    "        return y"
   ]
  },
  {
   "cell_type": "code",
   "execution_count": 2,
   "id": "99072162",
   "metadata": {
    "scrolled": true
   },
   "outputs": [
    {
     "data": {
      "text/plain": [
       "35"
      ]
     },
     "execution_count": 2,
     "metadata": {},
     "output_type": "execute_result"
    }
   ],
   "source": [
    "max(10,35)"
   ]
  },
  {
   "cell_type": "code",
   "execution_count": 3,
   "id": "5b3094c8",
   "metadata": {},
   "outputs": [
    {
     "data": {
      "text/plain": [
       "-10"
      ]
     },
     "execution_count": 3,
     "metadata": {},
     "output_type": "execute_result"
    }
   ],
   "source": [
    "max(-10,-34.6)"
   ]
  },
  {
   "cell_type": "code",
   "execution_count": null,
   "id": "4423b7e2",
   "metadata": {},
   "outputs": [],
   "source": [
    "max(2**(1/2),1.4142)"
   ]
  },
  {
   "cell_type": "code",
   "execution_count": null,
   "id": "c01c556e",
   "metadata": {},
   "outputs": [],
   "source": [
    "max(4,4)"
   ]
  },
  {
   "cell_type": "markdown",
   "id": "ec917df4",
   "metadata": {},
   "source": [
    "## 例５．リストの要素同士を足す関数"
   ]
  },
  {
   "cell_type": "code",
   "execution_count": 4,
   "id": "7760db89",
   "metadata": {},
   "outputs": [],
   "source": [
    "def vec_add(x,y):\n",
    "    return [x[0] + y[0], x[1] + y[1]]"
   ]
  },
  {
   "cell_type": "code",
   "execution_count": 5,
   "id": "f615f982",
   "metadata": {},
   "outputs": [
    {
     "data": {
      "text/plain": [
       "[11, -4]"
      ]
     },
     "execution_count": 5,
     "metadata": {},
     "output_type": "execute_result"
    }
   ],
   "source": [
    "vec_add([9,1],[2,-5])"
   ]
  },
  {
   "cell_type": "markdown",
   "id": "30237db9",
   "metadata": {},
   "source": [
    "## 問１（p.83）．半径 $r$ の円の面積を求める関数 area_circle() を作りたい．求める円の面積は $$\n",
    "s=\\pi r^2$$ で与えられる．次の問に答えよ．<br><br>(1) 引数として $r$ を受け取った（独立変数の文字を $r$ とした）上で面積を返す関数を作りなさい．<br>(2) 関数 area_circle() を使って，半径 5 の円の面積を計算しなさい．<br>(3) 関数 area_circle() を使って，$r$ を 1 から 10 まで 1 ずつ大きくしたときの面積を表示しなさい．<br><br>【模範解答（問１）】"
   ]
  },
  {
   "cell_type": "code",
   "execution_count": 1,
   "id": "fd834774",
   "metadata": {},
   "outputs": [],
   "source": [
    "# 問１（１）の入力欄\n",
    "import math\n",
    "def area_circle(r): # 引数として 𝑟 を受け取る関数の定義\n",
    "    return math.pi * (r ** 2)"
   ]
  },
  {
   "cell_type": "code",
   "execution_count": 2,
   "id": "15fbfe9a",
   "metadata": {},
   "outputs": [
    {
     "data": {
      "text/plain": [
       "78.53981633974483"
      ]
     },
     "execution_count": 2,
     "metadata": {},
     "output_type": "execute_result"
    }
   ],
   "source": [
    "# 問１（２）の入力欄\n",
    "area_circle(5)"
   ]
  },
  {
   "cell_type": "code",
   "execution_count": 3,
   "id": "74c499ef",
   "metadata": {},
   "outputs": [
    {
     "name": "stdout",
     "output_type": "stream",
     "text": [
      " 1 3.141592653589793\n",
      " 2 12.566370614359172\n",
      " 3 28.274333882308138\n",
      " 4 50.26548245743669\n",
      " 5 78.53981633974483\n",
      " 6 113.09733552923255\n",
      " 7 153.93804002589985\n",
      " 8 201.06192982974676\n",
      " 9 254.46900494077323\n",
      "10 314.1592653589793\n"
     ]
    }
   ],
   "source": [
    "# 問１（３）の入力欄：！！r の値は「１の位が揃う形で出力されるように」表示すること（講義（第８回）ノート下部，問２参照）！！\n",
    "for r in range(1,11):\n",
    "    print(\"%2d\" % r, area_circle(r))"
   ]
  },
  {
   "cell_type": "markdown",
   "id": "4c4b94b6",
   "metadata": {},
   "source": [
    "## 問２．３辺の長さを $x,y,z$ とする三角形の面積を求める関数 area_triangle() を作りたい．求める三角形の面積は $$S=\\sqrt{s(s-x)(s-y)(s-z)}, \\ s=\\frac{x+y+z}{2}$$ で与えられる（ヘロンの公式）．次の問に答えよ．<br><br>(1) 引数として $x,y,z$ を受け取った上で面積を返す関数を作りなさい．<br>(2) 関数 area_triangle を使って，３辺の長さを $5,6,7$ とする三角形の面積を計算しなさい．<br><br>【模範解答（問２）】"
   ]
  },
  {
   "cell_type": "code",
   "execution_count": 4,
   "id": "3c01df67",
   "metadata": {},
   "outputs": [],
   "source": [
    "# 問２（１）の入力欄\n",
    "def area_triangle(x,y,z): # 引数として x,y を受け取る関数の定義\n",
    "    s=(x+y+z)/2\n",
    "    return (s*(s-x)*(s-y)*(s-z))**(1/2)"
   ]
  },
  {
   "cell_type": "code",
   "execution_count": 5,
   "id": "4cc0f421",
   "metadata": {
    "scrolled": true
   },
   "outputs": [
    {
     "data": {
      "text/plain": [
       "14.696938456699069"
      ]
     },
     "execution_count": 5,
     "metadata": {},
     "output_type": "execute_result"
    }
   ],
   "source": [
    "# 問２（２）の入力欄\n",
    "area_triangle(5,6,7)"
   ]
  },
  {
   "cell_type": "markdown",
   "id": "fe27e3f7",
   "metadata": {},
   "source": [
    "## 手計算により得られる問２後半の面積値 $6 \\sqrt{6}$ の有理数近似による検算："
   ]
  },
  {
   "cell_type": "code",
   "execution_count": 6,
   "id": "aa13b887",
   "metadata": {},
   "outputs": [
    {
     "data": {
      "text/plain": [
       "14.696938456699067"
      ]
     },
     "execution_count": 6,
     "metadata": {},
     "output_type": "execute_result"
    }
   ],
   "source": [
    "6*(6**(1/2))"
   ]
  },
  {
   "cell_type": "markdown",
   "id": "26cf9c49",
   "metadata": {},
   "source": [
    "## <span style=\"color: red; \">提出課題＜締切：７月１４日（金）２３：５９＞</span><br><br>prog12_kadai_sample.ipynb 内の問に答えよ．<br>prog12_kadai_sample.ipynb 内の空欄すべてを埋め終えたら，ファイル名を<br><span style=\"color: blue; \">「prog12_kadai_sample」から「prog12_kadai_892〇〇〇〇」<br>（〇〇〇〇：半角の学籍番号下４桁）<br>へ変更し</span>，江夏の宛先へメール添付によりファイルを送信すること．"
   ]
  }
 ],
 "metadata": {
  "kernelspec": {
   "display_name": "Python 3",
   "language": "python",
   "name": "python3"
  },
  "language_info": {
   "codemirror_mode": {
    "name": "ipython",
    "version": 3
   },
   "file_extension": ".py",
   "mimetype": "text/x-python",
   "name": "python",
   "nbconvert_exporter": "python",
   "pygments_lexer": "ipython3",
   "version": "3.8.5"
  }
 },
 "nbformat": 4,
 "nbformat_minor": 5
}
