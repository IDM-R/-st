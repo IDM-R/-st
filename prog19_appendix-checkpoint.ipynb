{
 "cells": [
  {
   "cell_type": "markdown",
   "id": "1f18c6e6",
   "metadata": {},
   "source": [
    "## 講義（後期，第５回補足）ノート　＜９章　アルゴリズム２　ソート，番外編＞"
   ]
  },
  {
   "cell_type": "markdown",
   "id": "07c8b432",
   "metadata": {},
   "source": [
    "## A．計算量<br><br>　計算量とは，リストの要素数といった入力されるデータ量の増加に対して，アルゴリズムの処理時間がどれくらいの割合で増えるのかを表す指標である．第５回で学習した選択ソートでは，入力するリスト要素の数を $100$ 倍にすると，処理時間がおよそ $100^2$ 倍増えることが確認された．このことは，入力データ量を $n$ とおくと，選択ソートのアルゴリズムによる要素整列にかかる計算量は，$n^2$ に比例する性質に対応する．<br><br>A.1．計算量の意義<br><br>　計算量を求めることで，複数のアルゴリズム同士の性能比較が可能となる．次のグラフから，データ量を $n$（$n$：十分大）としたときに，入力データの満たす条件が同じならば次のことがいえる．<br><br><font size=\"4\">(1) 計算量が $2^n$ であるアルゴリズムよりも，計算量が $n^2$ であるアルゴリズムの方が性能の良いものである．<br>(2) 計算量が $n^2$ であるアルゴリズムよりも，計算量が $n$ であるアルゴリズムの方が性能の良いものである．<br>(3) 計算量が $n$ であるアルゴリズムよりも，計算量が $\\log_2 n$ であるアルゴリズムの方が性能の良いものである．"
   ]
  },
  {
   "cell_type": "code",
   "execution_count": 11,
   "id": "73e3ee00",
   "metadata": {},
   "outputs": [
    {
     "data": {
      "text/plain": [
       "<matplotlib.legend.Legend at 0x26f82eaafd0>"
      ]
     },
     "execution_count": 11,
     "metadata": {},
     "output_type": "execute_result"
    },
    {
     "data": {
      "image/png": "[encoded data removed]",
      "text/plain": [
       "<Figure size 432x288 with 1 Axes>"
      ]
     },
     "metadata": {
      "needs_background": "light"
     },
     "output_type": "display_data"
    }
   ],
   "source": [
    "%matplotlib inline\n",
    "import matplotlib.pyplot as plt\n",
    "import math\n",
    "\n",
    "x=range(1,8)\n",
    "y1=[]\n",
    "y2=[]\n",
    "y3=[]\n",
    "y4=[]\n",
    "\n",
    "for i in range(1,8):\n",
    "    y1.append(math.log2(i))\n",
    "    y2.append(i)\n",
    "    y3.append(i**2)\n",
    "    y4.append(2**i)\n",
    "    \n",
    "plt.plot(x,y1, label=\"$\\log_2 n$\")\n",
    "plt.plot(x,y2, label=\"$n$\")\n",
    "plt.plot(x,y3, label=\"$n^2$\")\n",
    "plt.plot(x,y4, label=\"$2^n$\")\n",
    "\n",
    "plt.xlabel('$n$')\n",
    "    \n",
    "plt.legend(bbox_to_anchor=(1.05, 1), loc='upper left')"
   ]
  },
  {
   "cell_type": "markdown",
   "id": "da0301a6",
   "metadata": {},
   "source": [
    "## A.2．アルゴリズムの計算量<br><br>例１．１段分の for 文を含む以下の形をしたアルゴリズムにおいては，for 文による $n$ 回の繰り返し処理が行われる．そのため，入力データ量を $n$ とおくと，計算量は $n$ に比例する．"
   ]
  },
  {
   "cell_type": "code",
   "execution_count": 2,
   "id": "7e1d7855",
   "metadata": {},
   "outputs": [],
   "source": [
    "for i in range(n):\n",
    "    ..."
   ]
  },
  {
   "cell_type": "markdown",
   "id": "2a333466",
   "metadata": {},
   "source": [
    "## 例２．入れ子になった２段分の for 文を含む以下の形をしたアルゴリズムにおいては，入力データ量を $n$ とおくと，計算量は $(n \\times n=) \\ n^2$ に比例する．"
   ]
  },
  {
   "cell_type": "code",
   "execution_count": 3,
   "id": "8886ddac",
   "metadata": {},
   "outputs": [],
   "source": [
    "for i in range(n):\n",
    "    for j in range(n):\n",
    "        ...\n",
    "    ..."
   ]
  },
  {
   "cell_type": "markdown",
   "id": "7f953bc0",
   "metadata": {},
   "source": [
    "## 例３．１段分の for 文の中に１段分の while 文を含む以下の形をしたアルゴリズムにおいても，入力データ量を $n$ とおくと，計算量は $n^2$ に比例する．"
   ]
  },
  {
   "cell_type": "code",
   "execution_count": null,
   "id": "82993d7e",
   "metadata": {},
   "outputs": [],
   "source": [
    "for i in range(n): # 1 段目のループ処理\n",
    "    while j < n\n",
    "        ...\n",
    "    ..."
   ]
  },
  {
   "cell_type": "markdown",
   "id": "bb58d4b5",
   "metadata": {},
   "source": [
    "## 例４＜選択ソート（後期第５回，解法２）＞．<br><br>選択ソートとは，無秩序に並んだ要素（数）の中から最大あるいは最小のものを選び，整列済みの列の末尾に追加することでリスト内の数を順に並べ替えるアルゴリズムである．リスト内の数を小さい順に並べ替える次のプログラム："
   ]
  },
  {
   "cell_type": "code",
   "execution_count": null,
   "id": "5683006c",
   "metadata": {},
   "outputs": [],
   "source": [
    "def min_idx(l, s):\n",
    "    m = l[s]  \n",
    "    m_idx = s\n",
    "    \n",
    "    for i in range(s, len(l)):\n",
    "        if m > l[i]: \n",
    "            m = l[i]\n",
    "            m_idx = i\n",
    "\n",
    "    return m_idx"
   ]
  },
  {
   "cell_type": "code",
   "execution_count": null,
   "id": "676d3403",
   "metadata": {},
   "outputs": [],
   "source": [
    "def selection_sort_min(l):\n",
    "    sort_start = 0\n",
    "    \n",
    "    while sort_start < len(l):\n",
    "    \n",
    "        mi = min_idx(l, sort_start)\n",
    "        \n",
    "        tmp = l[sort_start]\n",
    "        l[sort_start] = l[mi]\n",
    "        l[mi] = tmp\n",
    "        \n",
    "        sort_start += 1"
   ]
  },
  {
   "cell_type": "markdown",
   "id": "3e4214ff",
   "metadata": {},
   "source": [
    "## は，入れ子で定義された２つの関数を使って記述されている．計算量を調べやすくするため，上記のプログラムを１つの関数のみを使った下記のプログラムに書き直す．"
   ]
  },
  {
   "cell_type": "code",
   "execution_count": 4,
   "id": "3bd9ca2e",
   "metadata": {},
   "outputs": [
    {
     "name": "stdout",
     "output_type": "stream",
     "text": [
      "ソート前： [2, 4, 3, 7, 1]\n",
      "ソート後： [1, 2, 3, 4, 7]\n"
     ]
    }
   ],
   "source": [
    "def selection_sort_min(l):\n",
    "    sort_start = 0\n",
    "    \n",
    "    while sort_start < len(l):\n",
    "\n",
    "        m = l[sort_start]  \n",
    "        m_idx = sort_start\n",
    "    \n",
    "        for i in range(sort_start, len(l)):\n",
    "            if m > l[i]: \n",
    "                m = l[i]\n",
    "                m_idx = i\n",
    "\n",
    "        mi = m_idx\n",
    "        \n",
    "        tmp = l[sort_start]\n",
    "        l[sort_start] = l[mi]\n",
    "        l[mi] = tmp\n",
    "        \n",
    "        sort_start += 1\n",
    "\n",
    "### 確認テスト ###\n",
    "list1 = [2,4,3,7,1]\n",
    "print(\"ソート前：\", list1)\n",
    "selection_sort_min(list1)\n",
    "print(\"ソート後：\", list1)"
   ]
  },
  {
   "cell_type": "markdown",
   "id": "4a6eccb4",
   "metadata": {},
   "source": [
    "## 書き直し後のプログラムでは，１段分の while 文（上から３行目以降）の中に１段分の for 文（上から６行目以降）を含んでいる．そのため，このアルゴリズムにおいては，入力データ量を $n$ とおくと，計算量は $n^2$ に比例する．<br><br>例５＜クイックソート＞．<br><br>クイックソートとは，与えられた列をある値（pivot）を境に２つに分け，それぞれを再帰的にソートした結果をつなぎ合わせるアルゴリズムであり，分割統治法と呼ばれる方法の一つである．具体的には，次のステップでソートを行う．<br><br>Step 1．pivot を選択する．<br>Step 2．左右の順を変えずに，次の要素の移動操作を行う．<br>&emsp; &emsp; &emsp; ・pivot 未満の要素から成る列を左に移す．<br>&emsp; &emsp; &emsp; ・pivot 以上の要素から成る列を右に移す．<br>Step 3．仕切られた左右の各列に対して，列の長さが 1 になるまで Steps 1,2 を繰り返し適用する（再帰呼出）．<br><br>【参考画像：クイックソート（小さい順に数を並べ替える場合）のアルゴリズム】<br><font size=\"4\">左のプログラム：Python で実行できるコードではないが，アルゴリズム実装に必要な手続きを説明した構文</font>"
   ]
  },
  {
   "cell_type": "code",
   "execution_count": 5,
   "id": "68d0f4da",
   "metadata": {
    "scrolled": true
   },
   "outputs": [
    {
     "data": {
      "text/html": [
       "<img src=\"https://www.rs.tus.ac.jp/yenatsu/idm2021prog/quick_sort.jpg\"/>"
      ],
      "text/plain": [
       "<IPython.core.display.Image object>"
      ]
     },
     "execution_count": 5,
     "metadata": {},
     "output_type": "execute_result"
    }
   ],
   "source": [
    "from IPython.display import Image\n",
    "Image(url= 'https://www.rs.tus.ac.jp/yenatsu/idm2021prog/quick_sort.jpg')"
   ]
  },
  {
   "cell_type": "markdown",
   "id": "f9743f9c",
   "metadata": {},
   "source": [
    "## このアルゴリズムにおいては，pivot 未満の要素と pivot 以上の要素の２つのデータに分けるまでに最大で $n$ ステップ，さらに再帰呼出で配列を半分に分けるためにおよそ $\\log_2 n$ ステップかかる．そのため，入力データ量を $n$ とおくと，計算量は理想的であれば $n \\log_2 n$ に比例し，選択ソートよりも処理時間が短く抑えられるが，ピボットの選び方や要素の並び方次第で，最悪の場合として $n^2$ に比例する．なお，ソートの際に，作業用配列といった外部メモリは不要である．"
   ]
  },
  {
   "cell_type": "markdown",
   "id": "613f3397",
   "metadata": {},
   "source": [
    "## 例６＜マージソート＞．<br><br>マージソートとは，要素の並びを左側のデータと右側のデータの２つのグループに分ける操作を再帰的に行い，要素全体が最小単位に分割された後に隣り合う２つのグループの要素を大小比較することでグループ内の順序を整列してから結合（マージ）するアルゴリズムであり，分割統治法と呼ばれる方法の一つである．具体的には，次のステップでソートを行う．<br><br>【参考画像：マージソート（小さい順に数を並べ替える場合）のアルゴリズム】<br><font size=\"4\">左のプログラム：Python で実行できるコードではないが，アルゴリズム実装に必要な手続きを説明した構文</font>"
   ]
  },
  {
   "cell_type": "code",
   "execution_count": 6,
   "id": "3e4b755d",
   "metadata": {},
   "outputs": [
    {
     "data": {
      "text/html": [
       "<img src=\"https://www.rs.tus.ac.jp/yenatsu/idm2021prog/merge_sort.jpg\"/>"
      ],
      "text/plain": [
       "<IPython.core.display.Image object>"
      ]
     },
     "execution_count": 6,
     "metadata": {},
     "output_type": "execute_result"
    }
   ],
   "source": [
    "from IPython.display import Image\n",
    "Image(url= 'https://www.rs.tus.ac.jp/yenatsu/idm2021prog/merge_sort.jpg')"
   ]
  },
  {
   "cell_type": "markdown",
   "id": "0bd088a8",
   "metadata": {},
   "source": [
    "## このアルゴリズムにおいては，配列の二分割を終えて，分割後の配列を元に戻すためにおよそ $\\log_2 n$ ステップ，１ステップあたりの配列をマージするためにおよそ $2n$ ステップかかる．そのため，入力データ量を $n$ とおくと，計算量は $n \\log_2 n$ に比例する．クイックソートのときのように要素の並び次第で計算量が極端に増えてしまうことはないが，ソートの際に作業用配列といった外部メモリをデータ量の数だけ用意する必要がある．"
   ]
  }
 ],
 "metadata": {
  "kernelspec": {
   "display_name": "Python 3",
   "language": "python",
   "name": "python3"
  },
  "language_info": {
   "codemirror_mode": {
    "name": "ipython",
    "version": 3
   },
   "file_extension": ".py",
   "mimetype": "text/x-python",
   "name": "python",
   "nbconvert_exporter": "python",
   "pygments_lexer": "ipython3",
   "version": "3.8.8"
  }
 },
 "nbformat": 4,
 "nbformat_minor": 5
}
