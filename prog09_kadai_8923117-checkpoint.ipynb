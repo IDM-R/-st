{
 "cells": [
  {
   "cell_type": "markdown",
   "id": "2d68917f",
   "metadata": {},
   "source": [
    "## 講義（第９回）レポート<br>学籍番号：8923117　氏名：三好　琉希"
   ]
  },
  {
   "cell_type": "markdown",
   "id": "928a2300",
   "metadata": {},
   "source": [
    "## 次の問に答えよ．ただし，全ての問において，入力したプログラムを自身で実行し，<span style=\"color: blue; \">実行によって出力される表示結果も必ず残したままにすること．</span>問１から問３までを解答必須の課題，問４は自主課題として，問４も取り組んだ者には一定の評価を付す．"
   ]
  },
  {
   "cell_type": "markdown",
   "id": "478e53fc",
   "metadata": {},
   "source": [
    "## 問１．次のリストに対して，以下の操作を行うプログラムを作成せよ．必要に応じて，5.1.5 節の表 5.1 にある数値リストの処理関数 max(), min(), sum() を用いても構わない．"
   ]
  },
  {
   "cell_type": "code",
   "execution_count": 4,
   "id": "34fc4212",
   "metadata": {},
   "outputs": [],
   "source": [
    "listn=[3,6,-10,5,2,9,4,-7,-8,7,1]"
   ]
  },
  {
   "cell_type": "markdown",
   "id": "ff270650",
   "metadata": {},
   "source": [
    "## （１）リスト listn の最大値と最小値の差（正の値として出力せよ）"
   ]
  },
  {
   "cell_type": "code",
   "execution_count": 28,
   "id": "16193ef2",
   "metadata": {},
   "outputs": [
    {
     "data": {
      "text/plain": [
       "19"
      ]
     },
     "execution_count": 28,
     "metadata": {},
     "output_type": "execute_result"
    }
   ],
   "source": [
    "# 問１（１）の入力欄\n",
    "max(listn)-min(listn)"
   ]
  },
  {
   "cell_type": "markdown",
   "id": "221bc497",
   "metadata": {},
   "source": [
    "## （２）リスト listn の平均値"
   ]
  },
  {
   "cell_type": "code",
   "execution_count": 11,
   "id": "1be286f5",
   "metadata": {},
   "outputs": [
    {
     "name": "stdout",
     "output_type": "stream",
     "text": [
      "1.0909090909090908\n"
     ]
    }
   ],
   "source": [
    "# 問１（２）の入力欄\n",
    "average=sum(listn)/len(listn)\n",
    "print(average)"
   ]
  },
  {
   "cell_type": "markdown",
   "id": "98da42bc",
   "metadata": {},
   "source": [
    "## （３）リスト listn に数値 8 が要素として含まれているかを確認し，もし含まれていなければ数値 8 をリストの最後に追加するプログラム（始めの確認操作と最後の追加操作に対応するプログラムは，下記の通り<span style=\"color: blue; \">別々のセルに入力する</span>こと）"
   ]
  },
  {
   "cell_type": "code",
   "execution_count": 12,
   "id": "0ff286ef",
   "metadata": {},
   "outputs": [
    {
     "data": {
      "text/plain": [
       "False"
      ]
     },
     "execution_count": 12,
     "metadata": {},
     "output_type": "execute_result"
    }
   ],
   "source": [
    "# 問１（３）の入力欄：リスト list に数値 8 が要素として含まれているかを確認するプログラム\n",
    "8 in listn"
   ]
  },
  {
   "cell_type": "code",
   "execution_count": 22,
   "id": "4f6392ac",
   "metadata": {},
   "outputs": [
    {
     "name": "stdout",
     "output_type": "stream",
     "text": [
      "[3, 6, -10, 5, 2, 9, 4, -7, -8, 7, 1, 8]\n"
     ]
    }
   ],
   "source": [
    "# 問１（３）の入力欄：リスト list に数値 8 が要素として含まれていない場合の，数値 8 をリスト list の最後に追加するプログラム\n",
    "if 8 not in listn:\n",
    "    listn.append(8)\n",
    "print(listn)"
   ]
  },
  {
   "cell_type": "markdown",
   "id": "d72c45ba",
   "metadata": {},
   "source": [
    "## （４）リスト listn に数値 5 が要素として含まれているかを確認し，もし含まれていれば数値 5 をリストから削除する<span style=\"color: red; \">コマンド del を使わない</span>プログラム（始めの確認操作と最後の削除操作に対応するプログラムは，下記の通り<span style=\"color: blue; \">別々のセルに入力する</span>こと）<br><br>注意．操作対象の要素が「リストのどの位置にあるかがわからないとき」でも，<span style=\"color: blue; \">listn.remove</span>(要素) という関数を使うことで，指定した要素をリストから削除できる．"
   ]
  },
  {
   "cell_type": "code",
   "execution_count": 23,
   "id": "ce58feb8",
   "metadata": {},
   "outputs": [
    {
     "data": {
      "text/plain": [
       "True"
      ]
     },
     "execution_count": 23,
     "metadata": {},
     "output_type": "execute_result"
    }
   ],
   "source": [
    "# 問１（４）の入力欄：リスト list に数値 5 が要素として含まれているかを確認するプログラム\n",
    "5 in listn"
   ]
  },
  {
   "cell_type": "code",
   "execution_count": 24,
   "id": "d85539ad",
   "metadata": {},
   "outputs": [
    {
     "name": "stdout",
     "output_type": "stream",
     "text": [
      "[3, 6, -10, 2, 9, 4, -7, -8, 7, 1, 8]\n"
     ]
    }
   ],
   "source": [
    "# 問１（４）の入力欄：リスト list に数値 5 が要素として含まれている場合の，数値 5 をリスト list から削除するプログラム\n",
    "if 5 in listn:\n",
    "    listn.remove(5)\n",
    "print(listn)"
   ]
  },
  {
   "cell_type": "markdown",
   "id": "1667ca1a",
   "metadata": {},
   "source": [
    "## 問２．講義（第９回）ノート下部の問に倣って，次の（5.1.6 節の例９で与えたものと同じ） [都市名，平均気温] のリストから平均気温の一番高い値を算出するプログラムを for 文により作成せよ．"
   ]
  },
  {
   "cell_type": "code",
   "execution_count": 13,
   "id": "9f01156a",
   "metadata": {},
   "outputs": [],
   "source": [
    "cities=[\"札幌\", \"仙台\", \"東京\", \"名古屋\", \"大阪\", \"福岡\", \"那覇\"]"
   ]
  },
  {
   "cell_type": "code",
   "execution_count": 14,
   "id": "c3cdf976",
   "metadata": {},
   "outputs": [],
   "source": [
    "cityinfo=[[\"札幌\",8.0],[\"仙台\",11.9],[\"東京\",15.3],[\"名古屋\",14.9],[\"大阪\",16.2],[\"福岡\",16.0],[\"那覇\",22.4]]"
   ]
  },
  {
   "cell_type": "code",
   "execution_count": 43,
   "id": "c47ace25",
   "metadata": {},
   "outputs": [
    {
     "name": "stdout",
     "output_type": "stream",
     "text": [
      "平均気温の一番高い値は 22.4 度です\n"
     ]
    }
   ],
   "source": [
    "# 問２の入力欄\n",
    "tmax=-100     \n",
    "for city in cityinfo:\n",
    "    if city[1] > tmax: \n",
    "        tmax=city[1]\n",
    "print(\"平均気温の一番高い値は\",tmax,\"度です\")"
   ]
  },
  {
   "cell_type": "markdown",
   "id": "b05ed53e",
   "metadata": {},
   "source": [
    "## 問３．講義（第９回）ノート下部の問に倣って，上の問２で与えたリストから，平均気温の一番高い都市名とその平均気温を印字するプログラムを作成せよ．"
   ]
  },
  {
   "cell_type": "code",
   "execution_count": 34,
   "id": "c3a3a014",
   "metadata": {},
   "outputs": [
    {
     "name": "stdout",
     "output_type": "stream",
     "text": [
      "平均気温の一番高い都市名は 那覇 で，その平均気温は 22.4 度です\n"
     ]
    }
   ],
   "source": [
    "# 問３の入力欄\n",
    "tmax=-100 \n",
    "c=\"\"     \n",
    "for city in cityinfo:\n",
    "    if city[1] > tmax: \n",
    "        tmax=city[1]\n",
    "        c=city[0]\n",
    "print(\"平均気温の一番高い都市名は\",c,\"で，その平均気温は\",tmax,\"度です\")"
   ]
  },
  {
   "cell_type": "markdown",
   "id": "422fb885",
   "metadata": {},
   "source": [
    "## 問４（発展）．次の [都市名，年間降水量（mm），平均気温] のリストから，以下を印字するプログラムを作成せよ．"
   ]
  },
  {
   "cell_type": "code",
   "execution_count": 44,
   "id": "56a37991",
   "metadata": {},
   "outputs": [],
   "source": [
    "cityinfo2=[[\"札幌\",1106.5,8.0],[\"仙台\",1247.0,11.9],[\"東京\",1528.8,15.3],[\"名古屋\",1911.2,14.9],[\"大阪\",1651.5,16.2],[\"福岡\",1780.0,16.0]]"
   ]
  },
  {
   "cell_type": "markdown",
   "id": "2caa64ce",
   "metadata": {},
   "source": [
    "## （１）平均気温の一番高い都市名と，その都市の年間降水量<span style=\"color: blue; \">（平均気温の出力は不要）</span>"
   ]
  },
  {
   "cell_type": "code",
   "execution_count": 49,
   "id": "9e46f605",
   "metadata": {},
   "outputs": [
    {
     "name": "stdout",
     "output_type": "stream",
     "text": [
      "平均気温の一番高い都市名は 大阪 で，その都市の年間降水量は 1651.5 mmです\n"
     ]
    }
   ],
   "source": [
    "# 問４（１）の入力欄\n",
    "tmax=-100\n",
    "c=\"\"     \n",
    "for city in cityinfo2:\n",
    "    if city[2] > tmax: \n",
    "        tmax=city[2]\n",
    "        c=city[0]\n",
    "        d=city[1]\n",
    "print(\"平均気温の一番高い都市名は\",c,\"で，その都市の年間降水量は\",d,\"mmです\") "
   ]
  },
  {
   "cell_type": "markdown",
   "id": "0fda321c",
   "metadata": {},
   "source": [
    "## （２）年間降水量の一番高い都市名と，その都市名の平均気温<span style=\"color: blue; \">（年間降水量の出力は不要）</span>"
   ]
  },
  {
   "cell_type": "code",
   "execution_count": 50,
   "id": "4c13c950",
   "metadata": {},
   "outputs": [
    {
     "name": "stdout",
     "output_type": "stream",
     "text": [
      "平均気温の一番高い都市名は 名古屋 で，その都市の年間降水量は 14.9 mmです\n"
     ]
    }
   ],
   "source": [
    "# 問４（２）の入力欄\n",
    "lmax=-100\n",
    "c=\"\"     \n",
    "for city in cityinfo2:\n",
    "    if city[1] > tmax: \n",
    "        tmax=city[1]\n",
    "        c=city[0]\n",
    "        d=city[2]\n",
    "print(\"平均気温の一番高い都市名は\",c,\"で，その都市の年間降水量は\",d,\"mmです\") "
   ]
  },
  {
   "cell_type": "code",
   "execution_count": null,
   "id": "3364a54d",
   "metadata": {},
   "outputs": [],
   "source": []
  }
 ],
 "metadata": {
  "kernelspec": {
   "display_name": "Python 3 (ipykernel)",
   "language": "python",
   "name": "python3"
  },
  "language_info": {
   "codemirror_mode": {
    "name": "ipython",
    "version": 3
   },
   "file_extension": ".py",
   "mimetype": "text/x-python",
   "name": "python",
   "nbconvert_exporter": "python",
   "pygments_lexer": "ipython3",
   "version": "3.10.9"
  }
 },
 "nbformat": 4,
 "nbformat_minor": 5
}
