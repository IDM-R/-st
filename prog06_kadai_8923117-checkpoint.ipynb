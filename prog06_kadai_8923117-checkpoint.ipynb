{
 "cells": [
  {
   "cell_type": "markdown",
   "id": "09d57985",
   "metadata": {},
   "source": [
    "# 講義（第６回）レポート<br>学籍番号：8923117　氏名：三好　琉希"
   ]
  },
  {
   "cell_type": "markdown",
   "id": "c2c32931",
   "metadata": {},
   "source": [
    "## 次の問に答えよ．ただし，全ての問において，入力したプログラムを自身で実行し，<span style=\"color: blue; \">実行によって出力される表示結果も必ず残したままにすること．</span>"
   ]
  },
  {
   "cell_type": "markdown",
   "id": "a99e5415",
   "metadata": {},
   "source": [
    "## 問１．科目１の点数 a，科目２の点数 b，科目３の点数 c，科目４の点数 d が全て60点以上，かつ科目３の点数 c と科目４の点数 d の合計が150点以上の場合に「合格です」，それ以外の場合に「不合格です」と表示するプログラムを入力せよ．"
   ]
  },
  {
   "cell_type": "code",
   "execution_count": 3,
   "id": "320b240a",
   "metadata": {
    "direction": "rtl"
   },
   "outputs": [
    {
     "name": "stdout",
     "output_type": "stream",
     "text": [
      "科目１の点数を入力してください62\n",
      "科目２の点数を入力してください75\n",
      "科目３の点数を入力してください80\n",
      "科目４の点数を入力してください67\n",
      "不合格です\n"
     ]
    }
   ],
   "source": [
    "# 問１の入力欄\n",
    "s=input(\"科目１の点数を入力してください\")\n",
    "t=input(\"科目２の点数を入力してください\")\n",
    "u=input(\"科目３の点数を入力してください\")\n",
    "v=input(\"科目４の点数を入力してください\")\n",
    "a=int(s)\n",
    "b=int(t)\n",
    "c=int(u)\n",
    "d=int(v)\n",
    "if a>=60 and b>=60 and c>=60 and d>=60 and c+d>=150:\n",
    "    print(\"合格です\")\n",
    "else:\n",
    "    print(\"不合格です\")"
   ]
  },
  {
   "cell_type": "markdown",
   "id": "27bbfa46",
   "metadata": {},
   "source": [
    "## 問２．以下の手順で，３科目のテスト結果から，合否判定を行うプログラムを作成せよ．<br><br>Step 1．科目１の点数 a，科目２の点数 b，科目３の点数 c を入力する<br>Step 2．a, b, c の平均点を計算し，h とする<br>Step 3．４つの値 a, b, c, h を用いて，以下の判定を行う：<br><br>(1) 科目１の点数 a，科目２の点数 b，科目３の点数 c が共に70点以上，かつ平均点 h が80点以上の場合には，<span style=\"color: blue; \">平均点を表示させると共に</span>「合格です」と表示させる<br>(2) それ以外の場合には「不合格です」と表示させる"
   ]
  },
  {
   "cell_type": "code",
   "execution_count": 1,
   "id": "35196dce",
   "metadata": {},
   "outputs": [
    {
     "name": "stdout",
     "output_type": "stream",
     "text": [
      "科目１の点数を入力してください78\n",
      "科目２の点数を入力してください98\n",
      "科目３の点数を入力してください94\n",
      "合格です（平均点： 90.0 ）\n"
     ]
    }
   ],
   "source": [
    "# 問２の入力欄\n",
    "s=input(\"科目１の点数を入力してください\")\n",
    "t=input(\"科目２の点数を入力してください\")\n",
    "u=input(\"科目３の点数を入力してください\")\n",
    "a=int(s)\n",
    "b=int(t)\n",
    "c=int(u)\n",
    "h=(a+b+c)/3\n",
    "if a>=70 and b>=70 and c>=70 and h>=80:\n",
    "    print(\"合格です（平均点：\",h,\"）\")\n",
    "else:\n",
    "    print(\"不合格です\")"
   ]
  },
  {
   "cell_type": "code",
   "execution_count": null,
   "id": "35207df4",
   "metadata": {},
   "outputs": [],
   "source": []
  }
 ],
 "metadata": {
  "kernelspec": {
   "display_name": "Python 3 (ipykernel)",
   "language": "python",
   "name": "python3"
  },
  "language_info": {
   "codemirror_mode": {
    "name": "ipython",
    "version": 3
   },
   "file_extension": ".py",
   "mimetype": "text/x-python",
   "name": "python",
   "nbconvert_exporter": "python",
   "pygments_lexer": "ipython3",
   "version": "3.10.9"
  }
 },
 "nbformat": 4,
 "nbformat_minor": 5
}
