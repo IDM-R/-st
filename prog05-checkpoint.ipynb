{
 "cells": [
  {
   "cell_type": "markdown",
   "metadata": {
    "scrolled": true
   },
   "source": [
    "## 講義（第５回）ノート　＜３章　条件分岐，3.1節～3.4節＞　提出課題は最下部を参照"
   ]
  },
  {
   "cell_type": "markdown",
   "metadata": {},
   "source": [
    "## 3.1 条件分岐（p.31～）"
   ]
  },
  {
   "cell_type": "markdown",
   "metadata": {},
   "source": [
    "### プログラムは次の基本的な構造から構成されている．<br><br>(1) 逐次実行：指定した順序で処理が実行される<br>(2) 条件分岐：条件によって，処理の流れを変える<br>(3) 繰り返し：条件を満たす間，同じ処理を繰り返し実行する"
   ]
  },
  {
   "cell_type": "markdown",
   "metadata": {},
   "source": [
    "## 3.2 逐次実行（p.32～）"
   ]
  },
  {
   "cell_type": "markdown",
   "metadata": {},
   "source": [
    "### Jupyter Notebook では，１つのセルの中に式を書くと，上から順に逐次実行される．<br><br>例１．式計算（一番最後の式の評価結果が Out[] として出力される）"
   ]
  },
  {
   "cell_type": "code",
   "execution_count": 1,
   "metadata": {},
   "outputs": [
    {
     "data": {
      "text/plain": [
       "22"
      ]
     },
     "execution_count": 1,
     "metadata": {},
     "output_type": "execute_result"
    }
   ],
   "source": [
    "1+2 #！！！最後の式ではないため，この式の計算結果は出力されない！！！\n",
    "2*8+6"
   ]
  },
  {
   "cell_type": "markdown",
   "metadata": {},
   "source": [
    "### 例２．代入や出力操作（代入や表示関数 print() による操作の結果は Out[] として出力されない）"
   ]
  },
  {
   "cell_type": "code",
   "execution_count": 2,
   "metadata": {
    "scrolled": true
   },
   "outputs": [
    {
     "name": "stdout",
     "output_type": "stream",
     "text": [
      "5\n",
      "11\n",
      "18\n"
     ]
    },
    {
     "data": {
      "text/plain": [
       "18"
      ]
     },
     "execution_count": 2,
     "metadata": {},
     "output_type": "execute_result"
    }
   ],
   "source": [
    "b=5      # b に 5 を代入\n",
    "print(b) # 直前の行で 5 が代入された b を出力\n",
    "b=b+6    # b に b+6，すなわち，5+6(=11) を代入\n",
    "b        # ！！！最後の式ではないため，この式の計算結果は出力されない！！！\n",
    "print(b) # 直前の行で 11 が代入された b を出力\n",
    "b=b+7    # b に b+7，すなわち，11+7(=18) を代入\n",
    "print(b) # 直前の行で 18 が代入された b を出力\n",
    "b        # 18 が代入された b を出力"
   ]
  },
  {
   "cell_type": "markdown",
   "metadata": {},
   "source": [
    "## 3.3 セルの評価の順序（p.32～）"
   ]
  },
  {
   "cell_type": "markdown",
   "metadata": {
    "scrolled": true
   },
   "source": [
    "### Jupyter Notebook では，複数のセルの評価の順番は利用者が指示する．このため，セルの記述されている順番に評価が行われるかどうかは決まっていない．例えば，次の４つのセルを与えよう．"
   ]
  },
  {
   "cell_type": "code",
   "execution_count": null,
   "metadata": {},
   "outputs": [],
   "source": [
    "# セル A\n",
    "a=10\n",
    "b=20\n",
    "print(a+b)"
   ]
  },
  {
   "cell_type": "code",
   "execution_count": null,
   "metadata": {},
   "outputs": [],
   "source": [
    "# セル B\n",
    "a=5\n",
    "print(a+b)"
   ]
  },
  {
   "cell_type": "code",
   "execution_count": null,
   "metadata": {},
   "outputs": [],
   "source": [
    "# セル C\n",
    "a=8\n",
    "print(a+b)"
   ]
  },
  {
   "cell_type": "code",
   "execution_count": null,
   "metadata": {},
   "outputs": [],
   "source": [
    "# セル D\n",
    "b=-1\n",
    "print(a+b)"
   ]
  },
  {
   "cell_type": "markdown",
   "metadata": {},
   "source": [
    "### 以下の３つの例における出力結果の違いから分かるように，セルをどの順番で評価したかを意識することは重要である．<br><br>例１．セル A, B, C, D の順に並べた場合の a と b の合計を順番に求めるプログラム"
   ]
  },
  {
   "cell_type": "code",
   "execution_count": 1,
   "metadata": {
    "scrolled": true
   },
   "outputs": [
    {
     "name": "stdout",
     "output_type": "stream",
     "text": [
      "30\n",
      "25\n",
      "28\n",
      "7\n"
     ]
    }
   ],
   "source": [
    "a=10\n",
    "b=20\n",
    "print(a+b)\n",
    "a=5         # a の値を 10 から 5 に上書きする\n",
    "print(a+b)\n",
    "a=8         # a の値を 5 から 8 に上書きする\n",
    "print(a+b)\n",
    "b=-1        # b の値を 20 から -1 に上書きする\n",
    "print(a+b)"
   ]
  },
  {
   "cell_type": "markdown",
   "metadata": {},
   "source": [
    "### 例２．セル A, D, C, B の順に並べた場合の a と b の合計を順番に求めるプログラム"
   ]
  },
  {
   "cell_type": "code",
   "execution_count": 2,
   "metadata": {},
   "outputs": [
    {
     "name": "stdout",
     "output_type": "stream",
     "text": [
      "30\n",
      "9\n",
      "7\n",
      "4\n"
     ]
    }
   ],
   "source": [
    "a=10\n",
    "b=20\n",
    "print(a+b)\n",
    "b=-1        # b の値を 20 から -1 に上書きする\n",
    "print(a+b)\n",
    "a=8         # a の値を 10 から 8 に上書きする\n",
    "print(a+b)\n",
    "a=5         # a の値を 8 から 5 に上書きする\n",
    "print(a+b)"
   ]
  },
  {
   "cell_type": "markdown",
   "metadata": {},
   "source": [
    "### 例３．セル A, D, B, C の順に並べた場合の a と b の合計を順番に求めるプログラム"
   ]
  },
  {
   "cell_type": "code",
   "execution_count": 3,
   "metadata": {},
   "outputs": [
    {
     "name": "stdout",
     "output_type": "stream",
     "text": [
      "30\n",
      "9\n",
      "4\n",
      "7\n"
     ]
    }
   ],
   "source": [
    "a=10\n",
    "b=20\n",
    "print(a+b)\n",
    "b=-1        # b の値を 20 から -1 に上書きする\n",
    "print(a+b)\n",
    "a=5         # a の値を 10 から 5 に上書きする\n",
    "print(a+b)\n",
    "a=8         # a の値を 5 から 8 に上書きする\n",
    "print(a+b)"
   ]
  },
  {
   "cell_type": "markdown",
   "metadata": {},
   "source": [
    "## 3.4 入力関数（p.34～）"
   ]
  },
  {
   "cell_type": "markdown",
   "metadata": {},
   "source": [
    "### プログラムの途中で値をキーボードから入力したい場合がある．そのようなときは，入力関数 input() を使うと，プログラムの下に入力ボックスが現れ，キーボードから値（文字列）を入力することができる．"
   ]
  },
  {
   "cell_type": "code",
   "execution_count": 1,
   "metadata": {},
   "outputs": [
    {
     "name": "stdout",
     "output_type": "stream",
     "text": [
      "何か文字を入力しましょう　入力文字：ぱいそん\n"
     ]
    },
    {
     "data": {
      "text/plain": [
       "'ぱいそん'"
      ]
     },
     "execution_count": 1,
     "metadata": {},
     "output_type": "execute_result"
    }
   ],
   "source": [
    "a=input(\"何か文字を入力してください　入力文字：\")\n",
    "a"
   ]
  },
  {
   "cell_type": "code",
   "execution_count": null,
   "metadata": {},
   "outputs": [],
   "source": [
    "a=input(\"何か文字を入力してください　入力文字：\")\n",
    "a + \"を使ったプログラミング\""
   ]
  },
  {
   "cell_type": "markdown",
   "metadata": {},
   "source": [
    "### 【補足１】テキストでは，どの例でも入力ボックスは input() 内の文の横に配置するように書かれている．<br>一方，入力ボックスを input() 内の文の改行後に配置したい場合は，改行コマンド「\\n」を文の最後に加えよう．"
   ]
  },
  {
   "cell_type": "code",
   "execution_count": null,
   "metadata": {},
   "outputs": [],
   "source": [
    "a=input(\"何か文字を入力してください\\n\")\n",
    "a"
   ]
  },
  {
   "cell_type": "markdown",
   "metadata": {},
   "source": [
    "### <span style=\"color: red; \">input() に関する要注意</span><br>input() が実行されると入力ボックス（上のプログラムの場合，「入力文字：」の右横に現れるボックス）が現れて，入力待ちになる．この状態で他のセルを評価しようとしても，評価できない．次の操作に移るためには，必ず入力ボックスに入力＆<span style=\"color: blue; \">Enter キー</span>の押下により，入力＆<span style=\"color: blue; \">代入</span>を行い終えること．Jupyter Notebook の反応がないように見える場合，入力待ちの状態か確認が必要である．"
   ]
  },
  {
   "cell_type": "markdown",
   "metadata": {},
   "source": [
    "### input() は文字列を返す関数なので，数字を入力しても，そのままでは数値の計算には使えない（2.4.3 節，注意 (2)）．<br>例えば，次のように数値を入れてもらう計算を行う場合は，そのままの式ではエラーが出る．各自実行してみよう．"
   ]
  },
  {
   "cell_type": "code",
   "execution_count": null,
   "metadata": {},
   "outputs": [],
   "source": [
    "a=input(\"何か半角の数字を入力してください\\n\") # この行だけであれば，エラーは出ない\n",
    "a+1 # 数値と文字列といった，型の異なる変数同士で演算を行うことはできない！この行がエラーの原因である（2.4.3 節，注意 (2) 参照）"
   ]
  },
  {
   "cell_type": "markdown",
   "metadata": {},
   "source": [
    "### 上のプログラムでは，a の型は文字列のままである．そのため，a に代入されるものが数であれば，関数 int() を使って整数に変換することで，エラーが出ることはなく，数 a+1 が出力される．"
   ]
  },
  {
   "cell_type": "code",
   "execution_count": null,
   "metadata": {},
   "outputs": [],
   "source": [
    "a=input(\"何か半角の数字を入力してください\\n\") \n",
    "int(a)+1"
   ]
  },
  {
   "cell_type": "markdown",
   "metadata": {},
   "source": [
    "### 上のプログラムでの整数を実数として計算する場合は，関数 float() を使って a を実数に変換すれば良い．"
   ]
  },
  {
   "cell_type": "code",
   "execution_count": null,
   "metadata": {},
   "outputs": [],
   "source": [
    "a=input(\"何か半角の数字を入力してください\\n\") \n",
    "float(a)+1"
   ]
  },
  {
   "cell_type": "markdown",
   "metadata": {},
   "source": [
    "### 【補足２】a に数字が入力されなかった場合のエラーに対する例外処理<br>（今は深入りしないが，以降の回で補足する．ValueError のようなエラーの種類はテキスト p.144，付録 B 参照）"
   ]
  },
  {
   "cell_type": "code",
   "execution_count": null,
   "metadata": {},
   "outputs": [],
   "source": [
    "a=input(\"何か半角の数字を入力してください\\n\")\n",
    "\n",
    "# 以下，例外処理\n",
    "try:\n",
    "    int(a)\n",
    "except ValueError:         # int関数の引数（int() のカッコの中身）が半角の数字（10進数の文字）でなかった場合\n",
    "    print(\"無効な情報です\") # この例外処理によって Value エラーは表示されず，「無効な情報です」というメッセージが出て終わる\n",
    "else:\n",
    "    print(int(a)+1)"
   ]
  },
  {
   "cell_type": "markdown",
   "metadata": {},
   "source": [
    "### 例４．input() 関数を使って年（year）と月（month）を入力した上で，その日の年月を出力させるプログラム"
   ]
  },
  {
   "cell_type": "code",
   "execution_count": 1,
   "metadata": {
    "scrolled": true
   },
   "outputs": [
    {
     "name": "stdout",
     "output_type": "stream",
     "text": [
      "今日の年を入力してください\n",
      "2021\n",
      "今日の月を入力してください\n",
      "5\n",
      "今日は 2021 年 5 月です\n"
     ]
    }
   ],
   "source": [
    "year=input(\"今日の年を入力してください\\n\") \n",
    "month=input(\"今日の月を入力してください\\n\") \n",
    "print(\"今日は\",year,\"年\",month,\"月です\")"
   ]
  },
  {
   "cell_type": "markdown",
   "metadata": {},
   "source": [
    "### 例５．input() 関数を使って２つの整数を入力した上で，その２つの数の平均を出力させるプログラム"
   ]
  },
  {
   "cell_type": "code",
   "execution_count": 2,
   "metadata": {},
   "outputs": [
    {
     "name": "stdout",
     "output_type": "stream",
     "text": [
      "何か半角の数字を入力してください\n",
      "49\n",
      "何か半角の数字を入力してください\n",
      "60\n",
      "入力された２つの数の平均は 54.5 です\n"
     ]
    }
   ],
   "source": [
    "a=input(\"何か半角の数字を入力してください\\n\") \n",
    "b=input(\"何か半角の数字を入力してください\\n\") \n",
    "print(\"入力された２つの数の平均は\",(int(a)+int(b))/2,\"です\")"
   ]
  },
  {
   "cell_type": "markdown",
   "metadata": {},
   "source": [
    "## <span style=\"color: red; \">提出課題＜締切：５月２６日（金）２３：５９＞</span><br><br>prog05_kadai_sample.ipynb 内の問に答えよ．<br>prog05_kadai_sample.ipynb 内の空欄すべてを埋め終えたら，ファイル名を<br><span style=\"color: blue; \">「prog05_kadai_sample」から「prog05_kadai_892〇〇〇〇」<br>（〇〇〇〇：半角の学籍番号下４桁）<br>へ変更し</span>，江夏の宛先へメール添付によりファイルを送信すること．"
   ]
  }
 ],
 "metadata": {
  "kernelspec": {
   "display_name": "Python 3",
   "language": "python",
   "name": "python3"
  },
  "language_info": {
   "codemirror_mode": {
    "name": "ipython",
    "version": 3
   },
   "file_extension": ".py",
   "mimetype": "text/x-python",
   "name": "python",
   "nbconvert_exporter": "python",
   "pygments_lexer": "ipython3",
   "version": "3.8.5"
  }
 },
 "nbformat": 4,
 "nbformat_minor": 4
}
