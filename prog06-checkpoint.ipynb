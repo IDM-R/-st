{
 "cells": [
  {
   "cell_type": "markdown",
   "id": "34b4a62a",
   "metadata": {},
   "source": [
    "## 講義（第６回）ノート　＜３章　条件分岐，3.5節～3.6節＞　提出課題は最下部を参照"
   ]
  },
  {
   "cell_type": "markdown",
   "id": "5bbaabc7",
   "metadata": {},
   "source": [
    "## 3.5 条件分岐（p.36～）"
   ]
  },
  {
   "cell_type": "markdown",
   "id": "b90126c3",
   "metadata": {},
   "source": [
    "## 計算結果などの条件によって処理の流れを変えたい場合，条件分岐のために if（イフ）文が使われる．Python の if 文は次の書式をとる．"
   ]
  },
  {
   "cell_type": "code",
   "execution_count": null,
   "id": "2ef7b033",
   "metadata": {},
   "outputs": [],
   "source": [
    "if 条件式1:\n",
    "    条件式1が満たされた場合に実行する処理\n",
    "elif 条件式2:\n",
    "    条件式2が満たされた場合に実行する処理\n",
    "else:\n",
    "    それ以外の場合に実行する処理"
   ]
  },
  {
   "cell_type": "markdown",
   "id": "6c537964",
   "metadata": {},
   "source": [
    "## 問題によって，２つ目の条件式が不要であれば elif（エルスイフ）は使われなかったり，与えられる条件式以外の式が成り立つときの処理が不要であるときは，else（エルス）は使われない．また，if 文の記述では次の２点に注意する．<br><br>(1) 条件式の後に半角コロン「:」が必要<br>(2) 条件が満たされた場合に実行する処理は段付け（インデント）が必要"
   ]
  },
  {
   "cell_type": "markdown",
   "id": "6affc572",
   "metadata": {},
   "source": [
    "## 例１．科目１の点数 a が60点以上の場合に「合格です」と表示するプログラム"
   ]
  },
  {
   "cell_type": "code",
   "execution_count": 1,
   "id": "8647cae6",
   "metadata": {},
   "outputs": [
    {
     "name": "stdout",
     "output_type": "stream",
     "text": [
      "科目１の点数を入力してください 70\n",
      "合格です\n"
     ]
    }
   ],
   "source": [
    "s=input(\"科目１の点数を入力してください \")\n",
    "a=int(s)\n",
    "if a>=60:\n",
    "    print(\"合格です\")"
   ]
  },
  {
   "cell_type": "markdown",
   "id": "11591ba0",
   "metadata": {},
   "source": [
    "## 注意１．Jupyter Notebook では，上のプログラムの３行目終わりのように，if 文の区切り目にコロン「:」をしっかりと入力できていれば，次の４行目への改行時に<span style=\"color: blue; \">自動的に段付けされる（４文字分の半角スペースが挿入される）．</span><br><br>注意２．上のプログラムの４行目の書き出しのような正しい段付け（インデント）が出来ていないと，例えば以下のようなエラーが出てしまう．"
   ]
  },
  {
   "cell_type": "code",
   "execution_count": 2,
   "id": "2bb45488",
   "metadata": {},
   "outputs": [
    {
     "ename": "IndentationError",
     "evalue": "expected an indented block (<ipython-input-2-4a5bfa0a86c6>, line 4)",
     "output_type": "error",
     "traceback": [
      "\u001b[0;36m  File \u001b[0;32m\"<ipython-input-2-4a5bfa0a86c6>\"\u001b[0;36m, line \u001b[0;32m4\u001b[0m\n\u001b[0;31m    print(\"合格です\")\u001b[0m\n\u001b[0m    ^\u001b[0m\n\u001b[0;31mIndentationError\u001b[0m\u001b[0;31m:\u001b[0m expected an indented block\n"
     ]
    }
   ],
   "source": [
    "s=input(\"科目１の点数を入力してください \")\n",
    "a=int(s)\n",
    "if a>=60:\n",
    "print(\"合格です\")"
   ]
  },
  {
   "cell_type": "markdown",
   "id": "33f571e2",
   "metadata": {},
   "source": [
    "## 例２．科目１の点数 a が60点以上の場合に「合格です」，それ以外の場合に「不合格です」と表示するプログラム"
   ]
  },
  {
   "cell_type": "code",
   "execution_count": 3,
   "id": "df5257bd",
   "metadata": {},
   "outputs": [
    {
     "name": "stdout",
     "output_type": "stream",
     "text": [
      "科目１の点数を入力してください 53\n",
      "不合格です\n"
     ]
    }
   ],
   "source": [
    "s=input(\"科目１の点数を入力してください \")\n",
    "a=int(s)\n",
    "if a>=60:\n",
    "    print(\"合格です\")\n",
    "else:\n",
    "    print(\"不合格です\")"
   ]
  },
  {
   "cell_type": "markdown",
   "id": "b845fea2",
   "metadata": {},
   "source": [
    "## 例３．科目１の点数 a が60点より大きい場合に「合格です」，60点の場合に「ボーダーラインです」，それ以外の場合に「不合格です」と表示するプログラム"
   ]
  },
  {
   "cell_type": "code",
   "execution_count": 4,
   "id": "aafb31c3",
   "metadata": {},
   "outputs": [
    {
     "name": "stdout",
     "output_type": "stream",
     "text": [
      "科目１の点数を入力してください 60\n",
      "ボーダーラインです\n"
     ]
    }
   ],
   "source": [
    "s=input(\"科目１の点数を入力してください \")\n",
    "a=int(s)\n",
    "if a>60:\n",
    "    print(\"合格です\")\n",
    "elif a==60: # 代入ではなく判定条件なので，a=60 とはしない！（表3.1の上から５行目参照）\n",
    "    print(\"ボーダーラインです\")\n",
    "else:\n",
    "    print(\"不合格です\")"
   ]
  },
  {
   "cell_type": "markdown",
   "id": "10a6e677",
   "metadata": {},
   "source": [
    "## 注意．例３での１行目と２行目を簡単に次のような１行の文に置き換えても良い（例１と例２に対しても同様）．<br><br> 例３（別解）．科目１の点数 a が60点より大きい場合に「合格です」，60点の場合に「ボーダーラインです」，それ以外の場合に「不合格です」と表示するプログラム"
   ]
  },
  {
   "cell_type": "code",
   "execution_count": 5,
   "id": "420a4fbe",
   "metadata": {},
   "outputs": [
    {
     "name": "stdout",
     "output_type": "stream",
     "text": [
      "科目１の点数を入力してください 60\n",
      "ボーダーラインです\n"
     ]
    }
   ],
   "source": [
    "a=int(input(\"科目１の点数を入力してください \"))\n",
    "if a>60:\n",
    "    print(\"合格です\")\n",
    "elif a==60: # 代入ではなく判定条件なので，a=60 とはしない！（表3.1の上から５行目参照）\n",
    "    print(\"ボーダーラインです\")\n",
    "else:\n",
    "    print(\"不合格です\")"
   ]
  },
  {
   "cell_type": "markdown",
   "id": "48a73a89",
   "metadata": {},
   "source": [
    "## 3.6 条件式の書き方（p.38～）"
   ]
  },
  {
   "cell_type": "markdown",
   "id": "5481f475",
   "metadata": {},
   "source": [
    "## if 文の条件式には，比較演算子を記述する．数値の比較では，以下の条件式が用いられる．<br><br>表3.1 比較演算子"
   ]
  },
  {
   "cell_type": "markdown",
   "id": "6e42333a",
   "metadata": {},
   "source": [
    "| 比較演算子 | &nbsp; &nbsp; &nbsp; &nbsp; &nbsp; &nbsp; 例 &nbsp; &nbsp; &nbsp; &nbsp; &nbsp; &nbsp; | 意味 | 備考 |\n",
    "|:---:|:---:|:---:|:---:|\n",
    "|>|a > b|a が b より大きい| |\n",
    "|<|a < b|a が b より小さい| |\n",
    "|>=|a >= b|a が b 以上である| |\n",
    "|<=|a <= b|a が b 以下である| |\n",
    "|==|a == b|a と b が等しい|イコール「=」を１つでなく２つ記述すること|\n",
    "|!=|a != b|a と b が等しくない|「!」はエクスクラメーションマーク|"
   ]
  },
  {
   "cell_type": "markdown",
   "id": "20eb89e5",
   "metadata": {},
   "source": [
    "## 表3.1の各演算子による a と b に関する条件式が真の場合には「True」が返され，偽の場合には「False」が返される．<br><br>例４．数値の比較"
   ]
  },
  {
   "cell_type": "code",
   "execution_count": 1,
   "id": "a2ce5b1a",
   "metadata": {},
   "outputs": [
    {
     "data": {
      "text/plain": [
       "False"
      ]
     },
     "execution_count": 1,
     "metadata": {},
     "output_type": "execute_result"
    }
   ],
   "source": [
    "1 > 6"
   ]
  },
  {
   "cell_type": "code",
   "execution_count": 2,
   "id": "1c8a5fef",
   "metadata": {},
   "outputs": [
    {
     "data": {
      "text/plain": [
       "True"
      ]
     },
     "execution_count": 2,
     "metadata": {},
     "output_type": "execute_result"
    }
   ],
   "source": [
    "55.5 < 67.8"
   ]
  },
  {
   "cell_type": "code",
   "execution_count": 3,
   "id": "5be5ba76",
   "metadata": {},
   "outputs": [
    {
     "data": {
      "text/plain": [
       "True"
      ]
     },
     "execution_count": 3,
     "metadata": {},
     "output_type": "execute_result"
    }
   ],
   "source": [
    "4 == 4.0"
   ]
  },
  {
   "cell_type": "code",
   "execution_count": 4,
   "id": "05e624ce",
   "metadata": {},
   "outputs": [
    {
     "data": {
      "text/plain": [
       "True"
      ]
     },
     "execution_count": 4,
     "metadata": {},
     "output_type": "execute_result"
    }
   ],
   "source": [
    "5 != 4"
   ]
  },
  {
   "cell_type": "code",
   "execution_count": null,
   "id": "bb22f548",
   "metadata": {},
   "outputs": [],
   "source": [
    "6 == 9"
   ]
  },
  {
   "cell_type": "code",
   "execution_count": null,
   "id": "99e05472",
   "metadata": {},
   "outputs": [],
   "source": [
    "5 != 5"
   ]
  },
  {
   "cell_type": "markdown",
   "id": "9b21b89a",
   "metadata": {},
   "source": [
    "## 論理演算子を使うと，次の複雑な条件も記述できる．<br><br>表3.2 論理演算子"
   ]
  },
  {
   "cell_type": "markdown",
   "id": "35743fc8",
   "metadata": {},
   "source": [
    "|<span style=\"font-size: 150%;\">論理演算子| &nbsp; &nbsp; <span style=\"font-size: 150%;\">例 &nbsp; &nbsp; |<span style=\"font-size: 150%;\">意味|\n",
    "|:---:|:---:|:---:|\n",
    "|<span style=\"font-size: 150%;\">and|<span style=\"font-size: 150%;\">a and b|<span style=\"font-size: 150%;\">a かつ b|\n",
    "|<span style=\"font-size: 150%;\">or|<span style=\"font-size: 150%;\">a or b|<span style=\"font-size: 150%;\">a または b|\n",
    "|<span style=\"font-size: 150%;\">not|<span style=\"font-size: 150%;\">not a|<span style=\"font-size: 150%;\">a ではない|"
   ]
  },
  {
   "cell_type": "markdown",
   "id": "760ca9d8",
   "metadata": {},
   "source": [
    "## 例５．論理演算を使った複雑な条件"
   ]
  },
  {
   "cell_type": "code",
   "execution_count": 5,
   "id": "27d87716",
   "metadata": {},
   "outputs": [
    {
     "data": {
      "text/plain": [
       "True"
      ]
     },
     "execution_count": 5,
     "metadata": {},
     "output_type": "execute_result"
    }
   ],
   "source": [
    "3 > 2 and 1 < 5"
   ]
  },
  {
   "cell_type": "code",
   "execution_count": 6,
   "id": "285f66bf",
   "metadata": {},
   "outputs": [
    {
     "data": {
      "text/plain": [
       "False"
      ]
     },
     "execution_count": 6,
     "metadata": {},
     "output_type": "execute_result"
    }
   ],
   "source": [
    "3 > 2 and 1 < 0"
   ]
  },
  {
   "cell_type": "code",
   "execution_count": 7,
   "id": "af59a39b",
   "metadata": {},
   "outputs": [
    {
     "data": {
      "text/plain": [
       "True"
      ]
     },
     "execution_count": 7,
     "metadata": {},
     "output_type": "execute_result"
    }
   ],
   "source": [
    "3 > 2 or 1 < 0"
   ]
  },
  {
   "cell_type": "code",
   "execution_count": 8,
   "id": "169d8cb8",
   "metadata": {},
   "outputs": [
    {
     "data": {
      "text/plain": [
       "True"
      ]
     },
     "execution_count": 8,
     "metadata": {},
     "output_type": "execute_result"
    }
   ],
   "source": [
    "1 < 2 and 3 < 4 and 5 < 6"
   ]
  },
  {
   "cell_type": "code",
   "execution_count": 9,
   "id": "6d6b7b62",
   "metadata": {},
   "outputs": [
    {
     "data": {
      "text/plain": [
       "True"
      ]
     },
     "execution_count": 9,
     "metadata": {},
     "output_type": "execute_result"
    }
   ],
   "source": [
    "1 > 2 or 3 < 4 or 5 > 6"
   ]
  },
  {
   "cell_type": "code",
   "execution_count": 10,
   "id": "4e2165d3",
   "metadata": {},
   "outputs": [
    {
     "data": {
      "text/plain": [
       "True"
      ]
     },
     "execution_count": 10,
     "metadata": {},
     "output_type": "execute_result"
    }
   ],
   "source": [
    "not 6 < 2"
   ]
  },
  {
   "cell_type": "code",
   "execution_count": null,
   "id": "7b11b2e2",
   "metadata": {},
   "outputs": [],
   "source": [
    "not 6 > 2"
   ]
  },
  {
   "cell_type": "code",
   "execution_count": 11,
   "id": "78c61afe",
   "metadata": {},
   "outputs": [
    {
     "data": {
      "text/plain": [
       "True"
      ]
     },
     "execution_count": 11,
     "metadata": {},
     "output_type": "execute_result"
    }
   ],
   "source": [
    "a = 1 # a に 1 を代入\n",
    "b = 3 # b に 3 を代入\n",
    "c = 5 # c に 5 を代入\n",
    "a > b or c > b"
   ]
  },
  {
   "cell_type": "code",
   "execution_count": null,
   "id": "a4ac3fab",
   "metadata": {},
   "outputs": [],
   "source": [
    "a = 1 # a に 1 を代入\n",
    "b = 3 # b に 3 を代入\n",
    "c = 5 # c に 5 を代入\n",
    "a > b and c > b"
   ]
  },
  {
   "cell_type": "markdown",
   "id": "4c4fad96",
   "metadata": {},
   "source": [
    "## 例６．科目１の点数 a と科目２の点数 b が共に60点以上の場合に「合格です」，それ以外の場合に「不合格です」と表示するプログラム"
   ]
  },
  {
   "cell_type": "code",
   "execution_count": 12,
   "id": "23739bb9",
   "metadata": {},
   "outputs": [
    {
     "name": "stdout",
     "output_type": "stream",
     "text": [
      "科目１の点数を入力してください 80\n",
      "科目２の点数を入力してください 59\n",
      "不合格です\n"
     ]
    }
   ],
   "source": [
    "a=int(input(\"科目１の点数を入力してください \"))\n",
    "b=int(input(\"科目２の点数を入力してください \"))\n",
    "if a>=60 and b>=60:\n",
    "    print(\"合格です\")\n",
    "else:\n",
    "    print(\"不合格です\")"
   ]
  },
  {
   "cell_type": "markdown",
   "id": "0af89061",
   "metadata": {},
   "source": [
    "## 例７（p.41）．以下の手順で，２科目のテスト結果から，合否判定を行うプログラムを作成せよ．<br><br>Step 1．科目１の点数 a と科目２の点数 b を入力する<br>Step 2．a と b の平均点を計算し，h とする<br>Step 3．３つの値 a, b, h を用いて，以下の判定を行う：<br><br>(1) 科目１の点数 a と科目２の点数 b が共に50点以上，かつ平均点 h が60点以上の場合には，<span style=\"color: blue; \">平均点を表示させると共に</span>「合格です」と表示させる<br>(2) それ以外の場合には「不合格です」と表示させる<br><br>【模範解答（例７）】"
   ]
  },
  {
   "cell_type": "code",
   "execution_count": 13,
   "id": "6356cba5",
   "metadata": {},
   "outputs": [
    {
     "name": "stdout",
     "output_type": "stream",
     "text": [
      "科目１の点数を入力してください 79\n",
      "科目２の点数を入力してください 86\n",
      "合格です（平均点： 82.5 ）\n"
     ]
    }
   ],
   "source": [
    "a=int(input(\"科目１の点数を入力してください \"))\n",
    "b=int(input(\"科目２の点数を入力してください \"))\n",
    "h=(a+b)/2\n",
    "if a>=50 and b>=50 and h>=60:\n",
    "    print(\"合格です（平均点：\",h,\"）\")\n",
    "else:\n",
    "    print(\"不合格です\")"
   ]
  },
  {
   "cell_type": "markdown",
   "id": "4c80fc7c",
   "metadata": {},
   "source": [
    "## <span style=\"color: red; \">提出課題＜締切：６月２日（金）２３：５９＞</span><br><br>prog06_kadai_sample.ipynb 内の問に答えよ．<br>prog06_kadai_sample.ipynb 内の空欄すべてを埋め終えたら，ファイル名を<br><span style=\"color: blue; \">「prog06_kadai_sample」から「prog06_kadai_892〇〇〇〇」<br>（〇〇〇〇：半角の学籍番号下４桁）<br>へ変更し</span>，江夏の宛先へメール添付によりファイルを送信すること．"
   ]
  }
 ],
 "metadata": {
  "kernelspec": {
   "display_name": "Python 3",
   "language": "python",
   "name": "python3"
  },
  "language_info": {
   "codemirror_mode": {
    "name": "ipython",
    "version": 3
   },
   "file_extension": ".py",
   "mimetype": "text/x-python",
   "name": "python",
   "nbconvert_exporter": "python",
   "pygments_lexer": "ipython3",
   "version": "3.8.5"
  }
 },
 "nbformat": 4,
 "nbformat_minor": 5
}
