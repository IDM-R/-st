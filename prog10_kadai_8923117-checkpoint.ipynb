{
 "cells": [
  {
   "cell_type": "markdown",
   "id": "5214b1de",
   "metadata": {},
   "source": [
    "## 講義（第１０回）レポート<br>学籍番号：892〇〇〇〇　氏名：〇〇　〇〇"
   ]
  },
  {
   "cell_type": "markdown",
   "id": "8fec87d0",
   "metadata": {},
   "source": [
    "## 次の問に答えよ．ただし，全ての問において，入力したプログラムを自身で実行し，<span style=\"color: blue; \">問２（４）以外は実行によって出力される表示結果も必ず残したままにすること</span>．今回の問は，全て解答必須の課題とする．"
   ]
  },
  {
   "cell_type": "markdown",
   "id": "4453d6e8",
   "metadata": {},
   "source": [
    "## 問１．次の辞書（東京における2020年度の月毎平均降水量［単位：mm］）に対して，以下の操作を行うプログラムを作成せよ．以下，月毎平均降水量を単に降水量と呼ぶこととする．"
   ]
  },
  {
   "cell_type": "code",
   "execution_count": null,
   "id": "6b669a1c",
   "metadata": {},
   "outputs": [],
   "source": [
    "precipitation={ \"4月\":9.88, \"6月\":7.08, \"8月\":1.98, \"10月\":6.61, \"12月\":0.42, \"2月\":3.16 }"
   ]
  },
  {
   "cell_type": "markdown",
   "id": "c581faae",
   "metadata": {},
   "source": [
    "## （１）辞書 precipitation での要素の参照として，6 月の降水量を表示するプログラム"
   ]
  },
  {
   "cell_type": "code",
   "execution_count": null,
   "id": "38c82337",
   "metadata": {},
   "outputs": [],
   "source": [
    "# 問１（１）の入力欄\n"
   ]
  },
  {
   "cell_type": "markdown",
   "id": "7c2dda6f",
   "metadata": {},
   "source": [
    "## （２）辞書への要素の追加として，キーを \"7月\"，値を 8.72 として，7 月の降水量情報を辞書 precipitation に追加するプログラム"
   ]
  },
  {
   "cell_type": "code",
   "execution_count": null,
   "id": "e31f990e",
   "metadata": {},
   "outputs": [],
   "source": [
    "# 問１（２）の入力欄\n"
   ]
  },
  {
   "cell_type": "markdown",
   "id": "ef681e0b",
   "metadata": {},
   "source": [
    "## （３）辞書からの要素の削除として，キーを \"10月\"，値を 6.61 とした，10 月の降水量情報を辞書 precipitation から削除するプログラム"
   ]
  },
  {
   "cell_type": "code",
   "execution_count": null,
   "id": "ad8683f3",
   "metadata": {},
   "outputs": [],
   "source": [
    "# 問１（３）の入力欄\n"
   ]
  },
  {
   "cell_type": "markdown",
   "id": "c6399f8f",
   "metadata": {},
   "source": [
    "## （４）辞書内の要素検索として，キーを \"8月\" とする要素が辞書 precipitation に含まれているかを確認するプログラム<br><br>【注意】in の後ろと「前にも」半角１文字分の空白を加えましょう．<br><br>誤：\"...月\"in precipitation<br>正：\"...月\" in precipitation"
   ]
  },
  {
   "cell_type": "code",
   "execution_count": null,
   "id": "bb8ebe16",
   "metadata": {},
   "outputs": [],
   "source": [
    "# 問１（４）の入力欄\n"
   ]
  },
  {
   "cell_type": "markdown",
   "id": "21fbf120",
   "metadata": {},
   "source": [
    "## （５）input 文で入力した月を辞書 precipitation 内で検索し，対応する月の降水量を出力するプログラム<br><br>【注意】講義（第１０回）ノートの例６に倣って，<span style=\"color: blue; \">辞書に含まれない月を検索した場合でも，入力された月が「見つかりません」と出力させる</span>例外処理付きのプログラムを組むこと"
   ]
  },
  {
   "cell_type": "code",
   "execution_count": null,
   "id": "dde4803d",
   "metadata": {},
   "outputs": [],
   "source": [
    "# 問１（５）の入力欄\n"
   ]
  },
  {
   "cell_type": "markdown",
   "id": "92b1b9a8",
   "metadata": {},
   "source": [
    "## （６）（２）および（３）でのプログラムを実行した上で，for 文を使った，辞書 precipitation のデータを表示するプログラム"
   ]
  },
  {
   "cell_type": "code",
   "execution_count": null,
   "id": "9833e303",
   "metadata": {},
   "outputs": [],
   "source": []
  },
  {
   "cell_type": "markdown",
   "id": "5c92dbb2",
   "metadata": {},
   "source": [
    "## 【注意】プログラムが正しければ，下記の表に対応する辞書のデータが出力される．"
   ]
  },
  {
   "cell_type": "markdown",
   "id": "1976ce08",
   "metadata": {},
   "source": [
    "| <span style=\"font-size: 150%;\">キー | <span style=\"font-size: 150%;\">値 |\n",
    "|:---:|:---:|\n",
    "|<span style=\"font-size: 150%;\">4月|<span style=\"font-size: 150%;\">9.88|\n",
    "|<span style=\"font-size: 150%;\">6月|<span style=\"font-size: 150%;\">7.08|\n",
    "|<span style=\"font-size: 150%;\">8月|<span style=\"font-size: 150%;\">1.98|\n",
    "|<span style=\"font-size: 150%;\">12月|<span style=\"font-size: 150%;\">0.42|\n",
    "|<span style=\"font-size: 150%;\">2月|<span style=\"font-size: 150%;\">3.16|\n",
    "|<span style=\"font-size: 150%;\"><span style=\"color: red; \">7月</span>|<span style=\"font-size: 150%;\"><span style=\"color: red; \">8.72</span>|"
   ]
  },
  {
   "cell_type": "markdown",
   "id": "d765decc",
   "metadata": {},
   "source": [
    "## 問２．次の３つの辞書に対して，以下の操作を行うプログラムを作成せよ．"
   ]
  },
  {
   "cell_type": "code",
   "execution_count": null,
   "id": "dd2e117b",
   "metadata": {},
   "outputs": [],
   "source": [
    "d1 = {\"A\": 60, \"B\": 75, \"C\": 90}\n",
    "d2 = {\"D\": 70, \"E\": 80, \"F\": 65}\n",
    "d3 = {\"G\": 50, \"H\": 75}\n",
    "d4 = {\"A\": 85, \"C\": 100, \"D\": 50, \"E\": 80, \"F\": 75}"
   ]
  },
  {
   "cell_type": "markdown",
   "id": "c9c33a94",
   "metadata": {},
   "source": [
    "## （１）辞書 d3 のデータに辞書 d1 のデータを結合し，辞書 d1 のデータが結合される形で更新された辞書 d3 を d として，辞書 d のデータを表示するプログラム"
   ]
  },
  {
   "cell_type": "code",
   "execution_count": null,
   "id": "568e4a67",
   "metadata": {},
   "outputs": [],
   "source": [
    "# 問２（１）の入力欄\n"
   ]
  },
  {
   "cell_type": "markdown",
   "id": "cc15eefb",
   "metadata": {},
   "source": [
    "## （２）辞書 d2 のデータに辞書 d4 のデータを結合し，辞書 d4 のデータが結合される形で更新された辞書 d2 を d として，辞書 d のデータを表示するプログラム"
   ]
  },
  {
   "cell_type": "code",
   "execution_count": null,
   "id": "ba9037c3",
   "metadata": {},
   "outputs": [],
   "source": [
    "# 問２（２）の入力欄\n"
   ]
  },
  {
   "cell_type": "markdown",
   "id": "9ff9d9b7",
   "metadata": {},
   "source": [
    "## 【注意】プログラムが正しければ，下記の表に対応する辞書が出力される（出力結果において，辞書の要素のキーの並び順はアルファベット順でなくて構わない）．"
   ]
  },
  {
   "cell_type": "markdown",
   "id": "10dc7dee",
   "metadata": {},
   "source": [
    "| <span style=\"font-size: 150%;\">キー | <span style=\"font-size: 150%;\">値 |\n",
    "|:---:|:---:|\n",
    "|<span style=\"font-size: 150%;\">A|<span style=\"font-size: 150%;\">85|\n",
    "|<span style=\"font-size: 150%;\">C|<span style=\"font-size: 150%;\">100|\n",
    "|<span style=\"font-size: 150%;\">D|<span style=\"font-size: 150%;\"><span style=\"color: red; \">50</span>|\n",
    "|<span style=\"font-size: 150%;\">E|<span style=\"font-size: 150%;\">80|\n",
    "|<span style=\"font-size: 150%;\">F|<span style=\"font-size: 150%;\"><span style=\"color: red; \">75</span>|"
   ]
  },
  {
   "cell_type": "markdown",
   "id": "500f88a8",
   "metadata": {},
   "source": [
    "## （３）辞書 d4 のデータに辞書 d2 のデータを結合し，辞書 d2 のデータが結合される形で更新された辞書 d4 を d として，辞書 d のデータを表示するプログラム"
   ]
  },
  {
   "cell_type": "code",
   "execution_count": null,
   "id": "65dc2ae8",
   "metadata": {},
   "outputs": [],
   "source": [
    "# 問２（３）の入力欄\n"
   ]
  },
  {
   "cell_type": "markdown",
   "id": "49b3ea1c",
   "metadata": {},
   "source": [
    "## （４）（２）で得られた辞書 d と（３）で得られた辞書 d において，同じキーでも値が互いに異なるようなキーと値の組が<span style=\"color: red; \">２組</span>存在する．そのような互いに異なる値をもつキーのアルファベットを，上から３行目の２か所の \"...\" を書き換える形で解答せよ．また，互いに異なる値をもつキーのアルファベットが存在する理由についても，（２）と（３）のプログラムでの説明にある計６か所の \"...\" を埋めよ（本問の入力欄のみ，実行は不要）．"
   ]
  },
  {
   "cell_type": "code",
   "execution_count": null,
   "id": "3d15327e",
   "metadata": {},
   "outputs": [],
   "source": [
    "# 互いに異なる値をもつキーのアルファベット：\n",
    "... と ...（答え方の例：A と B）\n",
    "\n",
    "# 互いに異なる値をもつキーのアルファベットが存在する理由：\n",
    "２つの辞書の中のキーのいくつかが重複した場合，update() の括弧内の引数となる辞書データのキーの値が反映されるためである．\n",
    "例えば，辞書 d のキー \"D\" の値に着目すると，次の上書き操作が行われている．\n",
    "\n",
    "（２）のプログラム：\n",
    "辞書 d2 でのキー \"D\" の値 70 に辞書 ... でのキー \"D\" の値 ... が上書きされた結果の出力が行われている．\n",
    "\n",
    "（３）のプログラム：\n",
    "辞書 ... でのキー \"D\" の値 ... に辞書 ... でのキー \"D\" の値 ... が上書きされた結果の出力が行われている．"
   ]
  }
 ],
 "metadata": {
  "kernelspec": {
   "display_name": "Python 3",
   "language": "python",
   "name": "python3"
  },
  "language_info": {
   "codemirror_mode": {
    "name": "ipython",
    "version": 3
   },
   "file_extension": ".py",
   "mimetype": "text/x-python",
   "name": "python",
   "nbconvert_exporter": "python",
   "pygments_lexer": "ipython3",
   "version": "3.8.8"
  }
 },
 "nbformat": 4,
 "nbformat_minor": 5
}
