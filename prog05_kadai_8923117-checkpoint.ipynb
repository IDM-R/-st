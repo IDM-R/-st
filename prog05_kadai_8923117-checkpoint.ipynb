{
 "cells": [
  {
   "cell_type": "markdown",
   "metadata": {},
   "source": [
    "# 講義（第５回）レポート<br>学籍番号：8923117　氏名：三好　琉希"
   ]
  },
  {
   "cell_type": "markdown",
   "metadata": {},
   "source": [
    "## 次の問に答えよ．ただし，全ての問において，入力したプログラムを自身で実行し，<span style=\"color: blue; \">実行によって出力される表示結果も必ず残したままにすること．</span>"
   ]
  },
  {
   "cell_type": "markdown",
   "metadata": {},
   "source": [
    "## 問１．講義（第５回）ノート下部の例４に倣って，input() 関数を使って年（year），月（month），日（date）を入力した上で，その日の年月日を出力させるプログラムを入力せよ．"
   ]
  },
  {
   "cell_type": "code",
   "execution_count": 1,
   "metadata": {},
   "outputs": [
    {
     "name": "stdout",
     "output_type": "stream",
     "text": [
      "今日の年を入力してください\n",
      "２０２３\n",
      "今日の月を入力してください\n",
      "５\n",
      "今日の日を入力してください\n",
      "１９\n",
      "今日は ２０２３ 年 ５ 月 １９ 日です。\n"
     ]
    }
   ],
   "source": [
    "# 問１の入力欄\n",
    "year=input(\"今日の年を入力してください\\n\")\n",
    "month=input(\"今日の月を入力してください\\n\")\n",
    "date=input(\"今日の日を入力してください\\n\")\n",
    "print(\"今日は\",year,\"年\",month,\"月\",date,\"日です。\")"
   ]
  },
  {
   "cell_type": "markdown",
   "metadata": {},
   "source": [
    "## 問２．講義（第５回）ノート下部の例５に倣って，input() 関数を使って３つの整数を入力した上で，その３つの数の合計を出力させるプログラムを入力せよ．"
   ]
  },
  {
   "cell_type": "code",
   "execution_count": 7,
   "metadata": {},
   "outputs": [
    {
     "name": "stdout",
     "output_type": "stream",
     "text": [
      "整数を入力してください\n",
      "5\n",
      "整数を入力してください\n",
      "4\n",
      "整数を入力してください\n",
      "6\n"
     ]
    },
    {
     "data": {
      "text/plain": [
       "15.0"
      ]
     },
     "execution_count": 7,
     "metadata": {},
     "output_type": "execute_result"
    }
   ],
   "source": [
    "# 問２の入力欄\n",
    "a=input(\"整数を入力してください\\n\")\n",
    "b=input(\"整数を入力してください\\n\")\n",
    "c=input(\"整数を入力してください\\n\")\n",
    "int(a)+float(b)+int(c)"
   ]
  },
  {
   "cell_type": "markdown",
   "metadata": {},
   "source": [
    "## 問３．講義（第５回）ノート下部の例５に倣って，input() 関数を使って４つの整数を入力した上で，その４つの数の平均を出力させるプログラムを入力せよ．"
   ]
  },
  {
   "cell_type": "code",
   "execution_count": 6,
   "metadata": {},
   "outputs": [
    {
     "name": "stdout",
     "output_type": "stream",
     "text": [
      "整数を入力してください\n",
      "5\n",
      "整数を入力してください\n",
      "10\n",
      "整数を入力してください\n",
      "15\n",
      "整数を入力してください\n",
      "-5\n"
     ]
    },
    {
     "data": {
      "text/plain": [
       "6.25"
      ]
     },
     "execution_count": 6,
     "metadata": {},
     "output_type": "execute_result"
    }
   ],
   "source": [
    "# 問３の入力欄\n",
    "a=input(\"整数を入力してください\\n\")\n",
    "b=input(\"整数を入力してください\\n\")\n",
    "c=input(\"整数を入力してください\\n\")\n",
    "d=input(\"整数を入力してください\\n\")\n",
    "(float(a)+float(b)+float(c)+float(d))/4"
   ]
  },
  {
   "cell_type": "markdown",
   "metadata": {},
   "source": [
    "## 【告知】これまでのレポートで 100 点満点を未取得の受講生へ<br>締切は過ぎていますが，100 点満点を取得するための再提出は受け付けています．積極的な取り組みを期待しています．"
   ]
  }
 ],
 "metadata": {
  "kernelspec": {
   "display_name": "Python 3 (ipykernel)",
   "language": "python",
   "name": "python3"
  },
  "language_info": {
   "codemirror_mode": {
    "name": "ipython",
    "version": 3
   },
   "file_extension": ".py",
   "mimetype": "text/x-python",
   "name": "python",
   "nbconvert_exporter": "python",
   "pygments_lexer": "ipython3",
   "version": "3.10.9"
  }
 },
 "nbformat": 4,
 "nbformat_minor": 4
}
