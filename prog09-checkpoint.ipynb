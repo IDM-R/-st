{
 "cells": [
  {
   "cell_type": "markdown",
   "id": "e1a4ae10",
   "metadata": {},
   "source": [
    "## 講義（第９回）ノート　＜５章　データ型（リスト，辞書），5.1節＞<br>提出課題は最下部を参照"
   ]
  },
  {
   "cell_type": "markdown",
   "id": "ee7ab22d",
   "metadata": {},
   "source": [
    "## これまでは，数字や文字列などのデータを扱ってきた．本章では，データをまとめて扱う場合に利用するデータ型について習得する．"
   ]
  },
  {
   "cell_type": "markdown",
   "id": "f0a2f716",
   "metadata": {},
   "source": [
    "## 5.1 リスト（p.57～）<br><br>数値や文字列などの複数のデータを順番に並べたものを「リスト」と呼ぶ．リストは基本的なデータ型の一つで，リストでは要素の順番が維持される．"
   ]
  },
  {
   "cell_type": "markdown",
   "id": "892edcd6",
   "metadata": {},
   "source": [
    "## 5.1.1 リストの作成<br><br>リストは，カギ括弧 [ ] とカンマ ,（いずれも半角！）を用いて表される．"
   ]
  },
  {
   "cell_type": "code",
   "execution_count": null,
   "id": "180203f8",
   "metadata": {},
   "outputs": [],
   "source": [
    "[要素 1, 要素 2, 要素 3, ...]"
   ]
  },
  {
   "cell_type": "markdown",
   "id": "ddaa8696",
   "metadata": {},
   "source": [
    "## 例１．都市のリストを作成し，そのリストを変数 cities に代入するプログラム"
   ]
  },
  {
   "cell_type": "code",
   "execution_count": 1,
   "id": "1b2df0a6",
   "metadata": {},
   "outputs": [
    {
     "data": {
      "text/plain": [
       "['札幌', '仙台', '東京', '名古屋', '大阪', '福岡', '那覇']"
      ]
     },
     "execution_count": 1,
     "metadata": {},
     "output_type": "execute_result"
    }
   ],
   "source": [
    "cities=[\"札幌\", \"仙台\", \"東京\", \"名古屋\", \"大阪\", \"福岡\", \"那覇\"]\n",
    "cities"
   ]
  },
  {
   "cell_type": "markdown",
   "id": "540933a2",
   "metadata": {},
   "source": [
    "## 注意．例１のプログラムを実行した上で，cities の後ろに「?」をつけた以下のプログラムを実行することで，変数の説明が表示される（p.49，コラム３．関数の引数の調べ方を参照）．"
   ]
  },
  {
   "cell_type": "code",
   "execution_count": 2,
   "id": "2e070a71",
   "metadata": {},
   "outputs": [],
   "source": [
    "cities?"
   ]
  },
  {
   "cell_type": "markdown",
   "id": "be96a82e",
   "metadata": {},
   "source": [
    "## 例２．都市の平均気温リストを作成し，そのリストを変数 temps に代入するプログラム"
   ]
  },
  {
   "cell_type": "code",
   "execution_count": 3,
   "id": "83d09891",
   "metadata": {},
   "outputs": [
    {
     "data": {
      "text/plain": [
       "[8.0, 11.9, 15.3, 14.9, 16.2, 16.0, 22.4]"
      ]
     },
     "execution_count": 3,
     "metadata": {},
     "output_type": "execute_result"
    }
   ],
   "source": [
    "temps=[8.0,11.9,15.3,14.9,16.2,16.0,22.4]\n",
    "temps"
   ]
  },
  {
   "cell_type": "markdown",
   "id": "10d613f9",
   "metadata": {},
   "source": [
    "## 次の例のように，リストの中にはどのようなデータでも入れることができる．"
   ]
  },
  {
   "cell_type": "markdown",
   "id": "4e7a3ea0",
   "metadata": {},
   "source": [
    "## 例３．数字と文字列の混在したリストを作成し，そのリストを変数 mix に代入するプログラム"
   ]
  },
  {
   "cell_type": "code",
   "execution_count": 4,
   "id": "fc1dc8b0",
   "metadata": {},
   "outputs": [
    {
     "data": {
      "text/plain": [
       "[-4.0, 'abcde', 5, 'f2']"
      ]
     },
     "execution_count": 4,
     "metadata": {},
     "output_type": "execute_result"
    }
   ],
   "source": [
    "mix=[-4.0,\"abcde\",5,\"f2\"]\n",
    "mix"
   ]
  },
  {
   "cell_type": "markdown",
   "id": "2ea3aade",
   "metadata": {},
   "source": [
    "## 5.1.2 リストの要素の取り出し<span style=\"color: blue; \">（以降，例１，２，３のプログラムを予め実行すること！）</span><br><br>リストの中から要素を取り出すには，何番目の要素かを示す「インデックス」を利用する．<br><br>要注意．インデックスは 1 からではなく，<span style=\"color: red; \">0 から</span>始まる．<br><br>例４－１．リスト cities の要素取り出し（要素表示）"
   ]
  },
  {
   "cell_type": "code",
   "execution_count": 5,
   "id": "3da2b6e7",
   "metadata": {},
   "outputs": [
    {
     "data": {
      "text/plain": [
       "'札幌'"
      ]
     },
     "execution_count": 5,
     "metadata": {},
     "output_type": "execute_result"
    }
   ],
   "source": [
    "cities[0] # リスト cities の始め，すなわち，左から (0+1=)1 番目の要素を取り出す"
   ]
  },
  {
   "cell_type": "code",
   "execution_count": 6,
   "id": "c017fa3f",
   "metadata": {},
   "outputs": [
    {
     "data": {
      "text/plain": [
       "'大阪'"
      ]
     },
     "execution_count": 6,
     "metadata": {},
     "output_type": "execute_result"
    }
   ],
   "source": [
    "cities[4] # リスト cities の始め，すなわち，左から (4+1=)5 番目の要素を取り出す"
   ]
  },
  {
   "cell_type": "code",
   "execution_count": 7,
   "id": "aeeb0c62",
   "metadata": {},
   "outputs": [
    {
     "data": {
      "text/plain": [
       "'那覇'"
      ]
     },
     "execution_count": 7,
     "metadata": {},
     "output_type": "execute_result"
    }
   ],
   "source": [
    "cities[-1] # リスト cities の最後，すなわち，右から 1 番目の要素を取り出す"
   ]
  },
  {
   "cell_type": "code",
   "execution_count": 8,
   "id": "b2276979",
   "metadata": {},
   "outputs": [
    {
     "data": {
      "text/plain": [
       "'福岡'"
      ]
     },
     "execution_count": 8,
     "metadata": {},
     "output_type": "execute_result"
    }
   ],
   "source": [
    "cities[-2] # リスト cities の最後から 2 番目，すなわち，右から 2 番目の要素を取り出す"
   ]
  },
  {
   "cell_type": "markdown",
   "id": "d347d8d5",
   "metadata": {},
   "source": [
    "## 例４－２．リスト temps の要素取り出し"
   ]
  },
  {
   "cell_type": "code",
   "execution_count": null,
   "id": "24f2c4b3",
   "metadata": {},
   "outputs": [],
   "source": [
    "temps[3]"
   ]
  },
  {
   "cell_type": "code",
   "execution_count": null,
   "id": "29afdaec",
   "metadata": {},
   "outputs": [],
   "source": [
    "temps[-1]"
   ]
  },
  {
   "cell_type": "markdown",
   "id": "0b09e5f3",
   "metadata": {},
   "source": [
    "## 例４－３．リスト mix の要素取り出し"
   ]
  },
  {
   "cell_type": "code",
   "execution_count": null,
   "id": "ac54a5d0",
   "metadata": {},
   "outputs": [],
   "source": [
    "mix[0]"
   ]
  },
  {
   "cell_type": "code",
   "execution_count": null,
   "id": "912f92a0",
   "metadata": {},
   "outputs": [],
   "source": [
    "mix[2]"
   ]
  },
  {
   "cell_type": "code",
   "execution_count": null,
   "id": "ddaeb89b",
   "metadata": {},
   "outputs": [],
   "source": [
    "mix[-1]"
   ]
  },
  {
   "cell_type": "markdown",
   "id": "5d90f674",
   "metadata": {},
   "source": [
    "## リストに含まれる要素の数をリストの長さと呼ぶ．例えば，リスト cities の長さは 7 なので，インデックスとして，0 から 6 までを指定できる．インデックスにそれより大きな数を指定すると，エラーとなる．"
   ]
  },
  {
   "cell_type": "code",
   "execution_count": 9,
   "id": "1230592f",
   "metadata": {
    "scrolled": true
   },
   "outputs": [
    {
     "ename": "IndexError",
     "evalue": "list index out of range",
     "output_type": "error",
     "traceback": [
      "\u001b[1;31m---------------------------------------------------------------------------\u001b[0m",
      "\u001b[1;31mIndexError\u001b[0m                                Traceback (most recent call last)",
      "\u001b[1;32m<ipython-input-9-ca6e618667fa>\u001b[0m in \u001b[0;36m<module>\u001b[1;34m\u001b[0m\n\u001b[1;32m----> 1\u001b[1;33m \u001b[0mcities\u001b[0m\u001b[1;33m[\u001b[0m\u001b[1;36m7\u001b[0m\u001b[1;33m]\u001b[0m\u001b[1;33m\u001b[0m\u001b[1;33m\u001b[0m\u001b[0m\n\u001b[0m",
      "\u001b[1;31mIndexError\u001b[0m: list index out of range"
     ]
    }
   ],
   "source": [
    "cities[7]"
   ]
  },
  {
   "cell_type": "code",
   "execution_count": null,
   "id": "89b372a7",
   "metadata": {},
   "outputs": [],
   "source": [
    "temps[10]"
   ]
  },
  {
   "cell_type": "markdown",
   "id": "bb9ff1c3",
   "metadata": {},
   "source": [
    "## リストの長さ（length）を確認したいときは，関数 len() を使う．"
   ]
  },
  {
   "cell_type": "code",
   "execution_count": 10,
   "id": "457dcc53",
   "metadata": {
    "scrolled": true
   },
   "outputs": [
    {
     "data": {
      "text/plain": [
       "7"
      ]
     },
     "execution_count": 10,
     "metadata": {},
     "output_type": "execute_result"
    }
   ],
   "source": [
    "len(cities)"
   ]
  },
  {
   "cell_type": "code",
   "execution_count": null,
   "id": "3db83eea",
   "metadata": {},
   "outputs": [],
   "source": [
    "len(temps)"
   ]
  },
  {
   "cell_type": "code",
   "execution_count": null,
   "id": "bee59f54",
   "metadata": {},
   "outputs": [],
   "source": [
    "len(mix)"
   ]
  },
  {
   "cell_type": "markdown",
   "id": "656a58cd",
   "metadata": {},
   "source": [
    "## 5.1.3 リストを使った処理の例<br><br>for 文を使うと，リストの要素を順番に取り出して，処理を行える．リストは，そのまま for 文の変数の範囲として利用できる．<br><br>例５．リスト cities の要素をすべて印字するプログラム"
   ]
  },
  {
   "cell_type": "code",
   "execution_count": 11,
   "id": "47f03378",
   "metadata": {},
   "outputs": [
    {
     "name": "stdout",
     "output_type": "stream",
     "text": [
      "札幌\n",
      "仙台\n",
      "東京\n",
      "名古屋\n",
      "大阪\n",
      "福岡\n",
      "那覇\n"
     ]
    }
   ],
   "source": [
    "# リスト cities から 1 つずつ順番に要素を取り出し，city に代入する\n",
    "for city in cities:\n",
    "    print(city)"
   ]
  },
  {
   "cell_type": "markdown",
   "id": "fd057d03",
   "metadata": {},
   "source": [
    "## 注意．例５のプログラムでは，for 文を実行するときの変数名を city としているが，以下の例の通り（元々組み込まれている関数の名前と重複しない限り）別の変数名を使っても全く問題ない．<br><br>例５（別解）．リスト cities の要素をすべて印字するプログラム"
   ]
  },
  {
   "cell_type": "code",
   "execution_count": 12,
   "id": "a67dea19",
   "metadata": {
    "scrolled": true
   },
   "outputs": [
    {
     "name": "stdout",
     "output_type": "stream",
     "text": [
      "札幌\n",
      "仙台\n",
      "東京\n",
      "名古屋\n",
      "大阪\n",
      "福岡\n",
      "那覇\n"
     ]
    }
   ],
   "source": [
    "# リスト cities から 1 つずつ順番に要素を取り出し，i に代入する\n",
    "for i in cities:\n",
    "    print(i)"
   ]
  },
  {
   "cell_type": "code",
   "execution_count": 13,
   "id": "43639881",
   "metadata": {},
   "outputs": [
    {
     "name": "stdout",
     "output_type": "stream",
     "text": [
      "札幌\n",
      "仙台\n",
      "東京\n",
      "名古屋\n",
      "大阪\n",
      "福岡\n",
      "那覇\n"
     ]
    }
   ],
   "source": [
    "# リスト cities から 1 つずつ順番に要素を取り出し，cityname に代入する\n",
    "for cityname in cities:\n",
    "    print(cityname)"
   ]
  },
  {
   "cell_type": "markdown",
   "id": "e6fbcee4",
   "metadata": {},
   "source": [
    "## ＜教科書の訂正＞URL：https://www.gakujutsu.co.jp/text/isbn978-4-7806-0858-8/<br>以下の３つの入力文において，「;」は不要である．<br>上から 13 行目の mx が例６での tmax，下から 7 行目の mx が例７での tmin に対応する．"
   ]
  },
  {
   "cell_type": "markdown",
   "id": "eae4a82f",
   "metadata": {},
   "source": [
    "| <span style=\"font-size: 150%;\">ページ | <span style=\"font-size: 150%;\">箇所| <span style=\"font-size: 150%;\">誤 | <span style=\"font-size: 150%;\">正 |\n",
    "|:---:|:---:|:---:|:---:|\n",
    "|<span style=\"font-size: 150%;\">60|<span style=\"font-size: 150%;\">上から 13 行目|<span style=\"font-size: 150%;\">mx = -100;|<span style=\"font-size: 150%;\">mx = -100|\n",
    "|<span style=\"font-size: 150%;\">60|<span style=\"font-size: 150%;\">下から 7 行目|<span style=\"font-size: 150%;\">mx = 100;|<span style=\"font-size: 150%;\">mx = 100|\n",
    "|<span style=\"font-size: 150%;\">61|<span style=\"font-size: 150%;\">上から 2 行目|<span style=\"font-size: 150%;\">total = 0;|<span style=\"font-size: 150%;\">total = 0|"
   ]
  },
  {
   "cell_type": "markdown",
   "id": "8c693109",
   "metadata": {},
   "source": [
    "## 例６．リスト temps を使った，都市の最高気温を求めるプログラム"
   ]
  },
  {
   "cell_type": "code",
   "execution_count": 14,
   "id": "fa9a1ddc",
   "metadata": {},
   "outputs": [
    {
     "name": "stdout",
     "output_type": "stream",
     "text": [
      "最高気温は 22.4 度です\n"
     ]
    }
   ],
   "source": [
    "tmax=-100 # 気温の最大値を保持するための変数（予め，-100 といったように「十分小さい」数としておく）\n",
    "for temp in temps:\n",
    "    if temp > tmax: # ここから 2 行分で，代入される temp の値が大きくなるごとに，tmax の値をより大きな値として更新している\n",
    "        tmax=temp   # ！！！tmax に temp の値を代入する操作であり，temp=tmax としてしまうと，意味を成さない！！！\n",
    "print(\"最高気温は\",tmax,\"度です\") # 最終的な気温の最大値を出力する"
   ]
  },
  {
   "cell_type": "markdown",
   "id": "4700e1ae",
   "metadata": {},
   "source": [
    "## 【解説】例６のプログラムの上から２～４行目では，変数 temp に 8.0, 11.9, 15.3, ... , 22.4 を順次代入し，次の操作により，（上から３行目の不等式条件 <span style=\"color: blue; \">temp>tmax</span> からわかるように）<span style=\"color: blue; \">代入される temp の値が大きくなる</span>ごとに tmax の値を更新している．<br><br>Step 1. temp を $8.0$ とする（tmax=$-100$）<br>&emsp; &emsp; &nbsp; &nbsp; 不等式 <span style=\"color: blue; \">$8.0>-100$ は True である</span>ため，tmax=$8.0$ とする<br>&emsp; &emsp; &nbsp;（$-100$ が代入されていた tmax の値を $8.0$ に更新する）<br><br>Step 2. temp を $11.9$ とする（tmax=$8.0$）<br>&emsp; &emsp; &nbsp; &nbsp; 不等式 <span style=\"color: blue; \">$11.9>8.0$ は True である</span>ため，tmax=$11.9$ とする<br>&emsp; &emsp; &nbsp;（$8.0$ が代入されていた tmax の値を $11.9$ に更新する）<br><br>Step 3. temp を $15.3$ とする（tmax=$11.9$）<br>&emsp; &emsp; &nbsp; &nbsp; 不等式 <span style=\"color: blue; \">$15.3>11.9$ は True である</span>ため，tmax=$15.3$ とする<br><br>Step 4. temp を $14.9$ とする（tmax=$15.3$）<br>&emsp; &emsp; &nbsp; &nbsp; 不等式 $14.9>15.3$ は True でないため，tmax の値は更新せず，$15.3$ のままとする<br><br>Step 5. temp を $16.2$ とする（tmax=$15.3$）<br>&emsp; &emsp; &nbsp; &nbsp; 不等式 <span style=\"color: blue; \">$16.2>15.3$ は True である</span>ため，tmax=$16.2$ とする<br><br>Step 6. temp を $16.0$ とする（tmax=$16.2$）<br>&emsp; &emsp; &nbsp; &nbsp; 不等式 $16.0>16.2$ は True でないため，tmax の値は更新せず，$16.2$ のままとする<br><br>Step 7. temp を $22.4$ とする（tmax=$16.2$）<br>&emsp; &emsp; &nbsp; &nbsp; 不等式 <span style=\"color: blue; \">$22.4>16.2$ は True である</span>ため，tmax=$22.4$ とする"
   ]
  },
  {
   "cell_type": "markdown",
   "id": "bb46774c",
   "metadata": {},
   "source": [
    "## 例７．リスト temps を使った，都市の最低気温を求めるプログラム"
   ]
  },
  {
   "cell_type": "code",
   "execution_count": 15,
   "id": "090ace1c",
   "metadata": {
    "scrolled": false
   },
   "outputs": [
    {
     "name": "stdout",
     "output_type": "stream",
     "text": [
      "最低気温は 8.0 度です\n"
     ]
    }
   ],
   "source": [
    "tmin=100 # 気温の最小値を保持するための変数（予め，100 といったように「十分大きい」数としておく）\n",
    "for temp in temps:\n",
    "    if temp < tmin: # ここから 2 行分で，代入される temp の値が小さくなるごとに，tmin の値をより小さな値として更新している\n",
    "        tmin=temp   # ！！！tmin に temp の値を代入する操作であり，temp=tmin としてしまうと，意味を成さない！！！\n",
    "print(\"最低気温は\",tmin,\"度です\") # 最終的な気温の最小値を出力する"
   ]
  },
  {
   "cell_type": "markdown",
   "id": "f5e1786a",
   "metadata": {},
   "source": [
    "## 【解説】例７のプログラムの上から２～４行目では，変数 temp に 8.0, 11.9, 15.3, ... , 22.4 を順次代入し，次の操作により，（上から３行目の不等式条件 <span style=\"color: blue; \">temp<tmin</span> からわかるように）<span style=\"color: blue; \">代入される temp の値が小さくなる</span>ごとに tmin の値を更新している．<br><br>Step 1. temp を $8.0$ とする（tmin=$100$）<br>&emsp; &emsp; &nbsp; &nbsp; 不等式 <span style=\"color: blue; \">$8.0<100$ は True である</span>ため，tmin=$8.0$ とする<br>&emsp; &emsp; &nbsp;（$100$ が代入されていた tmin の値を $8.0$ に更新する）<br><br>Step 2. temp を $11.9$ とする（tmin=$8.0$）<br>&emsp; &emsp; &nbsp; &nbsp; 不等式 $11.9<8.0$ は True でないため，tmin の値は更新せず，$8.0$ のままとする<br><br>Step 3. temp を $15.3$ とする（tmax=$8.0$）<br>&emsp; &emsp; &nbsp; &nbsp; 不等式 $15.3<8.0$ は True でないため，tmin の値は更新せず，$8.0$ のままとする<br><br>Step 4～Step 6. Steps 2,3 と同様<br><br>Step 7. temp を $22.4$ とする（tmax=$8.0$）<br>&emsp; &emsp; &nbsp; &nbsp; 不等式 $22.4<8.0$ は True でないため，tmin の値は更新せず，$8.0$ のままとする"
   ]
  },
  {
   "cell_type": "markdown",
   "id": "a19ffa02",
   "metadata": {},
   "source": [
    "## 例８．リスト temps を使った，すべての都市の気温の平均を求めるプログラム"
   ]
  },
  {
   "cell_type": "code",
   "execution_count": 16,
   "id": "25394da7",
   "metadata": {
    "scrolled": false
   },
   "outputs": [
    {
     "name": "stdout",
     "output_type": "stream",
     "text": [
      "すべての都市の気温の平均は 14.957142857142856 度です\n"
     ]
    }
   ],
   "source": [
    "total=0 # 気温の平均を保持するための変数（平均計算のため，予め 0 としなければならない！）\n",
    "for temp in temps:\n",
    "    total += temp # 複号演算子 += による \"total = total + temp\" の別表現（講義第４回参照）であり，この式によって気温を積算値に順次足す\n",
    "print(\"すべての都市の気温の平均は\",total/len(temps),\"度です\") # 最後に，合計/個数を計算する"
   ]
  },
  {
   "cell_type": "markdown",
   "id": "fbb39798",
   "metadata": {},
   "source": [
    "## 5.1.4 リストの要素の追加・書き換え・削除<br><br>関数 append() を使うと，リストの最後に要素を追加することができる．"
   ]
  },
  {
   "cell_type": "code",
   "execution_count": 17,
   "id": "94503595",
   "metadata": {},
   "outputs": [],
   "source": [
    "cities.append(\"室蘭\") # リストの最後に \"室蘭\" を追加"
   ]
  },
  {
   "cell_type": "code",
   "execution_count": 18,
   "id": "250167dc",
   "metadata": {
    "scrolled": false
   },
   "outputs": [
    {
     "data": {
      "text/plain": [
       "['札幌', '仙台', '東京', '名古屋', '大阪', '福岡', '那覇', '室蘭']"
      ]
     },
     "execution_count": 18,
     "metadata": {},
     "output_type": "execute_result"
    }
   ],
   "source": [
    "cities"
   ]
  },
  {
   "cell_type": "code",
   "execution_count": 19,
   "id": "eec22538",
   "metadata": {},
   "outputs": [
    {
     "data": {
      "text/plain": [
       "8"
      ]
     },
     "execution_count": 19,
     "metadata": {},
     "output_type": "execute_result"
    }
   ],
   "source": [
    "len(cities)"
   ]
  },
  {
   "cell_type": "markdown",
   "id": "9733eb24",
   "metadata": {},
   "source": [
    "## リストの要素を書き換えるには，次の２通りの方法がある．<br><br>１．インデックスを使って，書き換える要素の番目を指定して代入する．"
   ]
  },
  {
   "cell_type": "code",
   "execution_count": 20,
   "id": "07c507e5",
   "metadata": {},
   "outputs": [],
   "source": [
    "cities[6]=(\"群馬\") # リストの 7 番目の要素を \"那覇\" から \"群馬\" に書き換える"
   ]
  },
  {
   "cell_type": "code",
   "execution_count": 21,
   "id": "2b9ac198",
   "metadata": {},
   "outputs": [
    {
     "data": {
      "text/plain": [
       "['札幌', '仙台', '東京', '名古屋', '大阪', '福岡', '群馬', '室蘭']"
      ]
     },
     "execution_count": 21,
     "metadata": {},
     "output_type": "execute_result"
    }
   ],
   "source": [
    "cities"
   ]
  },
  {
   "cell_type": "markdown",
   "id": "9a1ecc78",
   "metadata": {},
   "source": [
    "## ２．for 文による次の置換操作："
   ]
  },
  {
   "cell_type": "code",
   "execution_count": null,
   "id": "69b96198",
   "metadata": {},
   "outputs": [],
   "source": [
    "[真の値 if 条件式 else 偽の値 for 任意の変数名 in 元のリスト]"
   ]
  },
  {
   "cell_type": "markdown",
   "id": "3d465059",
   "metadata": {},
   "source": [
    "## を使って，指定した（条件を満たす）要素すべてを置換する．"
   ]
  },
  {
   "cell_type": "code",
   "execution_count": 22,
   "id": "71a09470",
   "metadata": {
    "scrolled": true
   },
   "outputs": [
    {
     "data": {
      "text/plain": [
       "[-4.0, 'abcde', 'abcdefghijk', 'f2', 3.75, 'abc', 5, 'abcdefghijk']"
      ]
     },
     "execution_count": 22,
     "metadata": {},
     "output_type": "execute_result"
    }
   ],
   "source": [
    "mix2=[-4.0,\"abcde\",\"5\",\"f2\",3.75,\"abc\",5,\"5\"] # リスト mix 2 の 3,8 番目は文字列の 5 であり，7 番目は数値の 5 である\n",
    "\n",
    "# リスト mix2 の要素で \"5\"（文字列の 5）であるもの全てを文字列の \"abcdefghijk\" に置換\n",
    "mix2_update=[\"abcdefghijk\" if i==\"5\" else i for i in mix2]\n",
    "mix2=mix2_update\n",
    "\n",
    "mix2"
   ]
  },
  {
   "cell_type": "code",
   "execution_count": 23,
   "id": "760a7416",
   "metadata": {},
   "outputs": [
    {
     "data": {
      "text/plain": [
       "[-4.0, 0, 0, 0, 3.75, 0, 5, 0]"
      ]
     },
     "execution_count": 23,
     "metadata": {},
     "output_type": "execute_result"
    }
   ],
   "source": [
    "mix3=[-4.0,\"abcde\",\"5\",\"f2\",3.75,\"abc\",5,\"5\"] # 削除操作前であれば，mix2 と mix3 は同一のリストである\n",
    "\n",
    "# リスト mix3 の要素で文字列のもの全てを数値 0 に置換\n",
    "mix3_update=[0 if type(i) is str else i for i in mix3]\n",
    "mix3=mix3_update\n",
    "\n",
    "mix3"
   ]
  },
  {
   "cell_type": "code",
   "execution_count": 24,
   "id": "7db8bd43",
   "metadata": {},
   "outputs": [
    {
     "data": {
      "text/plain": [
       "[-4, -2, 0, 2, 100, 100]"
      ]
     },
     "execution_count": 24,
     "metadata": {},
     "output_type": "execute_result"
    }
   ],
   "source": [
    "evens=[-4,-2,0,2,4,6]\n",
    "\n",
    "# リスト evens の要素で 2 より大きい数値全てを数値 100 に置換\n",
    "evens_update=[100 if i>2 else i for i in evens]\n",
    "evens=evens_update\n",
    "\n",
    "evens"
   ]
  },
  {
   "cell_type": "markdown",
   "id": "c72d85fa",
   "metadata": {},
   "source": [
    "## リストから要素を削除するには，次の３通りの方法がある．<br><br>１．コマンド del を使って，書き換える要素の番目を指定して削除する．"
   ]
  },
  {
   "cell_type": "code",
   "execution_count": 25,
   "id": "320cfbb2",
   "metadata": {
    "scrolled": true
   },
   "outputs": [],
   "source": [
    "del cities[0] # リスト cities の最初の要素を削除"
   ]
  },
  {
   "cell_type": "code",
   "execution_count": 26,
   "id": "86f4dfa0",
   "metadata": {},
   "outputs": [
    {
     "data": {
      "text/plain": [
       "['仙台', '東京', '名古屋', '大阪', '福岡', '群馬', '室蘭']"
      ]
     },
     "execution_count": 26,
     "metadata": {},
     "output_type": "execute_result"
    }
   ],
   "source": [
    "cities"
   ]
  },
  {
   "cell_type": "code",
   "execution_count": 27,
   "id": "7625a2dd",
   "metadata": {
    "scrolled": false
   },
   "outputs": [
    {
     "data": {
      "text/plain": [
       "'名古屋'"
      ]
     },
     "execution_count": 27,
     "metadata": {},
     "output_type": "execute_result"
    }
   ],
   "source": [
    "cities[2]"
   ]
  },
  {
   "cell_type": "markdown",
   "id": "4321fc9b",
   "metadata": {},
   "source": [
    "## ２．関数 remove() を使って，指定した（条件を満たす）要素を「左から見たときの最初の一つだけ」削除する．"
   ]
  },
  {
   "cell_type": "code",
   "execution_count": 28,
   "id": "90723166",
   "metadata": {
    "scrolled": true
   },
   "outputs": [
    {
     "data": {
      "text/plain": [
       "[-4.0, 'abcde', 5, 'abc', '5']"
      ]
     },
     "execution_count": 28,
     "metadata": {},
     "output_type": "execute_result"
    }
   ],
   "source": [
    "mix4=[-4.0,\"abcde\",\"5\",5,\"abc\",\"5\"]\n",
    "\n",
    "# リスト mix4 の要素 \"5\" を最初の一つだけ削除\n",
    "mix4.remove(\"5\")\n",
    "\n",
    "mix4"
   ]
  },
  {
   "cell_type": "markdown",
   "id": "f200ce9c",
   "metadata": {},
   "source": [
    "## ３．for 文による次の抽出操作："
   ]
  },
  {
   "cell_type": "code",
   "execution_count": null,
   "id": "868e6918",
   "metadata": {},
   "outputs": [],
   "source": [
    "[i for i in 元のリスト if i を用いた条件式]"
   ]
  },
  {
   "cell_type": "markdown",
   "id": "428b5b19",
   "metadata": {},
   "source": [
    "## を使って，指定した（条件を満たす）要素すべてを抽出する形で，残りの要素を削除する．"
   ]
  },
  {
   "cell_type": "code",
   "execution_count": 29,
   "id": "b1d3fdc2",
   "metadata": {},
   "outputs": [
    {
     "data": {
      "text/plain": [
       "[-4.0, 'abcde', 5, 'abc']"
      ]
     },
     "execution_count": 29,
     "metadata": {},
     "output_type": "execute_result"
    }
   ],
   "source": [
    "mix5=[-4.0,\"abcde\",\"5\",5,\"abc\",\"5\"] # 削除操作前であれば，mix4 と mix5 は同一のリストである\n",
    "\n",
    "# リスト mix5 の要素 \"5\" 以外の全てを抽出（すなわち，要素 \"5\" を実質すべて削除）\n",
    "mix5_update=[i for i in mix5 if i != \"5\"]\n",
    "mix5=mix5_update\n",
    "\n",
    "mix5"
   ]
  },
  {
   "cell_type": "code",
   "execution_count": 30,
   "id": "b2944a84",
   "metadata": {},
   "outputs": [
    {
     "data": {
      "text/plain": [
       "['abcde', '5', 'f2', 'abc', '5']"
      ]
     },
     "execution_count": 30,
     "metadata": {},
     "output_type": "execute_result"
    }
   ],
   "source": [
    "mix6=[-4.0,\"abcde\",\"5\",\"f2\",3.75,\"abc\",5,\"5\"] # リスト mix6 の 3,8 番目は文字列の 5 であり，7 番目は数値の 5 である\n",
    "\n",
    "# リスト mix6 の要素で文字列のもの全てを抽出（すなわち，文字列以外の要素を実質すべて削除）\n",
    "mix6_update=[i for i in mix6 if type(i) is str]\n",
    "mix6=mix6_update\n",
    "\n",
    "mix6"
   ]
  },
  {
   "cell_type": "code",
   "execution_count": 31,
   "id": "be0ad740",
   "metadata": {},
   "outputs": [
    {
     "data": {
      "text/plain": [
       "[-4.0, 3.75, 5]"
      ]
     },
     "execution_count": 31,
     "metadata": {},
     "output_type": "execute_result"
    }
   ],
   "source": [
    "mix7=[-4.0,\"abcde\",\"5\",\"f2\",3.75,\"abc\",5,\"5\"] # 削除操作前であれば，mix6 と mix7 は同一のリストである\n",
    "\n",
    "# リスト mix7 の要素で文字列以外のもの全てを抽出（すなわち，文字列の要素を実質すべて削除）\n",
    "mix7_update=[i for i in mix7 if type(i) is not str] \n",
    "mix7=mix7_update\n",
    "\n",
    "mix7"
   ]
  },
  {
   "cell_type": "markdown",
   "id": "ce5d521d",
   "metadata": {},
   "source": [
    "## 5.1.5 リストに対する演算<br><br>リストに属する要素が全て数値である場合，次の表に示すように，リスト内の数値を計算する便利な関数がある．<br><br>表 5.1 数値リストの処理関数"
   ]
  },
  {
   "cell_type": "markdown",
   "id": "b85bd01b",
   "metadata": {},
   "source": [
    "|<span style=\"font-size: 150%;\">関数|<span style=\"font-size: 150%;\">意味|\n",
    "|:---:|:---:|\n",
    "|<span style=\"font-size: 150%;\">max(<i>list</i>)|<span style=\"font-size: 150%;\"><i>list</i> に属する数の最大値|\n",
    "|<span style=\"font-size: 150%;\">min(<i>list</i>)|<span style=\"font-size: 150%;\"><i>list</i> に属する数の最小値|\n",
    "|<span style=\"font-size: 150%;\">sum(<i>list</i>)|<span style=\"font-size: 150%;\"><i>list</i> に属する数の合計値|"
   ]
  },
  {
   "cell_type": "markdown",
   "id": "12144b39",
   "metadata": {},
   "source": [
    "## 例６（別解）．リスト temps を使った，都市の最高気温を求めるプログラム"
   ]
  },
  {
   "cell_type": "code",
   "execution_count": 32,
   "id": "4680d86f",
   "metadata": {},
   "outputs": [
    {
     "data": {
      "text/plain": [
       "22.4"
      ]
     },
     "execution_count": 32,
     "metadata": {},
     "output_type": "execute_result"
    }
   ],
   "source": [
    "max(temps) # 関数 max() を用いれば，5.1.3 節の例６のような for 文による長い入力文は不要となる"
   ]
  },
  {
   "cell_type": "markdown",
   "id": "70e7b01e",
   "metadata": {},
   "source": [
    "## 例７（別解）．リスト temps を使った，都市の最低気温を求めるプログラム"
   ]
  },
  {
   "cell_type": "code",
   "execution_count": 33,
   "id": "4f19db13",
   "metadata": {},
   "outputs": [
    {
     "data": {
      "text/plain": [
       "8.0"
      ]
     },
     "execution_count": 33,
     "metadata": {},
     "output_type": "execute_result"
    }
   ],
   "source": [
    "min(temps) # 関数 min() を用いれば，5.1.3 節の例７のような for 文による長い入力文は不要となる"
   ]
  },
  {
   "cell_type": "markdown",
   "id": "88b444aa",
   "metadata": {},
   "source": [
    "## 例８（別解）．リスト temps を使った，すべての都市の気温の平均を求めるプログラム"
   ]
  },
  {
   "cell_type": "code",
   "execution_count": 34,
   "id": "b3991f6a",
   "metadata": {
    "scrolled": true
   },
   "outputs": [
    {
     "data": {
      "text/plain": [
       "14.957142857142856"
      ]
     },
     "execution_count": 34,
     "metadata": {},
     "output_type": "execute_result"
    }
   ],
   "source": [
    "sum(temps)/len(temps) # 関数 sum() を用いれば，5.1.3 節の例８のような for 文による長い入力文は不要となる"
   ]
  },
  {
   "cell_type": "markdown",
   "id": "a34f4f51",
   "metadata": {},
   "source": [
    "## また，リストに特定の要素が含まれているかどうかを確認したいとき，以下のようにプログラムを入力すればよい．<br><br>例９－１．リスト temps に数値 14.9 が要素として含まれているかを確認するプログラム"
   ]
  },
  {
   "cell_type": "code",
   "execution_count": 35,
   "id": "d7ab4c0d",
   "metadata": {
    "scrolled": true
   },
   "outputs": [
    {
     "data": {
      "text/plain": [
       "True"
      ]
     },
     "execution_count": 35,
     "metadata": {},
     "output_type": "execute_result"
    }
   ],
   "source": [
    "14.9 in temps"
   ]
  },
  {
   "cell_type": "markdown",
   "id": "617c526d",
   "metadata": {},
   "source": [
    "## 例９－２．リスト temps に数値 3.1 が要素として含まれているかを確認するプログラム"
   ]
  },
  {
   "cell_type": "code",
   "execution_count": null,
   "id": "16b838fe",
   "metadata": {},
   "outputs": [],
   "source": [
    "3.1 in temps"
   ]
  },
  {
   "cell_type": "markdown",
   "id": "1f5077d4",
   "metadata": {},
   "source": [
    "## 例９－３．リスト mix に文字列 abcde が要素として含まれているかを確認するプログラム"
   ]
  },
  {
   "cell_type": "code",
   "execution_count": 36,
   "id": "ad660ada",
   "metadata": {},
   "outputs": [
    {
     "data": {
      "text/plain": [
       "True"
      ]
     },
     "execution_count": 36,
     "metadata": {},
     "output_type": "execute_result"
    }
   ],
   "source": [
    "'abcde' in mix"
   ]
  },
  {
   "cell_type": "markdown",
   "id": "48ef5565",
   "metadata": {},
   "source": [
    "## 例９－４．リスト mix に文字列 abcd が要素として含まれているかを確認するプログラム"
   ]
  },
  {
   "cell_type": "code",
   "execution_count": null,
   "id": "158673ab",
   "metadata": {},
   "outputs": [],
   "source": [
    "'abcd' in mix"
   ]
  },
  {
   "cell_type": "markdown",
   "id": "4cd3c436",
   "metadata": {},
   "source": [
    "## 5.1.6 リストのリスト<br><br>リストの要素として，さらにリストを入れることができる．<br><br>例１０．都市名と平均気温のリストを要素としたリストを作成"
   ]
  },
  {
   "cell_type": "code",
   "execution_count": 37,
   "id": "68a187ef",
   "metadata": {},
   "outputs": [],
   "source": [
    "cityinfo=[[\"札幌\",8.0],[\"仙台\",11.9],[\"東京\",15.3],[\"名古屋\",14.9],[\"大阪\",16.2],[\"福岡\",16.0],[\"那覇\",22.4]]"
   ]
  },
  {
   "cell_type": "code",
   "execution_count": 38,
   "id": "04a3c8f2",
   "metadata": {
    "scrolled": true
   },
   "outputs": [
    {
     "data": {
      "text/plain": [
       "[['札幌', 8.0],\n",
       " ['仙台', 11.9],\n",
       " ['東京', 15.3],\n",
       " ['名古屋', 14.9],\n",
       " ['大阪', 16.2],\n",
       " ['福岡', 16.0],\n",
       " ['那覇', 22.4]]"
      ]
     },
     "execution_count": 38,
     "metadata": {},
     "output_type": "execute_result"
    }
   ],
   "source": [
    "cityinfo"
   ]
  },
  {
   "cell_type": "markdown",
   "id": "52a15c27",
   "metadata": {},
   "source": [
    "## リスト cityinfo の要素は，次のように取り出すことができる．"
   ]
  },
  {
   "cell_type": "code",
   "execution_count": 39,
   "id": "80acf8af",
   "metadata": {},
   "outputs": [
    {
     "data": {
      "text/plain": [
       "['札幌', 8.0]"
      ]
     },
     "execution_count": 39,
     "metadata": {},
     "output_type": "execute_result"
    }
   ],
   "source": [
    "cityinfo[0] # 最初の要素（リスト）"
   ]
  },
  {
   "cell_type": "code",
   "execution_count": 40,
   "id": "aa3e8634",
   "metadata": {},
   "outputs": [
    {
     "data": {
      "text/plain": [
       "['大阪', 16.2]"
      ]
     },
     "execution_count": 40,
     "metadata": {},
     "output_type": "execute_result"
    }
   ],
   "source": [
    "cityinfo[4] # 5 番目の要素（リスト）"
   ]
  },
  {
   "cell_type": "code",
   "execution_count": 41,
   "id": "0c423234",
   "metadata": {},
   "outputs": [
    {
     "data": {
      "text/plain": [
       "['那覇', 22.4]"
      ]
     },
     "execution_count": 41,
     "metadata": {},
     "output_type": "execute_result"
    }
   ],
   "source": [
    "cityinfo[-1] # 最後の要素（リスト）"
   ]
  },
  {
   "cell_type": "code",
   "execution_count": 42,
   "id": "d35e54c7",
   "metadata": {},
   "outputs": [
    {
     "data": {
      "text/plain": [
       "['福岡', 16.0]"
      ]
     },
     "execution_count": 42,
     "metadata": {},
     "output_type": "execute_result"
    }
   ],
   "source": [
    "cityinfo[-2] # 最後から 2 番目の要素（リスト）"
   ]
  },
  {
   "cell_type": "code",
   "execution_count": 43,
   "id": "adcc6b57",
   "metadata": {},
   "outputs": [
    {
     "data": {
      "text/plain": [
       "'東京'"
      ]
     },
     "execution_count": 43,
     "metadata": {},
     "output_type": "execute_result"
    }
   ],
   "source": [
    "cityinfo[2][0] # 3 番目の要素（リスト）の 1 番目（都市名）"
   ]
  },
  {
   "cell_type": "code",
   "execution_count": 44,
   "id": "91559932",
   "metadata": {
    "scrolled": true
   },
   "outputs": [
    {
     "data": {
      "text/plain": [
       "15.3"
      ]
     },
     "execution_count": 44,
     "metadata": {},
     "output_type": "execute_result"
    }
   ],
   "source": [
    "cityinfo[2][1] # 3 番目の要素（リスト）の 2 番目（気温）"
   ]
  },
  {
   "cell_type": "code",
   "execution_count": null,
   "id": "c72a2614",
   "metadata": {},
   "outputs": [],
   "source": [
    "cityinfo[5][0] # 6 番目の要素（リスト）の 1 番目（都市名）"
   ]
  },
  {
   "cell_type": "code",
   "execution_count": null,
   "id": "06bf74a9",
   "metadata": {},
   "outputs": [],
   "source": [
    "cityinfo[-1][1] # 最後の要素（リスト）の 2 番目（気温）"
   ]
  },
  {
   "cell_type": "markdown",
   "id": "346d7e67",
   "metadata": {},
   "source": [
    "## 例１１．for 文を使った，リスト（のリスト） cityinfo から都市名だけを表示させるプログラム"
   ]
  },
  {
   "cell_type": "code",
   "execution_count": 45,
   "id": "974bc537",
   "metadata": {},
   "outputs": [
    {
     "name": "stdout",
     "output_type": "stream",
     "text": [
      "札幌\n",
      "仙台\n",
      "東京\n",
      "名古屋\n",
      "大阪\n",
      "福岡\n",
      "那覇\n"
     ]
    }
   ],
   "source": [
    "for city in cityinfo:\n",
    "    print(city[0])"
   ]
  },
  {
   "cell_type": "markdown",
   "id": "2b580ff0",
   "metadata": {},
   "source": [
    "## 注意．5.1.3 節でも述べたが，例１０のプログラムでは，for 文を実行するときの変数名を city としているが，以下の例の通り（元々組み込まれている関数の名前と重複しない限り）別の変数名を使っても全く問題ない．<br><br>例１１（別解）．for 文を使った，リスト（のリスト） cityinfo から都市名だけを表示させるプログラム"
   ]
  },
  {
   "cell_type": "code",
   "execution_count": 46,
   "id": "21320089",
   "metadata": {},
   "outputs": [
    {
     "name": "stdout",
     "output_type": "stream",
     "text": [
      "札幌\n",
      "仙台\n",
      "東京\n",
      "名古屋\n",
      "大阪\n",
      "福岡\n",
      "那覇\n"
     ]
    }
   ],
   "source": [
    "for l in cityinfo: # city の代わりに，l（エル）を変数名に用いた\n",
    "    print(l[0])"
   ]
  },
  {
   "cell_type": "markdown",
   "id": "3ccb1325",
   "metadata": {},
   "source": [
    "## 例１２．for 文を使った，リスト（のリスト） cityinfo から平均気温だけを表示させるプログラム"
   ]
  },
  {
   "cell_type": "code",
   "execution_count": 47,
   "id": "224ae173",
   "metadata": {
    "scrolled": true
   },
   "outputs": [
    {
     "name": "stdout",
     "output_type": "stream",
     "text": [
      "8.0\n",
      "11.9\n",
      "15.3\n",
      "14.9\n",
      "16.2\n",
      "16.0\n",
      "22.4\n"
     ]
    }
   ],
   "source": [
    "for city in cityinfo:\n",
    "    print(city[1])"
   ]
  },
  {
   "cell_type": "markdown",
   "id": "50b09739",
   "metadata": {},
   "source": [
    "## 問１（p.69）．次の（5.1.6 節の例９で与えたものと同じ） [都市名，平均気温] のリストから平均気温の一番低い値を算出するプログラムを for 文により作成せよ．"
   ]
  },
  {
   "cell_type": "code",
   "execution_count": 1,
   "id": "12e59033",
   "metadata": {},
   "outputs": [],
   "source": [
    "cityinfo=[[\"札幌\",8.0],[\"仙台\",11.9],[\"東京\",15.3],[\"名古屋\",14.9],[\"大阪\",16.2],[\"福岡\",16.0],[\"那覇\",22.4]]"
   ]
  },
  {
   "cell_type": "markdown",
   "id": "12df1adc",
   "metadata": {},
   "source": [
    "## 【模範解答（問１），5.1.3 節の例７参照】"
   ]
  },
  {
   "cell_type": "code",
   "execution_count": 2,
   "id": "cbcfb314",
   "metadata": {},
   "outputs": [
    {
     "name": "stdout",
     "output_type": "stream",
     "text": [
      "平均気温の最小値は 8.0 度です\n"
     ]
    }
   ],
   "source": [
    "tmin=100 # 気温の最小値を保持するための変数（予め，100 といったように「十分大きい」数としておく）\n",
    "for city in cityinfo:\n",
    "    if city[1] < tmin: # ここから 2 行分で，代入される city の 2 番目の要素（気温）の値が小さくなるごとに，tmin の値をより小さな値として更新している\n",
    "        tmin=city[1]   # ！！！tmin に city の 2 番目の要素の値を代入する操作であり，city[1]=tmin としてしまうと，意味を成さない！！！\n",
    "print(\"平均気温の最小値は\",tmin,\"度です\") # 最終的な気温の最小値を出力する"
   ]
  },
  {
   "cell_type": "markdown",
   "id": "936854c9",
   "metadata": {},
   "source": [
    "## 問２．上の問１で与えたリストから，平均気温の一番低い都市名とその平均気温を印字するプログラムを作成せよ．<br><br>【模範解答（問２）】"
   ]
  },
  {
   "cell_type": "code",
   "execution_count": 3,
   "id": "50829859",
   "metadata": {},
   "outputs": [
    {
     "name": "stdout",
     "output_type": "stream",
     "text": [
      "平均気温の一番低い都市名は 札幌 で，その平均気温は 8.0 度です\n"
     ]
    }
   ],
   "source": [
    "tmin=100 # 気温の最小値を保持するための変数（予め，100 といったように「十分大きい」数としておく）\n",
    "c=\"\"     # 都市名を記録するための変数\n",
    "for city in cityinfo:\n",
    "    if city[1] < tmin: # ここから 3 行分で，代入される city の 2 番目の要素（気温）の値が小さくなるごとに，tmin の値をより小さな値として更新し，tmin の値が小さくなったときの都市名を順次書き換えている\n",
    "        tmin=city[1]\n",
    "        c=city[0]\n",
    "print(\"平均気温の一番低い都市名は\",c,\"で，その平均気温は\",tmin,\"度です\") # 最終的な気温の最小値を出力する"
   ]
  },
  {
   "cell_type": "markdown",
   "id": "3d806fdc",
   "metadata": {},
   "source": [
    "## <span style=\"color: red; \">提出課題＜締切：６月２３日（金）２３：５９＞</span><br><br>prog09_kadai_sample.ipynb 内の問に答えよ．<br>prog09_kadai_sample.ipynb 内の空欄すべてを埋め終えたら，ファイル名を<br><span style=\"color: blue; \">「prog09_kadai_sample」から「prog09_kadai_892〇〇〇〇」<br>（〇〇〇〇：半角の学籍番号下４桁）<br>へ変更し</span>，江夏の宛先へメール添付によりファイルを送信すること．"
   ]
  }
 ],
 "metadata": {
  "kernelspec": {
   "display_name": "Python 3",
   "language": "python",
   "name": "python3"
  },
  "language_info": {
   "codemirror_mode": {
    "name": "ipython",
    "version": 3
   },
   "file_extension": ".py",
   "mimetype": "text/x-python",
   "name": "python",
   "nbconvert_exporter": "python",
   "pygments_lexer": "ipython3",
   "version": "3.8.5"
  }
 },
 "nbformat": 4,
 "nbformat_minor": 5
}
