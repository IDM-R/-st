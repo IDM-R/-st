{
 "cells": [
  {
   "cell_type": "code",
   "execution_count": 1,
   "id": "d718f559",
   "metadata": {},
   "outputs": [],
   "source": [
    "import numpy as np\n",
    "import pandas as pd\n",
    "import matplotlib .pyplot as plt\n",
    "from scipy import integrate\n",
    "from scipy.stats import norm\n",
    "from scipy.stats import t"
   ]
  },
  {
   "cell_type": "markdown",
   "id": "2034b188",
   "metadata": {},
   "source": [
    "第１問"
   ]
  },
  {
   "cell_type": "code",
   "execution_count": 2,
   "id": "d933dc43",
   "metadata": {},
   "outputs": [
    {
     "data": {
      "text/html": [
       "<div>\n",
       "<style scoped>\n",
       "    .dataframe tbody tr th:only-of-type {\n",
       "        vertical-align: middle;\n",
       "    }\n",
       "\n",
       "    .dataframe tbody tr th {\n",
       "        vertical-align: top;\n",
       "    }\n",
       "\n",
       "    .dataframe thead th {\n",
       "        text-align: right;\n",
       "    }\n",
       "</style>\n",
       "<table border=\"1\" class=\"dataframe\">\n",
       "  <thead>\n",
       "    <tr style=\"text-align: right;\">\n",
       "      <th></th>\n",
       "      <th>student No</th>\n",
       "      <th>point</th>\n",
       "    </tr>\n",
       "  </thead>\n",
       "  <tbody>\n",
       "    <tr>\n",
       "      <th>0</th>\n",
       "      <td>1</td>\n",
       "      <td>92</td>\n",
       "    </tr>\n",
       "    <tr>\n",
       "      <th>1</th>\n",
       "      <td>2</td>\n",
       "      <td>74</td>\n",
       "    </tr>\n",
       "    <tr>\n",
       "      <th>2</th>\n",
       "      <td>3</td>\n",
       "      <td>97</td>\n",
       "    </tr>\n",
       "    <tr>\n",
       "      <th>3</th>\n",
       "      <td>4</td>\n",
       "      <td>89</td>\n",
       "    </tr>\n",
       "    <tr>\n",
       "      <th>4</th>\n",
       "      <td>5</td>\n",
       "      <td>69</td>\n",
       "    </tr>\n",
       "    <tr>\n",
       "      <th>...</th>\n",
       "      <td>...</td>\n",
       "      <td>...</td>\n",
       "    </tr>\n",
       "    <tr>\n",
       "      <th>142</th>\n",
       "      <td>143</td>\n",
       "      <td>92</td>\n",
       "    </tr>\n",
       "    <tr>\n",
       "      <th>143</th>\n",
       "      <td>144</td>\n",
       "      <td>23</td>\n",
       "    </tr>\n",
       "    <tr>\n",
       "      <th>144</th>\n",
       "      <td>145</td>\n",
       "      <td>63</td>\n",
       "    </tr>\n",
       "    <tr>\n",
       "      <th>145</th>\n",
       "      <td>146</td>\n",
       "      <td>58</td>\n",
       "    </tr>\n",
       "    <tr>\n",
       "      <th>146</th>\n",
       "      <td>147</td>\n",
       "      <td>45</td>\n",
       "    </tr>\n",
       "  </tbody>\n",
       "</table>\n",
       "<p>147 rows × 2 columns</p>\n",
       "</div>"
      ],
      "text/plain": [
       "     student No  point\n",
       "0             1     92\n",
       "1             2     74\n",
       "2             3     97\n",
       "3             4     89\n",
       "4             5     69\n",
       "..          ...    ...\n",
       "142         143     92\n",
       "143         144     23\n",
       "144         145     63\n",
       "145         146     58\n",
       "146         147     45\n",
       "\n",
       "[147 rows x 2 columns]"
      ]
     },
     "execution_count": 2,
     "metadata": {},
     "output_type": "execute_result"
    }
   ],
   "source": [
    "test=pd.read_csv(\"testdata.csv\")\n",
    "test"
   ]
  },
  {
   "cell_type": "code",
   "execution_count": 3,
   "id": "ce41fe73",
   "metadata": {},
   "outputs": [
    {
     "data": {
      "text/plain": [
       "0      92\n",
       "1      74\n",
       "2      97\n",
       "3      89\n",
       "4      69\n",
       "       ..\n",
       "142    92\n",
       "143    23\n",
       "144    63\n",
       "145    58\n",
       "146    45\n",
       "Name: point, Length: 147, dtype: int32"
      ]
     },
     "execution_count": 3,
     "metadata": {},
     "output_type": "execute_result"
    }
   ],
   "source": [
    "point=pd.Series(test['point'], dtype = \"int\")\n",
    "point"
   ]
  },
  {
   "cell_type": "code",
   "execution_count": 4,
   "id": "157de9d9",
   "metadata": {},
   "outputs": [
    {
     "data": {
      "text/plain": [
       "(array([ 1.,  2.,  7.,  5., 17., 18., 28., 20., 30., 19.]),\n",
       " array([  0.,  10.,  20.,  30.,  40.,  50.,  60.,  70.,  80.,  90., 100.]),\n",
       " <BarContainer object of 10 artists>)"
      ]
     },
     "execution_count": 4,
     "metadata": {},
     "output_type": "execute_result"
    },
    {
     "data": {
      "image/png": "[encoded data removed]",
      "text/plain": [
       "<Figure size 640x480 with 1 Axes>"
      ]
     },
     "metadata": {},
     "output_type": "display_data"
    }
   ],
   "source": [
    "plt.hist(point,bins=np.arange(0,110,10))"
   ]
  },
  {
   "cell_type": "code",
   "execution_count": 5,
   "id": "8c875c8f",
   "metadata": {},
   "outputs": [
    {
     "name": "stdout",
     "output_type": "stream",
     "text": [
      "(2) 得点の平均は 66.24489795918367\n"
     ]
    }
   ],
   "source": [
    "point_mean=np.mean(point)\n",
    "print(\"(2) 得点の平均は\", point_mean)"
   ]
  },
  {
   "cell_type": "code",
   "execution_count": 6,
   "id": "13ad305c",
   "metadata": {},
   "outputs": [
    {
     "name": "stdout",
     "output_type": "stream",
     "text": [
      "(3) 得点の中央値は 67.0\n"
     ]
    }
   ],
   "source": [
    "point_median=np.median(point)\n",
    "print(\"(3) 得点の中央値は\",point_median)"
   ]
  },
  {
   "cell_type": "markdown",
   "id": "70b5b052",
   "metadata": {},
   "source": [
    "第2問"
   ]
  },
  {
   "cell_type": "code",
   "execution_count": 7,
   "id": "40b55cc1",
   "metadata": {},
   "outputs": [
    {
     "data": {
      "text/html": [
       "<div>\n",
       "<style scoped>\n",
       "    .dataframe tbody tr th:only-of-type {\n",
       "        vertical-align: middle;\n",
       "    }\n",
       "\n",
       "    .dataframe tbody tr th {\n",
       "        vertical-align: top;\n",
       "    }\n",
       "\n",
       "    .dataframe thead th {\n",
       "        text-align: right;\n",
       "    }\n",
       "</style>\n",
       "<table border=\"1\" class=\"dataframe\">\n",
       "  <thead>\n",
       "    <tr style=\"text-align: right;\">\n",
       "      <th></th>\n",
       "      <th>Item</th>\n",
       "      <th>ShopA</th>\n",
       "      <th>ShopB</th>\n",
       "    </tr>\n",
       "  </thead>\n",
       "  <tbody>\n",
       "    <tr>\n",
       "      <th>0</th>\n",
       "      <td>item1</td>\n",
       "      <td>11</td>\n",
       "      <td>70</td>\n",
       "    </tr>\n",
       "    <tr>\n",
       "      <th>1</th>\n",
       "      <td>item2</td>\n",
       "      <td>43</td>\n",
       "      <td>58</td>\n",
       "    </tr>\n",
       "    <tr>\n",
       "      <th>2</th>\n",
       "      <td>item3</td>\n",
       "      <td>56</td>\n",
       "      <td>72</td>\n",
       "    </tr>\n",
       "    <tr>\n",
       "      <th>3</th>\n",
       "      <td>item4</td>\n",
       "      <td>32</td>\n",
       "      <td>66</td>\n",
       "    </tr>\n",
       "    <tr>\n",
       "      <th>4</th>\n",
       "      <td>item5</td>\n",
       "      <td>59</td>\n",
       "      <td>87</td>\n",
       "    </tr>\n",
       "    <tr>\n",
       "      <th>...</th>\n",
       "      <td>...</td>\n",
       "      <td>...</td>\n",
       "      <td>...</td>\n",
       "    </tr>\n",
       "    <tr>\n",
       "      <th>146</th>\n",
       "      <td>item147</td>\n",
       "      <td>80</td>\n",
       "      <td>57</td>\n",
       "    </tr>\n",
       "    <tr>\n",
       "      <th>147</th>\n",
       "      <td>item148</td>\n",
       "      <td>97</td>\n",
       "      <td>73</td>\n",
       "    </tr>\n",
       "    <tr>\n",
       "      <th>148</th>\n",
       "      <td>item149</td>\n",
       "      <td>16</td>\n",
       "      <td>18</td>\n",
       "    </tr>\n",
       "    <tr>\n",
       "      <th>149</th>\n",
       "      <td>item150</td>\n",
       "      <td>34</td>\n",
       "      <td>80</td>\n",
       "    </tr>\n",
       "    <tr>\n",
       "      <th>150</th>\n",
       "      <td>item151</td>\n",
       "      <td>54</td>\n",
       "      <td>32</td>\n",
       "    </tr>\n",
       "  </tbody>\n",
       "</table>\n",
       "<p>151 rows × 3 columns</p>\n",
       "</div>"
      ],
      "text/plain": [
       "        Item  ShopA  ShopB\n",
       "0      item1     11     70\n",
       "1      item2     43     58\n",
       "2      item3     56     72\n",
       "3      item4     32     66\n",
       "4      item5     59     87\n",
       "..       ...    ...    ...\n",
       "146  item147     80     57\n",
       "147  item148     97     73\n",
       "148  item149     16     18\n",
       "149  item150     34     80\n",
       "150  item151     54     32\n",
       "\n",
       "[151 rows x 3 columns]"
      ]
     },
     "execution_count": 7,
     "metadata": {},
     "output_type": "execute_result"
    }
   ],
   "source": [
    "sales=pd.read_csv(\"sales.csv\")\n",
    "sales"
   ]
  },
  {
   "cell_type": "code",
   "execution_count": 8,
   "id": "c85670f6",
   "metadata": {},
   "outputs": [],
   "source": [
    "sales_a=pd.Series(sales['ShopA'], dtype = \"int\")\n",
    "sales_b=pd.Series(sales['ShopB'], dtype = \"int\")"
   ]
  },
  {
   "cell_type": "code",
   "execution_count": 9,
   "id": "986c40e6",
   "metadata": {},
   "outputs": [
    {
     "data": {
      "text/plain": [
       "array([[836.01894654, 389.89798693],\n",
       "       [389.89798693, 542.12499452]])"
      ]
     },
     "execution_count": 9,
     "metadata": {},
     "output_type": "execute_result"
    }
   ],
   "source": [
    "var_a=np.var(sales_a)\n",
    "var_b=np.var(sales_b)\n",
    "comat=np.cov(sales_a,sales_b,bias=True)\n",
    "comat"
   ]
  },
  {
   "cell_type": "code",
   "execution_count": 10,
   "id": "7e11e4b7",
   "metadata": {},
   "outputs": [
    {
     "name": "stdout",
     "output_type": "stream",
     "text": [
      "（１）相関係数は 0.579152876321791\n"
     ]
    }
   ],
   "source": [
    "print(\"（１）相関係数は\",comat[0,1]/np.sqrt(var_a*var_b))"
   ]
  },
  {
   "cell_type": "markdown",
   "id": "7f790bfd",
   "metadata": {},
   "source": [
    "(2) (1)より、弱い相関がある。"
   ]
  },
  {
   "cell_type": "markdown",
   "id": "813bad3c",
   "metadata": {},
   "source": [
    "第3問"
   ]
  },
  {
   "cell_type": "code",
   "execution_count": 11,
   "id": "27b69af9",
   "metadata": {},
   "outputs": [
    {
     "name": "stdout",
     "output_type": "stream",
     "text": [
      "satisfaction         1         2         3         4         5\n",
      "generation                                                    \n",
      "AD            0.086667  0.026667  0.046667  0.060000  0.086667\n",
      "HS            0.026667  0.046667  0.073333  0.033333  0.060000\n",
      "JH            0.046667  0.086667  0.040000  0.013333  0.066667\n",
      "UN            0.046667  0.046667  0.040000  0.046667  0.020000\n"
     ]
    }
   ],
   "source": [
    "q=pd.read_csv(\"questionnaire.csv\")\n",
    "q_cross=pd.crosstab(q[\"generation\"],q[\"satisfaction\"],normalize=True)\n",
    "print(q_cross)"
   ]
  },
  {
   "cell_type": "markdown",
   "id": "15c90f63",
   "metadata": {},
   "source": [
    "各年齢層において最も割合の高い満足度について、中学生は２、高校生は３、大学生は定まらない、社会人は定まらない。"
   ]
  },
  {
   "cell_type": "markdown",
   "id": "0d59cf6d",
   "metadata": {},
   "source": [
    "第4問"
   ]
  },
  {
   "cell_type": "code",
   "execution_count": 12,
   "id": "b80344ba",
   "metadata": {},
   "outputs": [
    {
     "name": "stdout",
     "output_type": "stream",
     "text": [
      "(1) 0.6825600000000001\n"
     ]
    }
   ],
   "source": [
    "print(\"(1)\",t.cdf(0.5,6))"
   ]
  },
  {
   "cell_type": "code",
   "execution_count": 13,
   "id": "43c2769c",
   "metadata": {},
   "outputs": [
    {
     "name": "stdout",
     "output_type": "stream",
     "text": [
      "(2) 0.9057032851797618\n"
     ]
    }
   ],
   "source": [
    "print(\"(2)\",t.ppf(0.8,6))"
   ]
  },
  {
   "cell_type": "code",
   "execution_count": 14,
   "id": "249dc7af",
   "metadata": {},
   "outputs": [
    {
     "name": "stdout",
     "output_type": "stream",
     "text": [
      "(3) 0.3871496104589792\n"
     ]
    }
   ],
   "source": [
    "print(\"(3)\",t.cdf(-0.3,6))"
   ]
  },
  {
   "cell_type": "markdown",
   "id": "f2313987",
   "metadata": {},
   "source": [
    "第５問"
   ]
  },
  {
   "cell_type": "code",
   "execution_count": 15,
   "id": "3cc86aae",
   "metadata": {},
   "outputs": [
    {
     "data": {
      "text/html": [
       "<div>\n",
       "<style scoped>\n",
       "    .dataframe tbody tr th:only-of-type {\n",
       "        vertical-align: middle;\n",
       "    }\n",
       "\n",
       "    .dataframe tbody tr th {\n",
       "        vertical-align: top;\n",
       "    }\n",
       "\n",
       "    .dataframe thead th {\n",
       "        text-align: right;\n",
       "    }\n",
       "</style>\n",
       "<table border=\"1\" class=\"dataframe\">\n",
       "  <thead>\n",
       "    <tr style=\"text-align: right;\">\n",
       "      <th></th>\n",
       "      <th>student No</th>\n",
       "      <th>pages</th>\n",
       "    </tr>\n",
       "  </thead>\n",
       "  <tbody>\n",
       "    <tr>\n",
       "      <th>0</th>\n",
       "      <td>1</td>\n",
       "      <td>33</td>\n",
       "    </tr>\n",
       "    <tr>\n",
       "      <th>1</th>\n",
       "      <td>2</td>\n",
       "      <td>37</td>\n",
       "    </tr>\n",
       "    <tr>\n",
       "      <th>2</th>\n",
       "      <td>3</td>\n",
       "      <td>29</td>\n",
       "    </tr>\n",
       "    <tr>\n",
       "      <th>3</th>\n",
       "      <td>4</td>\n",
       "      <td>38</td>\n",
       "    </tr>\n",
       "    <tr>\n",
       "      <th>4</th>\n",
       "      <td>5</td>\n",
       "      <td>33</td>\n",
       "    </tr>\n",
       "    <tr>\n",
       "      <th>...</th>\n",
       "      <td>...</td>\n",
       "      <td>...</td>\n",
       "    </tr>\n",
       "    <tr>\n",
       "      <th>195</th>\n",
       "      <td>196</td>\n",
       "      <td>38</td>\n",
       "    </tr>\n",
       "    <tr>\n",
       "      <th>196</th>\n",
       "      <td>197</td>\n",
       "      <td>30</td>\n",
       "    </tr>\n",
       "    <tr>\n",
       "      <th>197</th>\n",
       "      <td>198</td>\n",
       "      <td>28</td>\n",
       "    </tr>\n",
       "    <tr>\n",
       "      <th>198</th>\n",
       "      <td>199</td>\n",
       "      <td>32</td>\n",
       "    </tr>\n",
       "    <tr>\n",
       "      <th>199</th>\n",
       "      <td>200</td>\n",
       "      <td>41</td>\n",
       "    </tr>\n",
       "  </tbody>\n",
       "</table>\n",
       "<p>200 rows × 2 columns</p>\n",
       "</div>"
      ],
      "text/plain": [
       "     student No  pages\n",
       "0             1     33\n",
       "1             2     37\n",
       "2             3     29\n",
       "3             4     38\n",
       "4             5     33\n",
       "..          ...    ...\n",
       "195         196     38\n",
       "196         197     30\n",
       "197         198     28\n",
       "198         199     32\n",
       "199         200     41\n",
       "\n",
       "[200 rows x 2 columns]"
      ]
     },
     "execution_count": 15,
     "metadata": {},
     "output_type": "execute_result"
    }
   ],
   "source": [
    "report=pd.read_csv(\"report.csv\")\n",
    "report"
   ]
  },
  {
   "cell_type": "code",
   "execution_count": 20,
   "id": "af95fb92",
   "metadata": {},
   "outputs": [
    {
     "data": {
      "text/plain": [
       "9.702138337504604"
      ]
     },
     "execution_count": 20,
     "metadata": {},
     "output_type": "execute_result"
    }
   ],
   "source": [
    "n=len(report[\"pages\"])\n",
    "page_m=report[\"pages\"].mean\n",
    "tp=t.interval(0.95,n-1)\n",
    "var_r=np.var(report[\"pages\"],ddof=1)\n",
    "m=np.mean(report[\"pages\"])\n",
    "t_value=(m-30)/np.sqrt(var_r/n)\n",
    "t_value"
   ]
  },
  {
   "cell_type": "code",
   "execution_count": 22,
   "id": "dd2445cd",
   "metadata": {
    "scrolled": true
   },
   "outputs": [
    {
     "data": {
      "text/plain": [
       "(-1.971956544249395, 1.971956544249395)"
      ]
     },
     "execution_count": 22,
     "metadata": {},
     "output_type": "execute_result"
    }
   ],
   "source": [
    "tp"
   ]
  },
  {
   "cell_type": "code",
   "execution_count": 31,
   "id": "1c0bf56e",
   "metadata": {},
   "outputs": [
    {
     "ename": "TypeError",
     "evalue": "can't multiply sequence by non-int of type 'numpy.float64'",
     "output_type": "error",
     "traceback": [
      "\u001b[1;31m---------------------------------------------------------------------------\u001b[0m",
      "\u001b[1;31mTypeError\u001b[0m                                 Traceback (most recent call last)",
      "Cell \u001b[1;32mIn[31], line 1\u001b[0m\n\u001b[1;32m----> 1\u001b[0m page_m\u001b[38;5;241m-\u001b[39m\u001b[43mtp\u001b[49m\u001b[38;5;241;43m*\u001b[39;49m\u001b[43mnp\u001b[49m\u001b[38;5;241;43m.\u001b[39;49m\u001b[43msqrt\u001b[49m\u001b[43m(\u001b[49m\u001b[43mvar_r\u001b[49m\u001b[38;5;241;43m/\u001b[39;49m\u001b[43mn\u001b[49m\u001b[43m)\u001b[49m\n",
      "\u001b[1;31mTypeError\u001b[0m: can't multiply sequence by non-int of type 'numpy.float64'"
     ]
    }
   ],
   "source": [
    "page_m-tp*np.sqrt(var_r/n)"
   ]
  },
  {
   "cell_type": "markdown",
   "id": "ccd22d9c",
   "metadata": {},
   "source": [
    "        (1)平均のページ数は"
   ]
  },
  {
   "cell_type": "markdown",
   "id": "efd885d2",
   "metadata": {},
   "source": [
    "第6問"
   ]
  },
  {
   "cell_type": "code",
   "execution_count": 25,
   "id": "c03c5c02",
   "metadata": {},
   "outputs": [
    {
     "name": "stdout",
     "output_type": "stream",
     "text": [
      "傾き(a): -0.2858\n",
      "切片(b): 4.4773\n",
      "決定係数(R²): 0.9302\n"
     ]
    }
   ],
   "source": [
    "from sklearn.linear_model import LinearRegression\n",
    "from sklearn.metrics import r2_score\n",
    "x = np.array([0, 1, 2, 3, 4, 5, 6, 7, 8, 9, 10])\n",
    "y = np.array([4.34, 4.65, 3.75, 3.48, 3.48, 3.15, 2.24, 2.42, 2.21, 2.21, 1.60])\n",
    "\n",
    "model = LinearRegression()\n",
    "\n",
    "x = x.reshape(-1, 1)\n",
    "y = y.reshape(-1, 1)\n",
    "\n",
    "model.fit(x, y)\n",
    "\n",
    "a = model.coef_[0][0]\n",
    "b = model.intercept_[0]\n",
    "\n",
    "y_pred = model.predict(x)\n",
    "r2 = r2_score(y, y_pred)\n",
    "\n",
    "print(f'傾き(a): {a:.4f}')\n",
    "print(f'切片(b): {b:.4f}')\n",
    "print(f'決定係数(R²): {r2:.4f}')"
   ]
  },
  {
   "cell_type": "code",
   "execution_count": null,
   "id": "08fe756f",
   "metadata": {},
   "outputs": [],
   "source": []
  }
 ],
 "metadata": {
  "kernelspec": {
   "display_name": "Python 3 (ipykernel)",
   "language": "python",
   "name": "python3"
  },
  "language_info": {
   "codemirror_mode": {
    "name": "ipython",
    "version": 3
   },
   "file_extension": ".py",
   "mimetype": "text/x-python",
   "name": "python",
   "nbconvert_exporter": "python",
   "pygments_lexer": "ipython3",
   "version": "3.10.9"
  }
 },
 "nbformat": 4,
 "nbformat_minor": 5
}
