{
 "cells": [
  {
   "cell_type": "markdown",
   "id": "40d9910a",
   "metadata": {},
   "source": [
    "## 講義（第１１回）ノート　＜５章　データ型（リスト，辞書）の応用（テキスト p.68,69）＞　<br>提出課題は最下部を参照"
   ]
  },
  {
   "cell_type": "markdown",
   "id": "c8e6ddbf",
   "metadata": {},
   "source": [
    "## １．平均，分散，標準偏差<br><br>$n$ 個のデータ $x_1, x_2, \\ldots, x_n$ の（算術）平均 $\\overline{x}$ ，分散 $V$ および標準偏差 $\\sigma$ は，以下で定義される．<br><br>&emsp; &emsp; 平均 $\\overline{x}=\\displaystyle\\frac{1}{n} \\sum_{i=1}^n x_i$，分散 $V=\\displaystyle\\frac{1}{n} \\sum_{i=1}^n (x_i-\\overline{x})^2$，標準偏差 $\\sigma=\\displaystyle\\sqrt{\\frac{1}{n} \\sum_{i=1}^n (x_i-\\overline{x})^2}$<br><br>注意．分散はデータの「ばらつき」を表す量と見れる．$n$ 個のデータが平均の近くに集中していれば分散は小さく，平均から外れたデータが多ければ分散は大きい．<br><br>問１（p.68）．リスト data が以下の通りに与えられたとする．"
   ]
  },
  {
   "cell_type": "code",
   "execution_count": 1,
   "id": "e541537b",
   "metadata": {},
   "outputs": [],
   "source": [
    "data = [63,26,91,99,28,21,19,99,99,87,44,62,45,2,23,61,7,61,59,55,8,73,6,6,3,22]"
   ]
  },
  {
   "cell_type": "markdown",
   "id": "0b704b77",
   "metadata": {},
   "source": [
    "## このとき，リスト data の平均と分散を表示するプログラムを作成せよ．<br><br>【模範解答１（問１）】リストの長さを返す関数 len() や for 文による解法"
   ]
  },
  {
   "cell_type": "code",
   "execution_count": 2,
   "id": "8836995d",
   "metadata": {},
   "outputs": [
    {
     "name": "stdout",
     "output_type": "stream",
     "text": [
      "リスト data の平均は 44.96153846153846 ，分散は 1046.8062130177518 である\n"
     ]
    }
   ],
   "source": [
    "ave = sum(data)/len(data) # 平均値の導出\n",
    "v_total = 0               # 分散を保持するための変数（分散計算のため，予め 0 としなければならない！）\n",
    "\n",
    "# 分散の計算，ここから\n",
    "for i in data:\n",
    "    v_total += (i-ave)**2\n",
    "\n",
    "V = v_total/len(data) # 分散の導出\n",
    "# 分散の計算，ここまで\n",
    "\n",
    "print(\"リスト data の平均は\",ave,\"，分散は\",V,\"である\")"
   ]
  },
  {
   "cell_type": "markdown",
   "id": "92e1dcaf",
   "metadata": {},
   "source": [
    "## 【模範解答２（問１）】関数 statistics.mean() および statistics.pvariance() による解法<br><br>注意．これらの関数を使うためには，statistics モジュールをインポートする必要がある．"
   ]
  },
  {
   "cell_type": "code",
   "execution_count": 3,
   "id": "b06b629c",
   "metadata": {},
   "outputs": [
    {
     "name": "stdout",
     "output_type": "stream",
     "text": [
      "リスト data の平均は 44.96153846153846 ，分散は 1046.8062130177516 である\n"
     ]
    }
   ],
   "source": [
    "import statistics # statistic モジュールのインポート\n",
    "\n",
    "ave = statistics.mean(data)    # 平均値の導出\n",
    "V = statistics.pvariance(data) # 分散の導出\n",
    "\n",
    "print(\"リスト data の平均は\",ave,\"，分散は\",V,\"である\")"
   ]
  },
  {
   "cell_type": "markdown",
   "id": "69e77c12",
   "metadata": {},
   "source": [
    "## 表１．statistics モジュールをインポートすることで使える数理統計関数"
   ]
  },
  {
   "cell_type": "markdown",
   "id": "6787354d",
   "metadata": {},
   "source": [
    "|<span style=\"font-size: 150%;\">関数</span>|<span style=\"font-size: 150%;\">意味|\n",
    "|:---|:---|\n",
    "|<span style=\"font-size: 150%;\">statistics.mean(data)|<span style=\"font-size: 150%;\">リスト data の平均|\n",
    "|<span style=\"font-size: 150%;\">statistics.pvariance(data)|<span style=\"font-size: 150%;\">リスト data の分散|\n",
    "|<span style=\"font-size: 150%;\">statistics.pstdev(data)|<span style=\"font-size: 150%;\">リスト data の標準偏差|\n",
    "|<span style=\"font-size: 150%;\">statistics.median(data)|<span style=\"font-size: 150%;\">リスト data の中央値|\n",
    "|<span style=\"font-size: 150%;\">statistics.mode(data)|<span style=\"font-size: 150%;\">リスト data の最頻値|"
   ]
  },
  {
   "cell_type": "markdown",
   "id": "9ea40376",
   "metadata": {},
   "source": [
    "## ２．中央値（median）<br><br>リストの要素，すなわち，リストに属する値（データ）を小さい順に並べたときに，中央に位置する値をリストの<span style=\"color: blue; \">中央値</span>という．<br><br>問２－１（要素が奇数個の場合）．リスト data1 が以下の通りに与えられたとする．"
   ]
  },
  {
   "cell_type": "code",
   "execution_count": 1,
   "id": "642532c7",
   "metadata": {},
   "outputs": [],
   "source": [
    "data1 = [1,10,3,7,6]"
   ]
  },
  {
   "cell_type": "markdown",
   "id": "ecfad444",
   "metadata": {},
   "source": [
    "## このとき，リスト data1 の中央値を表示するプログラムを作成せよ．<br><br>【模範解答（問２－１）】"
   ]
  },
  {
   "cell_type": "code",
   "execution_count": 2,
   "id": "8ee5d20f",
   "metadata": {},
   "outputs": [
    {
     "name": "stdout",
     "output_type": "stream",
     "text": [
      "リスト data1 の中央値は 6\n"
     ]
    }
   ],
   "source": [
    "import statistics # statistic モジュールのインポート\n",
    "\n",
    "m = statistics.median(data1) # 中央値の導出\n",
    "print(\"リスト data1 の中央値は\",m)"
   ]
  },
  {
   "cell_type": "markdown",
   "id": "ed6f371f",
   "metadata": {},
   "source": [
    "## 注意．上の問２－１のように，リストの要素が奇数個の場合は，中央値はただ一つに定まる．<br><br>問２－２（要素が偶数個の場合）．リスト data2 が以下の通りに与えられたとする．"
   ]
  },
  {
   "cell_type": "code",
   "execution_count": 3,
   "id": "9824d461",
   "metadata": {},
   "outputs": [],
   "source": [
    "data2 = [1,10,3,7,6,9]"
   ]
  },
  {
   "cell_type": "markdown",
   "id": "163ea123",
   "metadata": {},
   "source": [
    "## このとき，リスト data2 の中央値を表示するプログラムを作成せよ．<br><br>【模範解答（問２－２）】"
   ]
  },
  {
   "cell_type": "code",
   "execution_count": 4,
   "id": "dcc81ff1",
   "metadata": {},
   "outputs": [
    {
     "name": "stdout",
     "output_type": "stream",
     "text": [
      "リスト data2 の中央値は 6.5\n"
     ]
    }
   ],
   "source": [
    "import statistics # statistic モジュールのインポート\n",
    "\n",
    "m = statistics.median(data2) # 中央値の導出\n",
    "print(\"リスト data2 の中央値は\",m)"
   ]
  },
  {
   "cell_type": "markdown",
   "id": "d466ef17",
   "metadata": {},
   "source": [
    "## 要注意．上の問２－２のように，リストの要素が偶数個の場合は，中央値はただ一つに定まらない．そのため，この場合は，リストの要素を小さい順に並べた際に<span style=\"color: red; \">中央を挟む２つの要素（問２－２の場合は 6 と 7）の平均（問２－２の場合は (6+7)/2=6.5）</span>を中央値とする．<br><br>なお，中央を挟む２つの要素のうち，大きい方の値を表示したいときは median_high()，小さい方の値を表示したいときは median_low() をそれぞれ使えば良い．"
   ]
  },
  {
   "cell_type": "code",
   "execution_count": 5,
   "id": "822378d9",
   "metadata": {},
   "outputs": [
    {
     "name": "stdout",
     "output_type": "stream",
     "text": [
      "リスト data2 の要素を小さい順に並べたとき，中央を挟む２つの要素のうちで小さい方の値は 6\n"
     ]
    }
   ],
   "source": [
    "import statistics # statistic モジュールのインポート\n",
    "\n",
    "m_min=statistics.median_low(data2)\n",
    "print(\"リスト data2 の要素を小さい順に並べたとき，中央を挟む２つの要素のうちで小さい方の値は\",m_min)"
   ]
  },
  {
   "cell_type": "code",
   "execution_count": null,
   "id": "17d28243",
   "metadata": {},
   "outputs": [],
   "source": [
    "import statistics # statistic モジュールのインポート\n",
    "\n",
    "m_max=statistics.median_high(data2)\n",
    "print(\"リスト data2 の要素を小さい順に並べたとき，中央を挟む２つの要素のうちで大きい方の値は\",m_max)"
   ]
  },
  {
   "cell_type": "markdown",
   "id": "b05619ff",
   "metadata": {},
   "source": [
    "## 注意．リストの要素が奇数個の場合は，statistics.median_low(), statistics.median_high() のいずれも statistics.median() と同じく中央値を必ず返す（各自で理由を考えよ）．"
   ]
  },
  {
   "cell_type": "markdown",
   "id": "f2eb5379",
   "metadata": {},
   "source": [
    "## ３．最頻値（mode）<br><br>リストの要素，すなわち，リストに属する値（データ）の中で一番多く出現する（最も頻度が高い）値をリストの<span style=\"color: blue; \">最頻値</span>という．<br><br>問３－１．問１で与えられたリスト data の最頻値を表示するプログラムを作成せよ．<br><br>【模範解答（問３－１）】"
   ]
  },
  {
   "cell_type": "code",
   "execution_count": 1,
   "id": "62d8d077",
   "metadata": {},
   "outputs": [
    {
     "name": "stdout",
     "output_type": "stream",
     "text": [
      "リスト data の最頻値は 99\n"
     ]
    }
   ],
   "source": [
    "import statistics # statistic モジュールのインポート\n",
    "\n",
    "data = [63,26,91,99,28,21,19,99,99,87,44,62,45,2,23,61,7,61,59,55,8,73,6,6,3,22]\n",
    "\n",
    "m = statistics.mode(data) # 最頻値の導出\n",
    "print(\"リスト data の最頻値は\",m)"
   ]
  },
  {
   "cell_type": "markdown",
   "id": "7401f62e",
   "metadata": {},
   "source": [
    "## 上の問３－１で与えられるリストにおいては，最頻値がただ一つに定まる．また，以下のプログラムにより，指定した要素の出現回数を調べることもできる．"
   ]
  },
  {
   "cell_type": "code",
   "execution_count": 2,
   "id": "d39db736",
   "metadata": {},
   "outputs": [
    {
     "data": {
      "text/plain": [
       "3"
      ]
     },
     "execution_count": 2,
     "metadata": {},
     "output_type": "execute_result"
    }
   ],
   "source": [
    "data.count(99)"
   ]
  },
  {
   "cell_type": "code",
   "execution_count": null,
   "id": "5f66e504",
   "metadata": {},
   "outputs": [],
   "source": [
    "data.count(61)"
   ]
  },
  {
   "cell_type": "code",
   "execution_count": null,
   "id": "ded7d6c8",
   "metadata": {},
   "outputs": [],
   "source": [
    "data.count(6)"
   ]
  },
  {
   "cell_type": "code",
   "execution_count": null,
   "id": "6781f2b1",
   "metadata": {},
   "outputs": [],
   "source": [
    "data.count(28)"
   ]
  },
  {
   "cell_type": "code",
   "execution_count": null,
   "id": "86bb73be",
   "metadata": {},
   "outputs": [],
   "source": [
    "data.count(-6)"
   ]
  },
  {
   "cell_type": "markdown",
   "id": "9a6a4bce",
   "metadata": {},
   "source": [
    "## 注意．次の問で与えられるリストにおいては，最頻値は２つの数 3, 5 であり，ただ一つではない．この場合は statistics.multimode() を使う．statistics.mode() を使ったプログラムを実行しても，全ての最頻値を返すことはなく，<span style=\"color: blue; \">要素を左から順に見て最初に最頻値の一つである</span>値しか返さない．<br><br>問３－２．リスト data3, data4 が以下の通りに与えられたとする．"
   ]
  },
  {
   "cell_type": "code",
   "execution_count": 3,
   "id": "62664f04",
   "metadata": {},
   "outputs": [],
   "source": [
    "data3 = [5,3,1,3,5,3,5,9]\n",
    "data4 = [9,1,3,5,1,3,5,3,5,9]"
   ]
  },
  {
   "cell_type": "markdown",
   "id": "db9428ca",
   "metadata": {},
   "source": [
    "## このとき，リスト data3, data4 の最頻値を表示するプログラムを作成せよ．<br><br>【誤った解答（問３－２）】<br><br>注意．statistics.mode() だけでは，最頻値 3, 5 の全てを返すことはない．代わりに，次の２点：<br><br>リスト data3：<br> <span style=\"color: blue; \">要素を左から見たときに，左から１番目の（左端の）要素に初めて最頻値の一つである</span> 5 が現れる<br><br>リスト data4：<br> <span style=\"color: blue; \">要素を左から見たときに，左から３番目の要素に初めて最頻値の一つである</span> 3 が現れる<br><br>より，statistics.mode(data3)=5, statistics.mode(data4)=3 となり，statistics.mode() は<span style=\"color: blue; \">最頻値のうちで一つの値だけ</span>しか返さない．"
   ]
  },
  {
   "cell_type": "code",
   "execution_count": 4,
   "id": "2f5a9283",
   "metadata": {},
   "outputs": [
    {
     "name": "stdout",
     "output_type": "stream",
     "text": [
      "リスト data3 の最頻値は 5 で，リスト data4 の最頻値は 3\n"
     ]
    }
   ],
   "source": [
    "import statistics # statistic モジュールのインポート\n",
    "\n",
    "m3 = statistics.mode(data3)\n",
    "m4 = statistics.mode(data4)\n",
    "\n",
    "print(\"リスト data3 の最頻値は\",m3,\"で，リスト data4 の最頻値は\",m4)"
   ]
  },
  {
   "cell_type": "markdown",
   "id": "4734e466",
   "metadata": {},
   "source": [
    "## 【模範解答（問３－２）】関数 statistics.multimode() による解法<br><br>注意．出力結果に表示された [5, 3] と [3, 5] は同じ要素から成るリストである．"
   ]
  },
  {
   "cell_type": "code",
   "execution_count": 5,
   "id": "7c2d543b",
   "metadata": {
    "scrolled": true
   },
   "outputs": [
    {
     "name": "stdout",
     "output_type": "stream",
     "text": [
      "リスト data3 の最頻値は [5, 3] で，リスト data4 の最頻値は [3, 5]\n"
     ]
    }
   ],
   "source": [
    "import statistics # statistic モジュールのインポート\n",
    "\n",
    "m3 = statistics.multimode(data3)\n",
    "m4 = statistics.multimode(data4)\n",
    "\n",
    "print(\"リスト data3 の最頻値は\",m3,\"で，リスト data4 の最頻値は\",m4)"
   ]
  },
  {
   "cell_type": "markdown",
   "id": "cbf35a16",
   "metadata": {},
   "source": [
    "## ４．外部データの読み込みによる統計計算<br><br>次の表をまとめたデータファイルから数値を抽出して，それらに対する統計計算を行いたい．<br><br>表２．2020/4/1 から 2021/3/31 までの東京の１日あたりの合計降水量，日照時間，平均気温<br><font size=\"4\">＜出典＞気象庁，過去の気象データ・ダウンロード，URL：https://www.data.jma.go.jp/gmd/risk/obsdl/ </font>"
   ]
  },
  {
   "cell_type": "markdown",
   "id": "9d075d26",
   "metadata": {},
   "source": [
    "|<span style=\"font-size: 150%;\">年月日|<span style=\"font-size: 150%;\">平均気温（摂氏）| <span style=\"font-size: 150%;\">日照時間（時間） |<span style=\"font-size: 150%;\">合計降水量（mm）|\n",
    "|:---:|:---:|:---:|:---:|\n",
    "|<span style=\"font-size: 150%;\">2020/4/1|<span style=\"font-size: 150%;\">11.4|<span style=\"font-size: 150%;\">0|<span style=\"font-size: 150%;\">31|\n",
    "|<span style=\"font-size: 150%;\">2020/4/2|<span style=\"font-size: 150%;\">13.9|<span style=\"font-size: 150%;\">11.9|<span style=\"font-size: 150%;\">0|\n",
    "|<span style=\"font-size: 150%;\">2020/4/3|<span style=\"font-size: 150%;\">12.8|<span style=\"font-size: 150%;\">9.9|<span style=\"font-size: 150%;\">0|\n",
    "|<span style=\"font-size: 150%;\">$\\vdots$|<span style=\"font-size: 150%;\">$\\vdots$|<span style=\"font-size: 150%;\">$\\vdots$|<span style=\"font-size: 150%;\">$\\vdots$|\n",
    "|<span style=\"font-size: 150%;\">2021/3/29|<span style=\"font-size: 150%;\">17.5|<span style=\"font-size: 150%;\">10.5|<span style=\"font-size: 150%;\">34.5|\n",
    "|<span style=\"font-size: 150%;\">2021/3/30|<span style=\"font-size: 150%;\">17.8|<span style=\"font-size: 150%;\">3.1|<span style=\"font-size: 150%;\">0|\n",
    "|<span style=\"font-size: 150%;\">2021/3/31|<span style=\"font-size: 150%;\">17.9|<span style=\"font-size: 150%;\">9.9|<span style=\"font-size: 150%;\">0|"
   ]
  },
  {
   "cell_type": "markdown",
   "id": "55cb7a6c",
   "metadata": {},
   "source": [
    "## （１）dat ファイルの読み込み<br><br>LETUS にアップされた dat ファイルを使って，データの読み込みと要素に対する統計計算を行う．<br>なお，ここでは，各行の要素が半角空白で区切られている場合を扱う．<br><br>例１．tokyo_data_SJIS.dat あるいは tokyo_data_UTF8.dat 内の東京の気温の平均と分散"
   ]
  },
  {
   "cell_type": "markdown",
   "id": "60a60794",
   "metadata": {},
   "source": [
    "## 【Windows ユーザー向け】<br><br>Step 1. LETUS に置かれている tokyo_data_SJIS.dat を各自の PC に保存する．<br><br>Step 2. Jupyter Notebook のファイル一覧に本講義ノート prog11.ipynb と tokyo_data_SJIS.dat の双方が表示されるように，tokyo_data_SJIS.dat を Jupyter Notebook にアップロードする．<br><br>Step 3（任意）. 次のプログラムを実行し，データファイル tokyo_data_SJIS.dat 内に，年月日，日毎平均気温，日照時間，合計降水量が記録されていることを確認する．"
   ]
  },
  {
   "cell_type": "code",
   "execution_count": 1,
   "id": "0d419a96",
   "metadata": {},
   "outputs": [
    {
     "name": "stdout",
     "output_type": "stream",
     "text": [
      "2020/4/1 11.4 0 31\n",
      "\n",
      "2020/4/2 13.9 11.9 0\n",
      "\n",
      "2020/4/3 12.8 9.9 0\n",
      "\n",
      "2020/4/4 15.7 11.5 0\n",
      "\n",
      "2020/4/5 10.2 1.2 0\n",
      "\n",
      "2020/4/6 12.1 11.3 0\n",
      "\n",
      "2020/4/7 12.4 8.9 0\n",
      "\n",
      "2020/4/8 14.3 11.7 0\n",
      "\n",
      "2020/4/9 13.3 8.3 0.5\n",
      "\n",
      "2020/4/10 11.2 9.9 0\n",
      "\n",
      "2020/4/11 11.4 9 0.5\n",
      "\n",
      "2020/4/12 10.3 0.6 6.5\n",
      "\n",
      "2020/4/13 8 0 132\n",
      "\n",
      "2020/4/14 10.9 11.8 1.5\n",
      "\n",
      "2020/4/15 13.8 9.1 0\n",
      "\n",
      "2020/4/16 11.7 5.9 0.5\n",
      "\n",
      "2020/4/17 12.4 4.8 0.5\n",
      "\n",
      "2020/4/18 12.9 0.7 89.5\n",
      "\n",
      "2020/4/19 14.7 11.3 0\n",
      "\n",
      "2020/4/20 9.7 0 15\n",
      "\n",
      "2020/4/21 14.2 1.6 0\n",
      "\n",
      "2020/4/22 13.5 3.4 0\n",
      "\n",
      "2020/4/23 11.9 10 1\n",
      "\n",
      "2020/4/24 12.2 7.3 0.5\n",
      "\n",
      "2020/4/25 12.7 12.5 0\n",
      "\n",
      "2020/4/26 18.3 10.5 0\n",
      "\n",
      "2020/4/27 12.8 1.4 12.5\n",
      "\n",
      "2020/4/28 12.3 5 5\n",
      "\n",
      "2020/4/29 15.1 12.2 0\n",
      "\n",
      "2020/4/30 18 11.7 0\n",
      "\n",
      "2020/5/1 19.9 11.9 0\n",
      "\n",
      "2020/5/2 20.6 12.2 0\n",
      "\n",
      "2020/5/3 20.7 7.1 0\n",
      "\n",
      "2020/5/4 19.3 1.5 2\n",
      "\n",
      "2020/5/5 21.3 7.7 0\n",
      "\n",
      "2020/5/6 15.8 0 19\n",
      "\n",
      "2020/5/7 16.5 12.1 0.5\n",
      "\n",
      "2020/5/8 16.7 10.7 0\n",
      "\n",
      "2020/5/9 18.3 3.4 0\n",
      "\n",
      "2020/5/10 21.5 1 1\n",
      "\n",
      "2020/5/11 22.9 9.1 0.5\n",
      "\n",
      "2020/5/12 21.7 4.7 0\n",
      "\n",
      "2020/5/13 22.3 11.1 0\n",
      "\n",
      "2020/5/14 20.8 12.5 0\n",
      "\n",
      "2020/5/15 21.5 8.1 0\n",
      "\n",
      "2020/5/16 18.5 0 24\n",
      "\n",
      "2020/5/17 21.6 11.7 0\n",
      "\n",
      "2020/5/18 19.2 0 2\n",
      "\n",
      "2020/5/19 17.7 0 54.5\n",
      "\n",
      "2020/5/20 12.7 0 3\n",
      "\n",
      "2020/5/21 12.7 0 0.5\n",
      "\n",
      "2020/5/22 15.3 0 1\n",
      "\n",
      "2020/5/23 18.4 2.8 0\n",
      "\n",
      "2020/5/24 20.8 11 0\n",
      "\n",
      "2020/5/25 21.6 6.6 0\n",
      "\n",
      "2020/5/26 20.9 0.2 0.5\n",
      "\n",
      "2020/5/27 21.4 4.4 0\n",
      "\n",
      "2020/5/28 19.4 3.7 9.5\n",
      "\n",
      "2020/5/29 20.7 12.9 0\n",
      "\n",
      "2020/5/30 22 8.9 0\n",
      "\n",
      "2020/5/31 21.3 0.2 0\n",
      "\n",
      "2020/6/1 19.6 0 4\n",
      "\n",
      "2020/6/2 22.3 4.1 0\n",
      "\n",
      "2020/6/3 24 6.2 0\n",
      "\n",
      "2020/6/4 23.5 5.4 0\n",
      "\n",
      "2020/6/5 24.8 8.1 0\n",
      "\n",
      "2020/6/6 24.2 1.9 6.5\n",
      "\n",
      "2020/6/7 22 8.6 0.5\n",
      "\n",
      "2020/6/8 23.2 8.9 0\n",
      "\n",
      "2020/6/9 25.5 13 0\n",
      "\n",
      "2020/6/10 26.2 11.1 0\n",
      "\n",
      "2020/6/11 25.1 3.5 10\n",
      "\n",
      "2020/6/12 26.2 4 5.5\n",
      "\n",
      "2020/6/13 21.3 0 35.5\n",
      "\n",
      "2020/6/14 21.7 0 5.5\n",
      "\n",
      "2020/6/15 25.9 7.3 0\n",
      "\n",
      "2020/6/16 25.5 8 0\n",
      "\n",
      "2020/6/17 23.6 13.1 0\n",
      "\n",
      "2020/6/18 22.1 0 2\n",
      "\n",
      "2020/6/19 18.7 0 50\n",
      "\n",
      "2020/6/20 22.9 9.3 0\n",
      "\n",
      "2020/6/21 21.9 1.4 2.5\n",
      "\n",
      "2020/6/22 19.2 0 27.5\n",
      "\n",
      "2020/6/23 22.3 2.7 3\n",
      "\n",
      "2020/6/24 22.5 1.9 0\n",
      "\n",
      "2020/6/25 20.2 0 14.5\n",
      "\n",
      "2020/6/26 24.7 4.9 0\n",
      "\n",
      "2020/6/27 25.5 2.6 0\n",
      "\n",
      "2020/6/28 22.2 0 30\n",
      "\n",
      "2020/6/29 24.9 10.3 0\n",
      "\n",
      "2020/6/30 24.6 0 15.5\n",
      "\n",
      "2020/7/1 25.1 0 21\n",
      "\n",
      "2020/7/2 25.9 11.7 0.5\n",
      "\n",
      "2020/7/3 23.8 1.7 6\n",
      "\n",
      "2020/7/4 23.8 0.1 25.5\n",
      "\n",
      "2020/7/5 24.9 1.7 3.5\n",
      "\n",
      "2020/7/6 24.8 0.3 40.5\n",
      "\n",
      "2020/7/7 27.2 0.2 0.5\n",
      "\n",
      "2020/7/8 26 1.5 3\n",
      "\n",
      "2020/7/9 23.7 0 14\n",
      "\n",
      "2020/7/10 25.3 0 0.5\n",
      "\n",
      "2020/7/11 27.5 2.3 2\n",
      "\n",
      "2020/7/12 26 4.8 0.5\n",
      "\n",
      "2020/7/13 21 0.4 6\n",
      "\n",
      "2020/7/14 22.3 0 6\n",
      "\n",
      "2020/7/15 20.4 0 6.5\n",
      "\n",
      "2020/7/16 20.7 0.1 0.5\n",
      "\n",
      "2020/7/17 19.3 0 34.5\n",
      "\n",
      "2020/7/18 20.4 0 20\n",
      "\n",
      "2020/7/19 24.3 6.9 0\n",
      "\n",
      "2020/7/20 26.9 6.9 0\n",
      "\n",
      "2020/7/21 25.5 0.1 1\n",
      "\n",
      "2020/7/22 26.6 0.8 0\n",
      "\n",
      "2020/7/23 23.2 0 31.5\n",
      "\n",
      "2020/7/24 24.5 0 0\n",
      "\n",
      "2020/7/25 25.1 0.2 23.5\n",
      "\n",
      "2020/7/26 25.6 2.9 18.5\n",
      "\n",
      "2020/7/27 26.3 0.7 2\n",
      "\n",
      "2020/7/28 26.7 1.2 2\n",
      "\n",
      "2020/7/29 22.9 0 0\n",
      "\n",
      "2020/7/30 23.2 0 0\n",
      "\n",
      "2020/7/31 24.8 3.2 1\n",
      "\n",
      "2020/8/1 26.1 5.5 0.5\n",
      "\n",
      "2020/8/2 26.3 6 0\n",
      "\n",
      "2020/8/3 27.2 10.1 0\n",
      "\n",
      "2020/8/4 28.3 10.4 0\n",
      "\n",
      "2020/8/5 29.1 10.3 0\n",
      "\n",
      "2020/8/6 28.5 9.7 0\n",
      "\n",
      "2020/8/7 29.5 8.8 0\n",
      "\n",
      "2020/8/8 28.1 4.7 0\n",
      "\n",
      "2020/8/9 28.7 7.5 0\n",
      "\n",
      "2020/8/10 30.5 8.8 0\n",
      "\n",
      "2020/8/11 31.7 12.5 0\n",
      "\n",
      "2020/8/12 30 7.2 0.5\n",
      "\n",
      "2020/8/13 29.4 7.8 21.5\n",
      "\n",
      "2020/8/14 29.4 8.3 0\n",
      "\n",
      "2020/8/15 31 10 0\n",
      "\n",
      "2020/8/16 31.2 9.7 0\n",
      "\n",
      "2020/8/17 30.8 7 0\n",
      "\n",
      "2020/8/18 30.3 4.2 0\n",
      "\n",
      "2020/8/19 29 10.8 0\n",
      "\n",
      "2020/8/20 29.7 11.1 0\n",
      "\n",
      "2020/8/21 30.1 10.5 0\n",
      "\n",
      "2020/8/22 29.3 8 0\n",
      "\n",
      "2020/8/23 25.6 1.9 38\n",
      "\n",
      "2020/8/24 27.2 6.7 0\n",
      "\n",
      "2020/8/25 27.8 7.2 0\n",
      "\n",
      "2020/8/26 28.8 10.4 0\n",
      "\n",
      "2020/8/27 29.3 7.4 0\n",
      "\n",
      "2020/8/28 30.2 7.7 0\n",
      "\n",
      "2020/8/29 30.3 11.7 0\n",
      "\n",
      "2020/8/30 30 9.4 0\n",
      "\n",
      "2020/8/31 27.5 3.4 1\n",
      "\n",
      "2020/9/1 24.9 0.5 1\n",
      "\n",
      "2020/9/2 26.8 1.4 7.5\n",
      "\n",
      "2020/9/3 28.4 4.9 3.5\n",
      "\n",
      "2020/9/4 29.3 10.7 0\n",
      "\n",
      "2020/9/5 28.6 7.3 8.5\n",
      "\n",
      "2020/9/6 25.7 2.3 25.5\n",
      "\n",
      "2020/9/7 26.7 1.4 19\n",
      "\n",
      "2020/9/8 29.5 10.1 0\n",
      "\n",
      "2020/9/9 29 11.3 0.5\n",
      "\n",
      "2020/9/10 27.7 3.9 0\n",
      "\n",
      "2020/9/11 28.3 6 0\n",
      "\n",
      "2020/9/12 23.7 0 14.5\n",
      "\n",
      "2020/9/13 23.3 1.3 0.5\n",
      "\n",
      "2020/9/14 23.4 0.7 0.5\n",
      "\n",
      "2020/9/15 23.8 2.3 0.5\n",
      "\n",
      "2020/9/16 24 0.7 2\n",
      "\n",
      "2020/9/17 24.9 1.1 0\n",
      "\n",
      "2020/9/18 29 4.4 0\n",
      "\n",
      "2020/9/19 24.7 0 0\n",
      "\n",
      "2020/9/20 22.2 0 0.5\n",
      "\n",
      "2020/9/21 22 3.9 0.5\n",
      "\n",
      "2020/9/22 22.5 5.5 3.5\n",
      "\n",
      "2020/9/23 20.2 0 7.5\n",
      "\n",
      "2020/9/24 19 0 10\n",
      "\n",
      "2020/9/25 19.4 0 5.5\n",
      "\n",
      "2020/9/26 18.5 0 6\n",
      "\n",
      "2020/9/27 19.7 1.3 0.5\n",
      "\n",
      "2020/9/28 21.5 10.8 0\n",
      "\n",
      "2020/9/29 19.7 3.5 0\n",
      "\n",
      "2020/9/30 20 10.4 0\n",
      "\n",
      "2020/10/1 19.5 2.2 1\n",
      "\n",
      "2020/10/2 21 10.7 0\n",
      "\n",
      "2020/10/3 21.7 3.9 0\n",
      "\n",
      "2020/10/4 22 1.5 0\n",
      "\n",
      "2020/10/5 21.7 1.5 0\n",
      "\n",
      "2020/10/6 21 2.7 0\n",
      "\n",
      "2020/10/7 18.3 3.2 6\n",
      "\n",
      "2020/10/8 14.7 0 44\n",
      "\n",
      "2020/10/9 14.5 0 38\n",
      "\n",
      "2020/10/10 16 0 73.5\n",
      "\n",
      "2020/10/11 19.8 0.4 0.5\n",
      "\n",
      "2020/10/12 21.5 2.5 0\n",
      "\n",
      "2020/10/13 22.1 4.2 0\n",
      "\n",
      "2020/10/14 20.3 0.7 0\n",
      "\n",
      "2020/10/15 16.8 0 1\n",
      "\n",
      "2020/10/16 16.1 4.1 0\n",
      "\n",
      "2020/10/17 12.7 0 23\n",
      "\n",
      "2020/10/18 14.3 4.2 0.5\n",
      "\n",
      "2020/10/19 13.1 0 9\n",
      "\n",
      "2020/10/20 15.6 7.7 0\n",
      "\n",
      "2020/10/21 16 7.5 0\n",
      "\n",
      "2020/10/22 17.4 3 0\n",
      "\n",
      "2020/10/23 16.8 0 8.5\n",
      "\n",
      "2020/10/24 17.3 7.8 0\n",
      "\n",
      "2020/10/25 15.5 8.4 0\n",
      "\n",
      "2020/10/26 16.2 8.6 0\n",
      "\n",
      "2020/10/27 16.7 6 0\n",
      "\n",
      "2020/10/28 16.6 2.2 0\n",
      "\n",
      "2020/10/29 17.3 9.7 0\n",
      "\n",
      "2020/10/30 14.9 1.6 0\n",
      "\n",
      "2020/10/31 13.8 9.6 0\n",
      "\n",
      "2020/11/1 14.3 2.7 0\n",
      "\n",
      "2020/11/2 15.6 2.7 2.5\n",
      "\n",
      "2020/11/3 14.8 0.2 4.5\n",
      "\n",
      "2020/11/4 13.7 8.6 0\n",
      "\n",
      "2020/11/5 13.4 9.2 0\n",
      "\n",
      "2020/11/6 12.8 0.4 0\n",
      "\n",
      "2020/11/7 15.5 1.2 0\n",
      "\n",
      "2020/11/8 17.3 1.1 2.5\n",
      "\n",
      "2020/11/9 13.5 2.9 0\n",
      "\n",
      "2020/11/10 11.9 8.7 0\n",
      "\n",
      "2020/11/11 11.9 9.1 0\n",
      "\n",
      "2020/11/12 10.2 0.5 0\n",
      "\n",
      "2020/11/13 13.7 8.7 0\n",
      "\n",
      "2020/11/14 14.7 9.3 0\n",
      "\n",
      "2020/11/15 13.4 9.2 0\n",
      "\n",
      "2020/11/16 14.7 9.2 0\n",
      "\n",
      "2020/11/17 15.2 8.5 0\n",
      "\n",
      "2020/11/18 15.8 8.3 0\n",
      "\n",
      "2020/11/19 19.1 7 0\n",
      "\n",
      "2020/11/20 21.9 0.4 0\n",
      "\n",
      "2020/11/21 16.6 9.1 0\n",
      "\n",
      "2020/11/22 15 8 0\n",
      "\n",
      "2020/11/23 15.5 5.6 0\n",
      "\n",
      "2020/11/24 11.8 0 0\n",
      "\n",
      "2020/11/25 10.5 0 5\n",
      "\n",
      "2020/11/26 12.8 8 0\n",
      "\n",
      "2020/11/27 11.6 1.2 0\n",
      "\n",
      "2020/11/28 11.8 8.8 0\n",
      "\n",
      "2020/11/29 10.1 1.2 0\n",
      "\n",
      "2020/11/30 9.9 6.8 0\n",
      "\n",
      "2020/12/1 10.2 8.8 0\n",
      "\n",
      "2020/12/2 8.2 0 8\n",
      "\n",
      "2020/12/3 8.1 0 0\n",
      "\n",
      "2020/12/4 9.2 7.1 0\n",
      "\n",
      "2020/12/5 6.6 0 3.5\n",
      "\n",
      "2020/12/6 8.2 5.8 0\n",
      "\n",
      "2020/12/7 9.7 8.8 0\n",
      "\n",
      "2020/12/8 11.4 6.7 0\n",
      "\n",
      "2020/12/9 9.8 0.7 0\n",
      "\n",
      "2020/12/10 9.3 0.4 0\n",
      "\n",
      "2020/12/11 10.2 4.3 0\n",
      "\n",
      "2020/12/12 11.4 2.3 0\n",
      "\n",
      "2020/12/13 9.9 6.2 0\n",
      "\n",
      "2020/12/14 8.5 4.6 0\n",
      "\n",
      "2020/12/15 6.1 7 0\n",
      "\n",
      "2020/12/16 4.6 6.1 0\n",
      "\n",
      "2020/12/17 4.3 8.9 0\n",
      "\n",
      "2020/12/18 6.1 8.6 0\n",
      "\n",
      "2020/12/19 5.8 2.2 0\n",
      "\n",
      "2020/12/20 4.4 8.9 0\n",
      "\n",
      "2020/12/21 5.3 9 0\n",
      "\n",
      "2020/12/22 5.6 8 0\n",
      "\n",
      "2020/12/23 7.7 8.9 0\n",
      "\n",
      "2020/12/24 8 1.7 0\n",
      "\n",
      "2020/12/25 8.7 8.3 0\n",
      "\n",
      "2020/12/26 6.4 8.8 0\n",
      "\n",
      "2020/12/27 7.8 6.8 0\n",
      "\n",
      "2020/12/28 8.5 4 0\n",
      "\n",
      "2020/12/29 8.7 4.5 0\n",
      "\n",
      "2020/12/30 6.9 1.6 1.5\n",
      "\n",
      "2020/12/31 3.4 8.9 0\n",
      "\n",
      "2021/1/1 4.4 8.7 0\n",
      "\n",
      "2021/1/2 4.8 8.8 0\n",
      "\n",
      "2021/1/3 3.7 8.8 0\n",
      "\n",
      "2021/1/4 5.8 7.7 0\n",
      "\n",
      "2021/1/5 6 1 0\n",
      "\n",
      "2021/1/6 5.3 0.4 0\n",
      "\n",
      "2021/1/7 6.3 7.4 0\n",
      "\n",
      "2021/1/8 2.4 5.4 0\n",
      "\n",
      "2021/1/9 2.9 8.5 0\n",
      "\n",
      "2021/1/10 2.6 8.9 0\n",
      "\n",
      "2021/1/11 2.3 0.8 0\n",
      "\n",
      "2021/1/12 3.4 0 0\n",
      "\n",
      "2021/1/13 5.8 9.1 0\n",
      "\n",
      "2021/1/14 7.9 9 0\n",
      "\n",
      "2021/1/15 6.6 0 0\n",
      "\n",
      "2021/1/16 10 8.8 0\n",
      "\n",
      "2021/1/17 6.1 0.2 0\n",
      "\n",
      "2021/1/18 4.3 5.4 0\n",
      "\n",
      "2021/1/19 4.4 9.2 0\n",
      "\n",
      "2021/1/20 3.9 9.2 0\n",
      "\n",
      "2021/1/21 4.8 9.1 0\n",
      "\n",
      "2021/1/22 8.7 7.7 0\n",
      "\n",
      "2021/1/23 6.4 0 19\n",
      "\n",
      "2021/1/24 4.3 0 13\n",
      "\n",
      "2021/1/25 7.6 8.8 1.5\n",
      "\n",
      "2021/1/26 7.5 2.2 0\n",
      "\n",
      "2021/1/27 10.3 0.8 1\n",
      "\n",
      "2021/1/28 4.4 0.2 9\n",
      "\n",
      "2021/1/29 5.3 7.5 0\n",
      "\n",
      "2021/1/30 4.1 9.4 0\n",
      "\n",
      "2021/1/31 5.4 9.4 0\n",
      "\n",
      "2021/2/1 7.2 4.5 0\n",
      "\n",
      "2021/2/2 8.8 4.2 12\n",
      "\n",
      "2021/2/3 6.2 9 0\n",
      "\n",
      "2021/2/4 7 9.5 0\n",
      "\n",
      "2021/2/5 7.1 8.9 0\n",
      "\n",
      "2021/2/6 8.9 9.4 0\n",
      "\n",
      "2021/2/7 9.9 9.1 0\n",
      "\n",
      "2021/2/8 6.1 2.7 0\n",
      "\n",
      "2021/2/9 4.7 9.7 0\n",
      "\n",
      "2021/2/10 6.7 8 0\n",
      "\n",
      "2021/2/11 8.7 9.4 0\n",
      "\n",
      "2021/2/12 7.8 1.5 0\n",
      "\n",
      "2021/2/13 10.4 9.4 0\n",
      "\n",
      "2021/2/14 12.3 6.4 0\n",
      "\n",
      "2021/2/15 11.4 0.6 76.5\n",
      "\n",
      "2021/2/16 10.6 10 0\n",
      "\n",
      "2021/2/17 7.6 7 0\n",
      "\n",
      "2021/2/18 4.3 7 0\n",
      "\n",
      "2021/2/19 6.9 10 0\n",
      "\n",
      "2021/2/20 10.2 9.9 0\n",
      "\n",
      "2021/2/21 13.9 9.9 0\n",
      "\n",
      "2021/2/22 14.9 10.2 0\n",
      "\n",
      "2021/2/23 11 9.7 0\n",
      "\n",
      "2021/2/24 6.4 10.1 0\n",
      "\n",
      "2021/2/25 6.6 8.5 0\n",
      "\n",
      "2021/2/26 8.7 0 0\n",
      "\n",
      "2021/2/27 5.7 9.9 0\n",
      "\n",
      "2021/2/28 6.6 10.4 0\n",
      "\n",
      "2021/3/1 11.8 7.3 0.5\n",
      "\n",
      "2021/3/2 13.5 0.2 9.5\n",
      "\n",
      "2021/3/3 7.4 10.8 0\n",
      "\n",
      "2021/3/4 9 8.4 0\n",
      "\n",
      "2021/3/5 11.8 3.6 2\n",
      "\n",
      "2021/3/6 13.8 4.9 0.5\n",
      "\n",
      "2021/3/7 7.8 0.2 0\n",
      "\n",
      "2021/3/8 6.6 0 5.5\n",
      "\n",
      "2021/3/9 9.6 3.7 0\n",
      "\n",
      "2021/3/10 12 10.3 0\n",
      "\n",
      "2021/3/11 9.9 10.7 0\n",
      "\n",
      "2021/3/12 12.7 2.8 0\n",
      "\n",
      "2021/3/13 11.1 0 65\n",
      "\n",
      "2021/3/14 12.5 10.8 0\n",
      "\n",
      "2021/3/15 12.9 11.3 0\n",
      "\n",
      "2021/3/16 14.5 7.7 0\n",
      "\n",
      "2021/3/17 13.7 9.6 0\n",
      "\n",
      "2021/3/18 12.3 10.9 0\n",
      "\n",
      "2021/3/19 12.9 7.6 0\n",
      "\n",
      "2021/3/20 14.1 1 0\n",
      "\n",
      "2021/3/21 16.7 0 46.5\n",
      "\n",
      "2021/3/22 12.1 1.8 0.5\n",
      "\n",
      "2021/3/23 10.8 11.6 0\n",
      "\n",
      "2021/3/24 13.8 11.5 0\n",
      "\n",
      "2021/3/25 14.5 2 0.5\n",
      "\n",
      "2021/3/26 14.5 10.8 0\n",
      "\n",
      "2021/3/27 13.7 10.2 0\n",
      "\n",
      "2021/3/28 16.5 0 8\n",
      "\n",
      "2021/3/29 17.5 10.5 34.5\n",
      "\n",
      "2021/3/30 17.8 3.1 0\n",
      "\n",
      "2021/3/31 17.9 9.9 0\n",
      "\n"
     ]
    }
   ],
   "source": [
    "# 文字列 \"#\" が先頭についた第 1,2 行を除外し，\n",
    "# 年月日，日毎平均気温，日照時間，合計降水量が数値として記録されている行のみを表示するプログラム\n",
    "\n",
    "import re # 関数 re.match() を使うために，re モジュールをインポート\n",
    "\n",
    "data = open('tokyo_data_SJIS.dat', encoding=\"shift-jis\") # Jupyter Notebook 上にアップロードされた tokyo_data_SJIS.dat を開く\n",
    "\n",
    "for line in data:\n",
    "    if not re.match('#', line): # line の先頭が \"#\" でなければ，以下の処理を実行する（\"#\" が先頭についた第 1,2 行への処理を除外できる）\n",
    "        print(line)\n",
    "\n",
    "data.close() # 開いたファイルは必ず最後に閉じる"
   ]
  },
  {
   "cell_type": "markdown",
   "id": "a11eded3",
   "metadata": {},
   "source": [
    "## Step 4. 次のプログラムを実行し，気温の平均と分散を計算し，表示する．"
   ]
  },
  {
   "cell_type": "code",
   "execution_count": 5,
   "id": "6e3a5e79",
   "metadata": {
    "scrolled": true
   },
   "outputs": [
    {
     "name": "stdout",
     "output_type": "stream",
     "text": [
      "東京での日毎平均気温の平均は 16.615342465753425 度\n",
      "東京での日毎平均気温の分散は 58.86497008819666\n"
     ]
    }
   ],
   "source": [
    "# 日毎平均気温の平均と分散を求めるプログラム\n",
    "\n",
    "import statistics # 数理統計関数を使うために，statistics モジュールをインポート\n",
    "import re         # 関数 re.match() を使うために，re モジュールをインポート\n",
    "\n",
    "data = open('tokyo_data_SJIS.dat', encoding=\"shift-jis\")\n",
    "list_temp = [] # 気温データのみを格納するためのリストを list_temp として，初期の中身は空とする\n",
    "\n",
    "# 下記４行の for 文で，dat ファイル内の気温データのみをリスト list_temp へ格納する\n",
    "for line in data:\n",
    "    if not re.match('#', line):\n",
    "        lines = line.split(' ')           # 要素を仕切る半角空白を境として文字列を分割し，分割された文字列を lines という引数に格納する\n",
    "        list_temp.append(float(lines[1])) # 気温の列である lines の左から 2 列目を数値（実数）に変換し，list_temp へ順次要素として追加する\n",
    "\n",
    "# 数値統計関数を使った，リスト list_temp の平均と分散の表示\n",
    "print(\"東京での日毎平均気温の平均は\",statistics.mean(list_temp),\"度\")\n",
    "print(\"東京での日毎平均気温の分散は\",statistics.pvariance(list_temp))\n",
    "\n",
    "data.close() # 開いたファイルは必ず最後に閉じる"
   ]
  },
  {
   "cell_type": "markdown",
   "id": "ab916e2a",
   "metadata": {},
   "source": [
    "## 【Mac ユーザー向け】<br><br>Step 1. LETUS に置かれている tokyo_data_UTF8.dat を各自の PC に保存する．<br><br>Step 2. Jupyter Notebook のファイル一覧に本講義ノート prog11.ipynb と tokyo_data_UTF8.dat の双方が表示されるように，tokyo_data_UTF8.dat を Jupyter Notebook にアップロードする．<br><br>Step 3（任意）. 次のプログラムを実行し，データファイル tokyo_data_UTF8.dat 内に，年月日，日毎平均気温，日照時間，合計降水量が記録されていることを確認する．"
   ]
  },
  {
   "cell_type": "code",
   "execution_count": null,
   "id": "fa9376d4",
   "metadata": {},
   "outputs": [],
   "source": [
    "# 文字列 \"#\" が先頭についた第 1,2 行を除外し，\n",
    "# 年月日，日毎平均気温，日照時間，合計降水量が数値として記録されている行のみを表示するプログラム\n",
    "\n",
    "import re # 関数 re.match() を使うために，re モジュールをインポート\n",
    "\n",
    "data = open('tokyo_data_UTF8.dat') # Jupyter Notebook 上にアップロードされた tokyo_data_UTF8.dat を開く\n",
    "\n",
    "for line in data:\n",
    "    if not re.match('#', line): # line の先頭が \"#\" でなければ，以下の処理を実行する（\"#\" が先頭についた第 1,2 行への処理を除外できる）\n",
    "        print(line)\n",
    "\n",
    "data.close() # 開いたファイルは必ず最後に閉じる"
   ]
  },
  {
   "cell_type": "markdown",
   "id": "8f96bee8",
   "metadata": {},
   "source": [
    "## Step 4. 次のプログラムを実行し，気温の平均と分散を計算し，表示する．"
   ]
  },
  {
   "cell_type": "code",
   "execution_count": null,
   "id": "2f06d34a",
   "metadata": {},
   "outputs": [],
   "source": [
    "# 日毎平均気温の平均と分散を求めるプログラム\n",
    "\n",
    "import statistics # 数理統計関数を使うために，statistics モジュールをインポート\n",
    "import re         # 関数 re.match() を使うために，re モジュールをインポート\n",
    "\n",
    "data = open('tokyo_data_UTF8.dat')\n",
    "list_temp = [] # 気温データのみを格納するためのリストを list_temp として，初期の中身は空とする\n",
    "\n",
    "# 下記４行の for 文で，dat ファイル内の気温データのみをリスト list_temp へ格納する\n",
    "for line in data:\n",
    "    if not re.match('#', line):\n",
    "        lines = line.split(' ')           # 要素を仕切る半角空白を境として文字列を分割し，分割された文字列を lines という引数に格納する\n",
    "        list_temp.append(float(lines[1])) # 気温の列である lines の左から 2 列目を数値（実数）に変換し，list_temp へ順次要素として追加する\n",
    "\n",
    "# 数値統計関数を使った，リスト list_temp の平均と分散の表示\n",
    "print(\"東京での日毎平均気温の平均は\",statistics.mean(list_temp),\"度\")\n",
    "print(\"東京での日毎平均気温の分散は\",statistics.pvariance(list_temp))\n",
    "\n",
    "data.close() # 開いたファイルは必ず最後に閉じる"
   ]
  },
  {
   "cell_type": "markdown",
   "id": "87ef41a0",
   "metadata": {},
   "source": [
    "## （２）txt ファイルの読み込み<br><br>LETUS にアップされた txt ファイルを使って，データの読み込みと要素に対する統計計算を行う．<br>なお，ここでは，（１）とは異なり，各行の要素が半角カンマで区切られている場合を扱う．<br><br>例２．tokyo_data_SJIS.txt あるいは tokyo_data_UTF8.txt 内の東京の気温の平均と分散"
   ]
  },
  {
   "cell_type": "markdown",
   "id": "b0cfe9c2",
   "metadata": {},
   "source": [
    "## 【Windows ユーザー向け】<br><br>Step 1. LETUS に置かれている tokyo_data_SJIS.txt を各自の PC に保存する．<br><br>Step 2. Jupyter Notebook のファイル一覧に本講義ノート prog11.ipynb と tokyo_data_SJIS.txt の双方が表示されるように，tokyo_data_SJIS.txt を Jupyter Notebook にアップロードする．<br><br>Step 3（任意）. 次のプログラムを実行し，データファイル tokyo_data_SJIS.txt 内に，年月日，日毎平均気温，日照時間，合計降水量が記録されていることを確認する．"
   ]
  },
  {
   "cell_type": "code",
   "execution_count": null,
   "id": "3c977f47",
   "metadata": {},
   "outputs": [],
   "source": [
    "# 文字列 \"#\" が先頭についた第 1,2 行を除外し，\n",
    "# 年月日，日毎平均気温，日照時間，合計降水量が数値として記録されている行のみを表示するプログラム\n",
    "\n",
    "import re # 関数 re.match() を使うために，re モジュールをインポート\n",
    "\n",
    "data = open('tokyo_data_SJIS.txt') # Jupyter Notebook 上にアップロードされた tokyo_data_SJIS.txt を開く\n",
    "\n",
    "for line in data:\n",
    "    if not re.match('#', line): # line の先頭が \"#\" でなければ，以下の処理を実行する（\"#\" が先頭についた第 1,2 行への処理を除外できる）\n",
    "        print(line)\n",
    "\n",
    "data.close() # 開いたファイルは必ず最後に閉じる"
   ]
  },
  {
   "cell_type": "markdown",
   "id": "e865f9f4",
   "metadata": {},
   "source": [
    "## Step 4. 次のプログラムを実行し，気温の平均と分散を計算し，表示する．<br><br>注意．（１）とは異なり，各行の要素は半角カンマで区切られている．そのため，例１における Step 3 のプログラム内の  <span style=\"color: blue; \">lines = line.split(' ') を lines = line.split(',') に変える</span>必要がある．"
   ]
  },
  {
   "cell_type": "code",
   "execution_count": null,
   "id": "9d6db8b5",
   "metadata": {},
   "outputs": [],
   "source": [
    "# 日毎平均気温の平均と分散を求めるプログラム\n",
    "\n",
    "import statistics # 数理統計関数を使うために，statistics モジュールをインポート\n",
    "import re         # 関数 re.match() を使うために，re モジュールをインポート\n",
    "\n",
    "data = open('tokyo_data_SJIS.txt')\n",
    "list_temp = [] # 気温データのみを格納するためのリストを list_temp として，初期の中身は空とする\n",
    "\n",
    "# 下記４行の for 文で，dat ファイル内の気温データのみをリスト list_temp へ格納する\n",
    "for line in data:\n",
    "    if not re.match('#', line):\n",
    "        lines = line.split(',')           # 要素を仕切る半角空白を境として文字列を分割し，分割された文字列を lines という引数に格納する\n",
    "        list_temp.append(float(lines[1])) # 気温の列である lines の左から 2 列目を数値（実数）に変換し，list_temp へ順次要素として追加する\n",
    "\n",
    "# 数値統計関数を使った，リスト list_temp の平均と分散の表示\n",
    "print(\"東京での日毎平均気温の平均は\",statistics.mean(list_temp),\"度\")\n",
    "print(\"東京での日毎平均気温の分散は\",statistics.pvariance(list_temp))\n",
    "\n",
    "data.close() # 開いたファイルは必ず最後に閉じる"
   ]
  },
  {
   "cell_type": "markdown",
   "id": "d27bc299",
   "metadata": {},
   "source": [
    "## 【Mac ユーザー向け】<br><br>Step 1. LETUS に置かれている tokyo_data_UTF8.txt を各自の PC に保存する．<br><br>Step 2. Jupyter Notebook のファイル一覧に本講義ノート prog11.ipynb と tokyo_data_UTF8.txt の双方が表示されるように，tokyo_data_UTF8.txt を Jupyter Notebook にアップロードする．<br><br>Step 3（任意）. 次のプログラムを実行し，データファイル tokyo_data_UTF8.txt 内に，年月日，日毎平均気温，日照時間，合計降水量が記録されていることを確認する．"
   ]
  },
  {
   "cell_type": "code",
   "execution_count": null,
   "id": "155ff90d",
   "metadata": {},
   "outputs": [],
   "source": [
    "# 文字列 \"#\" が先頭についた第 1,2 行を除外し，\n",
    "# 年月日，日毎平均気温，日照時間，合計降水量が数値として記録されている行のみを表示するプログラム\n",
    "\n",
    "import re # 関数 re.match() を使うために，re モジュールをインポート\n",
    "\n",
    "data = open('tokyo_data_UTF8.txt') # Jupyter Notebook 上にアップロードされた tokyo_data_UTF8.txt を開く\n",
    "\n",
    "for line in data:\n",
    "    if not re.match('#', line): # line の先頭が \"#\" でなければ，以下の処理を実行する（\"#\" が先頭についた第 1,2 行への処理を除外できる）\n",
    "        print(line)\n",
    "\n",
    "data.close() # 開いたファイルは必ず最後に閉じる"
   ]
  },
  {
   "cell_type": "markdown",
   "id": "93bfce05",
   "metadata": {},
   "source": [
    "## Step 4. 次のプログラムを実行し，気温の平均と分散を計算し，表示する．<br><br>注意．（１）とは異なり，各行の要素は半角カンマで区切られている．そのため，例１における Step 3 のプログラム内の <span style=\"color: blue; \">lines = line.split(' ') を lines = line.split(',') に変える</span>必要がある．"
   ]
  },
  {
   "cell_type": "code",
   "execution_count": null,
   "id": "3ea4dc25",
   "metadata": {},
   "outputs": [],
   "source": [
    "# 日毎平均気温の平均と分散を求めるプログラム\n",
    "\n",
    "import statistics # 数理統計関数を使うために，statistics モジュールをインポート\n",
    "import re         # 関数 re.match() を使うために，re モジュールをインポート\n",
    "\n",
    "data = open('tokyo_data_UTF8.txt')\n",
    "list_temp = [] # 気温データのみを格納するためのリストを list_temp として，初期の中身は空とする\n",
    "\n",
    "# 下記４行の for 文で，dat ファイル内の気温データのみをリスト list_temp へ格納する\n",
    "for line in data:\n",
    "    if not re.match('#', line):\n",
    "        lines = line.split(',')           # 要素を仕切る半角空白を境として文字列を分割し，分割された文字列を lines という引数に格納する\n",
    "        list_temp.append(float(lines[1])) # 気温の列である lines の左から 2 列目を数値（実数）に変換し，list_temp へ順次要素として追加する\n",
    "\n",
    "# 数値統計関数を使った，リスト list_temp の平均と分散の表示\n",
    "print(\"東京での日毎平均気温の平均は\",statistics.mean(list_temp),\"度\")\n",
    "print(\"東京での日毎平均気温の分散は\",statistics.pvariance(list_temp))\n",
    "\n",
    "data.close() # 開いたファイルは必ず最後に閉じる"
   ]
  },
  {
   "cell_type": "markdown",
   "id": "8e9b2848",
   "metadata": {},
   "source": [
    "## <span style=\"color: red; \">提出課題＜締切：７月７日（金）２３：５９＞</span><br><br>prog11_kadai_sample.ipynb 内の問に答えよ．<br>prog11_kadai_sample.ipynb 内の空欄すべてを埋め終えたら，ファイル名を<br><span style=\"color: blue; \">「prog11_kadai_sample」から「prog11_kadai_892〇〇〇〇」<br>（〇〇〇〇：半角の学籍番号下４桁）<br>へ変更し</span>，江夏の宛先へメール添付によりファイルを送信すること．"
   ]
  }
 ],
 "metadata": {
  "kernelspec": {
   "display_name": "Python 3",
   "language": "python",
   "name": "python3"
  },
  "language_info": {
   "codemirror_mode": {
    "name": "ipython",
    "version": 3
   },
   "file_extension": ".py",
   "mimetype": "text/x-python",
   "name": "python",
   "nbconvert_exporter": "python",
   "pygments_lexer": "ipython3",
   "version": "3.8.5"
  }
 },
 "nbformat": 4,
 "nbformat_minor": 5
}
