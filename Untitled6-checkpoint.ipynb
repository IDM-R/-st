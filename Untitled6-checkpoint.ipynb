{
 "cells": [
  {
   "cell_type": "code",
   "execution_count": 1,
   "id": "471d5aed",
   "metadata": {},
   "outputs": [],
   "source": [
    "import numpy as np\n",
    "from scipy import stats\n",
    "from scipy.stats import norm\n",
    "from scipy.stats import t\n",
    "from scipy.stats import chi2\n",
    "from scipy.stats import f\n",
    "from matplotlib import pyplot as plt"
   ]
  },
  {
   "cell_type": "code",
   "execution_count": 10,
   "id": "4383b387",
   "metadata": {},
   "outputs": [],
   "source": [
    "#1-1"
   ]
  },
  {
   "cell_type": "code",
   "execution_count": 11,
   "id": "829460ca",
   "metadata": {},
   "outputs": [
    {
     "data": {
      "text/plain": [
       "(1.237344245791203, 14.44937533544792)"
      ]
     },
     "execution_count": 11,
     "metadata": {},
     "output_type": "execute_result"
    }
   ],
   "source": [
    "chi2.interval(0.95,6)"
   ]
  },
  {
   "cell_type": "code",
   "execution_count": 12,
   "id": "7044fc87",
   "metadata": {},
   "outputs": [
    {
     "data": {
      "text/plain": [
       "20.0"
      ]
     },
     "execution_count": 12,
     "metadata": {},
     "output_type": "execute_result"
    }
   ],
   "source": [
    "data1=[31, 16, 14, 15, 13, 22, 29]\n",
    "m1=np.mean(data1)\n",
    "m1"
   ]
  },
  {
   "cell_type": "code",
   "execution_count": 13,
   "id": "cd0a1292",
   "metadata": {},
   "outputs": [
    {
     "data": {
      "text/plain": [
       "16.6"
      ]
     },
     "execution_count": 13,
     "metadata": {},
     "output_type": "execute_result"
    }
   ],
   "source": [
    "chi_value1=sum([(i-m1)**2/m1 for i in data1])\n",
    "chi_value1"
   ]
  },
  {
   "cell_type": "code",
   "execution_count": 14,
   "id": "32d2ffc0",
   "metadata": {},
   "outputs": [],
   "source": [
    "#1-2"
   ]
  },
  {
   "cell_type": "code",
   "execution_count": 16,
   "id": "33a89b45",
   "metadata": {},
   "outputs": [],
   "source": [
    "model1=[30, 15, 15, 15, 15, 20, 40]"
   ]
  },
  {
   "cell_type": "code",
   "execution_count": 21,
   "id": "8420a502",
   "metadata": {},
   "outputs": [
    {
     "data": {
      "text/plain": [
       "3.658333333333333"
      ]
     },
     "execution_count": 21,
     "metadata": {},
     "output_type": "execute_result"
    }
   ],
   "source": [
    "chi_12=sum((i-j)**2/j for i,j in zip(data1,model1))\n",
    "chi_12"
   ]
  },
  {
   "cell_type": "code",
   "execution_count": 22,
   "id": "446f72f7",
   "metadata": {},
   "outputs": [],
   "source": [
    "#2"
   ]
  },
  {
   "cell_type": "code",
   "execution_count": 33,
   "id": "93ccd1c2",
   "metadata": {},
   "outputs": [
    {
     "data": {
      "text/html": [
       "<div>\n",
       "<style scoped>\n",
       "    .dataframe tbody tr th:only-of-type {\n",
       "        vertical-align: middle;\n",
       "    }\n",
       "\n",
       "    .dataframe tbody tr th {\n",
       "        vertical-align: top;\n",
       "    }\n",
       "\n",
       "    .dataframe thead th {\n",
       "        text-align: right;\n",
       "    }\n",
       "</style>\n",
       "<table border=\"1\" class=\"dataframe\">\n",
       "  <thead>\n",
       "    <tr style=\"text-align: right;\">\n",
       "      <th></th>\n",
       "      <th>購入した</th>\n",
       "      <th>購入していない</th>\n",
       "    </tr>\n",
       "  </thead>\n",
       "  <tbody>\n",
       "    <tr>\n",
       "      <th>メール</th>\n",
       "      <td>6.6</td>\n",
       "      <td>5.4</td>\n",
       "    </tr>\n",
       "    <tr>\n",
       "      <th>広告</th>\n",
       "      <td>4.4</td>\n",
       "      <td>3.6</td>\n",
       "    </tr>\n",
       "  </tbody>\n",
       "</table>\n",
       "</div>"
      ],
      "text/plain": [
       "     購入した  購入していない\n",
       "メール   6.6      5.4\n",
       "広告    4.4      3.6"
      ]
     },
     "execution_count": 33,
     "metadata": {},
     "output_type": "execute_result"
    }
   ],
   "source": [
    "import pandas as pd\n",
    "arr=[[11*12/20,9*12/20],[11*8/20,9*8/20]]\n",
    "ind=[\"メール\",\"広告\"]\n",
    "col=[\"購入した\",\"購入していない\"]\n",
    "pd.DataFrame(data=arr,index=ind,columns=col)"
   ]
  },
  {
   "cell_type": "code",
   "execution_count": 34,
   "id": "8ffe97b7",
   "metadata": {},
   "outputs": [
    {
     "data": {
      "text/plain": [
       "2.1548821548821544"
      ]
     },
     "execution_count": 34,
     "metadata": {},
     "output_type": "execute_result"
    }
   ],
   "source": [
    "χ_2=(5-6.6)**2/6.6+(7-5.4)**2/5.4+(6-4.4)**2/4.4+(2-3.6)**2/3.6\n",
    "χ_2"
   ]
  },
  {
   "cell_type": "code",
   "execution_count": 35,
   "id": "eba497b4",
   "metadata": {},
   "outputs": [
    {
     "data": {
      "text/plain": [
       "(0.00393214000001952, 3.841458820694124)"
      ]
     },
     "execution_count": 35,
     "metadata": {},
     "output_type": "execute_result"
    }
   ],
   "source": [
    "chi2.interval(0.9,1)"
   ]
  },
  {
   "cell_type": "code",
   "execution_count": 41,
   "id": "e8863e15",
   "metadata": {},
   "outputs": [
    {
     "data": {
      "text/plain": [
       "Chi2ContingencyResult(statistic=2.1548821548821544, pvalue=0.1421173468226269, dof=1, expected_freq=array([[6.6, 5.4],\n",
       "       [4.4, 3.6]]))"
      ]
     },
     "execution_count": 41,
     "metadata": {},
     "output_type": "execute_result"
    }
   ],
   "source": [
    "data2=[[5,7],[6,2]]\n",
    "stats. chi2_contingency (data2 , correction = False)"
   ]
  },
  {
   "cell_type": "code",
   "execution_count": 37,
   "id": "d8cd80a6",
   "metadata": {},
   "outputs": [],
   "source": [
    "#3"
   ]
  },
  {
   "cell_type": "code",
   "execution_count": 44,
   "id": "24483d03",
   "metadata": {},
   "outputs": [],
   "source": [
    "data3=[[111, 163, 9, 0, 1],\n",
    "       [165, 267, 6, 3, 3],\n",
    "       [3674, 8035, 621, 534, 193],\n",
    "       [179, 160, 9, 0, 2],\n",
    "       [670, 1174, 32, 22, 20],\n",
    "       [307, 434, 14, 4, 1],\n",
    "       [133, 178, 0, 1, 4],\n",
    "       [71, 56, 5, 0, 1],\n",
    "       [259, 338, 6, 5, 7],\n",
    "       [20, 52, 0, 2, 1]]"
   ]
  },
  {
   "cell_type": "code",
   "execution_count": 45,
   "id": "ebcb448e",
   "metadata": {},
   "outputs": [
    {
     "data": {
      "text/plain": [
       "Chi2ContingencyResult(statistic=450.89692835213253, pvalue=3.746206826185659e-73, dof=36, expected_freq=array([[8.84177807e+01, 1.71757353e+02, 1.11056150e+01, 9.03319964e+00,\n",
       "        3.68605169e+00],\n",
       "       [1.38230615e+02, 2.68522059e+02, 1.73622995e+01, 1.41223262e+01,\n",
       "        5.76270053e+00],\n",
       "       [4.06503860e+03, 7.89660478e+03, 5.10584559e+02, 4.15304534e+02,\n",
       "        1.69467525e+02],\n",
       "       [1.08965575e+02, 2.11672794e+02, 1.36864973e+01, 1.11324643e+01,\n",
       "        4.54266934e+00],\n",
       "       [5.97131350e+02, 1.15996691e+03, 7.50020053e+01, 6.10059046e+01,\n",
       "        2.48938280e+01],\n",
       "       [2.36610963e+02, 4.59632353e+02, 2.97192513e+01, 2.41733512e+01,\n",
       "        9.86408200e+00],\n",
       "       [9.83803476e+01, 1.91110294e+02, 1.23569519e+01, 1.00510250e+01,\n",
       "        4.10138146e+00],\n",
       "       [4.14069184e+01, 8.04356618e+01, 5.20086898e+00, 4.23033645e+00,\n",
       "        1.72621435e+00],\n",
       "       [1.91468082e+02, 3.71939338e+02, 2.40491310e+01, 1.95613302e+01,\n",
       "        7.98211898e+00],\n",
       "       [2.33497660e+01, 4.53584559e+01, 2.93282086e+00, 2.38552807e+00,\n",
       "        9.73429144e-01]]))"
      ]
     },
     "execution_count": 45,
     "metadata": {},
     "output_type": "execute_result"
    }
   ],
   "source": [
    "stats. chi2_contingency (data3 , correction = False)"
   ]
  },
  {
   "cell_type": "code",
   "execution_count": null,
   "id": "aff22d05",
   "metadata": {},
   "outputs": [],
   "source": []
  }
 ],
 "metadata": {
  "kernelspec": {
   "display_name": "Python 3 (ipykernel)",
   "language": "python",
   "name": "python3"
  },
  "language_info": {
   "codemirror_mode": {
    "name": "ipython",
    "version": 3
   },
   "file_extension": ".py",
   "mimetype": "text/x-python",
   "name": "python",
   "nbconvert_exporter": "python",
   "pygments_lexer": "ipython3",
   "version": "3.10.9"
  }
 },
 "nbformat": 4,
 "nbformat_minor": 5
}
