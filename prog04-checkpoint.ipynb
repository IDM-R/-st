{
 "cells": [
  {
   "cell_type": "markdown",
   "metadata": {
    "scrolled": true
   },
   "source": [
    "## 講義（第４回）ノート　＜２章　計算してみよう，2.4節～2.5節＞　提出課題は最下部を参照"
   ]
  },
  {
   "cell_type": "markdown",
   "metadata": {},
   "source": [
    "## 2.4 変数（p.23～）"
   ]
  },
  {
   "cell_type": "markdown",
   "metadata": {},
   "source": [
    "### 計算に利用する数字や文字列などを格納する記憶場所を「変数」と呼ぶ．"
   ]
  },
  {
   "cell_type": "markdown",
   "metadata": {},
   "source": [
    "### 2.4.1 変数とその命名規則<br><br>変数には自由に名前をつけられる．ただし，変数名をつける際，以下の４つの規則に従わなければならない．<br><br>1. アルファベット，数字，下線（「\\_」，アンダースコア）を利用する<br>2. 最初の１文字目は，アルファベットまたは下線（「\\_」）である<br>3. アルファベットの大文字と小文字は区別される<br>4. and, not, if, for, while, True, False など Python に組み込まれたキーワード（予約語）は使えない<br><br>変数の例（p.24, 表 2.6）"
   ]
  },
  {
   "cell_type": "markdown",
   "metadata": {},
   "source": [
    "| <span style=\"font-size: 150%;\">正しい例 | <span style=\"font-size: 150%;\">誤りの例 |\n",
    "| :---: | :---: |\n",
    "| <span style=\"font-size: 150%;\">abc | <span style=\"font-size: 150%;\">2a |\n",
    "| <span style=\"font-size: 150%;\">no_2 | <span style=\"font-size: 150%;\">no.2 |\n",
    "| <span style=\"font-size: 150%;\">x2__xyz | <span style=\"font-size: 150%;\">for |"
   ]
  },
  {
   "cell_type": "markdown",
   "metadata": {},
   "source": [
    "### 【注意】<br>(1) Python では，日本語を含む全角文字も変数名として使える．しかし，国内外での業務におけるファイル共有や他者との PC 環境差を考慮すると，<span style=\"color: red; \">全角文字を変数名に使うことは避けるべきである</span>．以後，混乱を避けるため，テキストや講義資料においては，変数名には日本語の全角文字を使わず，半角英数字を用いる．<br>(2) 変数名を付ける必要がない場合は，下線（「\\_」）１文字の変数名を使うことがある．"
   ]
  },
  {
   "cell_type": "markdown",
   "metadata": {},
   "source": [
    "### 2.4.2 変数への代入<br><br>変数に数値を割り当てることを「代入」と呼ぶ．代入には，演算子「=」が使われる．"
   ]
  },
  {
   "cell_type": "code",
   "execution_count": null,
   "metadata": {},
   "outputs": [],
   "source": [
    "# 代入操作では，何も表示されない（つまり，この Code セルを実行しても Out 欄が現れない）\n",
    "a=100"
   ]
  },
  {
   "cell_type": "code",
   "execution_count": null,
   "metadata": {},
   "outputs": [],
   "source": [
    "# \"a=100\" と入力された上の Code セルを実行した上で，この Code セルを実行して a を評価すると，a に代入された値 100 が出力される\n",
    "a"
   ]
  },
  {
   "cell_type": "code",
   "execution_count": null,
   "metadata": {},
   "outputs": [],
   "source": [
    "# \"a=100\" と入力された上の Code セルを実行した上で，この Code セルを実行して 2*a を評価すると，a に代入された値 100 に 2 をかけた値が出力される\n",
    "2*a"
   ]
  },
  {
   "cell_type": "markdown",
   "metadata": {},
   "source": [
    "### 正しくない変数名をつけた場合，エラーが出る（表 2.6）．下２つの Code セルも各自実行し，エラーが出ることを確認せよ．"
   ]
  },
  {
   "cell_type": "code",
   "execution_count": 1,
   "metadata": {
    "scrolled": true
   },
   "outputs": [
    {
     "ename": "SyntaxError",
     "evalue": "invalid syntax (<ipython-input-1-c198bf7f0019>, line 1)",
     "output_type": "error",
     "traceback": [
      "\u001b[1;36m  File \u001b[1;32m\"<ipython-input-1-c198bf7f0019>\"\u001b[1;36m, line \u001b[1;32m1\u001b[0m\n\u001b[1;33m    2a=200\u001b[0m\n\u001b[1;37m     ^\u001b[0m\n\u001b[1;31mSyntaxError\u001b[0m\u001b[1;31m:\u001b[0m invalid syntax\n"
     ]
    }
   ],
   "source": [
    "2a=200"
   ]
  },
  {
   "cell_type": "code",
   "execution_count": null,
   "metadata": {},
   "outputs": [],
   "source": [
    "no.2=100"
   ]
  },
  {
   "cell_type": "code",
   "execution_count": null,
   "metadata": {},
   "outputs": [],
   "source": [
    "for=100"
   ]
  },
  {
   "cell_type": "markdown",
   "metadata": {},
   "source": [
    "### 【補足１】変数の削除<br>2.4.2 節冒頭での \"a=100\" と入力された Code セルを実行して代入操作を完了した状態で，以下の Code セルを順次実行しよう．すると，一度定義した変数 a が削除され、定義される前の状態に戻る．"
   ]
  },
  {
   "cell_type": "code",
   "execution_count": null,
   "metadata": {},
   "outputs": [],
   "source": [
    "# 代入操作と同様に，削除操作でも，何も表示されない（つまり，この Code セルを実行しても Out 欄が現れない）\n",
    "del a"
   ]
  },
  {
   "cell_type": "code",
   "execution_count": null,
   "metadata": {},
   "outputs": [],
   "source": [
    "# 削除操作となる上の Code セルを実行した上で，このセルを実行して a を評価すると，元々代入された値 100 が削除されているため，\n",
    "# \"NameError: name 'a' is not defined\" といった未定義エラーが出る\n",
    "a"
   ]
  },
  {
   "cell_type": "markdown",
   "metadata": {},
   "source": [
    "### 【補足２】同じ文字への複数回の代入操作による値の上書き（2.4.4 節や 3.3 節も参照）<br>１つの文字への複数回の代入操作により，値の上書きを行える．この際，補足１の変数削除を逐一行う必要はない．"
   ]
  },
  {
   "cell_type": "code",
   "execution_count": null,
   "metadata": {},
   "outputs": [],
   "source": [
    "b=5      # b に 5 を代入\n",
    "print(b) # 直前の行で 5 が代入された b を出力\n",
    "b=b+6    # b に b+6，すなわち，5+6(=11) を代入\n",
    "print(b) # 直前の行で 11 が代入された b を出力\n",
    "b=b+7    # b に b+7，すなわち，11+7(=18) を代入\n",
    "print(b) # 直前の行で 18 が代入された b を出力"
   ]
  },
  {
   "cell_type": "markdown",
   "metadata": {},
   "source": [
    "### 2.4.3 変数の型<br><br>変数には，数値や文字などの「型」がある．Python では，代入の際に自動的に型を判別している．<br><br>変数の型の例（p.25, 表 2.7）＜リストや辞書については，第９回以降にふれる＞"
   ]
  },
  {
   "cell_type": "markdown",
   "metadata": {},
   "source": [
    "| <span style=\"font-size: 150%;\">表示 | <span style=\"font-size: 150%;\">型名 | <span style=\"font-size: 150%;\">型に属する例 |\n",
    "|:---:|:---:|:---:|\n",
    "| <span style=\"font-size: 150%;\">int | <span style=\"font-size: 150%;\">整数 | <span style=\"font-size: 150%;\">-100, 0, 2000\n",
    "| <span style=\"font-size: 150%;\">float | <span style=\"font-size: 150%;\">実数（小数） | <span style=\"font-size: 150%;\">-3.5, -2.01, 0.00001, 0.6\n",
    "| <span style=\"font-size: 150%;\">sty | <span style=\"font-size: 150%;\">文字列 | <span style=\"font-size: 150%;\">Hello World, Python, 日本語\n",
    "| <span style=\"font-size: 150%;\">list | <span style=\"font-size: 150%;\">リスト | <span style=\"font-size: 150%;\">[1, 2], [‘A’, ‘B’, ‘Hello World’]\n",
    "| <span style=\"font-size: 150%;\">dict | <span style=\"font-size: 150%;\">辞書 | <span style=\"font-size: 150%;\">{‘id’: 1, ‘Name’: ‘Enatsu’, ‘授業担当リスト’: [‘プログラ’, ‘微積’]}"
   ]
  },
  {
   "cell_type": "markdown",
   "metadata": {},
   "source": [
    "### type() を使うと，変数の型を調べることができる．<br><br>例１．整数 $-100$ は int として認識される．"
   ]
  },
  {
   "cell_type": "code",
   "execution_count": null,
   "metadata": {},
   "outputs": [],
   "source": [
    "a=-100 # a に 100 を代入\n",
    "a      # 確認のため，a を出力"
   ]
  },
  {
   "cell_type": "code",
   "execution_count": null,
   "metadata": {},
   "outputs": [],
   "source": [
    "type(a) # 上の Code セルを実行した上で，a の型を出力"
   ]
  },
  {
   "cell_type": "markdown",
   "metadata": {},
   "source": [
    "### 例２．数 $234.56$ は floatとして認識される．"
   ]
  },
  {
   "cell_type": "code",
   "execution_count": null,
   "metadata": {},
   "outputs": [],
   "source": [
    "f=234.56 # f に 234.56 を代入\n",
    "f        # 確認のため，f を出力"
   ]
  },
  {
   "cell_type": "code",
   "execution_count": null,
   "metadata": {},
   "outputs": [],
   "source": [
    "type(f) # 上の Code セルを実行した上で，f の型を出力"
   ]
  },
  {
   "cell_type": "markdown",
   "metadata": {},
   "source": [
    "### 例３．\"...（文字列）\" は str として認識される．"
   ]
  },
  {
   "cell_type": "code",
   "execution_count": null,
   "metadata": {},
   "outputs": [],
   "source": [
    "s=\"Hello World\" # s に \"Hello World\" を代入\n",
    "s               # 確認のため，s を出力"
   ]
  },
  {
   "cell_type": "code",
   "execution_count": null,
   "metadata": {},
   "outputs": [],
   "source": [
    "type(s) # 上の Code セルを実行した上で，s の型を出力"
   ]
  },
  {
   "cell_type": "markdown",
   "metadata": {},
   "source": [
    "### 【注意】<br>(1) int と float の数値変数の間では，演算が可能である．<br>(2) 数値と文字列といった，型の異なる変数同士で演算を行うとエラーが出る．<br>(3) 型が同じ変数同士では演算ができるため，数値型の a を文字列に変換することで連結することが可能となる．"
   ]
  },
  {
   "cell_type": "code",
   "execution_count": null,
   "metadata": {},
   "outputs": [],
   "source": [
    "# (1) 例１と例２の１行目の代入操作を実行した上で，以下を実行すると，-100+234.56 の値が出力される\n",
    "a+f"
   ]
  },
  {
   "cell_type": "code",
   "execution_count": null,
   "metadata": {},
   "outputs": [],
   "source": [
    "# (2) 例１と例３の１行目の代入操作を実行した上で，以下を実行しても，\n",
    "# \"TypeError: unsupported operand type(s) for +: 'int' and 'str'\" といった Type 相違のエラーが出る\n",
    "a+s"
   ]
  },
  {
   "cell_type": "code",
   "execution_count": null,
   "metadata": {},
   "outputs": [],
   "source": [
    "# (3) 例１と例３の１行目の代入操作を実行した上で，以下を実行してみよう．\n",
    "# 関数 str() については，後述の 2.5.2 節を参照しよう．\n",
    "s+str(a)"
   ]
  },
  {
   "cell_type": "markdown",
   "metadata": {},
   "source": [
    "### 2.4.4 複合演算子<br><br>計算と代入を同時に行う演算子を「複合演算子」と呼ぶ．"
   ]
  },
  {
   "cell_type": "code",
   "execution_count": null,
   "metadata": {},
   "outputs": [],
   "source": [
    "a = 35    # a に 35 を代入\n",
    "a = a + 5 # a に a+5，すなわち，35+5 を代入\n",
    "a         # 直前の行で 35+5 が代入された a を出力"
   ]
  },
  {
   "cell_type": "markdown",
   "metadata": {},
   "source": [
    "### 上記と同じことを，演算子「+=」を使って次のように書ける．"
   ]
  },
  {
   "cell_type": "code",
   "execution_count": null,
   "metadata": {},
   "outputs": [],
   "source": [
    "a = 35  # a に 35 を代入\n",
    "a += 5  # a に a+5，すなわち，35+5 を代入\n",
    "a       # 直前の行で 35+5 が代入された a を出力"
   ]
  },
  {
   "cell_type": "markdown",
   "metadata": {},
   "source": [
    "### 複合演算子（p.27, 表 2.8）"
   ]
  },
  {
   "cell_type": "markdown",
   "metadata": {},
   "source": [
    "| <span style=\"font-size: 150%;\">複合演算子 | <span style=\"font-size: 150%;\">意味 | <span style=\"font-size: 150%;\">例 | <span style=\"font-size: 150%;\">説明 |\n",
    "|:---:|:---|:---|:---|\n",
    "| <span style=\"font-size: 150%;\">+= | <span style=\"font-size: 150%;\">加算代入 | <span style=\"font-size: 150%;\"> x += y | <span style=\"font-size: 150%;\">$x$ に $x+y$ を代入 |\n",
    "| <span style=\"font-size: 150%;\">-= | <span style=\"font-size: 150%;\">減算代入 | <span style=\"font-size: 150%;\"> x -= y | <span style=\"font-size: 150%;\">$x$ に $x-y$ を代入 |\n",
    "| <span style=\"font-size: 150%;\">*= | <span style=\"font-size: 150%;\">乗算代入 | <span style=\"font-size: 150%;\"> x \\*= y | <span style=\"font-size: 150%;\">$x$ に $x \\times y$ を代入 |\n",
    "| <span style=\"font-size: 150%;\">/= | <span style=\"font-size: 150%;\">除算代入 | <span style=\"font-size: 150%;\"> x /= y | <span style=\"font-size: 150%;\">$x$ に $x \\div y$ を代入 |\n",
    "| <span style=\"font-size: 150%;\">%= | <span style=\"font-size: 150%;\">剰余代入 | <span style=\"font-size: 150%;\"> x %= y | <span style=\"font-size: 150%;\">$x$ に $x \\div y$ の余りを代入 |\n",
    "| <span style=\"font-size: 150%;\">**= | <span style=\"font-size: 150%;\">累乗代入 | <span style=\"font-size: 150%;\"> x **= y | <span style=\"font-size: 150%;\">$x$ に $x^y$ を代入 |"
   ]
  },
  {
   "cell_type": "markdown",
   "metadata": {},
   "source": [
    "### 例１．乗算代入の演算子「\\*=」"
   ]
  },
  {
   "cell_type": "code",
   "execution_count": 1,
   "metadata": {},
   "outputs": [
    {
     "data": {
      "text/plain": [
       "-525"
      ]
     },
     "execution_count": 1,
     "metadata": {},
     "output_type": "execute_result"
    }
   ],
   "source": [
    "a = 105  # a に 105 を代入\n",
    "a *= -5  # a に -5*a，すなわち，-5*105 を代入\n",
    "a        # 直前の行で -5*105 が代入された a を出力"
   ]
  },
  {
   "cell_type": "markdown",
   "metadata": {},
   "source": [
    "### 例２．累乗代入の演算子「\\*\\*=」＜乗算代入の演算子「\\*=」と混同しないように！＞"
   ]
  },
  {
   "cell_type": "code",
   "execution_count": null,
   "metadata": {},
   "outputs": [],
   "source": [
    "a = -4   # a に -4 を代入\n",
    "a **= 3  # a に a^3，すなわち，(-4)^3 を代入\n",
    "a        # 直前の行で (-4)^3 が代入された a を出力"
   ]
  },
  {
   "cell_type": "markdown",
   "metadata": {},
   "source": [
    "### 2.4.5 複合演算子を使った文字列の連結<br><br>加算代入の演算子「+=」を使うと，文字列の操作を簡単に行える．"
   ]
  },
  {
   "cell_type": "code",
   "execution_count": null,
   "metadata": {},
   "outputs": [],
   "source": [
    "s = \"Python\"                 # s に \"Python\" を代入\n",
    "s += \" によるプログラミング\" # s に \"Python\"+\" によるプログラミング\"，すなわち，\"Python によるプログラミング\" を代入\n",
    "s                            # 直前の行で \"Python によるプログラミング\" が代入された s を出力"
   ]
  },
  {
   "cell_type": "markdown",
   "metadata": {},
   "source": [
    "## 2.5 表示関数（p.28～）"
   ]
  },
  {
   "cell_type": "markdown",
   "metadata": {},
   "source": [
    "### Jupyter Notebook では，最後に評価された値が出力される．一方，途中経過などの値を表示したい場合は，表示関数 print() を使う．"
   ]
  },
  {
   "cell_type": "code",
   "execution_count": 1,
   "metadata": {},
   "outputs": [
    {
     "name": "stdout",
     "output_type": "stream",
     "text": [
      "Hello World\n"
     ]
    }
   ],
   "source": [
    "print(\"Hello World\")"
   ]
  },
  {
   "cell_type": "markdown",
   "metadata": {},
   "source": [
    "### print() では，カンマで区切ることで，複数の項目を表示できる．"
   ]
  },
  {
   "cell_type": "code",
   "execution_count": 2,
   "metadata": {},
   "outputs": [
    {
     "name": "stdout",
     "output_type": "stream",
     "text": [
      "Hello World 2021\n",
      "Hello World  2021\n"
     ]
    }
   ],
   "source": [
    "print(\"Hello World\",2021)\n",
    "print(\"Hello World \",2021) # \"...\" 内では，文字列に加えて空白スペースも反映される"
   ]
  },
  {
   "cell_type": "markdown",
   "metadata": {},
   "source": [
    "### 2.5.1 表示関数の利用<br><br>表示関数 print() を使って，計算結果を表示できる．<br><br>例１．13.4+15 の結果を表示する"
   ]
  },
  {
   "cell_type": "code",
   "execution_count": null,
   "metadata": {},
   "outputs": [],
   "source": [
    "print(13.4+15)"
   ]
  },
  {
   "cell_type": "markdown",
   "metadata": {},
   "source": [
    "### 例２．計算結果が入っている変数を表示する"
   ]
  },
  {
   "cell_type": "code",
   "execution_count": null,
   "metadata": {},
   "outputs": [],
   "source": [
    "a=13.4+15\n",
    "print(a)                     # 単に a の値のみを出力\n",
    "print(\"答えは\",a,\"である．\") # a の値だけでなく，周囲に文章を添えて出力"
   ]
  },
  {
   "cell_type": "markdown",
   "metadata": {},
   "source": [
    "### 例３．複数の変数の値を表示する"
   ]
  },
  {
   "cell_type": "code",
   "execution_count": null,
   "metadata": {},
   "outputs": [],
   "source": [
    "a=13.4-15\n",
    "b=13.4+15\n",
    "print(\"答えは，a=\",a,\", b=\",b,\"である．\")"
   ]
  },
  {
   "cell_type": "markdown",
   "metadata": {},
   "source": [
    "### 2.5.2 数字から文字列への変換<br><br>関数 str() を使って，数字を文字列に変換できる．"
   ]
  },
  {
   "cell_type": "code",
   "execution_count": 1,
   "metadata": {},
   "outputs": [
    {
     "data": {
      "text/plain": [
       "'13'"
      ]
     },
     "execution_count": 1,
     "metadata": {},
     "output_type": "execute_result"
    }
   ],
   "source": [
    "str(13)"
   ]
  },
  {
   "cell_type": "markdown",
   "metadata": {},
   "source": [
    "### 表示関数 print() は，書式を整えて計算結果などを出力する場合に利用できる．<br><br>例．$\\frac{906}{302}+10$ を計算し，「ANSWER = 計算結果」という形式で印字する．"
   ]
  },
  {
   "cell_type": "code",
   "execution_count": 2,
   "metadata": {},
   "outputs": [
    {
     "name": "stdout",
     "output_type": "stream",
     "text": [
      "ANSWER = 13.0\n"
     ]
    }
   ],
   "source": [
    "print(\"ANSWER = \"+str(906/302+10))"
   ]
  },
  {
   "cell_type": "markdown",
   "metadata": {},
   "source": [
    "### 上と同じ出力操作を，print() の複数表示の機能で実現できる．この場合は，結果の数値をそのまま利用できるため，文字列への変換は不要である．"
   ]
  },
  {
   "cell_type": "code",
   "execution_count": null,
   "metadata": {},
   "outputs": [],
   "source": [
    "print(\"ANSWER = \",906/302+10)"
   ]
  },
  {
   "cell_type": "markdown",
   "metadata": {},
   "source": [
    "## <span style=\"color: red; \">提出課題＜締切：５月１９日（金）２３：５９＞</span><br><br>prog04_kadai_sample.ipynb 内の問に答えよ．<br>prog04_kadai_sample.ipynb 内の空欄すべてを埋め終えたら，ファイル名を<br><span style=\"color: blue; \">「prog04_kadai_sample」から「prog04_kadai_892〇〇〇〇」<br>（〇〇〇〇：半角の学籍番号下４桁）<br>へ変更し</span>，江夏の宛先へメール添付によりファイルを送信すること．"
   ]
  }
 ],
 "metadata": {
  "kernelspec": {
   "display_name": "Python 3",
   "language": "python",
   "name": "python3"
  },
  "language_info": {
   "codemirror_mode": {
    "name": "ipython",
    "version": 3
   },
   "file_extension": ".py",
   "mimetype": "text/x-python",
   "name": "python",
   "nbconvert_exporter": "python",
   "pygments_lexer": "ipython3",
   "version": "3.8.5"
  }
 },
 "nbformat": 4,
 "nbformat_minor": 4
}
