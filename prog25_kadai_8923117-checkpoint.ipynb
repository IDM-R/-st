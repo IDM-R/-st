{
 "cells": [
  {
   "cell_type": "markdown",
   "id": "7141356f",
   "metadata": {},
   "source": [
    "## 講義（後期，第１１回）レポート<br>学籍番号：8923117　氏名：三好琉希"
   ]
  },
  {
   "cell_type": "markdown",
   "id": "65e61536",
   "metadata": {},
   "source": [
    "## 次の問に答えよ．ただし，全ての問において，入力したプログラムを自身で実行し，<span style=\"color: blue; \">実行によって出力される表示結果も必ず残したままにすること</span>．今回の問は，全て解答必須の課題とする．<br><br>課題へ取り組む前に，以下の Code セルを実行すること．"
   ]
  },
  {
   "cell_type": "code",
   "execution_count": 1,
   "id": "a4b6cc9e",
   "metadata": {},
   "outputs": [],
   "source": [
    "import random\n",
    "\n",
    "%matplotlib inline\n",
    "import matplotlib.pyplot as plt\n",
    "\n",
    "import statistics"
   ]
  },
  {
   "cell_type": "markdown",
   "id": "9a5dbb62",
   "metadata": {},
   "source": [
    "## 問１．以下の設定で，豚汁（6 人分）の材料費を事前に見積もりたい．豚汁の材料のうち，肉，味噌，ゴボウの値段は，右図で与えられた確率分布の下で決まるとする．"
   ]
  },
  {
   "cell_type": "code",
   "execution_count": 2,
   "id": "583aff2c",
   "metadata": {},
   "outputs": [
    {
     "data": {
      "text/html": [
       "<img src=\"https://www.rs.tus.ac.jp/yenatsu/idm2021prog/miso.jpg\"/>"
      ],
      "text/plain": [
       "<IPython.core.display.Image object>"
      ]
     },
     "execution_count": 2,
     "metadata": {},
     "output_type": "execute_result"
    }
   ],
   "source": [
    "from IPython.display import Image\n",
    "Image(url= 'https://www.rs.tus.ac.jp/yenatsu/idm2021prog/miso.jpg')"
   ]
  },
  {
   "cell_type": "markdown",
   "id": "1e4993a4",
   "metadata": {},
   "source": [
    "## このとき，次の問に答えよ．<br><br>（１）講義ノート内の Step 3 に倣って，肉，味噌，ゴボウの値段と確率分布を引数として豚汁の費用のサンプル値を与える関数 Misocost() を定義せよ．"
   ]
  },
  {
   "cell_type": "code",
   "execution_count": 3,
   "id": "60a4a11a",
   "metadata": {},
   "outputs": [],
   "source": [
    "# （１）の入力欄\n",
    "\n",
    "def Misocost(x1, P1, x2, P2, x3, P3):\n",
    "    x1_samples = random.choices(x1, weights = P1, k=1)\n",
    "    x1i = x1_samples[0]\n",
    "    x2_samples = random.choices(x2, weights = P2, k=1)\n",
    "    x2i = x2_samples[0]\n",
    "    x3_samples = random.choices(x3, weights = P3, k=1)\n",
    "    x3i = x3_samples[0]\n",
    "    w = 1.5*x1i + 0.7*x2i + 0.5*x3i + 145\n",
    "    return w"
   ]
  },
  {
   "cell_type": "markdown",
   "id": "080b481d",
   "metadata": {},
   "source": [
    "## （２）... 部を埋める形で，上記画像の設定に沿った３つの材料の値段と確率分布から成る６つの引数を関数 Misocost() を代入したときの実行結果を表示せよ．"
   ]
  },
  {
   "cell_type": "code",
   "execution_count": 4,
   "id": "0e53c56a",
   "metadata": {},
   "outputs": [
    {
     "data": {
      "text/plain": [
       "421.0"
      ]
     },
     "execution_count": 4,
     "metadata": {},
     "output_type": "execute_result"
    }
   ],
   "source": [
    "# （２）の入力欄\n",
    "\n",
    "### 肉，味噌，ゴボウの値段と確率分布に対応する６つのリストの定義 ###\n",
    "x = [100, 120, 140]\n",
    "Px = [0.30, 0.55, 0.15]\n",
    "y=[60,70,80]\n",
    "Py=[0.55,0.39,0.06]\n",
    "z=[140,170,200]\n",
    "Pz =[0.35,0.45,0.20]\n",
    "\n",
    "### 上記６つのリストを関数 Misocost() に引数として代入し，実行 ###\n",
    "Misocost(x,Px,y,Py,z,Pz)"
   ]
  },
  {
   "cell_type": "markdown",
   "id": "c9cf790c",
   "metadata": {},
   "source": [
    "## （３）講義ノート最下部のプログラムに倣って，関数 Misocost() を用いて，豚汁の費用のサンプル値 w を記録するリストを costs として，関数 Misocost() を 100,000 回呼び出して w を記録せよ．その後，費用の分布の平均・分散とヒストグラムも与えよ．必要に応じて，複数の Code セルを用いて良い．なお，豚汁の英訳は「miso soup with pork and vegetables」である．"
   ]
  },
  {
   "cell_type": "code",
   "execution_count": 6,
   "id": "a7e8819e",
   "metadata": {},
   "outputs": [
    {
     "name": "stdout",
     "output_type": "stream",
     "text": [
      "豚汁（6 人分）の材料費のサンプル値の平均は 448.86698 円です。\n",
      "豚汁（6 人分）の材料費のサンプル値の分散は 522.3536656796 円です。\n"
     ]
    },
    {
     "data": {
      "text/plain": [
       "<function matplotlib.pyplot.show(close=None, block=None)>"
      ]
     },
     "execution_count": 6,
     "metadata": {},
     "output_type": "execute_result"
    },
    {
     "data": {
      "image/png": "[encoded data removed]",
      "text/plain": [
       "<Figure size 640x480 with 1 Axes>"
      ]
     },
     "metadata": {},
     "output_type": "display_data"
    }
   ],
   "source": [
    "# （３）の入力欄\n",
    "\n",
    "### 関数 Misocost() を用いて，豚汁の費用のサンプル値 w を記録するリスト costs を作成 ###\n",
    "costs = []\n",
    "for i in range(100000):\n",
    "    w = Misocost(x, Px, y, Py, z, Pz)\n",
    "    costs.append(w)\n",
    "\n",
    "costs.sort()\n",
    "\n",
    "### 平均と分散の計算＆表示 ###\n",
    "print('豚汁（6 人分）の材料費のサンプル値の平均は',statistics.mean(costs),'円です。')\n",
    "print('豚汁（6 人分）の材料費のサンプル値の分散は',statistics.pvariance(costs),'円です。')\n",
    "\n",
    "### ヒストグラム描画 ###\n",
    "plt.hist(costs)\n",
    "plt.title(\"miso soup with pork and vegetables\", fontsize = 15)\n",
    "plt.axvline(x=statistics.mean(costs), ymin=0, ymax=1.0, color='k', linestyle='dashed', linewidth=1)\n",
    "\n",
    "plt.show\n"
   ]
  },
  {
   "cell_type": "code",
   "execution_count": null,
   "id": "66361bff",
   "metadata": {},
   "outputs": [],
   "source": []
  }
 ],
 "metadata": {
  "kernelspec": {
   "display_name": "Python 3 (ipykernel)",
   "language": "python",
   "name": "python3"
  },
  "language_info": {
   "codemirror_mode": {
    "name": "ipython",
    "version": 3
   },
   "file_extension": ".py",
   "mimetype": "text/x-python",
   "name": "python",
   "nbconvert_exporter": "python",
   "pygments_lexer": "ipython3",
   "version": "3.10.9"
  }
 },
 "nbformat": 4,
 "nbformat_minor": 5
}
