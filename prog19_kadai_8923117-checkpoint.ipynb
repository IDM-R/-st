{
 "cells": [
  {
   "cell_type": "markdown",
   "id": "628481bf",
   "metadata": {},
   "source": [
    "## 講義（後期，第５回）レポート<br>学籍番号：8923117　氏名：三好琉希"
   ]
  },
  {
   "cell_type": "markdown",
   "id": "6d74aaf1",
   "metadata": {},
   "source": [
    "## 次の問に答えよ．ただし，全ての問において，入力したプログラムを自身で実行し，<span style=\"color: blue; \">実行によって出力される表示結果も必ず残したままにすること</span>．今回の問は，全て解答必須の課題とする．"
   ]
  },
  {
   "cell_type": "markdown",
   "id": "85bc267e",
   "metadata": {},
   "source": [
    "## 問１－１．第５回講義ノートの 9.1 節の<span style=\"color: blue; \">解法２</span>を参考に，引数を（数を要素とする）リストとした<span style=\"color: blue; \">大きい順の</span>整列ソートを含めた関数を作成せよ．なお，Steps 1, 2 において，所定の入力欄以外の文章を書き換えてはならない．<br><br>Step 1．インデックス s 以降で，リスト l（エル）の要素の最大値があるインデックスを得る関数 <span style=\"color: blue; \">max</span>_idx(l, s) を定義する．"
   ]
  },
  {
   "cell_type": "code",
   "execution_count": 1,
   "id": "f439f340",
   "metadata": {},
   "outputs": [],
   "source": [
    "def max_idx(l, s):\n",
    "    m = l[s]  \n",
    "    m_idx = s\n",
    "    \n",
    "    for i in range(s, len(l)):\n",
    "    ### プログラム入力欄：ここから ###\n",
    "        if m < l[i]: \n",
    "            m = l[i]\n",
    "            m_idx = i\n",
    "    \n",
    "    \n",
    "    ### プログラム入力欄：ここまで ###\n",
    "    return m_idx"
   ]
  },
  {
   "cell_type": "markdown",
   "id": "d7384e07",
   "metadata": {},
   "source": [
    "## Step 2．ソート対象の範囲の下限を変更することによる繰り返し処理を，while 文を使って効率よく行う．また，任意のリストに対してソートを行えるように，引数をリストとした<span style=\"color: blue; \">大きい順の</span>整列ソートを含めた関数 selection_sort_<span style=\"color: blue; \">max</span>() を定義する．"
   ]
  },
  {
   "cell_type": "code",
   "execution_count": 20,
   "id": "bff541c9",
   "metadata": {},
   "outputs": [],
   "source": [
    "def selection_sort_max(l):\n",
    "    sort_start = 0\n",
    "    \n",
    "    ### プログラム入力欄：ここから ###\n",
    "    while sort_start < len(l):\n",
    "        ma = max_idx(l, sort_start)\n",
    "        \n",
    "        tmp = l[sort_start]\n",
    "        l[sort_start] = l[ma]\n",
    "        l[ma] = tmp\n",
    "        \n",
    "        sort_start += 1"
   ]
  },
  {
   "cell_type": "markdown",
   "id": "cafceead",
   "metadata": {},
   "source": [
    "## 問１－２．第５回講義ノートの 9.2 節を参考に，0 から 9999 までの整数から成る 100 個の乱数を重複なく選択し，問１－１で定義した関数を適用せよ．ただし，講義ノート内でも行われている通り，<span style=\"color: blue; \">リスト要素が大きい順に並べ替えられたことの出力結果も表示する</span>こと．必要に応じて，複数の Code セルを用いて良く，乱数から成るリストの名前は，各自で決めて良い．"
   ]
  },
  {
   "cell_type": "code",
   "execution_count": 21,
   "id": "03df16a4",
   "metadata": {},
   "outputs": [],
   "source": [
    "import random"
   ]
  },
  {
   "cell_type": "code",
   "execution_count": 22,
   "id": "c98fe98a",
   "metadata": {},
   "outputs": [
    {
     "data": {
      "text/plain": [
       "[7280,\n",
       " 9800,\n",
       " 297,\n",
       " 1024,\n",
       " 3045,\n",
       " 1820,\n",
       " 2296,\n",
       " 5638,\n",
       " 9735,\n",
       " 8679,\n",
       " 6968,\n",
       " 8166,\n",
       " 9358,\n",
       " 5343,\n",
       " 96,\n",
       " 3658,\n",
       " 4349,\n",
       " 1472,\n",
       " 4536,\n",
       " 615,\n",
       " 3177,\n",
       " 154,\n",
       " 9647,\n",
       " 9689,\n",
       " 3922,\n",
       " 5829,\n",
       " 4555,\n",
       " 8164,\n",
       " 6564,\n",
       " 7478,\n",
       " 2809,\n",
       " 9641,\n",
       " 5602,\n",
       " 9331,\n",
       " 6384,\n",
       " 4862,\n",
       " 8836,\n",
       " 6431,\n",
       " 7434,\n",
       " 1277,\n",
       " 594,\n",
       " 3990,\n",
       " 526,\n",
       " 9629,\n",
       " 213,\n",
       " 982,\n",
       " 6296,\n",
       " 31,\n",
       " 112,\n",
       " 9048,\n",
       " 722,\n",
       " 3287,\n",
       " 1192,\n",
       " 4256,\n",
       " 3264,\n",
       " 270,\n",
       " 1063,\n",
       " 1067,\n",
       " 4161,\n",
       " 8122,\n",
       " 2870,\n",
       " 4746,\n",
       " 5199,\n",
       " 9517,\n",
       " 7584,\n",
       " 6756,\n",
       " 340,\n",
       " 6863,\n",
       " 380,\n",
       " 6081,\n",
       " 8847,\n",
       " 9845,\n",
       " 8150,\n",
       " 3716,\n",
       " 9051,\n",
       " 4073,\n",
       " 3330,\n",
       " 9042,\n",
       " 7671,\n",
       " 1639,\n",
       " 6850,\n",
       " 7635,\n",
       " 9994,\n",
       " 8681,\n",
       " 2922,\n",
       " 8117,\n",
       " 1207,\n",
       " 3065,\n",
       " 2741,\n",
       " 4581,\n",
       " 4371,\n",
       " 2990,\n",
       " 3179,\n",
       " 963,\n",
       " 1503,\n",
       " 1233,\n",
       " 2316,\n",
       " 6027,\n",
       " 3927,\n",
       " 6022]"
      ]
     },
     "execution_count": 22,
     "metadata": {},
     "output_type": "execute_result"
    }
   ],
   "source": [
    "list1=random.sample(list(range(10000)), k = 100)\n",
    "list1"
   ]
  },
  {
   "cell_type": "code",
   "execution_count": 23,
   "id": "46eab859",
   "metadata": {},
   "outputs": [],
   "source": [
    "selection_sort_max(list1)"
   ]
  },
  {
   "cell_type": "code",
   "execution_count": 24,
   "id": "799a2e05",
   "metadata": {},
   "outputs": [
    {
     "data": {
      "text/plain": [
       "[9994,\n",
       " 9845,\n",
       " 9800,\n",
       " 9735,\n",
       " 9689,\n",
       " 9647,\n",
       " 9641,\n",
       " 9629,\n",
       " 9517,\n",
       " 9358,\n",
       " 9331,\n",
       " 9051,\n",
       " 9048,\n",
       " 9042,\n",
       " 8847,\n",
       " 8836,\n",
       " 8681,\n",
       " 8679,\n",
       " 8166,\n",
       " 8164,\n",
       " 8150,\n",
       " 8122,\n",
       " 8117,\n",
       " 7671,\n",
       " 7635,\n",
       " 7584,\n",
       " 7478,\n",
       " 7434,\n",
       " 7280,\n",
       " 6968,\n",
       " 6863,\n",
       " 6850,\n",
       " 6756,\n",
       " 6564,\n",
       " 6431,\n",
       " 6384,\n",
       " 6296,\n",
       " 6081,\n",
       " 6027,\n",
       " 6022,\n",
       " 5829,\n",
       " 5638,\n",
       " 5602,\n",
       " 5343,\n",
       " 5199,\n",
       " 4862,\n",
       " 4746,\n",
       " 4581,\n",
       " 4555,\n",
       " 4536,\n",
       " 4371,\n",
       " 4349,\n",
       " 4256,\n",
       " 4161,\n",
       " 4073,\n",
       " 3990,\n",
       " 3927,\n",
       " 3922,\n",
       " 3716,\n",
       " 3658,\n",
       " 3330,\n",
       " 3287,\n",
       " 3264,\n",
       " 3179,\n",
       " 3177,\n",
       " 3065,\n",
       " 3045,\n",
       " 2990,\n",
       " 2922,\n",
       " 2870,\n",
       " 2809,\n",
       " 2741,\n",
       " 2316,\n",
       " 2296,\n",
       " 1820,\n",
       " 1639,\n",
       " 1503,\n",
       " 1472,\n",
       " 1277,\n",
       " 1233,\n",
       " 1207,\n",
       " 1192,\n",
       " 1067,\n",
       " 1063,\n",
       " 1024,\n",
       " 982,\n",
       " 963,\n",
       " 722,\n",
       " 615,\n",
       " 594,\n",
       " 526,\n",
       " 380,\n",
       " 340,\n",
       " 297,\n",
       " 270,\n",
       " 213,\n",
       " 154,\n",
       " 112,\n",
       " 96,\n",
       " 31]"
      ]
     },
     "execution_count": 24,
     "metadata": {},
     "output_type": "execute_result"
    }
   ],
   "source": [
    "list1"
   ]
  },
  {
   "cell_type": "code",
   "execution_count": null,
   "id": "5fcc5702",
   "metadata": {},
   "outputs": [],
   "source": []
  }
 ],
 "metadata": {
  "kernelspec": {
   "display_name": "Python 3 (ipykernel)",
   "language": "python",
   "name": "python3"
  },
  "language_info": {
   "codemirror_mode": {
    "name": "ipython",
    "version": 3
   },
   "file_extension": ".py",
   "mimetype": "text/x-python",
   "name": "python",
   "nbconvert_exporter": "python",
   "pygments_lexer": "ipython3",
   "version": "3.10.9"
  }
 },
 "nbformat": 4,
 "nbformat_minor": 5
}
