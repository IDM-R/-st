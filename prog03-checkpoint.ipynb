{
 "cells": [
  {
   "cell_type": "markdown",
   "metadata": {
    "scrolled": true
   },
   "source": [
    "## 講義（第３回）ノート　＜２章　計算してみよう，2.1節～2.3節＞　提出課題は最下部を参照"
   ]
  },
  {
   "cell_type": "markdown",
   "metadata": {},
   "source": [
    "## 2.1 Jupyter Notebook での計算（p.17～）"
   ]
  },
  {
   "cell_type": "markdown",
   "metadata": {},
   "source": [
    "### 簡単な計算例１（+：足し算，-：引き算，\\*：かけ算，\\/：割り算）\n",
    "### ２つ目の計算では，正しい値 7.44 とは異なる値が出力される．こうした出力が得られる理由は，計算機内部での計算精度の限界のために生じた誤差が計算過程に影響しているためである．"
   ]
  },
  {
   "cell_type": "code",
   "execution_count": 1,
   "metadata": {},
   "outputs": [
    {
     "data": {
      "text/plain": [
       "4.0"
      ]
     },
     "execution_count": 1,
     "metadata": {},
     "output_type": "execute_result"
    }
   ],
   "source": [
    "1 + 2 * 3 - 6 / 2"
   ]
  },
  {
   "cell_type": "code",
   "execution_count": 2,
   "metadata": {
    "scrolled": true
   },
   "outputs": [
    {
     "data": {
      "text/plain": [
       "7.4399999999999995"
      ]
     },
     "execution_count": 2,
     "metadata": {},
     "output_type": "execute_result"
    }
   ],
   "source": [
    "3.14 + 4.3"
   ]
  },
  {
   "cell_type": "markdown",
   "metadata": {},
   "source": [
    "### 簡単な計算例２（a%b：a を b で割った余り, a**b：a の b 乗）"
   ]
  },
  {
   "cell_type": "code",
   "execution_count": 3,
   "metadata": {},
   "outputs": [
    {
     "data": {
      "text/plain": [
       "2"
      ]
     },
     "execution_count": 3,
     "metadata": {},
     "output_type": "execute_result"
    }
   ],
   "source": [
    "1118%3"
   ]
  },
  {
   "cell_type": "code",
   "execution_count": 4,
   "metadata": {
    "scrolled": true
   },
   "outputs": [
    {
     "data": {
      "text/plain": [
       "390625"
      ]
     },
     "execution_count": 4,
     "metadata": {},
     "output_type": "execute_result"
    }
   ],
   "source": [
    "5**8"
   ]
  },
  {
   "cell_type": "markdown",
   "metadata": {},
   "source": [
    "### 2.1.1 算術演算子と計算の優先順位<br><br>演算子の優先順位（p.19, 表 2.2）"
   ]
  },
  {
   "cell_type": "markdown",
   "metadata": {},
   "source": [
    "| <span style=\"font-size: 150%;\">優先順位 | <span style=\"font-size: 150%;\">演算子 |\n",
    "| :--- | :---: |\n",
    "| <span style=\"font-size: 150%;\">1 (高) | <span style=\"font-size: 150%;\"> ( &nbsp; &nbsp; ) |\n",
    "| <span style=\"font-size: 150%;\">2 &nbsp; ↑ | <span style=\"font-size: 150%;\"> \\*\\* |\n",
    "| <span style=\"font-size: 150%;\">3 &nbsp; ↓ | <span style=\"font-size: 150%;\"> \\* &nbsp; \\/ &nbsp; \\% |\n",
    "| <span style=\"font-size: 150%;\">4 (低) | <span style=\"font-size: 150%;\"> + &nbsp; - |"
   ]
  },
  {
   "cell_type": "markdown",
   "metadata": {},
   "source": [
    "### 【補足】コメントアウト<br>Code セルで，「 \\# 」マーク以降は行の終わりまでコンピュータは無視し，実行されない．"
   ]
  },
  {
   "cell_type": "code",
   "execution_count": 5,
   "metadata": {},
   "outputs": [
    {
     "data": {
      "text/plain": [
       "11"
      ]
     },
     "execution_count": 5,
     "metadata": {},
     "output_type": "execute_result"
    }
   ],
   "source": [
    "# 2*4(=2×4）を計算してから，3+8 を計算する\n",
    "3+2*4"
   ]
  },
  {
   "cell_type": "code",
   "execution_count": 6,
   "metadata": {},
   "outputs": [
    {
     "data": {
      "text/plain": [
       "20"
      ]
     },
     "execution_count": 6,
     "metadata": {},
     "output_type": "execute_result"
    }
   ],
   "source": [
    "# 3+2(=5）を計算してから，5*4(=5×4） を計算する\n",
    "(3+2)*4"
   ]
  },
  {
   "cell_type": "code",
   "execution_count": null,
   "metadata": {},
   "outputs": [],
   "source": [
    "2-3/4"
   ]
  },
  {
   "cell_type": "code",
   "execution_count": null,
   "metadata": {},
   "outputs": [],
   "source": [
    "(2-3)/4"
   ]
  },
  {
   "cell_type": "code",
   "execution_count": 7,
   "metadata": {},
   "outputs": [
    {
     "data": {
      "text/plain": [
       "43046721"
      ]
     },
     "execution_count": 7,
     "metadata": {},
     "output_type": "execute_result"
    }
   ],
   "source": [
    "# 2**4 (2 の 4 乗=16）を計算してから，3**16 (3 の 16 乗）を計算する\n",
    "3**2**4"
   ]
  },
  {
   "cell_type": "code",
   "execution_count": 8,
   "metadata": {},
   "outputs": [
    {
     "data": {
      "text/plain": [
       "6561"
      ]
     },
     "execution_count": 8,
     "metadata": {},
     "output_type": "execute_result"
    }
   ],
   "source": [
    "# 3**2 (3 の 2 乗=9）を計算してから，9**4 (9 の 4 乗）を計算する\n",
    "(3**2)**4"
   ]
  },
  {
   "cell_type": "code",
   "execution_count": null,
   "metadata": {},
   "outputs": [],
   "source": [
    "5**8%3"
   ]
  },
  {
   "cell_type": "code",
   "execution_count": null,
   "metadata": {},
   "outputs": [],
   "source": [
    "5**(8%3)"
   ]
  },
  {
   "cell_type": "markdown",
   "metadata": {},
   "source": [
    "### よくある計算式の間違い（p.19, 表 2.3）"
   ]
  },
  {
   "cell_type": "markdown",
   "metadata": {},
   "source": [
    "| <span style=\"font-size: 150%;\">数式 &nbsp;&nbsp;&nbsp;&nbsp;&nbsp;&nbsp;&nbsp;&nbsp;&nbsp;&nbsp;&nbsp;&nbsp;&nbsp;&nbsp;&nbsp;&nbsp;&nbsp;|<span style=\"font-size: 150%;\">正しいプログラム |<span style=\"font-size: 150%;\">誤った場合の振る舞い |\n",
    "|:---|:---|:---|\n",
    "|<span style=\"font-size: 150%;\">$2a+1$ |<span style=\"font-size: 150%;\">2 \\* a + 1| <span style=\"font-size: 150%;\"> \\* を忘れると，エラーになる |\n",
    "|<span style=\"font-size: 150%;\">$(b+1)(b-1)$ |<span style=\"font-size: 150%;\">(b+1) \\* (b-1)|<span style=\"font-size: 150%;\"> \\* を忘れると，エラーになる |\n",
    "|<span style=\"font-size: 150%;\">$\\displaystyle\\frac{a+1}{b(b+1)}$| <span style=\"font-size: 150%;\">(a+1) / (b \\* (b+1)) | <span style=\"font-size: 150%;\">分子全体・分母全体のカッコを忘れると，<br>まったく違う式になる |"
   ]
  },
  {
   "cell_type": "markdown",
   "metadata": {},
   "source": [
    "### 2.1.2 指数付き定数の表現<br><br>極めて大きな数値や極めて小さな数値を表現する場合は，「指数付き定数」を使用する．"
   ]
  },
  {
   "cell_type": "code",
   "execution_count": 9,
   "metadata": {},
   "outputs": [
    {
     "data": {
      "text/plain": [
       "1230.0"
      ]
     },
     "execution_count": 9,
     "metadata": {},
     "output_type": "execute_result"
    }
   ],
   "source": [
    "1.23E3"
   ]
  },
  {
   "cell_type": "code",
   "execution_count": 10,
   "metadata": {
    "scrolled": true
   },
   "outputs": [
    {
     "data": {
      "text/plain": [
       "0.05"
      ]
     },
     "execution_count": 10,
     "metadata": {},
     "output_type": "execute_result"
    }
   ],
   "source": [
    "5.0E-2"
   ]
  },
  {
   "cell_type": "code",
   "execution_count": null,
   "metadata": {},
   "outputs": [],
   "source": [
    "1.23E9"
   ]
  },
  {
   "cell_type": "code",
   "execution_count": null,
   "metadata": {},
   "outputs": [],
   "source": [
    "5.0E-3"
   ]
  },
  {
   "cell_type": "markdown",
   "metadata": {},
   "source": [
    "### 指数付き定数表記の誤り例（p.20, 表 2.4）"
   ]
  },
  {
   "cell_type": "markdown",
   "metadata": {},
   "source": [
    "| <span style=\"font-size: 150%;\">誤った表記| <span style=\"font-size: 150%;\">誤った点 | <span style=\"font-size: 150%;\">正しい表記 |\n",
    "|:---|:---|:---|\n",
    "|<span style=\"font-size: 150%;\">E9 |<span style=\"font-size: 150%;\">仮数部が 1 でも省略できない | <span style=\"font-size: 150%;\">1E9 |\n",
    "|<span style=\"font-size: 150%;\">1.23E0.4 |<span style=\"font-size: 150%;\">指数部は整数のみ| <span style=\"font-size: 150%;\">表記不可 |\n",
    "|<span style=\"font-size: 150%;\">5.0E(-3)|<span style=\"font-size: 150%;\">指数部にカッコは不要| <span style=\"font-size: 150%;\">5.0E-3 |\n",
    "|<span style=\"font-size: 150%;\">2.3\\*E4|<span style=\"font-size: 150%;\">仮数部と指数部の間の \\* は不要| <span style=\"font-size: 150%;\">2.3E4 |\n",
    "|<span style=\"font-size: 150%;\">5.4\\*\\*4|<span style=\"font-size: 150%;\">べき乗の計算式ではあるが，指数付き定数ではない| <span style=\"font-size: 150%;\">&nbsp;&nbsp;&nbsp;&nbsp;&nbsp;- |"
   ]
  },
  {
   "cell_type": "markdown",
   "metadata": {},
   "source": [
    "## 2.2 数学関数の利用（p.20～）"
   ]
  },
  {
   "cell_type": "markdown",
   "metadata": {},
   "source": [
    "### 2.2.1 数学関数の利用のための準備<br><br>Python は，元々組み込まれている機能に加えて，「モジュール」を使うことで機能を拡張することができる．数学関数を利用するためには，「math モジュール」を使う．Python のモジュールを使えるようにすることを「インポート」と呼ぶ．Code セルに import math と「入力して<span style=\"color: red; \">実行する</span>」ことで，math モジュールをインポートできる．<br><br>注．import math と入力して終わるのではなく，<span style=\"color: red; \">Shift キー＋ Enter キーの同時押しで実行もする</span>こと"
   ]
  },
  {
   "cell_type": "code",
   "execution_count": null,
   "metadata": {},
   "outputs": [],
   "source": [
    "import math"
   ]
  },
  {
   "cell_type": "markdown",
   "metadata": {},
   "source": [
    "### 2.2.2 数学関数の利用方法<br><br>math モジュールに含まれる数学関数の例（p.21, 表 2.5）"
   ]
  },
  {
   "cell_type": "markdown",
   "metadata": {},
   "source": [
    "| 関数 | 式&nbsp;&nbsp;&nbsp;&nbsp;&nbsp;&nbsp;&nbsp;&nbsp;&nbsp;&nbsp;&nbsp;&nbsp;&nbsp;&nbsp;&nbsp;&nbsp;&nbsp;&nbsp;&nbsp;&nbsp; | 関数名 | 備考 |\n",
    "|:---|:---|:---|:---|\n",
    "| <span style=\"font-size: 150%;\">べき乗 | <span style=\"font-size: 150%;\">$x^y$ | <span style=\"font-size: 150%;\">pow(x,y) | |\n",
    "| <span style=\"font-size: 150%;\">平方根 | <span style=\"font-size: 150%;\">$\\sqrt{x}$ | <span style=\"font-size: 150%;\">sqrt(x) | |\n",
    "| <span style=\"font-size: 150%;\">正弦 | <span style=\"font-size: 150%;\">$\\sin x$ | <span style=\"font-size: 150%;\">sin(x) | <span style=\"font-size: 150%;\">角度の単位はラジアン |\n",
    "| <span style=\"font-size: 150%;\">余弦 | <span style=\"font-size: 150%;\">$\\cos x$ | <span style=\"font-size: 150%;\">cos(x) | <span style=\"font-size: 150%;\">角度の単位はラジアン |\n",
    "| <span style=\"font-size: 150%;\">正接 | <span style=\"font-size: 150%;\">$\\tan x$ | <span style=\"font-size: 150%;\">tan(x) | <span style=\"font-size: 150%;\">角度の単位はラジアン |\n",
    "| <span style=\"font-size: 150%;\">円周率 $\\pi$ | <span style=\"font-size: 150%;\">$\\pi$ | <span style=\"font-size: 150%;\"> pi |  |\n",
    "| <span style=\"font-size: 150%;\">自然対数 | <span style=\"font-size: 150%;\">$\\log x$ | <span style=\"font-size: 150%;\">log(x) | <span style=\"font-size: 150%;\">底は e=2.7128... |\n",
    "| <span style=\"font-size: 150%;\">常用対数 | <span style=\"font-size: 150%;\">$\\log_{10} x$ | <span style=\"font-size: 150%;\">log10(x) | <span style=\"font-size: 150%;\">底は 10 |\n",
    "| <span style=\"font-size: 150%;\">指数関数 | <span style=\"font-size: 150%;\">$e^x$ | <span style=\"font-size: 150%;\">exp(x) |  |\n",
    "| <span style=\"font-size: 150%;\">度数ラジアン変換| <span style=\"font-size: 150%;\">&nbsp;&nbsp;&nbsp;&nbsp;&nbsp;&nbsp;&nbsp;- | <span style=\"font-size: 150%;\"> radians(x) | <span style=\"font-size: 150%;\">度数 x をラジアン（弧度）に変換した値を出力させる<br>ラジアン（弧度）$=$ 度 × 円周率 $\\pi$ ÷ 180 |\n",
    "| <span style=\"font-size: 150%;\">ラジアン度数変換| <span style=\"font-size: 150%;\">&nbsp;&nbsp;&nbsp;&nbsp;&nbsp;&nbsp;&nbsp;- | <span style=\"font-size: 150%;\"> degrees(x) | <span style=\"font-size: 150%;\">ラジアン（弧度） x を度数に変換した値を出力させる<br>度 $=$ ラジアン（弧度）× 180 ÷ 円周率 $\\pi$ |"
   ]
  },
  {
   "cell_type": "markdown",
   "metadata": {},
   "source": [
    "### math モジュールに属する関数を使うためには，関数の前に「math.」をつける必要がある．例えば，$\\sin x$ を求めるには，math.sin(x) と書く必要がある．また，定数 $\\pi$ も，math.pi と書く必要がある．"
   ]
  },
  {
   "cell_type": "markdown",
   "metadata": {},
   "source": [
    "### 例１．平方根 $\\sqrt{10}$ の計算"
   ]
  },
  {
   "cell_type": "code",
   "execution_count": null,
   "metadata": {},
   "outputs": [],
   "source": [
    "math.sqrt(10)"
   ]
  },
  {
   "cell_type": "markdown",
   "metadata": {},
   "source": [
    "### 例２．$\\sin 135^{\\circ}(=\\sin \\frac{3}{4}\\pi)$ の計算"
   ]
  },
  {
   "cell_type": "markdown",
   "metadata": {},
   "source": [
    "### 【補足】度数とラジアン（弧度）の対応表＜ラジアン（弧度）$=$ 度 × 円周率 $\\pi$ ÷ 180＞"
   ]
  },
  {
   "cell_type": "markdown",
   "metadata": {},
   "source": [
    "| <span style=\"font-size: 150%;\">度 | <span style=\"font-size: 150%;\">$0^{\\circ}$ | <span style=\"font-size: 150%;\">$30^{\\circ}$ | <span style=\"font-size: 150%;\">$45^{\\circ}$ | <span style=\"font-size: 150%;\">$60^{\\circ}$ | <span style=\"font-size: 150%;\">$90^{\\circ}$ | <span style=\"font-size: 150%;\">$120^{\\circ}$ | <span style=\"font-size: 150%;\">$135^{\\circ}$ | <span style=\"font-size: 150%;\">$150^{\\circ}$ | <span style=\"font-size: 150%;\">$180^{\\circ}$ |\n",
    "|:---|:---:|:---:|:---:|:---:|:---:|:---:|:---:|:---:|:---:|\n",
    "| <span style=\"font-size: 150%;\">ラジアン（弧度） | <span style=\"font-size: 150%;\">$0$ | <span style=\"font-size: 150%;\">$\\displaystyle\\frac{\\pi}{6}$ | <span style=\"font-size: 150%;\">$\\displaystyle\\frac{\\pi}{4}$ | <span style=\"font-size: 150%;\">$\\displaystyle\\frac{\\pi}{3}$ | <span style=\"font-size: 150%;\">$\\displaystyle\\frac{\\pi}{2}$ | <span style=\"font-size: 150%;\">$\\displaystyle\\frac{2}{3}\\pi$ | <span style=\"font-size: 150%;\">$\\displaystyle\\frac{3}{4}\\pi$ | <span style=\"font-size: 150%;\">$\\displaystyle\\frac{5}{6}\\pi$ | <span style=\"font-size: 150%;\">$\\pi$ |"
   ]
  },
  {
   "cell_type": "markdown",
   "metadata": {},
   "source": [
    "### 注．2.1 節始めと同様に，下記 2 つの計算いずれも正しい値 0.5 が出力されないのは，計算機内部での計算精度の限界のために生じた誤差が計算過程に影響しているためである．"
   ]
  },
  {
   "cell_type": "code",
   "execution_count": null,
   "metadata": {},
   "outputs": [],
   "source": [
    "# (1) 表 2.5 のradians 関数によって，度をラジアン（弧度）に変換した上での計算\n",
    "math.sin(math.radians(135))"
   ]
  },
  {
   "cell_type": "code",
   "execution_count": null,
   "metadata": {},
   "outputs": [],
   "source": [
    "# (2) ラジアン（弧度）による計算\n",
    "math.sin(3*math.pi/4)"
   ]
  },
  {
   "cell_type": "markdown",
   "metadata": {},
   "source": [
    "### 【補足】print コマンドを用いた丸め操作による数値の桁数制限"
   ]
  },
  {
   "cell_type": "markdown",
   "metadata": {},
   "source": [
    "| <span style=\"font-size: 150%;\">入力文</span> | <span style=\"font-size: 150%;\">意味</span> |\n",
    "|:---|:---|\n",
    "| <span style=\"font-size: 150%;\">print('{:.2g}'.format(x))</span> | <span style=\"font-size: 150%;\">数 x を有効数字２桁まで出力</span> |\n",
    "| <span style=\"font-size: 150%;\">print('{:.3g}'.format(x))</span> | <span style=\"font-size: 150%;\">数 x を有効数字３桁まで出力</span> |\n",
    "| <span style=\"font-size: 150%;\">print('{:.4g}'.format(x))</span> | <span style=\"font-size: 150%;\">数 x を有効数字４桁まで出力</span> |"
   ]
  },
  {
   "cell_type": "code",
   "execution_count": 1,
   "metadata": {},
   "outputs": [
    {
     "name": "stdout",
     "output_type": "stream",
     "text": [
      "6.6e+04\n"
     ]
    }
   ],
   "source": [
    "print('{:.2g}'.format(2**16))"
   ]
  },
  {
   "cell_type": "code",
   "execution_count": null,
   "metadata": {},
   "outputs": [],
   "source": [
    "print('{:.3g}'.format(math.sqrt(10000000000000)))"
   ]
  },
  {
   "cell_type": "markdown",
   "metadata": {},
   "source": [
    "### 例２のように，$\\sin 30^{\\circ}(=\\sin \\frac{\\pi}{6})$ の計算で用いたコマンド math.sin(math.radians(30)) では，正しい値 0.5 が出力されなかった．一方，以下のコマンドではどのような値が出力されるか？各自で実行して確かめよ．"
   ]
  },
  {
   "cell_type": "code",
   "execution_count": null,
   "metadata": {},
   "outputs": [],
   "source": [
    "print('{:.3g}'.format(math.sin(math.radians(30))))"
   ]
  },
  {
   "cell_type": "markdown",
   "metadata": {},
   "source": [
    "## 2.3 文字列（p.21～）"
   ]
  },
  {
   "cell_type": "markdown",
   "metadata": {},
   "source": [
    "### 2.3.1 文字列の利用<br><br>Python では，数字以外に文字を扱うことができる．文字の集まりは「文字列」として扱われる．<br>文字列は，その両端をダブルクォート（ \\\" ）またはシングルクォート（ \\' ）で括る．これらは引用符と呼ばれる．"
   ]
  },
  {
   "cell_type": "code",
   "execution_count": 1,
   "metadata": {},
   "outputs": [
    {
     "data": {
      "text/plain": [
       "'Hello World'"
      ]
     },
     "execution_count": 1,
     "metadata": {},
     "output_type": "execute_result"
    }
   ],
   "source": [
    "\"Hello World\""
   ]
  },
  {
   "cell_type": "code",
   "execution_count": null,
   "metadata": {},
   "outputs": [],
   "source": [
    "'Hello Universe'"
   ]
  },
  {
   "cell_type": "markdown",
   "metadata": {},
   "source": [
    "### 文字列では，英数字ばかりでなく，日本語も扱うことができる．<br>ダブルクォートもシングルクォートも同じように扱われるが，Jupyter Notebook では，シングルクォートで表示される．"
   ]
  },
  {
   "cell_type": "code",
   "execution_count": null,
   "metadata": {},
   "outputs": [],
   "source": [
    "\"Python プログラミング\""
   ]
  },
  {
   "cell_type": "markdown",
   "metadata": {},
   "source": [
    "### 2.3.2 複雑な文字列の作成<br><br>ダブルクォートやシングルクォート自身を文字列に入れたい場合には，直前にバックスラッシュ「\\」を挿入する．ただし，日本語の環境だと「¥」（円マーク）と表示される．バックスラッシュ（日本語環境では円マーク）の後の文字は，ダブルクォートやシングルクォートであっても「普通の文字」として扱われる．バックスラッシュを使って特殊な文字を普通の文字にすることを「エスケープ」と呼ぶ．"
   ]
  },
  {
   "cell_type": "markdown",
   "metadata": {},
   "source": [
    "### 例１．ダブルクォートを文字列に入れる"
   ]
  },
  {
   "cell_type": "code",
   "execution_count": null,
   "metadata": {},
   "outputs": [],
   "source": [
    "# ダブルクォートで括る場合は，バックスラッシュが必要である\n",
    "\"He said \\\"Hello  World\\\"\""
   ]
  },
  {
   "cell_type": "code",
   "execution_count": null,
   "metadata": {},
   "outputs": [],
   "source": [
    "# シングルクォートで括る場合は，\" を \\\" としなくても，そのまま入力して良い\n",
    "'He said \"Hello  World\"'"
   ]
  },
  {
   "cell_type": "markdown",
   "metadata": {},
   "source": [
    "### 例２．シングルクォートを文字列に入れる"
   ]
  },
  {
   "cell_type": "code",
   "execution_count": null,
   "metadata": {},
   "outputs": [],
   "source": [
    "# ダブルクォートで括る場合は，' を \\' としなくても，そのまま入力して良い\n",
    "\"I don't know why\""
   ]
  },
  {
   "cell_type": "code",
   "execution_count": null,
   "metadata": {},
   "outputs": [],
   "source": [
    "# シングルクォートで括る場合は，バックスラッシュが必要である\n",
    "'I don\\'t know why'"
   ]
  },
  {
   "cell_type": "markdown",
   "metadata": {},
   "source": [
    "### 2.3.3 文字列同士の連結<br><br>文字列同士は「+」演算子を使って連結できる．"
   ]
  },
  {
   "cell_type": "code",
   "execution_count": null,
   "metadata": {},
   "outputs": [],
   "source": [
    "\"Python\"+\"プログラミング\""
   ]
  },
  {
   "cell_type": "code",
   "execution_count": null,
   "metadata": {},
   "outputs": [],
   "source": [
    "# 連結の際，\" \" 内の空白スペース分も引き継がれる\n",
    "\"Python\"+\"        プログラミング\""
   ]
  },
  {
   "cell_type": "markdown",
   "metadata": {},
   "source": [
    "### 2.3.4 文字列の繰り返し<br><br>文字列に演算子「\\*」を適用すると，指定した回数だけ繰り返す文字列が生成される．"
   ]
  },
  {
   "cell_type": "code",
   "execution_count": 2,
   "metadata": {
    "scrolled": true
   },
   "outputs": [
    {
     "data": {
      "text/plain": [
       "'Python    Python    Python    Python    Python    '"
      ]
     },
     "execution_count": 2,
     "metadata": {},
     "output_type": "execute_result"
    }
   ],
   "source": [
    "\"Python    \"*5"
   ]
  },
  {
   "cell_type": "markdown",
   "metadata": {},
   "source": [
    "### 以下の２つの入力文を実行せよ．どのような違いが現れるか？"
   ]
  },
  {
   "cell_type": "code",
   "execution_count": null,
   "metadata": {},
   "outputs": [],
   "source": [
    "\"Python\"+\"   プログラミング\"*5"
   ]
  },
  {
   "cell_type": "code",
   "execution_count": null,
   "metadata": {},
   "outputs": [],
   "source": [
    "(\"Python\"+\"   プログラミング\")*5"
   ]
  },
  {
   "cell_type": "markdown",
   "metadata": {},
   "source": [
    "## <span style=\"color: red; \">提出課題＜締切：５月８日（月）２３：５９＞</span><br><br>prog03_kadai_sample.ipynb 内の問に答えよ．<br>prog03_kadai_sample.ipynb 内の空欄すべてを埋め終えたら，ファイル名を<br><span style=\"color: blue; \">「prog03_kadai_sample」から「prog03_kadai_892〇〇〇〇」<br>（〇〇〇〇：半角の学籍番号下４桁）<br>へ変更し</span>，江夏の宛先へメール添付によりファイルを送信すること．"
   ]
  }
 ],
 "metadata": {
  "kernelspec": {
   "display_name": "Python 3",
   "language": "python",
   "name": "python3"
  },
  "language_info": {
   "codemirror_mode": {
    "name": "ipython",
    "version": 3
   },
   "file_extension": ".py",
   "mimetype": "text/x-python",
   "name": "python",
   "nbconvert_exporter": "python",
   "pygments_lexer": "ipython3",
   "version": "3.8.8"
  }
 },
 "nbformat": 4,
 "nbformat_minor": 4
}
