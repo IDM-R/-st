{
 "cells": [
  {
   "cell_type": "markdown",
   "id": "138680aa",
   "metadata": {},
   "source": [
    "## 講義（第１４回）ノート　＜６章　関数，6.6節＞　提出課題は最下部を参照"
   ]
  },
  {
   "cell_type": "markdown",
   "id": "657dc44a",
   "metadata": {},
   "source": [
    "## 6.6 計算量（p.81～）<br><br>この節では，関数の引数を大きくすることによる，計算アルゴリズムにおける関数の呼び出しや計算回数など（計算量）の増加速度について考える．<br><br>まず，次の再帰的定義：$$\\left\\{ \\begin{array}{l} {\\rm fib}(0)=0, \\\\ {\\rm fib}(1)=1, \\\\ {\\rm fib}(n)={\\rm fib}(n-1)+{\\rm fib}(n-2) \\ \\ (n \\geq 2) \\end{array} \\right. $$ を考える．この再帰的定義の下で逐次得られる fib(0), fib(1), fib(2), ... は次のような値をとる．"
   ]
  },
  {
   "cell_type": "markdown",
   "id": "4a939f27",
   "metadata": {},
   "source": [
    "| <span style=\"font-size: 150%;\">$n$ | <span style=\"font-size: 150%;\">$0$ | <span style=\"font-size: 150%;\">$1$ | <span style=\"font-size: 150%;\">$2$ | <span style=\"font-size: 150%;\">$3$ | <span style=\"font-size: 150%;\">$4$ | <span style=\"font-size: 150%;\">$5$ | <span style=\"font-size: 150%;\">$6$ | <span style=\"font-size: 150%;\">$7$ | <span style=\"font-size: 150%;\">$8$ | <span style=\"font-size: 150%;\">$9$ | <span style=\"font-size: 150%;\">$10$ | <span style=\"font-size: 150%;\">$\\cdots$ |\n",
    "|:---:|:---:|:---:|:---:|:---:|:---:|:---:|:---:|:---:|:---:|:---:|:---:|:---:|\n",
    "| <span style=\"font-size: 150%;\">fib($n$) | <span style=\"font-size: 150%;\">$0$ | <span style=\"font-size: 150%;\">$1$ | <span style=\"font-size: 150%;\">$1$ | <span style=\"font-size: 150%;\">$2$ | <span style=\"font-size: 150%;\">$3$ | <span style=\"font-size: 150%;\">$5$ | <span style=\"font-size: 150%;\">$8$ | <span style=\"font-size: 150%;\">$13$ | <span style=\"font-size: 150%;\">$21$ | <span style=\"font-size: 150%;\">$34$ | <span style=\"font-size: 150%;\">$55$ | <span style=\"font-size: 150%;\">$\\cdots$ |"
   ]
  },
  {
   "cell_type": "markdown",
   "id": "a255f411",
   "metadata": {},
   "source": [
    "## 数 fib(0), fib(1), fib(2), ... を（イタリアの数学者レオナルド・フィボナッチに因んで）<span style=\"color: blue; \">フィボナッチ数列</span>という．次の式：$$ \\lim_{n \\to +\\infty} \\frac{{\\rm fib}(n+1)}{{\\rm fib}(n)}=\\frac{1+\\sqrt{5}}{2}$$ が成り立つことから，２つの連続する項の比 fib($n$)：fib($n+1$) が 1：$\\frac{1+\\sqrt{5}}{2}$ に $n$ を大きくするごとに限りなく近づくことが知られている．この項間比は，<span style=\"color: blue; \">株や外国為替証拠金取引（FX）の売買タイミングの見極めにも応用されている</span>（詳しくは「フィボナッチリトレースメント」を参照）．<br><br>6.5 節と同様に，上の再帰的定義に沿った関数 fib() を定義するプログラムは次の通りとなる．"
   ]
  },
  {
   "cell_type": "code",
   "execution_count": 1,
   "id": "27ffa55f",
   "metadata": {},
   "outputs": [],
   "source": [
    "def fib(n):\n",
    "    if n == 0:\n",
    "        return 0             # 初期条件（n=0 のとき）\n",
    "    if n == 1:\n",
    "        return 1             # 初期条件（n=1 のとき）\n",
    "    return fib(n-1)+fib(n-2) # 再帰関数"
   ]
  },
  {
   "cell_type": "markdown",
   "id": "b1952a12",
   "metadata": {},
   "source": [
    "## 表１：$n$ の値と上のプログラムによって計算された fib($n$) の値"
   ]
  },
  {
   "cell_type": "code",
   "execution_count": 2,
   "id": "20a13217",
   "metadata": {},
   "outputs": [
    {
     "name": "stdout",
     "output_type": "stream",
     "text": [
      " 0     0\n",
      " 1     1\n",
      " 2     1\n",
      " 3     2\n",
      " 4     3\n",
      " 5     5\n",
      " 6     8\n",
      " 7    13\n",
      " 8    21\n",
      " 9    34\n",
      "10    55\n",
      "11    89\n",
      "12   144\n",
      "13   233\n",
      "14   377\n",
      "15   610\n",
      "16   987\n",
      "17  1597\n",
      "18  2584\n",
      "19  4181\n",
      "20  6765\n"
     ]
    }
   ],
   "source": [
    "for i in range(0,21):\n",
    "    print(\"%2d\" % i, \"%5d\" % fib(i))"
   ]
  },
  {
   "cell_type": "markdown",
   "id": "841e6614",
   "metadata": {},
   "source": [
    "## 例１．関数 fib() の実行時間の測定<br><font size=\"4\">第１３回と同様に，結果の出力までに著しく時間がかかるときは，以下の手続き：<br><br>【Kernel の再起動】<br>ノートブック上部の Kernel を（左）クリック<br>→ Restart をクリック<br>→ 「Restart」あるいは「再起動」と書かれた赤いボタンをクリックして 4，5 秒待つ <br><br>によって Kernel を終了して，関数 fib() の定義に関するプログラムを実行し直した上で，() 内の数をより小さくして測定しよう．</font>"
   ]
  },
  {
   "cell_type": "code",
   "execution_count": 3,
   "id": "89ca5f8c",
   "metadata": {},
   "outputs": [
    {
     "name": "stdout",
     "output_type": "stream",
     "text": [
      "Wall time: 997 µs\n"
     ]
    },
    {
     "data": {
      "text/plain": [
       "610"
      ]
     },
     "execution_count": 3,
     "metadata": {},
     "output_type": "execute_result"
    }
   ],
   "source": [
    "%%time\n",
    "fib(15) # 計測単位は秒[s]"
   ]
  },
  {
   "cell_type": "code",
   "execution_count": 4,
   "id": "d4d5cde1",
   "metadata": {},
   "outputs": [
    {
     "name": "stdout",
     "output_type": "stream",
     "text": [
      "Wall time: 3.99 ms\n"
     ]
    },
    {
     "data": {
      "text/plain": [
       "6765"
      ]
     },
     "execution_count": 4,
     "metadata": {},
     "output_type": "execute_result"
    }
   ],
   "source": [
    "%%time\n",
    "fib(20)"
   ]
  },
  {
   "cell_type": "code",
   "execution_count": 5,
   "id": "2b8c4ee5",
   "metadata": {},
   "outputs": [
    {
     "name": "stdout",
     "output_type": "stream",
     "text": [
      "Wall time: 33 ms\n"
     ]
    },
    {
     "data": {
      "text/plain": [
       "75025"
      ]
     },
     "execution_count": 5,
     "metadata": {},
     "output_type": "execute_result"
    }
   ],
   "source": [
    "%%time\n",
    "fib(25)"
   ]
  },
  {
   "cell_type": "code",
   "execution_count": 6,
   "id": "75157af6",
   "metadata": {},
   "outputs": [
    {
     "name": "stdout",
     "output_type": "stream",
     "text": [
      "Wall time: 334 ms\n"
     ]
    },
    {
     "data": {
      "text/plain": [
       "832040"
      ]
     },
     "execution_count": 6,
     "metadata": {},
     "output_type": "execute_result"
    }
   ],
   "source": [
    "%%time\n",
    "fib(30)"
   ]
  },
  {
   "cell_type": "code",
   "execution_count": 7,
   "id": "03d6ce99",
   "metadata": {},
   "outputs": [
    {
     "name": "stdout",
     "output_type": "stream",
     "text": [
      "Wall time: 4 s\n"
     ]
    },
    {
     "data": {
      "text/plain": [
       "9227465"
      ]
     },
     "execution_count": 7,
     "metadata": {},
     "output_type": "execute_result"
    }
   ],
   "source": [
    "%%time\n",
    "fib(35)"
   ]
  },
  {
   "cell_type": "markdown",
   "id": "f64d0095",
   "metadata": {},
   "source": [
    "## 【time モジュール】<br>処理にかかる時間を計測する方法として，%%time の他に time モジュールも有用である．<br><br>例２．time モジュールを使った fib(25), fib(30) を計算するための実行時間"
   ]
  },
  {
   "cell_type": "code",
   "execution_count": 8,
   "id": "3a34b7a4",
   "metadata": {},
   "outputs": [
    {
     "name": "stdout",
     "output_type": "stream",
     "text": [
      "fib(25) を計算するための実行時間： 0.031914472579956055 s（秒）\n"
     ]
    }
   ],
   "source": [
    "import time\n",
    "\n",
    "t1 = time.time() # 処理前の時刻\n",
    "fib(25)          # 計測したい処理\n",
    "t2 = time.time() # 処理跡の時刻\n",
    "\n",
    "print(\"fib(25) を計算するための実行時間：\",t2-t1,\"s（秒）\")  # 計測単位は秒[s]"
   ]
  },
  {
   "cell_type": "code",
   "execution_count": 9,
   "id": "55dd35b6",
   "metadata": {},
   "outputs": [
    {
     "name": "stdout",
     "output_type": "stream",
     "text": [
      "fib(30) を計算するための実行時間： 0.34217071533203125 s（秒）\n"
     ]
    }
   ],
   "source": [
    "import time\n",
    "\n",
    "t1 = time.time() # 処理前の時刻\n",
    "fib(30)          # 計測したい処理\n",
    "t2 = time.time() # 処理跡の時刻\n",
    "\n",
    "print(\"fib(30) を計算するための実行時間：\",t2-t1,\"s（秒）\")  # 計測単位は秒[s]"
   ]
  },
  {
   "cell_type": "markdown",
   "id": "4c225d07",
   "metadata": {},
   "source": [
    "## fib(25) の計算における実行時間は，例１では約 33ms=0.033 秒，例２では約 0.031 秒と，0.032 秒前後であり，fib(30) の計算における実行時間は，例１では約 334ms=0.334 秒，例２では約 0.342 秒と，0.34 秒前後である． <br><br>例３．各 $n \\ (n \\geq 0, n \\in \\mathbb{Z})$ に対する fib($n$) の計算における実行時間<br><font size=\"4\">下部のグラフから，fib($n$) の計算における実行時間は，<span style=\"color: red; \">$2^n$ の定数倍（ここでは $\\frac{1}{3000}$ 倍）により近似できる</span>！</font>"
   ]
  },
  {
   "cell_type": "code",
   "execution_count": 10,
   "id": "b8dcce62",
   "metadata": {},
   "outputs": [],
   "source": [
    "%matplotlib inline\n",
    "import time\n",
    "import matplotlib.pyplot as plt\n",
    "\n",
    "def fib_wall_time(n):\n",
    "    x=range(0,n+1)\n",
    "    y=[]\n",
    "    z=[]\n",
    "    \n",
    "    for i in range(0,n+1):\n",
    "        t1 = time.time() # 処理前の時刻\n",
    "        fib(i)           # 計測したい処理\n",
    "        t2 = time.time() # 処理跡の時刻\n",
    "        \n",
    "        y.append((t2-t1)*(10**6)) # n の値と fib(n) の実行時間に関するグラフが通る点の y 座標の格納（t2-t1：実行時間（秒））\n",
    "        z.append((2**i)/3000)     # 実行時間を近似する指数関数のグラフが通る点の y 座標の格納\n",
    "        print(\"n=\",\"%2d\" % i,\"のときの fib(n) を計算するための実行時間：\",\"%8d\" % y[i],\"μs（マイクロ秒）\")\n",
    "    \n",
    "    plt.xlabel('$n$')                                      # 軸の下側に表示される横軸の説明\n",
    "    plt.ylabel('Wall time [$10^{-6}$ s]')                  # 軸の左側に表示される縦軸の説明\n",
    "    \n",
    "    plt.plot(x,y, label=\"Wall time for calc. of fib($n$)\") # 凡例に用いる実行時間の曲線の名前を label オプションで指定\n",
    "    plt.plot(x,z, label=\"(1/3000) * $2^n$\")                # 凡例に用いる実行時間を近似した曲線の名前を label オプションで指定\n",
    "    \n",
    "    plt.legend(bbox_to_anchor=(1.05, 1), loc='upper left') # 図全体の左下の座標を(0,0), 右上の座標を(1,1)とした凡例（legend）の位置調整"
   ]
  },
  {
   "cell_type": "code",
   "execution_count": 11,
   "id": "f5bd0dc7",
   "metadata": {},
   "outputs": [
    {
     "name": "stdout",
     "output_type": "stream",
     "text": [
      "n=  0 のときの fib(n) を計算するための実行時間：        0 μs（マイクロ秒）\n",
      "n=  1 のときの fib(n) を計算するための実行時間：        0 μs（マイクロ秒）\n",
      "n=  2 のときの fib(n) を計算するための実行時間：        0 μs（マイクロ秒）\n",
      "n=  3 のときの fib(n) を計算するための実行時間：        0 μs（マイクロ秒）\n",
      "n=  4 のときの fib(n) を計算するための実行時間：        0 μs（マイクロ秒）\n",
      "n=  5 のときの fib(n) を計算するための実行時間：        0 μs（マイクロ秒）\n",
      "n=  6 のときの fib(n) を計算するための実行時間：        0 μs（マイクロ秒）\n",
      "n=  7 のときの fib(n) を計算するための実行時間：        0 μs（マイクロ秒）\n",
      "n=  8 のときの fib(n) を計算するための実行時間：        0 μs（マイクロ秒）\n",
      "n=  9 のときの fib(n) を計算するための実行時間：        0 μs（マイクロ秒）\n",
      "n= 10 のときの fib(n) を計算するための実行時間：        0 μs（マイクロ秒）\n",
      "n= 11 のときの fib(n) を計算するための実行時間：        0 μs（マイクロ秒）\n",
      "n= 12 のときの fib(n) を計算するための実行時間：        0 μs（マイクロ秒）\n",
      "n= 13 のときの fib(n) を計算するための実行時間：      998 μs（マイクロ秒）\n",
      "n= 14 のときの fib(n) を計算するための実行時間：        0 μs（マイクロ秒）\n",
      "n= 15 のときの fib(n) を計算するための実行時間：        0 μs（マイクロ秒）\n",
      "n= 16 のときの fib(n) を計算するための実行時間：     1007 μs（マイクロ秒）\n",
      "n= 17 のときの fib(n) を計算するための実行時間：      986 μs（マイクロ秒）\n",
      "n= 18 のときの fib(n) を計算するための実行時間：      997 μs（マイクロ秒）\n",
      "n= 19 のときの fib(n) を計算するための実行時間：     1994 μs（マイクロ秒）\n",
      "n= 20 のときの fib(n) を計算するための実行時間：     1994 μs（マイクロ秒）\n",
      "n= 21 のときの fib(n) を計算するための実行時間：     4986 μs（マイクロ秒）\n",
      "n= 22 のときの fib(n) を計算するための実行時間：     8975 μs（マイクロ秒）\n",
      "n= 23 のときの fib(n) を計算するための実行時間：    11548 μs（マイクロ秒）\n",
      "n= 24 のときの fib(n) を計算するための実行時間：    18927 μs（マイクロ秒）\n",
      "n= 25 のときの fib(n) を計算するための実行時間：    39892 μs（マイクロ秒）\n",
      "n= 26 のときの fib(n) を計算するための実行時間：    47925 μs（マイクロ秒）\n",
      "n= 27 のときの fib(n) を計算するための実行時間：    79757 μs（マイクロ秒）\n",
      "n= 28 のときの fib(n) を計算するための実行時間：   130673 μs（マイクロ秒）\n",
      "n= 29 のときの fib(n) を計算するための実行時間：   200097 μs（マイクロ秒）\n",
      "n= 30 のときの fib(n) を計算するための実行時間：   334645 μs（マイクロ秒）\n"
     ]
    },
    {
     "data": {
      "image/png": "[encoded data removed]",
      "text/plain": [
       "<Figure size 432x288 with 1 Axes>"
      ]
     },
     "metadata": {
      "needs_background": "light"
     },
     "output_type": "display_data"
    }
   ],
   "source": [
    "fib_wall_time(30)"
   ]
  },
  {
   "cell_type": "markdown",
   "id": "5383fc42",
   "metadata": {},
   "source": [
    "## ＜fib($n$) の呼び出し回数は $2^n$ に比例するため，<span style=\"color: red; \">計算量もおおよそ $2^n$ に比例する</span>！＞<br>　fib($n$) ($n=0,1,...$) が満たす再帰関数：$${\\rm fib}(n)={\\rm fib}(n-1)+{\\rm fib}(n-2)$$より，fib($n$) の計算は，fib($n-1$) と fib($n-2$) の呼び出しの下で行われている．この性質を一般化すると，fib() は自分自身を呼び出し，その中でさらに fib() の呼び出しが２度行われる．一連の呼び出し操作は fib(1) あるいは fib(0) を呼び出すまで行われる．例えば，fib(3) を計算するための呼び出し操作の過程は，以下のように説明できる（p.82，図 6.2 も参照）．<br><br>1. fib(5) を計算するために，<span style=\"color: red; \">fib(4)</span> と <span style=\"color: blue; \">fib(3)</span> を呼び出す<br>　　1-1. <span style=\"color: red; \">fib(4)</span> を計算するために，fib(3) と fib(2) を呼び出す<br>　　　　1-1-1. fib(3) を計算するために，fib(2) と fib(1) を呼び出す<br>　　　　　　　1-1-1-1. fib(2) を計算するために，fib(1) と fib(0) を呼び出す＜呼び出し終了＞<br>　　　　1-1-2. fib(2) を計算するために，fib(1) と fib(0) を呼び出す＜呼び出し終了＞<br>　　1-2. <span style=\"color: blue; \">fib(3)</span> を計算するために，fib(2) と fib(1) を呼び出す<br>　　　　1-2-1. fib(2) を計算するために，fib(1) と fib(0) を呼び出す＜呼び出し終了＞"
   ]
  },
  {
   "cell_type": "markdown",
   "id": "e9595982",
   "metadata": {},
   "source": [
    "## 上記の考察から，fib($n$) の呼び出し回数はおおよそ $2^n$ に比例することが分かる．$n$ の増加に対して fib($n$) を求めるための計算量は指数的に増加するため，$n$ が大きくなるほど，計算の終了までに多大な時間を要する．計算量が指数的に増加することを「指数的オーダーで増加する」といい，指数的オーダーで増加する計算（アルゴリズム）を，「指数的オーダーのアルゴリズム」という．<br>　計算量が指数的オーダーで増加する関数は，計算機の処理速度が上がったとしても，所定時間内で計算できる範囲が限られる．こうした課題を解決するため，より計算量の少ないアルゴリズムが今も研究されているが，<span style=\"color: blue; \">自身が作成するプログラムでも計算量のオーダーを意識する</span>ことも重要である．<br><br>例４－１．for 文の（１重）ループ＜1 から $n$ までの数の和＞<br><font size=\"4\">引数やリストの長さが $n$ 倍になると，<span style=\"color: red; \">計算量はおおよそ $n$ 倍に増える</span>！</font><br><br>Step 1. 1 から $n$ までの数の和 $\\displaystyle\\sum_{i=1}^n i$ を計算するための関数 f1($n$)"
   ]
  },
  {
   "cell_type": "code",
   "execution_count": 1,
   "id": "18bcd3e7",
   "metadata": {},
   "outputs": [],
   "source": [
    "def f1(n):\n",
    "    s=0\n",
    "    list1=range(1,n+1) # list1：長さが n（1 から n までの数を要素とする）のリスト\n",
    "    \n",
    "    for i in list1:\n",
    "        s += i\n",
    "            \n",
    "    return s"
   ]
  },
  {
   "cell_type": "markdown",
   "id": "542dfe06",
   "metadata": {},
   "source": [
    "## Step 2. f1(1), f1(2), ..., f1($n$) の計算における実行時間をプロットする関数 f1_wall_time($n$) "
   ]
  },
  {
   "cell_type": "code",
   "execution_count": 2,
   "id": "b94cf16b",
   "metadata": {},
   "outputs": [],
   "source": [
    "%matplotlib inline\n",
    "import time\n",
    "import matplotlib.pyplot as plt\n",
    "\n",
    "def f1_wall_time(n):\n",
    "    x=range(1,n+1,5000)\n",
    "    y=[]\n",
    "    z=[]\n",
    "    \n",
    "    for i in range(1,n+1,5000):\n",
    "        t1 = time.time() # 処理前の時刻\n",
    "        f1(i)            # 計測したい処理\n",
    "        t2 = time.time() # 処理跡の時刻\n",
    "        \n",
    "        y.append((t2-t1)*(10**6)) # n の値と f1(n) の実行時間に関するグラフが通る点の y 座標の格納（t2-t1：実行時間（秒））\n",
    "        z.append(0.05*i)          # 実行時間を近似する１次関数のグラフが通る点の y 座標の格納\n",
    "\n",
    "    plt.plot(x,y, label=\"Wall time for calc. of f1($n$)\")\n",
    "    plt.plot(x,z, label=\"0.05 * $n$\")\n",
    "    \n",
    "    plt.xlabel('$n$')\n",
    "    plt.ylabel('Wall time [$10^{-6}$ s]')\n",
    "    \n",
    "    plt.legend(bbox_to_anchor=(1.05, 1), loc='upper left')\n",
    "    \n",
    "    plt.ylim(0,8000) # 縦軸の表示範囲"
   ]
  },
  {
   "cell_type": "markdown",
   "id": "cedb4457",
   "metadata": {},
   "source": [
    "## （Step 2 の確認）f1(1), f1(2), ..., f1(150000) の計算における実行時間のプロット<br><font size=\"4\">下部のグラフから，f1($n$) の計算における実行時間は，<span style=\"color: red; \">$n$ の定数倍（ここでは 0.05 倍）により近似できる</span>！</font><br><font size=\"4\">関数 f1_wall_time() の定義に関するプログラムを実行後，引数を適宜変えながら下記のセルを実行しよう．</font>"
   ]
  },
  {
   "cell_type": "code",
   "execution_count": 3,
   "id": "ce95cecf",
   "metadata": {},
   "outputs": [
    {
     "data": {
      "image/png": "[encoded data removed]",
      "text/plain": [
       "<Figure size 432x288 with 1 Axes>"
      ]
     },
     "metadata": {
      "needs_background": "light"
     },
     "output_type": "display_data"
    }
   ],
   "source": [
    "f1_wall_time(150000)"
   ]
  },
  {
   "cell_type": "markdown",
   "id": "cc1d269c",
   "metadata": {},
   "source": [
    "## 例４－２．for 文の２重ループ＜1 から $n$ までの数同士のすべての積の和＞<br><font size=\"4\">引数やリストの長さが $n$ 倍になると，<span style=\"color: red; \">計算量はおおよそ $n^2$ 倍に増える</span>！</font><br><br>Step 1. 1 から $n$ までの数同士のすべての積の和 $\\displaystyle\\sum_{i=1}^n \\sum_{j=1}^n ij \\ \\bigg( =\\sum_{i,j=1}^n ij \\bigg)$ を計算する関数 f2($n$)"
   ]
  },
  {
   "cell_type": "code",
   "execution_count": 4,
   "id": "44713cdb",
   "metadata": {},
   "outputs": [],
   "source": [
    "def f2(n):\n",
    "    s=0\n",
    "    list1=range(1,n+1) # list1：長さが n（1 から n までの数を要素とする）のリスト\n",
    "    \n",
    "    for i in list1: \n",
    "        for j in list1:\n",
    "            s += i * j\n",
    "            \n",
    "    return s"
   ]
  },
  {
   "cell_type": "markdown",
   "id": "245bb03d",
   "metadata": {},
   "source": [
    "## Step 2. f2(1), f2(2), ..., f2($n$) の計算における実行時間をプロットする関数 f2_wall_time($n$) "
   ]
  },
  {
   "cell_type": "code",
   "execution_count": 5,
   "id": "213cac0c",
   "metadata": {},
   "outputs": [],
   "source": [
    "%matplotlib inline\n",
    "import time\n",
    "import matplotlib.pyplot as plt\n",
    "\n",
    "def f2_wall_time(n):\n",
    "    x=range(1,n+1,10)\n",
    "    y=[]\n",
    "    z=[]\n",
    "    \n",
    "    for i in range(1,n+1,10):\n",
    "        t1 = time.time() # 処理前の時刻\n",
    "        f2(i)            # 計測したい処理\n",
    "        t2 = time.time() # 処理跡の時刻\n",
    "        \n",
    "        y.append((t2-t1)*(10**6)) # n の値と f2(n) の実行時間に関するグラフが通る点の y 座標の格納（t2-t1：実行時間（秒））\n",
    "        z.append(0.07*(i**2))     # 実行時間を近似する２次関数のグラフが通る点の y 座標の格納\n",
    "\n",
    "    plt.plot(x,y, label=\"Wall time for calc. of f2($n$)\")\n",
    "    plt.plot(x,z, label=\"0.07 * $n^2$\")\n",
    "    \n",
    "    plt.xlabel('$n$')\n",
    "    plt.ylabel('Wall time [$10^{-6}$ s]')\n",
    "    \n",
    "    plt.legend(bbox_to_anchor=(1.05, 1), loc='upper left')\n",
    "    \n",
    "    plt.ylim(0,20000)"
   ]
  },
  {
   "cell_type": "markdown",
   "id": "d36a214a",
   "metadata": {},
   "source": [
    "## （Step 2 の確認）f2(1), f2(2), ..., f2(500) の計算における実行時間のプロット<br><font size=\"4\">下部のグラフから，f2($n$) の計算における実行時間は，<span style=\"color: red; \">$n^2$ の定数倍（ここでは 0.07 倍）により近似できる</span>！</font><br><font size=\"4\">関数 f2_wall_time() の定義に関するプログラムを実行後，引数を適宜変えながら下記のセルを実行しよう．</font>"
   ]
  },
  {
   "cell_type": "code",
   "execution_count": 6,
   "id": "e9a61fd9",
   "metadata": {},
   "outputs": [
    {
     "data": {
      "image/png": "[encoded data removed]",
      "text/plain": [
       "<Figure size 432x288 with 1 Axes>"
      ]
     },
     "metadata": {
      "needs_background": "light"
     },
     "output_type": "display_data"
    }
   ],
   "source": [
    "f2_wall_time(500)"
   ]
  },
  {
   "cell_type": "markdown",
   "id": "227c5422",
   "metadata": {},
   "source": [
    "## <span style=\"color: red; \">提出課題＜締切：７月２８日（金）２３：５９＞</span><br><br>prog14_kadai_sample.ipynb 内の問に答えよ．<br>prog14_kadai_sample.ipynb 内の空欄すべてを埋め終えたら，ファイル名を<br><span style=\"color: blue; \">「prog14_kadai_sample」から「prog14_kadai_892〇〇〇〇」<br>（〇〇〇〇：半角の学籍番号下４桁）<br>へ変更し</span>，江夏の宛先へメール添付によりファイルを送信すること．"
   ]
  },
  {
   "cell_type": "markdown",
   "id": "fb6beacf",
   "metadata": {},
   "source": [
    "## 【お知らせ】<br>第１３回で述べたように，最終回となる第１５回では，講義ノートのアップはありませんが，LETUS 上で<span style=\"color: red; \">チャレンジ課題を公開する</span>こととしました．公開と締切の日時は，以下の通りです：<br><br>　　　課題公開：７月２８日（金）１０：００頃<br>　　　解答締切：８月　６日（日）２３：５９（締切後も，問題は公開したままにします）<br><br>提出日時が早く，出来が良好であれば成績に加点します．良い評定を目指したい受講生は，積極的に取り組みましょう．"
   ]
  }
 ],
 "metadata": {
  "kernelspec": {
   "display_name": "Python 3",
   "language": "python",
   "name": "python3"
  },
  "language_info": {
   "codemirror_mode": {
    "name": "ipython",
    "version": 3
   },
   "file_extension": ".py",
   "mimetype": "text/x-python",
   "name": "python",
   "nbconvert_exporter": "python",
   "pygments_lexer": "ipython3",
   "version": "3.8.8"
  }
 },
 "nbformat": 4,
 "nbformat_minor": 5
}
