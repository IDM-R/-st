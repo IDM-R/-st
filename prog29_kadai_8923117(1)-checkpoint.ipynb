{
 "cells": [
  {
   "cell_type": "markdown",
   "id": "8418400b",
   "metadata": {},
   "source": [
    "## 講義（後期，第１５回）レポート<br>学籍番号：8923117　氏名：三好琉希"
   ]
  },
  {
   "cell_type": "markdown",
   "id": "16d5fd08",
   "metadata": {},
   "source": [
    "## 次の問に答えよ．ただし，全ての問において，入力したプログラムを自身で実行し，<span style=\"color: blue; \">実行によって出力される表示結果も必ず残したままにすること</span>．今回の問は，全て解答必須の課題とする．<br><br>課題へ取り組む前に，以下の Code セルを実行すること．"
   ]
  },
  {
   "cell_type": "code",
   "execution_count": 1,
   "id": "acfa7ec2",
   "metadata": {},
   "outputs": [],
   "source": [
    "%matplotlib inline\n",
    "import matplotlib.pyplot as plt\n",
    "\n",
    "import numpy as np"
   ]
  },
  {
   "cell_type": "markdown",
   "id": "e90b181d",
   "metadata": {},
   "source": [
    "## 問１．以下の Code セルに，次の計算の結果を出力させるプログラムをそれぞれの欄に入力し，実行せよ．<br><br>(例) $2 \\left( \\begin{array}{cc} 1 & 2 \\\\ 3 & 4 \\\\ 5 & 6 \\end{array} \\right)-\\displaystyle\\frac{7}{12} \\left( \\begin{array}{ccc} 7 & 5 \\\\ 3 & 1 \\\\ -1 & -3 \\end{array} \\right) \\left( \\begin{array}{ccc} 4 & 3 \\\\ 2 & 1 \\end{array} \\right)$"
   ]
  },
  {
   "cell_type": "code",
   "execution_count": 2,
   "id": "1426b671",
   "metadata": {},
   "outputs": [
    {
     "data": {
      "text/plain": [
       "array([[-20.16666667, -11.16666667],\n",
       "       [ -2.16666667,   2.16666667],\n",
       "       [ 15.83333333,  15.5       ]])"
      ]
     },
     "execution_count": 2,
     "metadata": {},
     "output_type": "execute_result"
    }
   ],
   "source": [
    "# 問１（例）の入力欄\n",
    "\n",
    "A1 = np.array(\n",
    "    [[1, 2],\n",
    "     [3, 4],\n",
    "     [5, 6]]\n",
    ")\n",
    "\n",
    "A2 = np.array(\n",
    "    [[7, 5],\n",
    "     [3, 1],\n",
    "     [-1, -3]]\n",
    ")\n",
    "\n",
    "A3 = np.array(\n",
    "    [[4, 3],\n",
    "     [2, 1]]\n",
    ")\n",
    "\n",
    "2*A1-7*(A2@A3)/12"
   ]
  },
  {
   "cell_type": "markdown",
   "id": "77855595",
   "metadata": {},
   "source": [
    "## (1) $-\\displaystyle\\frac{1}{9} \\left( \\begin{array}{ccc} 1 & 2 & 3 \\\\ 4 & 5 & 6 \\end{array} \\right)+\\frac{3}{7} \\left( \\begin{array}{ccc} 7 & 5 & 3 \\\\ -6 & -9 & -12 \\end{array} \\right)$"
   ]
  },
  {
   "cell_type": "code",
   "execution_count": 3,
   "id": "0d20958d",
   "metadata": {},
   "outputs": [
    {
     "data": {
      "text/plain": [
       "array([[ 2.88888889,  1.92063492,  0.95238095],\n",
       "       [-3.01587302, -4.41269841, -5.80952381]])"
      ]
     },
     "execution_count": 3,
     "metadata": {},
     "output_type": "execute_result"
    }
   ],
   "source": [
    "# 問１（１）の入力欄\n",
    "A1 = np.array(\n",
    "    [[1, 2, 3],\n",
    "     [4, 5, 6]]\n",
    ")\n",
    "\n",
    "A2 = np.array(\n",
    "    [[7, 5, 3],\n",
    "     [-6, -9, -12]]\n",
    ")\n",
    "A1/(-9)+3*A2/7"
   ]
  },
  {
   "cell_type": "markdown",
   "id": "34fe17f8",
   "metadata": {},
   "source": [
    "## (2) $\\left( \\begin{array}{ccc} 1 & 2 & 3 \\\\ 4 & 5 & 6 \\end{array} \\right) \\left( \\begin{array}{c} -3 \\\\ -4 \\\\ -5 \\end{array} \\right)$"
   ]
  },
  {
   "cell_type": "code",
   "execution_count": 4,
   "id": "8937dea0",
   "metadata": {},
   "outputs": [
    {
     "data": {
      "text/plain": [
       "array([[-26],\n",
       "       [-62]])"
      ]
     },
     "execution_count": 4,
     "metadata": {},
     "output_type": "execute_result"
    }
   ],
   "source": [
    "# 問１（２）の入力欄\n",
    "A1 = np.array(\n",
    "    [[1, 2, 3],\n",
    "     [4, 5, 6]]\n",
    ")\n",
    "\n",
    "A2 = np.array(\n",
    "    [[-3],\n",
    "     [-4],\n",
    "     [-5]]\n",
    ")\n",
    "A1@A2"
   ]
  },
  {
   "cell_type": "markdown",
   "id": "d0aa4b97",
   "metadata": {},
   "source": [
    "## (3) $\\left( \\begin{array}{ccc} 1 & 2 & 3 \\\\ 4 & 5 & 6 \\\\ 7 & 8 & 11 \\end{array} \\right)$ の行列式"
   ]
  },
  {
   "cell_type": "code",
   "execution_count": 5,
   "id": "a2561f7f",
   "metadata": {},
   "outputs": [
    {
     "data": {
      "text/plain": [
       "-6.0"
      ]
     },
     "execution_count": 5,
     "metadata": {},
     "output_type": "execute_result"
    }
   ],
   "source": [
    "# 問１（３）の入力欄\n",
    "A = np.array(\n",
    "    [[1, 2, 3],\n",
    "     [4, 5, 6],\n",
    "        [7,8,11]]\n",
    ")\n",
    "np.linalg.det(A)"
   ]
  },
  {
   "cell_type": "markdown",
   "id": "3d29dc27",
   "metadata": {},
   "source": [
    "## (4) $\\left( \\begin{array}{ccc} 1 & 2 & 3 \\\\ 4 & 5 & 6 \\\\ 7 & 8 & 11 \\end{array} \\right)$ の逆行列"
   ]
  },
  {
   "cell_type": "code",
   "execution_count": 6,
   "id": "f7da837a",
   "metadata": {},
   "outputs": [
    {
     "data": {
      "text/plain": [
       "array([[-1.16666667, -0.33333333,  0.5       ],\n",
       "       [ 0.33333333,  1.66666667, -1.        ],\n",
       "       [ 0.5       , -1.        ,  0.5       ]])"
      ]
     },
     "execution_count": 6,
     "metadata": {},
     "output_type": "execute_result"
    }
   ],
   "source": [
    "# 問１（４）の入力欄\n",
    "np.linalg.inv(A)"
   ]
  },
  {
   "cell_type": "markdown",
   "id": "df494e7f",
   "metadata": {},
   "source": [
    "## (5) $\\left( \\begin{array}{ccc} 1 & 2 & 3 \\\\ 4 & 5 & 6 \\\\ 7 & 8 & 11 \\end{array} \\right)$ の固有値・各固有値に対する固有ベクトル"
   ]
  },
  {
   "cell_type": "code",
   "execution_count": 7,
   "id": "6842418b",
   "metadata": {},
   "outputs": [
    {
     "data": {
      "text/plain": [
       "(array([17.3263076 , -0.77382013,  0.44751254]),\n",
       " array([[ 0.21513344,  0.89712433,  0.15929715],\n",
       "        [ 0.4829753 , -0.22878471, -0.83471441],\n",
       "        [ 0.84879471, -0.37792259,  0.52713971]]))"
      ]
     },
     "execution_count": 7,
     "metadata": {},
     "output_type": "execute_result"
    }
   ],
   "source": [
    "# 問１（５）の入力欄\n",
    "A_eig = np.linalg.eig(A)\n",
    "\n",
    "# 固有値を表示\n",
    "A_eig\n",
    "\n",
    "# 固有ベクトルを表示"
   ]
  },
  {
   "cell_type": "markdown",
   "id": "bfbe8443",
   "metadata": {},
   "source": [
    "## 問２．講義ノートの応用１では，標準正規分布から選ばれる乱数により生成される非対称 $N$ 次行列の固有値を $\\lambda$ として，<span style=\"color: blue; \">正規化</span>固有値 $\\tilde{\\lambda}=\\lambda/\\sqrt{N}$ の複素平面上の分布を調べた．本問では，成分を乱数として，標準正規分布ではなく，以下の３条件：<br><br>＜条件１＞乱数の範囲は $-3$ 以上 $4$ 未満の整数（$-3$ 以上 $3$ 以下の整数）である<br>＜条件２＞乱数は一様分布から選ばれる<br>＜条件３＞$N=500$<br><br>により生成される非対称行列の<span style=\"color: blue; \">正規化</span>固有値の複素平面における分布を調べよ．なお，分布範囲を特徴付ける円のプロットも適宜行っても構わない．"
   ]
  },
  {
   "cell_type": "code",
   "execution_count": 8,
   "id": "a989a2a5",
   "metadata": {},
   "outputs": [
    {
     "data": {
      "image/png": "[encoded data removed]",
      "text/plain": [
       "<Figure size 640x480 with 1 Axes>"
      ]
     },
     "metadata": {},
     "output_type": "display_data"
    }
   ],
   "source": [
    "# 問２の入力欄\n",
    "\n",
    "### 条件１・２・３を満たす N=500 次行列 A の生成＆固有値の導出（上から１行目の \"...\" 部に適切な文を入力しよう） ###\n",
    "A =  np.random.randint(-3, 4, (500, 500))\n",
    "A_eig = np.linalg.eigvals(A)\n",
    "\n",
    "### 固有値の分布に関する散布図の描画（上から２行目の \"...\" 部に適切な文を入力しよう） ###\n",
    "for i in range(500):\n",
    "    plt.scatter(A_eig[i].real/(500**(1/2)), A_eig[i].imag/(500**(1/2)), marker=\".\", color = \"green\", label = \"POINT\")\n",
    "    plt.axis('square')"
   ]
  },
  {
   "cell_type": "code",
   "execution_count": null,
   "id": "1b20b299",
   "metadata": {},
   "outputs": [],
   "source": []
  }
 ],
 "metadata": {
  "kernelspec": {
   "display_name": "Python 3 (ipykernel)",
   "language": "python",
   "name": "python3"
  },
  "language_info": {
   "codemirror_mode": {
    "name": "ipython",
    "version": 3
   },
   "file_extension": ".py",
   "mimetype": "text/x-python",
   "name": "python",
   "nbconvert_exporter": "python",
   "pygments_lexer": "ipython3",
   "version": "3.10.9"
  }
 },
 "nbformat": 4,
 "nbformat_minor": 5
}
