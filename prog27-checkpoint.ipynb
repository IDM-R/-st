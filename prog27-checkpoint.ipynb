{
 "cells": [
  {
   "cell_type": "markdown",
   "id": "ae9987a2",
   "metadata": {},
   "source": [
    "## 講義（後期，第１３回）ノート　＜関数の極値２　線形回帰（単回帰）分析＞ <br>提出課題については，最下部を参照"
   ]
  },
  {
   "cell_type": "markdown",
   "id": "d3f79293",
   "metadata": {},
   "source": [
    "## 前回は，勾配降下法と呼ばれるアルゴリズムを紹介し，関数の極値（極小値）を調べた．今回は，機械学習という分野において重要な役割を果たす，「<span style=\"color: blue; \">１つの実数値の入力</span>によって返される１つの値をデータの傾向から予測する」ための数式を考える<span style=\"color: blue; \">単</span>回帰分析とよばれる方法を紹介し，この分析過程で与えられる関数への勾配降下法の応用を考えよう．<br><br>　次の表は５人の身長と体重をまとめたものである．"
   ]
  },
  {
   "cell_type": "markdown",
   "id": "488c3e16",
   "metadata": {},
   "source": [
    "| <span style=\"font-size: 150%;\"><span style=\"color: blue; \">身長 [cm] | <span style=\"font-size: 150%;\">体重 [kg] |\n",
    "| :---: | :---: |\n",
    "| <span style=\"font-size: 150%;\">$x_1=$ 166 | <span style=\"font-size: 150%;\">$y_1=$ 58.7 |\n",
    "| <span style=\"font-size: 150%;\">$x_2=$ 176 | <span style=\"font-size: 150%;\">$y_2=$ 75.7 |\n",
    "| <span style=\"font-size: 150%;\">$x_3=$ 171 | <span style=\"font-size: 150%;\">$y_3=$ 62.1 |\n",
    "| <span style=\"font-size: 150%;\">$x_4=$ 173 | <span style=\"font-size: 150%;\">$y_4=$ 70.4 |\n",
    "| <span style=\"font-size: 150%;\">$x_5=$ 169 | <span style=\"font-size: 150%;\">$y_5=$ 60.1 |"
   ]
  },
  {
   "cell_type": "markdown",
   "id": "45fd5c6d",
   "metadata": {},
   "source": [
    "## 上の表のデータ系列を，散布図で描画すると，次の通りとなる．"
   ]
  },
  {
   "cell_type": "code",
   "execution_count": 1,
   "id": "3db3e070",
   "metadata": {},
   "outputs": [
    {
     "data": {
      "image/png": "[encoded data removed]",
      "text/plain": [
       "<Figure size 432x288 with 1 Axes>"
      ]
     },
     "metadata": {
      "needs_background": "light"
     },
     "output_type": "display_data"
    }
   ],
   "source": [
    "import matplotlib.pyplot as plt\n",
    "\n",
    "x = [166,176,171,173,169]\n",
    "y = [58.7,75.7,62.1,70.4,60.1]\n",
    "\n",
    "plt.scatter(x,y, color=\"green\")\n",
    "plt.grid()"
   ]
  },
  {
   "cell_type": "markdown",
   "id": "3b12b3f9",
   "metadata": {},
   "source": [
    "## 上の散布図を見ると，点 $(x_i,y_i)$ $(i=1,2,...,5)$ が右上がりに分布している．そのため，身長と体重には正の相関関係がある（$x_i$ が大きくなると $y_i$ も大きくなる）ことが読み取れる．この相関関係を考えた上で，身長 $x$ を入力データとして，出力データとなる体重 $y$ を予測する方法を考えよう．その方法の一つに<span style=\"color: red; \">線形</span>回帰分析がある．この分析は，$y$ を $x$ に関する<span style=\"color: red; \">１次式の直線</span>による回帰式 $y=w_0 + w_1 x$ で表せるとして，入力データ $x$（説明変数）からデータの傾向に沿う予測データ $y$（目的変数）を得るための $w_0,w_1$ を求める方法である．身長と体重には正の相関関係があることから，今回の場合は $w_1>0$ であることが期待される．"
   ]
  },
  {
   "cell_type": "code",
   "execution_count": 2,
   "id": "850ef4f0",
   "metadata": {},
   "outputs": [
    {
     "data": {
      "text/html": [
       "<img src=\"https://www.rs.tus.ac.jp/yenatsu/idm2021prog/loss_function.jpg\"/>"
      ],
      "text/plain": [
       "<IPython.core.display.Image object>"
      ]
     },
     "execution_count": 2,
     "metadata": {},
     "output_type": "execute_result"
    }
   ],
   "source": [
    "from IPython.display import Image\n",
    "Image(url= 'https://www.rs.tus.ac.jp/yenatsu/idm2021prog/loss_function.jpg')"
   ]
  },
  {
   "cell_type": "markdown",
   "id": "5f73ef63",
   "metadata": {},
   "source": [
    "## 上の関数 $L$ は損失関数ともよばれていて，正解データ $y_{{\\rm true},i}$ $(i=1,2,...,5)$ と回帰式（モデル）による予測データ $y_{{\\rm pred},i}$ $(i=1,2,...,5)$ の誤差を計るためのものである．$L$ を構成する残差平方和は，標本点ごとに正解値と予測値の大小が逆転していても，それらの誤差を各標本点で常に非負の値で計れたり，各データに関して偏微分可能であるため，回帰分析では標準的に使われている．<br><br>　損失関数は $w_0,w_1$ を独立変数とする２変数関数である．一方で，以下のように座標値の平均を原点とする新しい座標系で損失関数を与え直すと，<span style=\"color: red; \">※</span>部の項が 0 となる．そのため，損失関数の最小化問題に対して，前回学んだ１変数関数の勾配降下法の適用が容易になる．"
   ]
  },
  {
   "cell_type": "code",
   "execution_count": 3,
   "id": "3f9442f9",
   "metadata": {
    "scrolled": true
   },
   "outputs": [
    {
     "data": {
      "text/html": [
       "<img src=\"https://www.rs.tus.ac.jp/yenatsu/idm2021prog/loss_function_translate.jpg\"/>"
      ],
      "text/plain": [
       "<IPython.core.display.Image object>"
      ]
     },
     "execution_count": 3,
     "metadata": {},
     "output_type": "execute_result"
    }
   ],
   "source": [
    "from IPython.display import Image\n",
    "Image(url= 'https://www.rs.tus.ac.jp/yenatsu/idm2021prog/loss_function_translate.jpg')"
   ]
  },
  {
   "cell_type": "markdown",
   "id": "d898d60e",
   "metadata": {},
   "source": [
    "## 上の関数 $\\tilde{L}$ において，$W_0$ が関係する項は $5 W_0^2$ だけなので，$\\tilde{L}$ が最小値をとるとき，$W_0=0$ である．あとは $W_0$ によらない $(\\ast)$ 式の下線部，すなわち，$\\tilde{L}(0,W_1)$ を最小にする $W_1$ を求めればよい． $\\tilde{L}(0,W_1)$ は２次関数なので，平方完成を用いれば，$\\tilde{L}(0,W_1)$ を最小にする $W_1$ は具体的な文字式で求まる．今回は，勾配降下法を用いて，$\\tilde{L}(0,W_1)$ を最小にする $W_1$ のおおよその値を調べよう．"
   ]
  },
  {
   "cell_type": "markdown",
   "id": "254b13a0",
   "metadata": {},
   "source": [
    "## 例．座標系 $(X,Y)$ での損失関数 $\\tilde{L}(W_0,W_1)$ における $\\tilde{L}(0,W_1)$ を導出し，$\\tilde{L}(0,W_1)$ を最小にする $W_1$ を勾配降下法によって求めるプログラム"
   ]
  },
  {
   "cell_type": "code",
   "execution_count": 4,
   "id": "726a2a39",
   "metadata": {},
   "outputs": [
    {
     "name": "stdout",
     "output_type": "stream",
     "text": [
      "L_tilde(0,W1)= 58 W1^2+ -211.2 W1+ 214.96\n",
      "\n",
      "  0 回目の探索：x= 0.5\n",
      "  1 回目の探索：x= 0.8063999542973761\n",
      "  2 回目の探索：x= 1.0417157922238403\n",
      "  3 回目の探索：x= 1.2224380738080072\n",
      "  4 回目の探索：x= 1.3612320812062535\n",
      "  5 回目の探索：x= 1.467825997122418\n",
      "  6 回目の探索：x= 1.5496901836631878\n",
      "  7 回目の探索：x= 1.6125618470941845\n",
      "  8 回目の探索：x= 1.6608474892454979\n",
      "  9 回目の探索：x= 1.6979309988419118\n",
      " 10 回目の探索：x= 1.7264112569937424\n",
      " 11 回目の探索：x= 1.7482840361371927\n",
      " 12 回目の探索：x= 1.7650818348447501\n",
      " 13 回目の探索：x= 1.7779824487552105\n",
      " 14 回目の探索：x= 1.787890825096838\n",
      " 15 回目の探索：x= 1.7954998851455457\n",
      " 16 回目の探索：x= 1.8013439570386254\n",
      " 17 回目の探索：x= 1.8058323133918748\n",
      " 18 回目の探索：x= 1.8092798667457828\n",
      " 19 回目の探索：x= 1.8119270647621306\n",
      " 20 回目の探索：x= 1.8139603538547817\n",
      " 21 回目の探索：x= 1.8155212741366995\n",
      " 22 回目の探索：x= 1.8167206702746626\n",
      " 23 回目の探索：x= 1.817640965226019\n",
      " 24 回目の探索：x= 1.8183480973566475\n",
      " 25 回目の探索：x= 1.8188915204409568\n",
      " 26 回目の探索：x= 1.8193087511353951\n",
      " 27 回目の探索：x= 1.8196287795835815\n",
      " 28 回目の探索：x= 1.8198749115872488\n",
      " 29 回目の探索：x= 1.8200647686062439\n",
      " 30 回目の探索：x= 1.820209719324339\n",
      " 31 回目の探索：x= 1.8203211324253061\n",
      " 32 回目の探索：x= 1.820406965987786\n",
      " 33 回目の探索：x= 1.8204723359194759\n",
      " 34 回目の探索：x= 1.820522926562262\n",
      " 35 回目の探索：x= 1.8205615800870873\n",
      " 36 回目の探索：x= 1.8205917070990836\n",
      " 37 回目の探索：x= 1.8206150129008165\n",
      " 38 回目の探索：x= 1.8206320659264748\n",
      " 39 回目の探索：x= 1.8206457083470013\n",
      " 40 回目の探索：x= 1.8206559401623963\n",
      " 41 回目の探索：x= 1.8206638982410368\n",
      " 42 回目の探索：x= 1.8206701510171115\n",
      " 43 回目の探索：x= 1.8206746984906204\n",
      " 44 回目の探索：x= 1.820678109095752\n",
      " 45 回目の探索：x= 1.8206815197008837\n",
      " 46 回目の探索：x= 1.820683793437638\n",
      " 47 回目の探索：x= 1.820685498740204\n",
      " 48 回目の探索：x= 1.8206860671743925\n",
      " 49 回目の探索：x= 1.8206866356085811\n",
      " 50 回目の探索：x= 1.8206872040427697\n",
      " 51 回目の探索：x= 1.8206877724769583\n",
      " 52 回目の探索：x= 1.820688340911147\n",
      " 53 回目の探索：x= 1.8206889093453356\n",
      " 54 回目の探索：x= 1.8206889093453356\n",
      "\n",
      "W1_min の探索移動量：small enough (<= 1e-08 ).\n",
      "W1_min の近似値： 1.8206889093453356 ，L_tilde(W1_min) の値： 22.695172413825418\n"
     ]
    },
    {
     "data": {
      "image/png": "[encoded data removed]",
      "text/plain": [
       "<Figure size 432x288 with 1 Axes>"
      ]
     },
     "metadata": {
      "needs_background": "light"
     },
     "output_type": "display_data"
    }
   ],
   "source": [
    "import numpy as np\n",
    "import matplotlib.pyplot as plt\n",
    "\n",
    "X = [-5,5,0,2,-2]\n",
    "Y = [-6.7,10.3,-3.3,5.0,-5.3]\n",
    "\n",
    "### 関数定義（(*) 式の下線部）!! 注意：リストのインデックス番号は（1 からではなく）0 から !! ###\n",
    "a = X[0]**2+X[1]**2+X[2]**2+X[3]**2+X[4]**2\n",
    "b = -2*(X[0]*Y[0]+X[1]*Y[1]+X[2]*Y[2]+X[3]*Y[3]+X[4]*Y[4])\n",
    "c = Y[0]**2+Y[1]**2+Y[2]**2+Y[3]**2+Y[4]**2\n",
    "\n",
    "def f(W):\n",
    "    return a*W**2 + b*W + c\n",
    "\n",
    "print(\"L_tilde(0,W1)=\", a, \"W1^2+\", b, \"W1+\", c)\n",
    "print()\n",
    "\n",
    "### 勾配降下法の実装（以降は講義（後期，第６回）ノートの例と同様） ###\n",
    "alpha = 0.002 # 学習率\n",
    "\n",
    "W10 = 0.5 # W1 の初期値\n",
    "plt.scatter(W10, f(W10), color=\"green\", s=100)\n",
    "\n",
    "h = 1e-10 # 導関数 f' を与えるための微小な値\n",
    "error = 1e-8 # 収束判定用の数値\n",
    "max_loop = 100 # 計算回数の最大値\n",
    "\n",
    "num_calc = 0 # 計算回数の初期値を 0 とする\n",
    "print(\"%3d\" % num_calc, \"回目の探索：x=\", W10)\n",
    "\n",
    "while(True):\n",
    "    Df = (f(W10+h)-f(W10))/h\n",
    "    W11 = W10 - alpha*Df # 根の近似値の更新\n",
    "    num_calc += 1 # 計算回数のカウントアップ\n",
    "    print(\"%3d\" % num_calc, \"回目の探索：x=\", W11)\n",
    "    plt.plot(W11, f(W11), marker='.', markersize=10, color=\"black\") # 根の近似値とそのときの f の値を点で表示\n",
    "\n",
    "    # 終了条件１：更新前後で x の増分（の絶対値）が十分小さくなったときに，探索を終了する\n",
    "    if(abs(W11-W10) <= error):\n",
    "        print()\n",
    "        print(\"W1_min の探索移動量：small enough (<=\", error, \").\")\n",
    "        plt.plot(W11, f(W11), marker='.', markersize=20, color=\"blue\") # 根の近似値とそのときの f の値を点で表示\n",
    "        print(\"W1_min の近似値：\", W11, \"，L_tilde(W1_min) の値：\", f(W11))\n",
    "        break\n",
    "        \n",
    "    # 終了条件２：max_loop 回分の計算を終えた場合でも，探索を終了する\n",
    "    if(max_loop<=num_calc):\n",
    "        print(\"The number of loops reach a maximum value.\")\n",
    "        break\n",
    "    \n",
    "    W10 = W11 # 根の近似値を更新\n",
    "\n",
    "### グラフ描画 ###\n",
    "x = np.linspace(0, 3.5, 201)\n",
    "plt.plot(x, f(x))\n",
    "\n",
    "### オプション ###\n",
    "plt.xlabel(\"$W_1$\") # x 軸の名前\n",
    "plt.ylabel(\"$L_{tilde} (W_1)$\") # y 軸の名前\n",
    "plt.grid() # 点線の目盛り表示"
   ]
  },
  {
   "cell_type": "markdown",
   "id": "4a0e4f44",
   "metadata": {},
   "source": [
    "## 上の議論から，座標値の平均を原点とする新しい座標系 $(X,Y)$ での損失関数 $\\tilde{L}(W_0,W_1)$ を最小にする $W_0,W_1$ は $W_0=0, W_1 \\simeq 1.82068$ である．各 $i=1,2,...,5$ に対して，変数変換 $X_i=x_i-\\overline{x}, Y_i=y_{{\\rm pred},i}-\\overline{y}$ より，入力データ $x_i$ と予測データ $y_{{\\rm pred},i}$ は次の式を満たす：\\begin{align*}Y_{{\\rm pred},i}&=W_0+W_1 X_i \\\\ y_{{\\rm pred},i}-\\overline{y} &= W_1 (x_i-\\overline{x}) \\ \\ \\ \\ \\ (\\because W_0=0)\\\\ y_{{\\rm pred},i} &=\\color{red}{\\overline{y}-W_1 \\overline{x}}+\\color{blue}{W_1} x_i \\end{align*}<br>したがって，元の座標系 $(x,y)$ での回帰式 $y=\\color{red}{w_0}+\\color{blue}{w_1} x$ の切片 $w_0$ と傾き $w_1$ は $(w_0,w_1)=(\\overline{y}-W_1 \\overline{x},W_1)$ であり，$w_0 \\simeq -245.936, w_1 \\simeq 1.82068$ である．そのため，求める回帰式は，おおよそ $y=- 245.936+1.82068 x$ である．<br><br>上の議論から，元の身長と体重に関する散布図と回帰式を描画すると，次の通りとなる．"
   ]
  },
  {
   "cell_type": "code",
   "execution_count": 5,
   "id": "8d9d4580",
   "metadata": {},
   "outputs": [
    {
     "data": {
      "image/png": "[encoded data removed]",
      "text/plain": [
       "<Figure size 432x288 with 1 Axes>"
      ]
     },
     "metadata": {
      "needs_background": "light"
     },
     "output_type": "display_data"
    }
   ],
   "source": [
    "import numpy as np\n",
    "import matplotlib.pyplot as plt\n",
    "\n",
    "### 散布図描画 ###\n",
    "x = [166,176,171,173,169]\n",
    "y = [58.7,75.7,62.1,70.4,60.1]\n",
    "\n",
    "plt.scatter(x,y, color=\"green\")\n",
    "\n",
    "### 回帰式の定義＆描画 ###\n",
    "def f(u):\n",
    "    return -245.936 + 1.820688*u\n",
    "u = np.linspace(166, 176, 201)\n",
    "plt.plot(u, f(u), color = \"black\")\n",
    "\n",
    "### オプション ###\n",
    "plt.xlabel(\"$x$\") # x 軸の名前\n",
    "plt.ylabel(\"$y$\") # y 軸の名前\n",
    "plt.grid()"
   ]
  },
  {
   "cell_type": "markdown",
   "id": "bc086fc2",
   "metadata": {},
   "source": [
    "## 入力データを身長 $x$，予測データを体重 $y$ として，以下のステップで，$x$ から $y$ を予測するための回帰分析を行った：<br><br>１．$x_1,x_2,...,x_5$ の平均 $\\overline{x}$ と $y_1,y_2,...,y_5$ の平均 $\\overline{y}$ を求める．<br><br>２．座標値の平均を $(\\overline{x},\\overline{y})$ から原点 $(0,0)$ に移した新しい座標系 $(X,Y)$ で損失関数 $\\tilde{L}(W_0,W_1)$ を与える．$W_0,W_1$ は，座標系 $(X,Y)$ での回帰式 $Y=W_0+W_1 X$ の傾きと切片にそれぞれ対応する．<br><br>３．損失関数 $\\tilde{L}(W_0,W_1)$ が最小となるときは $W_0=0$ であり，$\\tilde{L}(0,W_1)$ が最小となるときの $W_1$ の値を，勾配降下法により求める．<br><br>４．座標系 $(X,Y)$ での回帰式 $Y=W_1 X$ に $X=x-\\overline{x}, Y=y-\\overline{y}$ を代入した式が，元の座標系 $(x,y)$ での回帰式 $y=w_0+w_1 x$ と同じになるような $(w_0,w_1)=(\\overline{y}-W_1 \\overline{x},W_1)$ を求める．<br><br>本講義では線形回帰分析の基本理論を紹介する際，これまで習得した命令文を用いてプログラムを組んでいる．一方，Python の機械学習に特化した scikit-learn というライブラリの関数 LinearRegression() を用いると，入力データと出力データが与えられただけで，ステップ４での $w_0,w_1$ を求める線形（単）回帰分析をただちに行える．"
   ]
  },
  {
   "cell_type": "code",
   "execution_count": 6,
   "id": "2e768992",
   "metadata": {},
   "outputs": [
    {
     "name": "stdout",
     "output_type": "stream",
     "text": [
      "w0= -245.93793103448283 , w1= 1.820689655172414\n",
      "回帰式：y= -245.93793103448283 + 1.820689655172414 x\n"
     ]
    }
   ],
   "source": [
    "from sklearn.linear_model import LinearRegression\n",
    "import matplotlib.pyplot as plt\n",
    "\n",
    "x = [[166],[176],[171],[173],[169]]\n",
    "y = [58.7,75.7,62.1,70.4,60.1]\n",
    "\n",
    "w = LinearRegression()\n",
    "w.fit(x,y)\n",
    "\n",
    "w0=w.intercept_\n",
    "w1=w.coef_[0]\n",
    "\n",
    "print(\"w0=\",w0,\", w1=\",w1)\n",
    "print(\"回帰式：y=\",w0,\"+\",w1,\"x\")"
   ]
  },
  {
   "cell_type": "markdown",
   "id": "8687fb70",
   "metadata": {},
   "source": [
    "## 回帰分析は購買データ，Web の閲覧データなどに対して広く行われており，マーケティングによる将来の予測を行う上で必要不可欠なツールである．回帰分析を行う機会が今後あれば，こうした関数も積極的に活用しよう．<br><br><span style=\"font-size: 100%;\">＜参考文献＞<br>赤石 雅典 著，最短コースでわかるディープラーニングの数学，日経 BP，2019年4月11日，URL：https://info.nikkeibp.co.jp/media/RAS/atcl/books/062200006/"
   ]
  },
  {
   "cell_type": "markdown",
   "id": "8e13bb62",
   "metadata": {},
   "source": [
    "## <span style=\"color: red; \">提出課題＜締切：１２月１６日（土）２３：５９＞</span><br><br>prog27_kadai_sample.ipynb 内の問に答えよ．<br>prog27_kadai_sample.ipynb 内の空欄すべてを埋め終えたら，ファイル名を<br><span style=\"color: blue; \">「prog27_kadai_sample」から「prog27_kadai_892〇〇〇〇」<br>（〇〇〇〇：半角の学籍番号下４桁）<br>へ変更し</span>，江夏の宛先へメール添付によりファイルを送信すること．<br><br>今回は，<span style=\"color: blue; \">答案に目を通すのは締切後となります</span>．締切まで<span style=\"color: blue; \">じっくり時間をかけての取り組みを推奨します</span>．"
   ]
  }
 ],
 "metadata": {
  "kernelspec": {
   "display_name": "Python 3",
   "language": "python",
   "name": "python3"
  },
  "language_info": {
   "codemirror_mode": {
    "name": "ipython",
    "version": 3
   },
   "file_extension": ".py",
   "mimetype": "text/x-python",
   "name": "python",
   "nbconvert_exporter": "python",
   "pygments_lexer": "ipython3",
   "version": "3.8.5"
  }
 },
 "nbformat": 4,
 "nbformat_minor": 5
}
