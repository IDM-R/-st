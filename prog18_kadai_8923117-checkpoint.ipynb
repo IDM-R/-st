{
 "cells": [
  {
   "cell_type": "markdown",
   "id": "d8bb972c",
   "metadata": {},
   "source": [
    "## 講義（後期，第４回）レポート<br>学籍番号：8923117　氏名：三好琉希"
   ]
  },
  {
   "cell_type": "markdown",
   "id": "11637faa",
   "metadata": {},
   "source": [
    "## 次の問（下部にあります）に答えよ．ただし，全ての問において，入力したプログラムを自身で実行し，<span style=\"color: blue; \">実行によって出力される表示結果も必ず残したままにすること</span>．今回の課題提出は任意であるが，良い評定を目指したい受講生は，積極的に取り組みましょう．<br><br>課題へ取り組む前に，以下２つの Code セルを実行すること．<br><br>１．random モジュールのインポート"
   ]
  },
  {
   "cell_type": "code",
   "execution_count": 2,
   "id": "c8eb3212",
   "metadata": {},
   "outputs": [],
   "source": [
    "import random"
   ]
  },
  {
   "cell_type": "markdown",
   "id": "20e680ae",
   "metadata": {},
   "source": [
    "## ２．Joker を含む全53枚のカードのリスト（変数名：cards）"
   ]
  },
  {
   "cell_type": "code",
   "execution_count": 4,
   "id": "793e570a",
   "metadata": {},
   "outputs": [],
   "source": [
    "cards = [\"HA\", \"H2\", \"H3\", \"H4\", \"H5\", \"H6\", \"H7\", \"H8\", \"H9\", \"H10\", \"HJ\", \"HQ\", \"HK\", \"SA\", \"S2\", \"S3\", \"S4\", \"S5\", \"S6\", \"S7\", \"S8\", \"S9\", \"S10\", \"SJ\", \"SQ\", \"SK\", \"CA\", \"C2\", \"C3\", \"C4\", \"C5\", \"C6\", \"C7\", \"C8\", \"C9\", \"C10\", \"CJ\", \"CQ\", \"CK\", \"DA\", \"D2\", \"D3\", \"D4\", \"D5\", \"D6\", \"D7\", \"D8\", \"D9\", \"D10\", \"DJ\", \"DQ\", \"DK\", \"Joker\"]"
   ]
  },
  {
   "cell_type": "markdown",
   "id": "6c605108",
   "metadata": {},
   "source": [
    "## 【重複を認めた多量のトランプの探索，テキスト p.109】<br>　random.choices() を使うと，要素同士の「重複を認めた」リストを作成できる．例えば，15 枚のトランプカードのリストを作成するときは，以下のプログラムを実行すれば良い．"
   ]
  },
  {
   "cell_type": "code",
   "execution_count": 5,
   "id": "99cc1da9",
   "metadata": {},
   "outputs": [
    {
     "data": {
      "text/plain": [
       "['D3',\n",
       " 'D3',\n",
       " 'S9',\n",
       " 'D5',\n",
       " 'D6',\n",
       " 'DQ',\n",
       " 'CQ',\n",
       " 'H10',\n",
       " 'S4',\n",
       " 'HJ',\n",
       " 'HQ',\n",
       " 'H5',\n",
       " 'H4',\n",
       " 'D8',\n",
       " 'S8']"
      ]
     },
     "execution_count": 5,
     "metadata": {},
     "output_type": "execute_result"
    }
   ],
   "source": [
    "random.choices(cards, k=15) # 実行の度に結果は変わるが，下記の出力結果では，\"DA\"（ダイヤのエース）や \"C10\"（クラブの 10）が重複している"
   ]
  },
  {
   "cell_type": "markdown",
   "id": "712004db",
   "metadata": {},
   "source": [
    "## 問１．重複を認めた札 50 枚をランダムに選択し，それらの中にジョーカーが含まれているかどうかを「<span style=\"color: blue; \">線形探索</span>アルゴリズム」により調べよ．なお，講義ノートと同様に，ランダムに選ばれたカードの中に Joker が含まれていれば「発見」という文字列を出力させること．必要に応じて，複数の Code セルを用いて良く，関数名も各自で決めて良い（二分探索アルゴリズムで使うものと区別しやすい名称にすること）．"
   ]
  },
  {
   "cell_type": "code",
   "execution_count": 6,
   "id": "dda4ca19",
   "metadata": {},
   "outputs": [
    {
     "name": "stdout",
     "output_type": "stream",
     "text": [
      "['SJ', 'S4', 'D3', 'D5', 'C2', 'S6', 'SA', 'H7', 'DJ', 'S10', 'C6', 'DK', 'H2', 'S7', 'H10', 'HQ', 'D4', 'CK', 'CJ', 'D8', 'S3', 'Joker', 'H8', 'D6', 'CA', 'D7', 'C5', 'D10', 'S9', 'H9', 'C9', 'SK', 'HJ', 'H5', 'D9', 'HA', 'D2', 'C7', 'C4', 'C10', 'C8', 'S8', 'H3', 'H6', 'S2', 'SQ', 'HK', 'CQ', 'DA', 'DQ']\n"
     ]
    }
   ],
   "source": [
    "# 問１の入力欄\n",
    "first = random.sample(cards, 50)\n",
    "print(first)"
   ]
  },
  {
   "cell_type": "code",
   "execution_count": 7,
   "id": "5b921bc5",
   "metadata": {},
   "outputs": [
    {
     "data": {
      "text/plain": [
       "['C10',\n",
       " 'C2',\n",
       " 'C4',\n",
       " 'C5',\n",
       " 'C6',\n",
       " 'C7',\n",
       " 'C8',\n",
       " 'C9',\n",
       " 'CA',\n",
       " 'CJ',\n",
       " 'CK',\n",
       " 'CQ',\n",
       " 'D10',\n",
       " 'D2',\n",
       " 'D3',\n",
       " 'D4',\n",
       " 'D5',\n",
       " 'D6',\n",
       " 'D7',\n",
       " 'D8',\n",
       " 'D9',\n",
       " 'DA',\n",
       " 'DJ',\n",
       " 'DK',\n",
       " 'DQ',\n",
       " 'H10',\n",
       " 'H2',\n",
       " 'H3',\n",
       " 'H5',\n",
       " 'H6',\n",
       " 'H7',\n",
       " 'H8',\n",
       " 'H9',\n",
       " 'HA',\n",
       " 'HJ',\n",
       " 'HK',\n",
       " 'HQ',\n",
       " 'Joker',\n",
       " 'S10',\n",
       " 'S2',\n",
       " 'S3',\n",
       " 'S4',\n",
       " 'S6',\n",
       " 'S7',\n",
       " 'S8',\n",
       " 'S9',\n",
       " 'SA',\n",
       " 'SJ',\n",
       " 'SK',\n",
       " 'SQ']"
      ]
     },
     "execution_count": 7,
     "metadata": {},
     "output_type": "execute_result"
    }
   ],
   "source": [
    "first.sort()\n",
    "first"
   ]
  },
  {
   "cell_type": "code",
   "execution_count": 11,
   "id": "9a1baeb2",
   "metadata": {},
   "outputs": [],
   "source": [
    "def findJoker2(l):\n",
    "    min_idx = 0 \n",
    "    max_idx = len(l) - 1 \n",
    "    while min_idx <= max_idx: \n",
    "        mid_idx = int((min_idx + max_idx) / 2)\n",
    "        if l[mid_idx] == \"Joker\":\n",
    "            print(\"発見\") \n",
    "            return\n",
    "        if l[mid_idx] > \"Joker\":\n",
    "            max_idx = mid_idx - 1 \n",
    "        else:\n",
    "            min_idx = mid_idx + 1 "
   ]
  },
  {
   "cell_type": "code",
   "execution_count": 13,
   "id": "e64d698a",
   "metadata": {},
   "outputs": [
    {
     "name": "stdout",
     "output_type": "stream",
     "text": [
      "発見\n"
     ]
    }
   ],
   "source": [
    "findJoker2(first)"
   ]
  },
  {
   "cell_type": "markdown",
   "id": "a3986d11",
   "metadata": {},
   "source": [
    "## 問２．重複を認めた札 50 枚をランダムに選択し，それらの中にジョーカーが含まれているかどうかを「<span style=\"color: blue; \">二分探索</span>アルゴリズム」により調べよ．なお，講義ノートと同様に，ランダムに選ばれたカードの中に Joker が含まれていれば「発見」という文字列を出力させること．必要に応じて，複数の Code セルを用いて良く，関数名も各自で決めて良い（線形探索アルゴリズムで使うものと区別しやすい名称にすること）．"
   ]
  },
  {
   "cell_type": "code",
   "execution_count": 24,
   "id": "04cc3d55",
   "metadata": {},
   "outputs": [
    {
     "name": "stdout",
     "output_type": "stream",
     "text": [
      "['Joker', 'SQ', 'C7', 'H5', 'DA', 'DJ', 'D3', 'H9', 'C4', 'DA', 'D9', 'D4', 'S3', 'CQ', 'Joker', 'HK', 'H10', 'CA', 'H3', 'H5', 'HJ', 'S8', 'H3', 'D2', 'D9', 'C3', 'H2', 'S2', 'S3', 'HK', 'C3', 'S7', 'D10', 'DQ', 'D2', 'H4', 'HA', 'HJ', 'C2', 'H9', 'S7', 'C4', 'D4', 'SA', 'DA', 'C4', 'D10', 'HQ', 'H8', 'SQ']\n"
     ]
    }
   ],
   "source": [
    "# 問２の入力欄\n",
    "fir = random.choices(cards, k=50)\n",
    "print(fir)"
   ]
  },
  {
   "cell_type": "code",
   "execution_count": 25,
   "id": "87213936",
   "metadata": {},
   "outputs": [
    {
     "data": {
      "text/plain": [
       "['C2',\n",
       " 'C3',\n",
       " 'C3',\n",
       " 'C4',\n",
       " 'C4',\n",
       " 'C4',\n",
       " 'C7',\n",
       " 'CA',\n",
       " 'CQ',\n",
       " 'D10',\n",
       " 'D10',\n",
       " 'D2',\n",
       " 'D2',\n",
       " 'D3',\n",
       " 'D4',\n",
       " 'D4',\n",
       " 'D9',\n",
       " 'D9',\n",
       " 'DA',\n",
       " 'DA',\n",
       " 'DA',\n",
       " 'DJ',\n",
       " 'DQ',\n",
       " 'H10',\n",
       " 'H2',\n",
       " 'H3',\n",
       " 'H3',\n",
       " 'H4',\n",
       " 'H5',\n",
       " 'H5',\n",
       " 'H8',\n",
       " 'H9',\n",
       " 'H9',\n",
       " 'HA',\n",
       " 'HJ',\n",
       " 'HJ',\n",
       " 'HK',\n",
       " 'HK',\n",
       " 'HQ',\n",
       " 'Joker',\n",
       " 'Joker',\n",
       " 'S2',\n",
       " 'S3',\n",
       " 'S3',\n",
       " 'S7',\n",
       " 'S7',\n",
       " 'S8',\n",
       " 'SA',\n",
       " 'SQ',\n",
       " 'SQ']"
      ]
     },
     "execution_count": 25,
     "metadata": {},
     "output_type": "execute_result"
    }
   ],
   "source": [
    "fir.sort()\n",
    "fir"
   ]
  },
  {
   "cell_type": "code",
   "execution_count": 26,
   "id": "5e01cd53",
   "metadata": {},
   "outputs": [],
   "source": [
    "def findJoker3(l):\n",
    "    min_idx = 0 \n",
    "    max_idx = len(l) - 1 \n",
    "    while min_idx <= max_idx: \n",
    "        mid_idx = int((min_idx + max_idx) / 2)\n",
    "        if l[mid_idx] == \"Joker\":\n",
    "            print(\"発見\") \n",
    "            return\n",
    "        if l[mid_idx] > \"Joker\":\n",
    "            max_idx = mid_idx - 1 \n",
    "        else:\n",
    "            min_idx = mid_idx + 1 "
   ]
  },
  {
   "cell_type": "code",
   "execution_count": 27,
   "id": "010487da",
   "metadata": {},
   "outputs": [
    {
     "name": "stdout",
     "output_type": "stream",
     "text": [
      "発見\n"
     ]
    }
   ],
   "source": [
    "findJoker3(fir)"
   ]
  },
  {
   "cell_type": "code",
   "execution_count": null,
   "id": "88117d97",
   "metadata": {},
   "outputs": [],
   "source": []
  }
 ],
 "metadata": {
  "kernelspec": {
   "display_name": "Python 3 (ipykernel)",
   "language": "python",
   "name": "python3"
  },
  "language_info": {
   "codemirror_mode": {
    "name": "ipython",
    "version": 3
   },
   "file_extension": ".py",
   "mimetype": "text/x-python",
   "name": "python",
   "nbconvert_exporter": "python",
   "pygments_lexer": "ipython3",
   "version": "3.10.9"
  }
 },
 "nbformat": 4,
 "nbformat_minor": 5
}
