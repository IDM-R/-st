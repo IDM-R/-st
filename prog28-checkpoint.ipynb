{
 "cells": [
  {
   "cell_type": "markdown",
   "id": "b03a3bb4",
   "metadata": {},
   "source": [
    "## 講義（後期，第１４回）ノート　＜NumPy によるベクトルや行列の演算＞<br>提出課題はありません．"
   ]
  },
  {
   "cell_type": "markdown",
   "id": "cceb402d",
   "metadata": {},
   "source": [
    "## 本講義では，数値計算を高速に行うためのライブラリである NumPy を扱う．まずは，NumPy による多次元配列を使うために，次の Code セルを実行しよう．"
   ]
  },
  {
   "cell_type": "code",
   "execution_count": 1,
   "id": "4746426a",
   "metadata": {},
   "outputs": [],
   "source": [
    "import numpy as np"
   ]
  },
  {
   "cell_type": "markdown",
   "id": "7101993e",
   "metadata": {},
   "source": [
    "## ベクトルや行列は多次元配列によって表現可能である．NumPy では ndarray というクラスで多次元配列を構成できる．<br><br>例１．ベクトル ${\\bf a}=(1, 2, 3), {\\bf b}=(100, 200, 300)$ を表す ndarray オブジェクト<br><br>この例の中では，数を縦向きに並べた列ベクトルで表記すべき箇所を，プログラムとの対応がつくように，数を横向きに並べた行ベクトルに置き換えて議論する．"
   ]
  },
  {
   "cell_type": "code",
   "execution_count": 2,
   "id": "508f2645",
   "metadata": {},
   "outputs": [
    {
     "name": "stdout",
     "output_type": "stream",
     "text": [
      "[1 2 3]\n",
      "[100 200 300]\n"
     ]
    }
   ],
   "source": [
    "a = np.array([1, 2, 3])\n",
    "b = np.array([100, 200, 300])\n",
    "\n",
    "print(a)\n",
    "print(b)"
   ]
  },
  {
   "cell_type": "markdown",
   "id": "e0770803",
   "metadata": {},
   "source": [
    "## ＜ベクトルの和＞ ${\\bf a}+{\\bf b}=(1, 2, 3)+(100, 200, 300)=(101, 202, 303)$<br>＜ベクトルの差＞ ${\\bf a}-{\\bf b}=(1, 2, 3)-(100, 200, 300)=(-99, -198, -297)$ <br>＜ベクトルのスカラー倍＞ $7 {\\bf a}=(7, 14, 21), \\ -\\displaystyle\\frac{1}{5} {\\bf a}=\\Big( -\\frac{1}{5}, -\\frac{2}{5}, -\\frac{3}{5} \\Big)$"
   ]
  },
  {
   "cell_type": "code",
   "execution_count": 3,
   "id": "5c67007f",
   "metadata": {},
   "outputs": [
    {
     "data": {
      "text/plain": [
       "array([101, 202, 303])"
      ]
     },
     "execution_count": 3,
     "metadata": {},
     "output_type": "execute_result"
    }
   ],
   "source": [
    "# ベクトル同士の和\n",
    "\n",
    "a + b"
   ]
  },
  {
   "cell_type": "code",
   "execution_count": 4,
   "id": "acf81cce",
   "metadata": {},
   "outputs": [
    {
     "data": {
      "text/plain": [
       "array([ -99, -198, -297])"
      ]
     },
     "execution_count": 4,
     "metadata": {},
     "output_type": "execute_result"
    }
   ],
   "source": [
    "# ベクトル同士の差\n",
    "\n",
    "a - b"
   ]
  },
  {
   "cell_type": "code",
   "execution_count": 5,
   "id": "dab31ff1",
   "metadata": {},
   "outputs": [
    {
     "data": {
      "text/plain": [
       "array([ 7, 14, 21])"
      ]
     },
     "execution_count": 5,
     "metadata": {},
     "output_type": "execute_result"
    }
   ],
   "source": [
    "# ベクトルのスカラー倍（ベクトル手前にかかるスカラーの絶対値が１より大きい場合）\n",
    "\n",
    "7*a"
   ]
  },
  {
   "cell_type": "code",
   "execution_count": 6,
   "id": "22b1a24a",
   "metadata": {},
   "outputs": [
    {
     "data": {
      "text/plain": [
       "array([-0.2, -0.4, -0.6])"
      ]
     },
     "execution_count": 6,
     "metadata": {},
     "output_type": "execute_result"
    }
   ],
   "source": [
    "# ベクトルのスカラー倍（ベクトル手前にかかるスカラーの絶対値が１より小さい場合）\n",
    "\n",
    "a/(-5)"
   ]
  },
  {
   "cell_type": "markdown",
   "id": "6fe3d4e9",
   "metadata": {},
   "source": [
    "## ＜ベクトルの内積＞ $({\\bf a},{\\bf b})=1 \\cdot 100+2 \\cdot 200+3 \\cdot 300=1400$"
   ]
  },
  {
   "cell_type": "code",
   "execution_count": 7,
   "id": "83a21623",
   "metadata": {},
   "outputs": [
    {
     "data": {
      "text/plain": [
       "1400"
      ]
     },
     "execution_count": 7,
     "metadata": {},
     "output_type": "execute_result"
    }
   ],
   "source": [
    "# ベクトル同士の内積\n",
    "\n",
    "np.dot(a, b)"
   ]
  },
  {
   "cell_type": "markdown",
   "id": "211b5627",
   "metadata": {},
   "source": [
    "## ＜ベクトルのノルム＞ $({\\bf a},{\\bf a})=1^2+2^2+3^3=14$ より，$|{\\bf a}|=\\sqrt{14}=3.7416...$"
   ]
  },
  {
   "cell_type": "code",
   "execution_count": 8,
   "id": "d38f6eed",
   "metadata": {},
   "outputs": [
    {
     "data": {
      "text/plain": [
       "3.7416573867739413"
      ]
     },
     "execution_count": 8,
     "metadata": {},
     "output_type": "execute_result"
    }
   ],
   "source": [
    "# ベクトルのノルム\n",
    "\n",
    "norm = (np.dot(a, a))**(1/2)\n",
    "norm"
   ]
  },
  {
   "cell_type": "markdown",
   "id": "67e2e298",
   "metadata": {},
   "source": [
    "## ＜成分の取り出し＞"
   ]
  },
  {
   "cell_type": "code",
   "execution_count": 9,
   "id": "ed7a7b53",
   "metadata": {},
   "outputs": [
    {
     "name": "stdout",
     "output_type": "stream",
     "text": [
      "ベクトル c の第 1 成分の値は 3 です．\n",
      "ベクトル c の第 3 成分の値は -5 です．\n"
     ]
    }
   ],
   "source": [
    "c = np.array([3, 7, -5])\n",
    "\n",
    "print(\"ベクトル c の第 1 成分の値は\",c[0],\"です．\")\n",
    "print(\"ベクトル c の第 3 成分の値は\",c[2],\"です．\")"
   ]
  },
  {
   "cell_type": "markdown",
   "id": "8f7cd1c4",
   "metadata": {},
   "source": [
    "## 例２．行列 $A=\\left( \\begin{array}{ccc} 1 & 2 & 3 \\\\ 4 & 5 & 6 \\\\ 7 & 8 & 9 \\end{array} \\right), B=\\left( \\begin{array}{ccc} 100 & 200 & 300 \\\\ 400 & 500 & 600 \\\\ 700 & 800 & 900 \\end{array} \\right)$ を表す ndarray オブジェクト"
   ]
  },
  {
   "cell_type": "code",
   "execution_count": 10,
   "id": "7a29b2c0",
   "metadata": {},
   "outputs": [],
   "source": [
    "A = np.array(\n",
    "    [[1, 2, 3],\n",
    "     [4, 5, 6],\n",
    "     [7, 8, 9]]\n",
    ")\n",
    "\n",
    "B = np.array(\n",
    "    [[100, 200, 300],\n",
    "     [400, 500, 600],\n",
    "     [700, 800, 900]]\n",
    ")"
   ]
  },
  {
   "cell_type": "markdown",
   "id": "5cc33bb0",
   "metadata": {},
   "source": [
    "## ＜行列の和＞ $A+B=\\left( \\begin{array}{ccc} 1 & 2 & 3 \\\\ 4 & 5 & 6 \\\\ 7 & 8 & 9 \\end{array} \\right)+\\left( \\begin{array}{ccc} 100 & 200 & 300 \\\\ 400 & 500 & 600 \\\\ 700 & 800 & 900 \\end{array} \\right)=\\left( \\begin{array}{ccc} 101 & 202 & 303 \\\\ 404 & 505 & 606 \\\\ 707 & 808 & 909 \\end{array} \\right)$<br><br>＜行列の差＞ $A-B=\\left( \\begin{array}{ccc} 1 & 2 & 3 \\\\ 4 & 5 & 6 \\\\ 7 & 8 & 9 \\end{array} \\right)-\\left( \\begin{array}{ccc} 100 & 200 & 300 \\\\ 400 & 500 & 600 \\\\ 700 & 800 & 900 \\end{array} \\right)=\\left( \\begin{array}{ccc} -99 & -198 & -297 \\\\ -396 & -495 & -594 \\\\ -693 & -792 & -891 \\end{array} \\right)$<br><br>＜行列のスカラー倍＞ $-4 A=\\left( \\begin{array}{ccc} -4 & -8 & -12 \\\\ -16 & -20 & -24 \\\\ -28 & -32 & -36 \\end{array} \\right), \\ \\displaystyle\\frac{1}{7} A=\\left( \\begin{array}{ccc} \\frac{1}{7} & \\frac{2}{7} & \\frac{3}{7} \\\\ \\frac{4}{7} & \\frac{5}{7} & \\frac{6}{7} \\\\ 1 & \\frac{8}{7} & \\frac{9}{7} \\end{array} \\right)$"
   ]
  },
  {
   "cell_type": "code",
   "execution_count": 11,
   "id": "7dfb1728",
   "metadata": {
    "scrolled": true
   },
   "outputs": [
    {
     "data": {
      "text/plain": [
       "array([[101, 202, 303],\n",
       "       [404, 505, 606],\n",
       "       [707, 808, 909]])"
      ]
     },
     "execution_count": 11,
     "metadata": {},
     "output_type": "execute_result"
    }
   ],
   "source": [
    "# 行列同士の和\n",
    "\n",
    "A + B"
   ]
  },
  {
   "cell_type": "code",
   "execution_count": 12,
   "id": "e31b8a4c",
   "metadata": {
    "scrolled": false
   },
   "outputs": [
    {
     "data": {
      "text/plain": [
       "array([[ -99, -198, -297],\n",
       "       [-396, -495, -594],\n",
       "       [-693, -792, -891]])"
      ]
     },
     "execution_count": 12,
     "metadata": {},
     "output_type": "execute_result"
    }
   ],
   "source": [
    "# 行列同士の差\n",
    "\n",
    "A - B"
   ]
  },
  {
   "cell_type": "code",
   "execution_count": 13,
   "id": "a98654e8",
   "metadata": {},
   "outputs": [
    {
     "data": {
      "text/plain": [
       "array([[ -4,  -8, -12],\n",
       "       [-16, -20, -24],\n",
       "       [-28, -32, -36]])"
      ]
     },
     "execution_count": 13,
     "metadata": {},
     "output_type": "execute_result"
    }
   ],
   "source": [
    "# 行列スカラー倍（行列手前にかかるスカラーの絶対値が１より大きい場合）\n",
    "\n",
    "-4*A"
   ]
  },
  {
   "cell_type": "code",
   "execution_count": 14,
   "id": "5cdeef0b",
   "metadata": {},
   "outputs": [
    {
     "data": {
      "text/plain": [
       "array([[0.14285714, 0.28571429, 0.42857143],\n",
       "       [0.57142857, 0.71428571, 0.85714286],\n",
       "       [1.        , 1.14285714, 1.28571429]])"
      ]
     },
     "execution_count": 14,
     "metadata": {},
     "output_type": "execute_result"
    }
   ],
   "source": [
    "# 行列スカラー倍（行列手前にかかるスカラーの絶対値が１より小さい場合）\n",
    "\n",
    "A/7"
   ]
  },
  {
   "cell_type": "markdown",
   "id": "b605f5c0",
   "metadata": {},
   "source": [
    "## ＜行列の転置（Transpose）＞ $A=\\left( \\begin{array}{ccc} 1 & 2 & 3 \\\\ 4 & 5 & 6 \\end{array} \\right) \\ \\Longrightarrow \\ {}^t A=\\left( \\begin{array}{cc} 1 & 4 \\\\ 2 & 5 \\\\ 3 & 6 \\end{array} \\right)$"
   ]
  },
  {
   "cell_type": "code",
   "execution_count": 15,
   "id": "bcc01674",
   "metadata": {},
   "outputs": [
    {
     "data": {
      "text/plain": [
       "array([[1, 4],\n",
       "       [2, 5],\n",
       "       [3, 6]])"
      ]
     },
     "execution_count": 15,
     "metadata": {},
     "output_type": "execute_result"
    }
   ],
   "source": [
    "A = np.array(\n",
    "    [[1, 2, 3],\n",
    "     [4, 5, 6]]\n",
    ")\n",
    "\n",
    "A.T"
   ]
  },
  {
   "cell_type": "markdown",
   "id": "e9ebae93",
   "metadata": {},
   "source": [
    "## ＜成分の取り出し＞"
   ]
  },
  {
   "cell_type": "code",
   "execution_count": 16,
   "id": "e20c23dd",
   "metadata": {},
   "outputs": [
    {
     "name": "stdout",
     "output_type": "stream",
     "text": [
      "行列 A の第 (1,3) 成分の値は 300 です．\n",
      "行列 A の第 (4,1) 成分の値は 1000 です．\n"
     ]
    }
   ],
   "source": [
    "A = np.array(\n",
    "    [[100, 200, 300],\n",
    "     [400, 500, 600],\n",
    "     [700, 800, 900],\n",
    "     [1000, 1100, 1200]]\n",
    ")\n",
    "\n",
    "print(\"行列 A の第 (1,3) 成分の値は\",A[0,2],\"です．\")\n",
    "print(\"行列 A の第 (4,1) 成分の値は\",A[3,0],\"です．\")"
   ]
  },
  {
   "cell_type": "markdown",
   "id": "03c3dee3",
   "metadata": {},
   "source": [
    "## 上記のベクトルと行列の定義により，次のような計算も行える．<br><br>（１）行列とベクトルの積：<br><br>$$\\left( \\begin{array}{ccc} 1 & 2 & 3 \\\\ 4 & 5 & 6 \\\\ 7 & 8 & 9 \\end{array} \\right) \\left( \\begin{array}{c} -1 \\\\ -2 \\\\ -3 \\end{array} \\right)=\\left( \\begin{array}{c} 1 \\cdot (-1)+2 \\cdot (-2)+3 \\cdot (-3) \\\\ 4 \\cdot (-1)+5 \\cdot (-2)+6 \\cdot (-3) \\\\ 7 \\cdot (-1)+8 \\cdot (-2)+9 \\cdot (-3) \\end{array} \\right)=\\left( \\begin{array}{c}-14 \\\\ -32 \\\\ -50 \\end{array} \\right)$$<br><br>$$\\left( \\begin{array}{ccc} 1 & 2 & 3 \\\\ 4 & 5 & 6 \\\\ 7 & 8 & 9 \\end{array} \\right) \\left( \\begin{array}{ccc} 1 & 2 & 3 \\\\ 4 & 5 & 6 \\\\ 7 & 8 & 9 \\end{array} \\right)= \\cdots =\\left( \\begin{array}{c}30&36&42 \\\\ 66&81&96 \\\\ 102&126&150 \\end{array} \\right)$$"
   ]
  },
  {
   "cell_type": "code",
   "execution_count": 17,
   "id": "a63c6807",
   "metadata": {
    "scrolled": true
   },
   "outputs": [],
   "source": [
    "A = np.array(\n",
    "    [[1, 2, 3],\n",
    "     [4, 5, 6],\n",
    "     [7, 8, 9]]\n",
    ")\n",
    "\n",
    "x = np.array([-1, -2, -3])"
   ]
  },
  {
   "cell_type": "code",
   "execution_count": 18,
   "id": "f0166f99",
   "metadata": {},
   "outputs": [
    {
     "data": {
      "text/plain": [
       "array([-14, -32, -50])"
      ]
     },
     "execution_count": 18,
     "metadata": {},
     "output_type": "execute_result"
    }
   ],
   "source": [
    "A@x"
   ]
  },
  {
   "cell_type": "code",
   "execution_count": 19,
   "id": "71119de5",
   "metadata": {
    "scrolled": true
   },
   "outputs": [
    {
     "data": {
      "text/plain": [
       "array([[ 30,  36,  42],\n",
       "       [ 66,  81,  96],\n",
       "       [102, 126, 150]])"
      ]
     },
     "execution_count": 19,
     "metadata": {},
     "output_type": "execute_result"
    }
   ],
   "source": [
    "A@A"
   ]
  },
  {
   "cell_type": "markdown",
   "id": "81c9eea0",
   "metadata": {},
   "source": [
    "## 単位行列 $\\left( \\begin{array}{ccc} 1 & 0 & 0 \\\\ 0 & 1 & 0 \\\\ 0 & 0 & 1 \\end{array} \\right)$ に対して，$$\\left( \\begin{array}{ccc} 1 & 2 & 3 \\\\ 4 & 5 & 6 \\\\ 7 & 8 & 9 \\end{array} \\right) \\left( \\begin{array}{ccc} 1 & 0 & 0 \\\\ 0 & 1 & 0 \\\\ 0 & 0 & 1 \\end{array} \\right)=\\left( \\begin{array}{c} 1 & 2 & 3 \\\\ 4 & 5 & 6 \\\\ 7 & 8 & 9 \\end{array} \\right)$$"
   ]
  },
  {
   "cell_type": "code",
   "execution_count": 20,
   "id": "084384dd",
   "metadata": {},
   "outputs": [
    {
     "data": {
      "text/plain": [
       "array([[1., 2., 3.],\n",
       "       [4., 5., 6.],\n",
       "       [7., 8., 9.]])"
      ]
     },
     "execution_count": 20,
     "metadata": {},
     "output_type": "execute_result"
    }
   ],
   "source": [
    "A = np.array(\n",
    "    [[1, 2, 3],\n",
    "     [4, 5, 6],\n",
    "     [7, 8, 9]]\n",
    ")\n",
    "\n",
    "# I：単位行列\n",
    "I = np.eye(3)\n",
    "\n",
    "A@I"
   ]
  },
  {
   "cell_type": "markdown",
   "id": "3f6cab26",
   "metadata": {},
   "source": [
    "## （２）行列の階数：$${\\rm rank}\\hspace{0.5mm}\\left( \\begin{array}{ccc} 1 & 2 & 3 \\\\ 4 & 5 & 6 \\\\ 7 & 8 & 9 \\end{array} \\right)=2, \\ {\\rm rank}\\hspace{0.5mm}\\left( \\begin{array}{ccc} 1 & 2 & 3 \\\\ 4 & 5 & 6 \\\\ 7 & 8 & 10 \\end{array} \\right)=3$$<br>（３）行列式：$$\\left| \\begin{array}{ccc} 1 & 2 & 3 \\\\ 4 & 5 & 6 \\\\ 7 & 8 & 9 \\end{array} \\right|=0, \\ \\left| \\begin{array}{ccc} 1 & 2 & 3 \\\\ 4 & 5 & 6 \\\\ 7 & 8 & 10 \\end{array} \\right|=-3$$"
   ]
  },
  {
   "cell_type": "code",
   "execution_count": 21,
   "id": "7df000d8",
   "metadata": {},
   "outputs": [],
   "source": [
    "A1 = np.array(\n",
    "    [[1, 2, 3],\n",
    "     [4, 5, 6],\n",
    "     [7, 8, 9]]\n",
    ")\n",
    "\n",
    "A2 = np.array(\n",
    "    [[1, 2, 3],\n",
    "     [4, 5, 6],\n",
    "     [7, 8, 10]]\n",
    ")"
   ]
  },
  {
   "cell_type": "code",
   "execution_count": 22,
   "id": "012e624d",
   "metadata": {
    "scrolled": true
   },
   "outputs": [
    {
     "data": {
      "text/plain": [
       "2"
      ]
     },
     "execution_count": 22,
     "metadata": {},
     "output_type": "execute_result"
    }
   ],
   "source": [
    "# 行列 A1 の階数\n",
    "np.linalg.matrix_rank(A1)"
   ]
  },
  {
   "cell_type": "code",
   "execution_count": 23,
   "id": "14919f5f",
   "metadata": {},
   "outputs": [
    {
     "data": {
      "text/plain": [
       "3"
      ]
     },
     "execution_count": 23,
     "metadata": {},
     "output_type": "execute_result"
    }
   ],
   "source": [
    "# 行列 A2 の階数\n",
    "np.linalg.matrix_rank(A2)"
   ]
  },
  {
   "cell_type": "code",
   "execution_count": 24,
   "id": "a29008c4",
   "metadata": {},
   "outputs": [
    {
     "data": {
      "text/plain": [
       "-9.51619735392994e-16"
      ]
     },
     "execution_count": 24,
     "metadata": {},
     "output_type": "execute_result"
    }
   ],
   "source": [
    "# 行列 A1 の行列式\n",
    "np.linalg.det(A1)"
   ]
  },
  {
   "cell_type": "code",
   "execution_count": 25,
   "id": "46b7188f",
   "metadata": {
    "scrolled": true
   },
   "outputs": [
    {
     "data": {
      "text/plain": [
       "-3.000000000000001"
      ]
     },
     "execution_count": 25,
     "metadata": {},
     "output_type": "execute_result"
    }
   ],
   "source": [
    "# 行列 A2 の行列式\n",
    "np.linalg.det(A2)"
   ]
  },
  {
   "cell_type": "markdown",
   "id": "1f40fcab",
   "metadata": {},
   "source": [
    "## （４）（正方行列の）逆行列$$\\left( \\begin{array}{ccc} 1 & 2 & 3 \\\\ 4 & 5 & 6 \\\\ 7 & 8 & 10 \\end{array} \\right)^{-1}=\\left( \\begin{array}{ccc} -\\frac{2}{3} & -\\frac{4}{3} & 1 \\\\ -\\frac{2}{3} & \\frac{11}{3} & -2 \\\\ 1 & -2 & 1 \\end{array} \\right)$$"
   ]
  },
  {
   "cell_type": "code",
   "execution_count": 26,
   "id": "6c383971",
   "metadata": {},
   "outputs": [
    {
     "data": {
      "text/plain": [
       "array([[-0.66666667, -1.33333333,  1.        ],\n",
       "       [-0.66666667,  3.66666667, -2.        ],\n",
       "       [ 1.        , -2.        ,  1.        ]])"
      ]
     },
     "execution_count": 26,
     "metadata": {},
     "output_type": "execute_result"
    }
   ],
   "source": [
    "A = np.array(\n",
    "    [[1, 2, 3],\n",
    "     [4, 5, 6],\n",
    "     [7, 8, 10]]\n",
    ")\n",
    "\n",
    "np.linalg.inv(A)"
   ]
  },
  {
   "cell_type": "markdown",
   "id": "ac32db39",
   "metadata": {},
   "source": [
    "## （５）固有値・固有ベクトル（Python では，虚数 i は j として表示される）"
   ]
  },
  {
   "cell_type": "code",
   "execution_count": 27,
   "id": "77f90578",
   "metadata": {
    "scrolled": true
   },
   "outputs": [
    {
     "data": {
      "text/html": [
       "<img src=\"https://www.rs.tus.ac.jp/yenatsu/idm2021prog/eigen.jpg\"/>"
      ],
      "text/plain": [
       "<IPython.core.display.Image object>"
      ]
     },
     "execution_count": 27,
     "metadata": {},
     "output_type": "execute_result"
    }
   ],
   "source": [
    "from IPython.display import Image\n",
    "Image(url= 'https://www.rs.tus.ac.jp/yenatsu/idm2021prog/eigen.jpg')"
   ]
  },
  {
   "cell_type": "code",
   "execution_count": 28,
   "id": "390230d8",
   "metadata": {
    "scrolled": true
   },
   "outputs": [
    {
     "data": {
      "text/plain": [
       "(array([7., 2.]),\n",
       " array([[ 0.9701425 , -0.70710678],\n",
       "        [ 0.24253563,  0.70710678]]))"
      ]
     },
     "execution_count": 28,
     "metadata": {},
     "output_type": "execute_result"
    }
   ],
   "source": [
    "A = np.array([[6, 4], [1, 3]])\n",
    "\n",
    "# 上の画像において赤字で書かれた成分が，各固有ベクトルの成分として出力されている\n",
    "np.linalg.eig(A)"
   ]
  },
  {
   "cell_type": "code",
   "execution_count": 29,
   "id": "741aed24",
   "metadata": {},
   "outputs": [
    {
     "data": {
      "text/plain": [
       "(array([0.+1.j, 0.-1.j]),\n",
       " array([[0.70710678+0.j        , 0.70710678-0.j        ],\n",
       "        [0.        -0.70710678j, 0.        +0.70710678j]]))"
      ]
     },
     "execution_count": 29,
     "metadata": {},
     "output_type": "execute_result"
    }
   ],
   "source": [
    "A = np.array([[0, -1], [1, 0]])\n",
    "\n",
    "np.linalg.eig(A)"
   ]
  },
  {
   "cell_type": "markdown",
   "id": "ac7cfa34",
   "metadata": {},
   "source": [
    "## 注１．行列の固有値のみを表示させたい場合は，numpy.linalg.eigvals() を用いる．"
   ]
  },
  {
   "cell_type": "code",
   "execution_count": 30,
   "id": "5f6e3af0",
   "metadata": {},
   "outputs": [
    {
     "data": {
      "text/plain": [
       "array([7., 2.])"
      ]
     },
     "execution_count": 30,
     "metadata": {},
     "output_type": "execute_result"
    }
   ],
   "source": [
    "A = np.array([[6, 4], [1, 3]])\n",
    "\n",
    "# 上の画像において赤字で書かれた成分が，各固有ベクトルの成分として出力されている\n",
    "np.linalg.eigvals(A)"
   ]
  },
  {
   "cell_type": "code",
   "execution_count": 31,
   "id": "c1eec0e9",
   "metadata": {},
   "outputs": [
    {
     "data": {
      "text/plain": [
       "array([0.+1.j, 0.-1.j])"
      ]
     },
     "execution_count": 31,
     "metadata": {},
     "output_type": "execute_result"
    }
   ],
   "source": [
    "A = np.array([[0, -1], [1, 0]])\n",
    "\n",
    "# 上の画像において赤字で書かれた成分が，各固有ベクトルの成分として出力されている\n",
    "np.linalg.eigvals(A)"
   ]
  },
  {
   "cell_type": "markdown",
   "id": "b5f86752",
   "metadata": {},
   "source": [
    "## 注２．固有値が重根を持つ場合は，その重根が重複度の数だけ表示される．"
   ]
  },
  {
   "cell_type": "code",
   "execution_count": 32,
   "id": "7db16998",
   "metadata": {},
   "outputs": [
    {
     "data": {
      "text/plain": [
       "(array([2., 2.]),\n",
       " array([[1., 0.],\n",
       "        [0., 1.]]))"
      ]
     },
     "execution_count": 32,
     "metadata": {},
     "output_type": "execute_result"
    }
   ],
   "source": [
    "A = np.array([[2, 0], [0, 2]])\n",
    "\n",
    "np.linalg.eig(A)"
   ]
  },
  {
   "cell_type": "markdown",
   "id": "bb1ad058",
   "metadata": {},
   "source": [
    "## numpy.linalg.eig(A) を実行すると，インデックス 0 に固有値 7, 2，インデクス 1 に固有値 7, 2 に対する A の固有ベクトルがそれぞれ格納される．そこで，A の固有値と成分が見やすい形の固有ベクトルを別々に表示させる以下のプログラムを，上記のプログラムの代わりに実行しよう．"
   ]
  },
  {
   "cell_type": "code",
   "execution_count": 33,
   "id": "cc92ff48",
   "metadata": {},
   "outputs": [
    {
     "name": "stdout",
     "output_type": "stream",
     "text": [
      "A の固有値\n",
      "7.0 ,  2.0 \n",
      "\n",
      "A の固有値 7.0 に対する固有ベクトル\n",
      "[0.9701425001453319, 0.24253562503633297] \n",
      "\n",
      "A の固有値 2.0 に対する固有ベクトル\n",
      "[-0.7071067811865475, 0.7071067811865475]\n"
     ]
    }
   ],
   "source": [
    "A = np.array([[6, 4], [1, 3]])\n",
    "A_eig = np.linalg.eig(A)\n",
    "\n",
    "# 固有値を表示\n",
    "print(\"A の固有値\")\n",
    "print(A_eig[0][0],\", \",A_eig[0][1],\"\\n\")\n",
    "\n",
    "# 固有ベクトルを表示\n",
    "print(\"A の固有値\",A_eig[0][0],\"に対する固有ベクトル\")\n",
    "A_eigvec1=[A_eig[1][0][0],A_eig[1][1][0]]\n",
    "print(A_eigvec1, \"\\n\")\n",
    "\n",
    "print(\"A の固有値\",A_eig[0][1],\"に対する固有ベクトル\")\n",
    "A_eigvec2=[A_eig[1][0][1],A_eig[1][1][1]]\n",
    "print(A_eigvec2)"
   ]
  },
  {
   "cell_type": "code",
   "execution_count": 34,
   "id": "47fa9f39",
   "metadata": {},
   "outputs": [
    {
     "name": "stdout",
     "output_type": "stream",
     "text": [
      "A の固有値\n",
      "1j ,  -1j \n",
      "\n",
      "A の固有値 1j に対する固有ベクトル\n",
      "[(0.7071067811865475+0j), -0.7071067811865475j] \n",
      "\n",
      "A の固有値 -1j に対する固有ベクトル\n",
      "[(0.7071067811865475-0j), 0.7071067811865475j]\n"
     ]
    }
   ],
   "source": [
    "A = np.array([[0, -1], [1, 0]])\n",
    "A_eig = np.linalg.eig(A)\n",
    "\n",
    "# 固有値を表示\n",
    "print(\"A の固有値\")\n",
    "print(A_eig[0][0],\", \",A_eig[0][1],\"\\n\")\n",
    "\n",
    "# 固有ベクトルを表示\n",
    "print(\"A の固有値\",A_eig[0][0],\"に対する固有ベクトル\")\n",
    "A_eigvec1=[A_eig[1][0][0],A_eig[1][1][0]]\n",
    "print(A_eigvec1, \"\\n\")\n",
    "\n",
    "print(\"A の固有値\",A_eig[0][1],\"に対する固有ベクトル\")\n",
    "A_eigvec2=[A_eig[1][0][1],A_eig[1][1][1]]\n",
    "print(A_eigvec2)"
   ]
  }
 ],
 "metadata": {
  "kernelspec": {
   "display_name": "Python 3",
   "language": "python",
   "name": "python3"
  },
  "language_info": {
   "codemirror_mode": {
    "name": "ipython",
    "version": 3
   },
   "file_extension": ".py",
   "mimetype": "text/x-python",
   "name": "python",
   "nbconvert_exporter": "python",
   "pygments_lexer": "ipython3",
   "version": "3.8.5"
  }
 },
 "nbformat": 4,
 "nbformat_minor": 5
}
