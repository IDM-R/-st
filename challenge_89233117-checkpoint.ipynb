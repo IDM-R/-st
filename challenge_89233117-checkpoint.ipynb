{
 "cells": [
  {
   "cell_type": "markdown",
   "id": "c55b8246",
   "metadata": {},
   "source": [
    "## チャレンジ課題<br>学籍番号：8923117　氏名：三好琉希"
   ]
  },
  {
   "cell_type": "markdown",
   "id": "2902f82d",
   "metadata": {},
   "source": [
    "## 次の問に答えよ．ただし，全ての問において，入力したプログラムを自身で実行し，<span style=\"color: blue; \">実行によって出力される表示結果も必ず残したままにすること</span>．課題の出来については，<span style=\"color: blue; \">提出締切の後に</span>お知らせします．追って内容を加えたい場合や修正を施したい場合は，締切前までであれば再提出を行う形で受付可能です．"
   ]
  },
  {
   "cell_type": "markdown",
   "id": "1eb1c0bf",
   "metadata": {},
   "source": [
    "## 本課題に取り組むために，以下の入力文「import math」を予め実行すること．"
   ]
  },
  {
   "cell_type": "code",
   "execution_count": 1,
   "id": "6d2b6396",
   "metadata": {},
   "outputs": [],
   "source": [
    "import math"
   ]
  },
  {
   "cell_type": "markdown",
   "id": "e4abd264",
   "metadata": {},
   "source": [
    "### 以下では，$a,b$ を $a<b$ を満たす実数とする．<br><br>【参考１－１】区間（$\\mathbb{R}$ の部分集合）の表記"
   ]
  },
  {
   "cell_type": "code",
   "execution_count": 2,
   "id": "57845ac7",
   "metadata": {},
   "outputs": [
    {
     "data": {
      "text/html": [
       "<img src=\"https://www.rs.tus.ac.jp/yenatsu/idm2021prog/interval.jpg\"/>"
      ],
      "text/plain": [
       "<IPython.core.display.Image object>"
      ]
     },
     "execution_count": 2,
     "metadata": {},
     "output_type": "execute_result"
    }
   ],
   "source": [
    "from IPython.display import Image\n",
    "Image(url= 'https://www.rs.tus.ac.jp/yenatsu/idm2021prog/interval.jpg')"
   ]
  },
  {
   "cell_type": "markdown",
   "id": "912b05d8",
   "metadata": {},
   "source": [
    "### 【参考１－２】有界閉区間 $[a,b]$ 上で連続である関数 $f$ の積分の近似計算（微分積分学および演習１，第１３講講義資料.pdf の冒頭部を参照）"
   ]
  },
  {
   "cell_type": "code",
   "execution_count": 3,
   "id": "1e01c4d3",
   "metadata": {},
   "outputs": [
    {
     "data": {
      "text/html": [
       "<img src=\"https://www.rs.tus.ac.jp/yenatsu/idm2021prog/integral.jpg\"/>"
      ],
      "text/plain": [
       "<IPython.core.display.Image object>"
      ]
     },
     "execution_count": 3,
     "metadata": {},
     "output_type": "execute_result"
    }
   ],
   "source": [
    "from IPython.display import Image\n",
    "Image(url= 'https://www.rs.tus.ac.jp/yenatsu/idm2021prog/integral.jpg')"
   ]
  },
  {
   "cell_type": "markdown",
   "id": "6666aace",
   "metadata": {},
   "source": [
    "## 問１－１．$n$ を $2^3$ から $2^{15}$ まで<span style=\"color: blue; \"> 2 倍ずつ</span>変化させたときの，関数 $f(x):=4x-x^2$ と $x$ 軸で囲まれた部分の面積 $\\int_0^4 f(x) \\hspace{0.5mm}dx$ と，それを近似した次の式：<br><br>$$S_n=\\frac{4}{n} \\sum_{i=0}^{n-1} f \\bigg( \\frac{4}{n}i \\bigg)$$<br>の差の絶対値 $\\log_{10} |S_n-\\int_0^4 f(x) \\hspace{0.5mm}dx|$ の値を表示するプログラムを作成せよ．"
   ]
  },
  {
   "cell_type": "code",
   "execution_count": 4,
   "id": "e3953dbf",
   "metadata": {},
   "outputs": [
    {
     "name": "stdout",
     "output_type": "stream",
     "text": [
      "n=     8 のとき -0.7781512503836452\n",
      "n=    16 のとき -1.3802112417116121\n",
      "n=    32 のとき -1.982271233039593\n",
      "n=    64 のとき -2.5843312243676295\n",
      "n=   128 のとき -3.1863912156958882\n",
      "n=   256 のとき -3.7884512070250356\n",
      "n=   512 のとき -4.390511198357737\n",
      "n=  1024 のとき -4.99257118970466\n",
      "n=  2048 のとき -5.5946311811084595\n",
      "n=  4096 のとき -6.196691172739773\n",
      "n=  8192 のとき -6.798751165281141\n",
      "n= 16384 のとき -7.400811161462722\n",
      "n= 32768 のとき -8.002871172205161\n"
     ]
    }
   ],
   "source": [
    "# 問１－１の入力欄\n",
    "def f(x):\n",
    "    g=4*x-x**2\n",
    "    return g\n",
    "\n",
    "for m in range(3,16):\n",
    "    n=2**m\n",
    "    s=0\n",
    "    for i in range(0,n):\n",
    "        \n",
    "         s+=f(4*i/n)\n",
    "\n",
    "    print( \"n=\",\"%5d\" % n,\"のとき\", math.log10(abs(32/3-s*(4/n)))) "
   ]
  },
  {
   "cell_type": "markdown",
   "id": "7cbf5819",
   "metadata": {},
   "source": [
    "### 注意１．積分  $\\int_0^4 f(x) \\hspace{0.5mm}dx$ の値は，各自の手計算で求めた具体的な値とすること．<br>注意２．a の絶対値 $|$a$|$ を計算するには，abs(a) と入力すれば良い．<br>注意３．最後の <span style=\"color: blue; \">$n=2^{15}(=32768)$ のときは，$\\log_{10} |S_n-\\int_0^4 f(x) \\hspace{0.5mm}dx|=-8.0028...$ となる</span>．"
   ]
  },
  {
   "cell_type": "markdown",
   "id": "53878abf",
   "metadata": {},
   "source": [
    "## 問１－２．前問の問１－１での数値計算の結果を用いて，次の２点：<br><br>（１）小数で表示された $S_n$ と $\\int_0^4 f(x) \\hspace{0.5mm}dx$ の互いに一致する小数点以下の桁の数<br>（２）極限 $\\lim_{n \\to \\infty}\\log_{10} |S_n-\\int_0^4 f(x) \\hspace{0.5mm}dx|$ の収束・発散<br><br>についてを下記の Markdown セルの２か所の \"...\" を書き換える形で論述せよ（入力後は <span style=\"color: blue; \">Shift＋Enter キーの押下を行う</span>こと）．説明のために，新たに Code セルや Markdown セルを設けて，別のプログラムや論述欄を追加作成しても構わない．"
   ]
  },
  {
   "cell_type": "markdown",
   "id": "2287f093",
   "metadata": {},
   "source": [
    "## 問１－２の入力欄：<br><br>\n",
    "（１）log_10|S_n-int_{0}ˆ{1} f(x)dx|の小数点以下を切り捨て、-1をかけた値から1を引いた値に等しい\n",
    "<br><br>（２）０に収束"
   ]
  },
  {
   "cell_type": "markdown",
   "id": "01b1fa5d",
   "metadata": {},
   "source": [
    "### 注意４．これまでの講義教材において，次のような式表現を Markdown セルの中で用いている．<br><br>１．分数（$\\frac{a}{b}$：$\\verb|\\frac{a}{b}|$）<br><br>２．平方根（$\\sqrt{a}$：$\\verb|\\sqrt{a}|$），$n$ 乗根（$\\sqrt[n]{a}$：$\\verb|\\sqrt[n]{a}|$）<br><br>３．等号入り不等式（$\\leq$：$\\verb|\\leq|$,  $\\geq$：$\\verb|\\geq|$）<br><br>４．上付き添え字（$a^2$：$\\verb|a^2|$,  $a^{10}$：$\\verb|a^{10}|$），$\\verb|^|$：ハット<br><br>５．下付き添え字（$S_2$：$\\verb|S_2|$,  $S_{15}$：$\\verb|S_{15}|$），$\\verb|_|$：アンダーバー<br><br>６．極限（$\\lim_{n \\to +\\infty}$：$\\verb|\\lim_{n \\to +\\infty}|$），$\\verb|_|$：アンダーバー<br><br>７．総和（$\\sum_{i=0}^{n-1} a_i$：$\\verb|\\sum_{i=0}^{n-1} a_i|$），$\\verb|_|$：アンダーバー，$\\verb|^|$：ハット<br><br>８．積分（$\\int_{0}^{1} f(x) dx$：$\\verb|\\int_{0}^{1} f(x) dx|$），$\\verb|_|$：アンダーバー，$\\verb|^|$：ハット<br><br>問１－２で論述を行う際は，上記の数式も積極的に活用しましょう．数式入力では試行錯誤を重ねながら，各自で読みやすい文を作成しましょう．"
   ]
  },
  {
   "cell_type": "markdown",
   "id": "e61b4ae8",
   "metadata": {},
   "source": [
    "### 【参考２－１】リストを引数とする関数 join() を使うと，リスト内の文字列たちを，一つの文字列に連結できる．<br><br>例１．空白を開けずに文字列たちを連結して表示するプログラム"
   ]
  },
  {
   "cell_type": "code",
   "execution_count": 5,
   "id": "26b14784",
   "metadata": {},
   "outputs": [
    {
     "name": "stdout",
     "output_type": "stream",
     "text": [
      "abbccc\n"
     ]
    }
   ],
   "source": [
    "l = [\"a\",\"bb\",\"ccc\"]\n",
    "\n",
    "s = \"\".join(l)\n",
    "print(s)"
   ]
  },
  {
   "cell_type": "markdown",
   "id": "17f422d3",
   "metadata": {},
   "source": [
    "### 例２．半角空白を挟んで文字列たちを連結して表示するプログラム"
   ]
  },
  {
   "cell_type": "code",
   "execution_count": 6,
   "id": "72b84afb",
   "metadata": {},
   "outputs": [
    {
     "name": "stdout",
     "output_type": "stream",
     "text": [
      "a bb ccc\n"
     ]
    }
   ],
   "source": [
    "l = [\"a\",\"bb\",\"ccc\"]\n",
    "\n",
    "s = \" \".join(l)\n",
    "print(s)"
   ]
  },
  {
   "cell_type": "markdown",
   "id": "73990da9",
   "metadata": {},
   "source": [
    "## 問２．次の規則により，文字列を順次生成する．<br><br>１．初期（0 番目）の文字列を A とする<br>２．各 $n \\geq 0, n \\in \\mathbb{Z}$ に対して，$n$ 番目の文字列を左から一つずつ見て，各文字に対して以下の変換則を適用し，$n+1$ 番目の文字列を生成する<br>　(1) A を AB に変換する<br>　(2) B を A に変換する<br><br>例えば，$0 \\leq n \\leq 4$ として，4 番目までの文字列は次の通りとなる（参考として，$n=2$ の場合に変換則を適用した後の文字変化を，色分けにより表示した）．<br><br>0 番目：A<br>1 番目：AB<br>2 番目：<span style=\"color: red; \">A</span><span style=\"color: blue; \">B</span><span style=\"color: red; \">A</span><br>3 番目：<span style=\"color: red; \">AB</span><span style=\"color: blue; \">A</span><span style=\"color: red; \">AB</span><br>4 番目：ABAABABA<br>　　$\\vdots$<br><br>上記の規則によって生成される $n$ 番目の文字列を表示する関数 fib_pattern($n$) を作成し，$n$ を 0 から 10 まで 1 ずつ大きくしたときの関数 fib_pattern($n$) の実行結果を表示せよ．なお，出力の際は文字 A, B のみを表示する形として，角括弧 [ , ] ，ダブルクォート \" やシングルクォート ' は表示しないこと．"
   ]
  },
  {
   "cell_type": "code",
   "execution_count": 7,
   "id": "d03dd5dc",
   "metadata": {},
   "outputs": [
    {
     "name": "stdout",
     "output_type": "stream",
     "text": [
      "ABAABABA\n"
     ]
    }
   ],
   "source": [
    "# 問２の入力欄：関数 fib_pattern() を定義するためのプログラム\n",
    "def fib_pattern(n):\n",
    "    if n == 0:\n",
    "        return \"A\"\n",
    "    elif n == 1:\n",
    "        return \"AB\"\n",
    "    else:\n",
    "        return fib_pattern(n - 1) + fib_pattern(n - 2)\n",
    "\n",
    "print (fib_pattern(4))"
   ]
  },
  {
   "cell_type": "code",
   "execution_count": 11,
   "id": "0514d4e1",
   "metadata": {},
   "outputs": [
    {
     "name": "stdout",
     "output_type": "stream",
     "text": [
      "0 A\n",
      "1 AB\n",
      "2 ABA\n",
      "3 ABAAB\n",
      "4 ABAABABA\n",
      "5 ABAABABAABAAB\n",
      "6 ABAABABAABAABABAABABA\n",
      "7 ABAABABAABAABABAABABAABAABABAABAAB\n",
      "8 ABAABABAABAABABAABABAABAABABAABAABABAABABAABAABABAABABA\n",
      "9 ABAABABAABAABABAABABAABAABABAABAABABAABABAABAABABAABABAABAABABAABAABABAABABAABAABABAABAAB\n",
      "10 ABAABABAABAABABAABABAABAABABAABAABABAABABAABAABABAABABAABAABABAABAABABAABABAABAABABAABAABABAABABAABAABABAABABAABAABABAABAABABAABABAABAABABAABABA\n"
     ]
    }
   ],
   "source": [
    "# 問２の入力欄：n を 0 から 10 まで 1 ずつ大きくしたときの fib_pattern(n) の値を表示するプログラム\n",
    "for n in range(0,11):\n",
    "    print(n,fib_pattern(n))"
   ]
  }
 ],
 "metadata": {
  "kernelspec": {
   "display_name": "Python 3 (ipykernel)",
   "language": "python",
   "name": "python3"
  },
  "language_info": {
   "codemirror_mode": {
    "name": "ipython",
    "version": 3
   },
   "file_extension": ".py",
   "mimetype": "text/x-python",
   "name": "python",
   "nbconvert_exporter": "python",
   "pygments_lexer": "ipython3",
   "version": "3.10.9"
  }
 },
 "nbformat": 4,
 "nbformat_minor": 5
}
