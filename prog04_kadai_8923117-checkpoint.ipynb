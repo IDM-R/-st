{
 "cells": [
  {
   "cell_type": "markdown",
   "metadata": {},
   "source": [
    "# 講義（第４回）レポート　学籍番号：8923117　氏名：三好　琉希"
   ]
  },
  {
   "cell_type": "markdown",
   "metadata": {},
   "source": [
    "### 本課題に取り組むために，以下の入力文「import math」を予め実行しておくこと．"
   ]
  },
  {
   "cell_type": "code",
   "execution_count": 14,
   "metadata": {},
   "outputs": [],
   "source": [
    "import math"
   ]
  },
  {
   "cell_type": "markdown",
   "metadata": {},
   "source": [
    "### 問１．次の問に答えよ．<br><br>(1) 変数 a,b にそれぞれ 202.1, 5 を代入する操作を以下の Code セルに入力し，実行せよ．"
   ]
  },
  {
   "cell_type": "code",
   "execution_count": 15,
   "metadata": {},
   "outputs": [],
   "source": [
    "# (1) の入力欄\n",
    "a=202.1\n",
    "b=5"
   ]
  },
  {
   "cell_type": "markdown",
   "metadata": {},
   "source": [
    "### (2) (1) で入力された Code セルを実行して代入操作を完了した状態で，$\\frac{a}{b}$ の計算をせよ．"
   ]
  },
  {
   "cell_type": "code",
   "execution_count": 16,
   "metadata": {},
   "outputs": [
    {
     "data": {
      "text/plain": [
       "40.42"
      ]
     },
     "execution_count": 16,
     "metadata": {},
     "output_type": "execute_result"
    }
   ],
   "source": [
    "# (2) の入力欄\n",
    "a/b"
   ]
  },
  {
   "cell_type": "markdown",
   "metadata": {},
   "source": [
    "### (3) (1) で入力された Code セルを実行して代入操作を完了した状態で，$a \\times b$ の計算をせよ．"
   ]
  },
  {
   "cell_type": "code",
   "execution_count": 17,
   "metadata": {},
   "outputs": [
    {
     "data": {
      "text/plain": [
       "1010.5"
      ]
     },
     "execution_count": 17,
     "metadata": {},
     "output_type": "execute_result"
    }
   ],
   "source": [
    "# (3) の入力欄\n",
    "a*b"
   ]
  },
  {
   "cell_type": "markdown",
   "metadata": {},
   "source": [
    "### (4) (1) で入力された Code セルを実行して代入操作を完了した状態で，$a^b$ の計算をせよ．"
   ]
  },
  {
   "cell_type": "code",
   "execution_count": 18,
   "metadata": {},
   "outputs": [
    {
     "data": {
      "text/plain": [
       "337156523888.941"
      ]
     },
     "execution_count": 18,
     "metadata": {},
     "output_type": "execute_result"
    }
   ],
   "source": [
    "# (4) の入力欄\n",
    "a**b"
   ]
  },
  {
   "cell_type": "markdown",
   "metadata": {},
   "source": [
    "###  問２．次の式：$$t=5.82 \\times 10^{-1}-\\frac{2s+s \\times \\sin 33s}{s(s-5)}$$ に $s=15.6$ を代入した結果を出力するプログラムを作成せよ．ただし，次の４つの指示に従うこと：<br><br>１．$5.82 \\times 10^{-1}$ は指数付き定数で記述すること<br>２．変数 $s,t$（数値型）を利用すること<br>３．上記の指示１，２の下で，変数 $s$ へ数値 15.6 を代入すること<br>４．実行結果は「$t=$」という文字とその右に値を表示すること<br><br>【注意】４つの指示に沿ったプログラムが正しければ，<span style=\"color: blue; \">$t=0.353152… $ といった結果が出力される</span>．もし他の結果が出力されてしまう場合は，<br>・sin 関数のカッコの中の値 <span style=\"color: red; \">33*s は radian に変換されている</span>か？<br>・カッコの<span style=\"color: red; \">数に過不足は無い</span>だろうか？<br>・カッコの<span style=\"color: red; \">挿入位置は適切</span>か？<br>といった確認を行うことで，誤りの原因を探りましょう．"
   ]
  },
  {
   "cell_type": "code",
   "execution_count": 58,
   "metadata": {},
   "outputs": [],
   "source": [
    "# 問 2 の入力欄\n",
    "𝑠=15.6\n",
    "𝑡=5.82E-1-(2*𝑠+𝑠*(math.sin(math.radians(33*𝑠))))/(𝑠*(𝑠-5))"
   ]
  },
  {
   "cell_type": "code",
   "execution_count": 59,
   "metadata": {},
   "outputs": [
    {
     "data": {
      "text/plain": [
       "0.3531528970221628"
      ]
     },
     "execution_count": 59,
     "metadata": {},
     "output_type": "execute_result"
    }
   ],
   "source": [
    "𝑡"
   ]
  },
  {
   "cell_type": "markdown",
   "metadata": {},
   "source": [
    "### 問３．次に示す式を使って，温度の変換をせよ．<br><br>(1) 次の式：$$\\mbox{華氏}=\\mbox{摂氏} \\times 1.8+32$$ を用いて，摂氏 19 度を華氏に変換せよ．"
   ]
  },
  {
   "cell_type": "code",
   "execution_count": 65,
   "metadata": {},
   "outputs": [],
   "source": [
    "# (1) の入力欄\n",
    "c=19\n",
    "f=s*1.8+32"
   ]
  },
  {
   "cell_type": "code",
   "execution_count": 66,
   "metadata": {},
   "outputs": [
    {
     "data": {
      "text/plain": [
       "66.2"
      ]
     },
     "execution_count": 66,
     "metadata": {},
     "output_type": "execute_result"
    }
   ],
   "source": [
    "f"
   ]
  },
  {
   "cell_type": "markdown",
   "metadata": {},
   "source": [
    "### (2) 次の式：$$\\mbox{摂氏}=(\\mbox{華氏}-32) \\times \\frac{5}{9}$$ を用いて，華氏 101 度を摂氏に変換せよ．"
   ]
  },
  {
   "cell_type": "code",
   "execution_count": 67,
   "metadata": {},
   "outputs": [],
   "source": [
    "# (2) の入力欄\n",
    "f=101\n",
    "c=(f-32)*(5/9)"
   ]
  },
  {
   "cell_type": "code",
   "execution_count": 68,
   "metadata": {},
   "outputs": [
    {
     "data": {
      "text/plain": [
       "38.333333333333336"
      ]
     },
     "execution_count": 68,
     "metadata": {},
     "output_type": "execute_result"
    }
   ],
   "source": [
    "c"
   ]
  },
  {
   "cell_type": "code",
   "execution_count": null,
   "metadata": {},
   "outputs": [],
   "source": []
  }
 ],
 "metadata": {
  "kernelspec": {
   "display_name": "Python 3 (ipykernel)",
   "language": "python",
   "name": "python3"
  },
  "language_info": {
   "codemirror_mode": {
    "name": "ipython",
    "version": 3
   },
   "file_extension": ".py",
   "mimetype": "text/x-python",
   "name": "python",
   "nbconvert_exporter": "python",
   "pygments_lexer": "ipython3",
   "version": "3.10.9"
  }
 },
 "nbformat": 4,
 "nbformat_minor": 4
}
