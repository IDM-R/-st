{
 "cells": [
  {
   "cell_type": "markdown",
   "id": "d19a76e9",
   "metadata": {},
   "source": [
    "## 講義（後期，第１５回）ノート　＜Numpy によるベクトルや行列の演算（続き）＞<br>提出課題については，最下部を参照"
   ]
  },
  {
   "cell_type": "markdown",
   "id": "2b061383",
   "metadata": {},
   "source": [
    "## 【再掲】7.1 matplotlib（p.86～）<br><br>Python では，グラフ描画が可能である．次の Code セルを実行し，グラフを表示する際に使われるパッケージ（複数のモジュールをまとめて扱えるようにしたもの）の一つとして，matplotlib を使う．"
   ]
  },
  {
   "cell_type": "code",
   "execution_count": 1,
   "id": "6a51c652",
   "metadata": {},
   "outputs": [],
   "source": [
    "%matplotlib inline\n",
    "import matplotlib.pyplot as plt"
   ]
  },
  {
   "cell_type": "markdown",
   "id": "ce165675",
   "metadata": {},
   "source": [
    "## 本講義でも，数値計算を高速に行うためのライブラリである Numpy を扱う．まずは，NumPy による多次元配列を使うために，次の Code セルを実行しよう．"
   ]
  },
  {
   "cell_type": "code",
   "execution_count": 2,
   "id": "39fc448e",
   "metadata": {},
   "outputs": [],
   "source": [
    "import numpy as np"
   ]
  },
  {
   "cell_type": "markdown",
   "id": "36f9bd93",
   "metadata": {},
   "source": [
    "## 前回は，ベクトルや行列の生成から和・差・スカラー倍および積や固有値・固有ベクトルといった演算までを学んだ．今回は応用として，標準正規分布から選ばれる乱数を成分とした一般の正方行列と対称行列の固有値・固有ベクトルの規則的な分布について学ぶ．"
   ]
  },
  {
   "cell_type": "markdown",
   "id": "15dc207d",
   "metadata": {},
   "source": [
    "## numpy.random モジュールをインポートすることで，乱数に関する次の関数が使える．"
   ]
  },
  {
   "cell_type": "markdown",
   "id": "5bed8daf",
   "metadata": {},
   "source": [
    "| <span style=\"font-size: 150%\">関数 | <span style=\"font-size: 150%\">分布の種類 | <span style=\"font-size: 150%\">乱数の範囲 |\n",
    "|:---:|:---:|:---:|\n",
    "| <span style=\"font-size: 150%\">numpy.random.rand() | <span style=\"font-size: 150%\">一様分布 | <span style=\"font-size: 150%\">0 以上 1 未満の実数 |\n",
    "| <span style=\"font-size: 150%\">numpy.random.randint() | <span style=\"font-size: 150%\">一様分布 | <span style=\"font-size: 150%\">任意の整数 |\n",
    "| <span style=\"font-size: 150%\">numpy.random.randn() | <span style=\"font-size: 150%\">（平均 0，分散 1 の）標準正規分布 | <span style=\"font-size: 150%\">任意の実数 |\n",
    "| <span style=\"font-size: 150%\">numpy.random.normal() | <span style=\"font-size: 150%\">（任意の平均，任意の分散の）正規分布 | <span style=\"font-size: 150%\">任意の実数 |"
   ]
  },
  {
   "cell_type": "markdown",
   "id": "543829ab",
   "metadata": {},
   "source": [
    "## 上記の他にも，二項分布，ベータ分布，ガンマ分布などの様々な関数が使える．なお，正規分布をガンマ分布ともいう．<br><br>１．スカラーの乱数を与えたい場合"
   ]
  },
  {
   "cell_type": "code",
   "execution_count": 3,
   "id": "1dd8f4a7",
   "metadata": {
    "scrolled": true
   },
   "outputs": [
    {
     "data": {
      "text/plain": [
       "0.6276283962291965"
      ]
     },
     "execution_count": 3,
     "metadata": {},
     "output_type": "execute_result"
    }
   ],
   "source": [
    "np.random.rand()"
   ]
  },
  {
   "cell_type": "code",
   "execution_count": 4,
   "id": "8c5c9ded",
   "metadata": {},
   "outputs": [
    {
     "data": {
      "text/plain": [
       "8"
      ]
     },
     "execution_count": 4,
     "metadata": {},
     "output_type": "execute_result"
    }
   ],
   "source": [
    "# np.random.randint(最小値, 最大値＋１)\n",
    "\n",
    "np.random.randint(4, 10) # 成分の乱数の範囲：4 以上 10「未満」"
   ]
  },
  {
   "cell_type": "code",
   "execution_count": 5,
   "id": "4df789be",
   "metadata": {
    "scrolled": true
   },
   "outputs": [
    {
     "data": {
      "text/plain": [
       "-0.5888212555127275"
      ]
     },
     "execution_count": 5,
     "metadata": {},
     "output_type": "execute_result"
    }
   ],
   "source": [
    "np.random.randn()"
   ]
  },
  {
   "cell_type": "code",
   "execution_count": 6,
   "id": "8749149c",
   "metadata": {},
   "outputs": [
    {
     "data": {
      "text/plain": [
       "7.231159202607459"
      ]
     },
     "execution_count": 6,
     "metadata": {},
     "output_type": "execute_result"
    }
   ],
   "source": [
    "# np.random.normal(平均, 標準偏差)\n",
    "\n",
    "np.random.normal(8, 1.0)"
   ]
  },
  {
   "cell_type": "markdown",
   "id": "ee4168d9",
   "metadata": {},
   "source": [
    "## ２．行列やベクトルの成分に対して乱数を与えたい場合"
   ]
  },
  {
   "cell_type": "code",
   "execution_count": 7,
   "id": "8f4a1e75",
   "metadata": {
    "scrolled": true
   },
   "outputs": [
    {
     "name": "stdout",
     "output_type": "stream",
     "text": [
      "v= [0.66427291 0.68209298 0.0826968 ]\n",
      "A= [[0.81046211 0.42844237 0.33115025 0.75635155]\n",
      " [0.76017761 0.78851158 0.85449158 0.95538163]]\n"
     ]
    }
   ],
   "source": [
    "# ベクトル（３列）\n",
    "v = np.random.rand(3)\n",
    "print(\"v=\",v)\n",
    "\n",
    "# 行列（２行４列）\n",
    "A = np.random.rand(2, 4)\n",
    "print(\"A=\",A)"
   ]
  },
  {
   "cell_type": "code",
   "execution_count": 8,
   "id": "ea6bdb4d",
   "metadata": {},
   "outputs": [
    {
     "name": "stdout",
     "output_type": "stream",
     "text": [
      "v= [5 9 9 7 8]\n",
      "A= [[4 8 6 7 7 9 8]\n",
      " [8 7 4 6 8 8 6]\n",
      " [8 5 4 7 9 4 6]]\n"
     ]
    }
   ],
   "source": [
    "# ベクトル（５列）\n",
    "v = np.random.randint(4, 10, 5)\n",
    "print(\"v=\",v)\n",
    "\n",
    "# 行列（３行７列）\n",
    "A = np.random.randint(4, 10, (3, 7)) # 乱数の範囲：4 以上 10「未満」\n",
    "print(\"A=\",A)"
   ]
  },
  {
   "cell_type": "code",
   "execution_count": 9,
   "id": "8b74eddf",
   "metadata": {},
   "outputs": [
    {
     "name": "stdout",
     "output_type": "stream",
     "text": [
      "v= [-0.27941441  0.12288671  0.92232325]\n",
      "A= [[-1.0699795  -0.55329674  0.61352908 -0.44853339]\n",
      " [-0.34898866 -0.57096331  1.41654659 -0.10710191]]\n"
     ]
    }
   ],
   "source": [
    "# ベクトル（３列）\n",
    "v = np.random.randn(3)\n",
    "print(\"v=\",v)\n",
    "\n",
    "# 行列（２行４列）\n",
    "A = np.random.randn(2, 4)\n",
    "print(\"A=\",A)"
   ]
  },
  {
   "cell_type": "code",
   "execution_count": 10,
   "id": "5efb6ddf",
   "metadata": {},
   "outputs": [
    {
     "name": "stdout",
     "output_type": "stream",
     "text": [
      "v= [8.64437686 6.32400539 9.34790721 6.55792128 6.66534429]\n",
      "A= [[ 8.15784066  8.71037787  9.45711156  7.39062714 10.10386955  7.77204637\n",
      "   9.05365095]\n",
      " [ 7.56157974  8.11515274  7.58344129  6.89377215  9.01627428  8.76891769\n",
      "   8.25417004]\n",
      " [ 8.69001028  8.20884919  9.37212828 10.20006249  7.78647358  8.02273267\n",
      "   9.11442153]]\n"
     ]
    }
   ],
   "source": [
    "# ベクトル（５列）\n",
    "v=np.random.normal(8, 1.0, 5)\n",
    "print(\"v=\",v)\n",
    "\n",
    "# 行列（３行７列）\n",
    "A=np.random.normal(8, 1.0, (3, 7))\n",
    "print(\"A=\",A)"
   ]
  },
  {
   "cell_type": "markdown",
   "id": "4093e759",
   "metadata": {},
   "source": [
    "## 【応用１】$N$ 次行列の固有値分布＜円則＞<br><br>　すべての成分がランダムに与えられた $N$ 次行列は，行列のサイズ $N$ が大きくなるごとに，固有値たちの中に複素数を含む傾向が高くなる．例えば，$N=10$ としたときの行列の成分と固有値は以下の通りとなる．"
   ]
  },
  {
   "cell_type": "code",
   "execution_count": 11,
   "id": "32da0419",
   "metadata": {},
   "outputs": [
    {
     "name": "stdout",
     "output_type": "stream",
     "text": [
      "行列：\n",
      " [[-2.12776517 -0.36449199 -0.53740159  0.41254834 -0.78557394 -0.31389327\n",
      "  -0.19744142  1.33335191  1.7425002   0.32724837]\n",
      " [-1.11224679  2.92392767  1.58279367  1.75245667  0.58318344 -0.14639193\n",
      "  -0.36968223 -0.7429944   0.77323194 -0.17136601]\n",
      " [-0.83912408 -0.99989377 -0.53993476 -0.33125353  0.7162363  -2.05295514\n",
      "   0.8561734  -1.15934251 -1.50874311  0.30688779]\n",
      " [ 0.75979584 -0.42803707 -0.59328136 -0.71040834  1.18698786  0.09261431\n",
      "  -0.14065237 -0.41227973 -0.18631302  1.76277539]\n",
      " [-1.18905587  2.16007623 -0.22652176 -1.67190171  0.80611683 -0.89160477\n",
      "  -1.52578331 -1.10632613  0.04092136  0.56093192]\n",
      " [-0.41260641  1.30951175  0.25796513  0.80670383  0.02354503 -0.16837814\n",
      "  -0.97676419 -1.50457634  0.82467666  0.49203739]\n",
      " [-0.72523854 -0.19469937  0.64951488 -1.49933217 -0.77343229  0.03332117\n",
      "  -0.88906282 -0.7522197   1.89691128  0.20468411]\n",
      " [-0.31202957 -0.23604324 -0.33472293  0.94345502 -0.17714541 -2.26671047\n",
      "  -1.33192157  0.64582669  0.28592094  0.12830263]\n",
      " [ 1.24728085 -0.13675464  0.85496991 -0.15802766 -0.36971141  1.29172574\n",
      "   0.41967813  0.75192478 -0.50126     0.88246427]\n",
      " [-1.44197439 -0.11381102 -0.05207473  1.53815576  0.74603337 -0.27805638\n",
      "  -0.53298818 -0.10332389 -0.19505163 -1.05601209]] \n",
      "\n",
      "固有値：\n",
      " [ 3.7945811 +0.j         -3.97439938+0.j         -2.62671057+0.j\n",
      "  0.43325477+2.04248075j  0.43325477-2.04248075j -1.71021662+0.j\n",
      " -0.90067488+1.35190715j -0.90067488-1.35190715j  1.79513037+0.j\n",
      "  2.0395052 +0.j        ]\n"
     ]
    }
   ],
   "source": [
    "A = np.random.randn(10, 10)\n",
    "A_eig = np.linalg.eigvals(A)\n",
    "\n",
    "# ランダム行列を表示\n",
    "print(\"行列：\\n\",A,\"\\n\")\n",
    "\n",
    "# 固有値を表示\n",
    "print(\"固有値：\\n\",A_eig)"
   ]
  },
  {
   "cell_type": "markdown",
   "id": "bfb47a67",
   "metadata": {},
   "source": [
    "## 標準正規分布から選ばれる乱数を成分とした行列の固有値を $\\lambda$ とおく．$N$ を大きくすると，固有値 $\\lambda$ を行列サイズの平方根 $\\sqrt{N}$ で割った正規化固有値 $\\tilde{\\lambda}=\\lambda/\\sqrt{N}$ は複素平面状で単位円（原点を中心とする半径１の円）の中に均等に分布するようになる．この性質を<span style=\"color: blue; \">円則</span>という．以下３つの図は，$N$ を大きくすることで，正規化固有値の分布に関する円則が成り立つ傾向にあることを示唆している．<br><br>（１）$N=10$ の場合"
   ]
  },
  {
   "cell_type": "code",
   "execution_count": 12,
   "id": "ee1eb7e4",
   "metadata": {},
   "outputs": [
    {
     "data": {
      "image/png": "[encoded data removed]",
      "text/plain": [
       "<Figure size 432x288 with 1 Axes>"
      ]
     },
     "metadata": {
      "needs_background": "light"
     },
     "output_type": "display_data"
    }
   ],
   "source": [
    "### N=10 次行列 A の生成＆固有値の導出 ###\n",
    "A = np.random.randn(10, 10)\n",
    "A_eig = np.linalg.eigvals(A)\n",
    "\n",
    "### 正規化固有値の分布に関する散布図の描画 ###\n",
    "### Z.real：Z の実部，Z.imag：Z の虚部 ###\n",
    "for i in range(10):\n",
    "    plt.scatter(A_eig[i].real/(10**(1/2)), A_eig[i].imag/(10**(1/2)), marker=\".\", color = \"green\", label = \"POINT\")\n",
    "    \n",
    "### 単位円（f1：上半分，f2：下半分）の関数定義 ###\n",
    "def f1(x):\n",
    "    return (1-x**2)**(1/2)\n",
    "\n",
    "def f2(x):\n",
    "    return -(1-x**2)**(1/2)\n",
    "\n",
    "x = np.linspace(-1, 1, 201)\n",
    "\n",
    "### 単位円のプロット ###\n",
    "plt.plot(x, f1(x), color = \"black\")\n",
    "plt.plot(x, f2(x), color = \"black\")\n",
    "\n",
    "plt.axis('square')\n",
    "plt.xlim(-1.5, 1.5)\n",
    "plt.ylim(-1.5, 1.5)\n",
    "\n",
    "plt.show()"
   ]
  },
  {
   "cell_type": "markdown",
   "id": "98b7fac0",
   "metadata": {},
   "source": [
    "## （２）$N=100$ の場合"
   ]
  },
  {
   "cell_type": "code",
   "execution_count": 13,
   "id": "53120d80",
   "metadata": {},
   "outputs": [
    {
     "data": {
      "image/png": "[encoded data removed]",
      "text/plain": [
       "<Figure size 432x288 with 1 Axes>"
      ]
     },
     "metadata": {
      "needs_background": "light"
     },
     "output_type": "display_data"
    }
   ],
   "source": [
    "### N=100 次行列 A の生成＆固有値の導出 ###\n",
    "A = np.random.randn(100, 100)\n",
    "A_eig = np.linalg.eigvals(A)\n",
    "\n",
    "### 正規化固有値の分布に関する散布図の描画 ###\n",
    "### Z.real：Z の実部，Z.imag：Z の虚部 ###\n",
    "for i in range(100):\n",
    "    plt.scatter(A_eig[i].real/(100**(1/2)), A_eig[i].imag/(100**(1/2)), marker=\".\", color = \"green\", label = \"POINT\")\n",
    "    \n",
    "### 単位円（f1：上半分，f2：下半分）の関数定義 ###\n",
    "def f1(x):\n",
    "    return (1-x**2)**(1/2)\n",
    "\n",
    "def f2(x):\n",
    "    return -(1-x**2)**(1/2)\n",
    "\n",
    "x = np.linspace(-1, 1, 201)\n",
    "\n",
    "### 単位円のプロット ###\n",
    "plt.plot(x, f1(x), color = \"black\")\n",
    "plt.plot(x, f2(x), color = \"black\")\n",
    "\n",
    "plt.axis('square')\n",
    "plt.xlim(-1.5, 1.5)\n",
    "plt.ylim(-1.5, 1.5)\n",
    "\n",
    "plt.show()"
   ]
  },
  {
   "cell_type": "markdown",
   "id": "47813085",
   "metadata": {},
   "source": [
    "## （３）$N=300$ の場合"
   ]
  },
  {
   "cell_type": "code",
   "execution_count": 14,
   "id": "e10ffde6",
   "metadata": {
    "scrolled": true
   },
   "outputs": [
    {
     "data": {
      "image/png": "[encoded data removed]",
      "text/plain": [
       "<Figure size 432x288 with 1 Axes>"
      ]
     },
     "metadata": {
      "needs_background": "light"
     },
     "output_type": "display_data"
    }
   ],
   "source": [
    "### N=300 次行列 A の生成＆固有値の導出 ###\n",
    "A = np.random.randn(300, 300)\n",
    "A_eig = np.linalg.eigvals(A)\n",
    "\n",
    "### 正規化固有値の分布に関する散布図の描画 ###\n",
    "### Z.real：Z の実部，Z.imag：Z の虚部 ###\n",
    "for i in range(300):\n",
    "    plt.scatter(A_eig[i].real/(300**(1/2)), A_eig[i].imag/(300**(1/2)), marker=\".\", color = \"green\", label = \"POINT\")\n",
    "    \n",
    "### 単位円（f1：上半分，f2：下半分）の関数定義 ###\n",
    "def f1(x):\n",
    "    return (1-x**2)**(1/2)\n",
    "\n",
    "def f2(x):\n",
    "    return -(1-x**2)**(1/2)\n",
    "\n",
    "x = np.linspace(-1, 1, 201)\n",
    "\n",
    "### 単位円のプロット ###\n",
    "plt.plot(x, f1(x), color = \"black\")\n",
    "plt.plot(x, f2(x), color = \"black\")\n",
    "\n",
    "plt.axis('square')\n",
    "plt.xlim(-1.5, 1.5)\n",
    "plt.ylim(-1.5, 1.5)\n",
    "\n",
    "plt.show()"
   ]
  },
  {
   "cell_type": "markdown",
   "id": "3ae676ca",
   "metadata": {},
   "source": [
    "## 【応用２】$N$ 次対称行列の固有値分布＜ウィグナー（Wigner）の半円則＞<br><br>　対称性を保った上ですべての成分がランダムに与えられた $N$ 次行列を考える．例として，次のステップ：<br><br>Step 1．A の $(i,j)$ 成分（$i > j$：下三角成分，$i = j$：対角成分）を乱数として決める <br><br>Step 2．A の $(i,j)$ 成分（$i < j$：上三角成分）を，Step 1 で定めた A の $(j,i)$ 成分とする．<br><br>により，$\\frac{N(N-1)}{2}$ 個の下三角成分と $N$ 個の対角成分の計 $\\frac{N(N-1)}{2}+N$ 個の乱数で対称行列を生成し，テスト用に行列 $A$ とその固有値 $\\lambda$・正規化固有値 $\\lambda / \\sqrt{N}$ を表示する関数 symmat_eigval_test() を定めた下記のプログラムを実行する．"
   ]
  },
  {
   "cell_type": "code",
   "execution_count": 15,
   "id": "30f2a5a9",
   "metadata": {
    "scrolled": false
   },
   "outputs": [],
   "source": [
    "def symmat_eigval_test(N):\n",
    "    \n",
    "    # 初期の A：ゼロ行列\n",
    "    A = np.zeros((N, N))\n",
    "\n",
    "    # Step 1: A の (i,j) 成分（i > j：下三角成分，i = j：対角成分）を乱数として決める\n",
    "    for i in range(N):\n",
    "        j = 0\n",
    "        while j <= i:\n",
    "            A[i][j] = np.random.randn()\n",
    "            j += 1\n",
    "\n",
    "    # Step 2：A の (i,j) 成分（i < j：上三角成分）を，Step 1 で定めた A の (j,i) 成分とする．\n",
    "    for j in range(N):\n",
    "        i = 0\n",
    "        while j > i:\n",
    "            A[i][j] = A[j][i]\n",
    "            i += 1\n",
    "\n",
    "    # A の表示\n",
    "    print(\"行列：\\n\",A,\"\\n\")\n",
    "    \n",
    "    # A の固有値\n",
    "    print(\"固有値：\\n\",np.linalg.eigvals(A),\"\\n\")\n",
    "    \n",
    "    # A の正規化固有値\n",
    "    print(\"正規化固有値（ √N =\",N**(1/2),\"）：\\n\",np.linalg.eigvals(A)/(N**(1/2)))"
   ]
  },
  {
   "cell_type": "code",
   "execution_count": 16,
   "id": "269acd66",
   "metadata": {},
   "outputs": [
    {
     "name": "stdout",
     "output_type": "stream",
     "text": [
      "行列：\n",
      " [[-0.20947296 -0.22232489 -0.38718908]\n",
      " [-0.22232489 -0.70136262 -0.28431664]\n",
      " [-0.38718908 -0.28431664 -0.2018224 ]] \n",
      "\n",
      "固有値：\n",
      " [-1.01022946  0.18444519 -0.28687371] \n",
      "\n",
      "正規化固有値（ √N = 1.7320508075688772 ）：\n",
      " [-0.58325625  0.10648948 -0.16562661]\n"
     ]
    }
   ],
   "source": [
    "symmat_eigval_test(3)"
   ]
  },
  {
   "cell_type": "code",
   "execution_count": 17,
   "id": "ee16c6ac",
   "metadata": {},
   "outputs": [
    {
     "name": "stdout",
     "output_type": "stream",
     "text": [
      "行列：\n",
      " [[ 1.49883929  0.69845617 -0.94383221  0.66994552  0.91429781]\n",
      " [ 0.69845617 -1.34665866 -0.32738427  0.06520366 -0.15186989]\n",
      " [-0.94383221 -0.32738427  0.54136367  0.65793536  1.5448038 ]\n",
      " [ 0.66994552  0.06520366  0.65793536 -1.89997344 -0.14824883]\n",
      " [ 0.91429781 -0.15186989  1.5448038  -0.14824883 -1.1509063 ]] \n",
      "\n",
      "固有値：\n",
      " [ 2.25780232  1.41380799 -2.94967076 -1.65778539 -1.42148961] \n",
      "\n",
      "正規化固有値（ √N = 2.23606797749979 ）：\n",
      " [ 1.00971989  0.63227415 -1.31913286 -0.74138416 -0.63570948]\n"
     ]
    }
   ],
   "source": [
    "symmat_eigval_test(5)"
   ]
  },
  {
   "cell_type": "markdown",
   "id": "b7375d3f",
   "metadata": {},
   "source": [
    "## 関数 symmat_eigval_test() の実行によって，対称行列の生成や固有値計算が問題なく機能していることを確認した．続いて，関数 symmat_eigval_test() を土台として，対称行列の固有値分布を密度関数としてヒストグラムにより表示する関数 symmat_eigval() を定めた下記のプログラムを実行する．"
   ]
  },
  {
   "cell_type": "code",
   "execution_count": 18,
   "id": "69b1586c",
   "metadata": {},
   "outputs": [],
   "source": [
    "def symmat_eigval(N):\n",
    "    \n",
    "    # 初期の A：ゼロ行列\n",
    "    A = np.zeros((N, N))\n",
    "\n",
    "    # Step 1: A の (i,j) 成分（i > j：下三角成分，i = j：対角成分）を乱数として決める\n",
    "    for i in range(N):\n",
    "        j = 0\n",
    "        while j <= i:\n",
    "            A[i][j] = np.random.randn()\n",
    "            j += 1\n",
    "\n",
    "    # Step 2：A の (i,j) 成分（i < j：上三角成分）を，Step 1 で定めた A の (j,i) 成分とする．\n",
    "    for j in range(N):\n",
    "        i = 0\n",
    "        while j > i:\n",
    "            A[i][j] = A[j][i]\n",
    "            i += 1\n",
    "\n",
    "    # ヒストグラムによる A の固有値分布の密度関数の描画\n",
    "    # bins = 50：ビンの本数を 50 本とする\n",
    "    # density = True：全てのビン（bin，表示する棒）の面積の合計が 1.0 となるように縦軸のスケールを調整する\n",
    "    plt.hist(np.linalg.eigvals(A)/(N**(1/2)), bins = 50, density = True)\n",
    "    plt.title(\"Distribution of eigenvalues\", fontsize = 15)"
   ]
  },
  {
   "cell_type": "markdown",
   "id": "4b288f26",
   "metadata": {},
   "source": [
    "## （１）$N=300$ の場合"
   ]
  },
  {
   "cell_type": "code",
   "execution_count": 19,
   "id": "fad0cc2c",
   "metadata": {},
   "outputs": [
    {
     "data": {
      "text/plain": [
       "[<matplotlib.lines.Line2D at 0x15708eb6910>]"
      ]
     },
     "execution_count": 19,
     "metadata": {},
     "output_type": "execute_result"
    },
    {
     "data": {
      "image/png": "[encoded data removed]",
      "text/plain": [
       "<Figure size 432x288 with 1 Axes>"
      ]
     },
     "metadata": {
      "needs_background": "light"
     },
     "output_type": "display_data"
    }
   ],
   "source": [
    "### 固有値分布の描画 ###\n",
    "symmat_eigval(300)\n",
    "\n",
    "### 半円の描画 ###\n",
    "def f(x):\n",
    "    return (4-x**2)**(1/2)/(2 * np.pi) # math に加えて，Numpy からも円周率πやネピア数 e を呼び出せる\n",
    "\n",
    "x = np.linspace(-2, 2, 100)\n",
    "plt.plot(x, f(x))"
   ]
  },
  {
   "cell_type": "markdown",
   "id": "f098b9a5",
   "metadata": {},
   "source": [
    "## （２）$N=1000$ の場合"
   ]
  },
  {
   "cell_type": "code",
   "execution_count": 20,
   "id": "6c2e3a03",
   "metadata": {
    "scrolled": true
   },
   "outputs": [
    {
     "data": {
      "text/plain": [
       "[<matplotlib.lines.Line2D at 0x157090461c0>]"
      ]
     },
     "execution_count": 20,
     "metadata": {},
     "output_type": "execute_result"
    },
    {
     "data": {
      "image/png": "[encoded data removed]",
      "text/plain": [
       "<Figure size 432x288 with 1 Axes>"
      ]
     },
     "metadata": {
      "needs_background": "light"
     },
     "output_type": "display_data"
    }
   ],
   "source": [
    "### 固有値分布の描画 ###\n",
    "symmat_eigval(1000)\n",
    "\n",
    "### 半円の描画 ###\n",
    "def f(x):\n",
    "    return (4-x**2)**(1/2)/(2 * np.pi)\n",
    "\n",
    "x = np.linspace(-2, 2, 100)\n",
    "plt.plot(x, f(x))"
   ]
  },
  {
   "cell_type": "markdown",
   "id": "2e7c2dce",
   "metadata": {},
   "source": [
    "## （３）$N=2000$ の場合"
   ]
  },
  {
   "cell_type": "code",
   "execution_count": 21,
   "id": "480b6ef8",
   "metadata": {},
   "outputs": [
    {
     "data": {
      "text/plain": [
       "[<matplotlib.lines.Line2D at 0x157095947c0>]"
      ]
     },
     "execution_count": 21,
     "metadata": {},
     "output_type": "execute_result"
    },
    {
     "data": {
      "image/png": "[encoded data removed]",
      "text/plain": [
       "<Figure size 432x288 with 1 Axes>"
      ]
     },
     "metadata": {
      "needs_background": "light"
     },
     "output_type": "display_data"
    }
   ],
   "source": [
    "### 固有値分布の描画 ###\n",
    "symmat_eigval(2000)\n",
    "\n",
    "### 半円の描画 ###\n",
    "def f(x):\n",
    "    return (4-x**2)**(1/2)/(2 * np.pi)\n",
    "\n",
    "x = np.linspace(-2, 2, 100)\n",
    "plt.plot(x, f(x))"
   ]
  },
  {
   "cell_type": "markdown",
   "id": "e3911975",
   "metadata": {},
   "source": [
    "## $N$ を大きくすると，正規化固有値 $\\tilde{\\lambda} = \\frac{\\lambda}{\\sqrt{N}}$ の確率分布は，半円（半楕円）の方程式：<br><br>$$f(\\tilde{\\lambda})=\\left\\{ \\begin{array}{cc} \\frac{\\sqrt{4-\\tilde{\\lambda}^2}}{2 \\pi} & (|\\tilde{\\lambda}| \\leq 2)\\\\ 0 & (|\\tilde{\\lambda}| > 2) \\end{array} \\right. \\ \\ \\ \\ \\ \\cdots \\ (\\ast) $$ <br>に収束する．この性質を<span style=\"color: blue; \">ウィグナーの半円則</span>という．上記３つの図は，$N$ を大きくすることで，ウィグナーの半円則が成り立つ傾向にあることを示唆していて，オレンジ色の曲線は $(\\ast)$ 式そのものである．"
   ]
  },
  {
   "cell_type": "markdown",
   "id": "cb83ed3b",
   "metadata": {},
   "source": [
    "## <span style=\"color: red; \">提出課題＜締切：１２月３０日（土）２３：５９＞</span><br><br>prog29_kadai_sample.ipynb 内の問に答えよ．<br>prog29_kadai_sample.ipynb 内の空欄すべてを埋め終えたら，ファイル名を<br><span style=\"color: blue; \">「prog29_kadai_sample」から「prog29_kadai_892〇〇〇〇」<br>（〇〇〇〇：半角の学籍番号下４桁）<br>へ変更し</span>，江夏の宛先へメール添付によりファイルを送信すること．"
   ]
  }
 ],
 "metadata": {
  "kernelspec": {
   "display_name": "Python 3",
   "language": "python",
   "name": "python3"
  },
  "language_info": {
   "codemirror_mode": {
    "name": "ipython",
    "version": 3
   },
   "file_extension": ".py",
   "mimetype": "text/x-python",
   "name": "python",
   "nbconvert_exporter": "python",
   "pygments_lexer": "ipython3",
   "version": "3.8.5"
  }
 },
 "nbformat": 4,
 "nbformat_minor": 5
}
