{
 "cells": [
  {
   "cell_type": "markdown",
   "id": "a9a537e5",
   "metadata": {},
   "source": [
    "## 講義（第１１回）レポート<br>学籍番号：8923117　氏名：三好琉希"
   ]
  },
  {
   "cell_type": "markdown",
   "id": "10059b2a",
   "metadata": {},
   "source": [
    "## 次の問に答えよ．ただし，全ての問において，入力したプログラムを自身で実行し，<span style=\"color: blue; \">実行によって出力される表示結果も必ず残したままにすること．</span>問１，問２を解答必須の課題，問３は自主課題として，問３も取り組んだ者には一定の評価を付す．"
   ]
  },
  {
   "cell_type": "markdown",
   "id": "f95b5545",
   "metadata": {},
   "source": [
    "## 問１．次のリスト d に対して，以下の操作を行うプログラムを作成せよ．リストの長さを返す関数 len() や for 文による解法あるいは statistics モジュールをインポートすることで使える数理統計関数による解法のどちらを用いても良い．"
   ]
  },
  {
   "cell_type": "code",
   "execution_count": 1,
   "id": "debabe5d",
   "metadata": {},
   "outputs": [],
   "source": [
    "d = [29,7,84,55,20,42,31,14,52,38,31,55,72,89,3,64,31,43,18,29]"
   ]
  },
  {
   "cell_type": "markdown",
   "id": "72911c93",
   "metadata": {},
   "source": [
    "## （１）リスト d の長さを表示するプログラム"
   ]
  },
  {
   "cell_type": "code",
   "execution_count": 2,
   "id": "795104b2",
   "metadata": {},
   "outputs": [
    {
     "data": {
      "text/plain": [
       "20"
      ]
     },
     "execution_count": 2,
     "metadata": {},
     "output_type": "execute_result"
    }
   ],
   "source": [
    "# 問１（１）の入力欄\n",
    "len(d)"
   ]
  },
  {
   "cell_type": "markdown",
   "id": "dad4a0c3",
   "metadata": {},
   "source": [
    "## （２）リスト d の平均を表示するプログラム"
   ]
  },
  {
   "cell_type": "code",
   "execution_count": 3,
   "id": "2d65a48c",
   "metadata": {},
   "outputs": [
    {
     "data": {
      "text/plain": [
       "40.35"
      ]
     },
     "execution_count": 3,
     "metadata": {},
     "output_type": "execute_result"
    }
   ],
   "source": [
    "# 問１（２）の入力欄\n",
    "import statistics\n",
    "statistics.mean(d)"
   ]
  },
  {
   "cell_type": "markdown",
   "id": "0c9491a5",
   "metadata": {},
   "source": [
    "## （３）リスト d の分散・標準偏差を表示するプログラム"
   ]
  },
  {
   "cell_type": "code",
   "execution_count": 4,
   "id": "d37faa2e",
   "metadata": {},
   "outputs": [
    {
     "name": "stdout",
     "output_type": "stream",
     "text": [
      "分散 552.4275 標準偏差 23.50377629233226\n"
     ]
    }
   ],
   "source": [
    "# 問１（３）の入力欄\n",
    "P=statistics.pvariance(d)\n",
    "p=statistics.pstdev(d)\n",
    "print(\"分散\",P,\"標準偏差\",p)"
   ]
  },
  {
   "cell_type": "markdown",
   "id": "a98cd3c1",
   "metadata": {},
   "source": [
    "## （４）リスト d の中央値を表示するプログラム"
   ]
  },
  {
   "cell_type": "code",
   "execution_count": 5,
   "id": "4e09c168",
   "metadata": {},
   "outputs": [
    {
     "data": {
      "text/plain": [
       "34.5"
      ]
     },
     "execution_count": 5,
     "metadata": {},
     "output_type": "execute_result"
    }
   ],
   "source": [
    "# 問１（４）の入力欄\n",
    "statistics.median(d)"
   ]
  },
  {
   "cell_type": "markdown",
   "id": "ae1c303a",
   "metadata": {},
   "source": [
    "## （５）リスト d の要素を小さい順に並べたとき，リスト d の中央を挟む２つの要素のうち，小さい方の値と大きい方の値をまとめて表示するプログラム"
   ]
  },
  {
   "cell_type": "code",
   "execution_count": 6,
   "id": "7c0274fc",
   "metadata": {},
   "outputs": [
    {
     "name": "stdout",
     "output_type": "stream",
     "text": [
      "リスト d の要素を小さい順に並べたとき，中央を挟む２つの要素のうちで小さい方の値は 31 大きい方の値は 38\n"
     ]
    }
   ],
   "source": [
    "# 問１（５）の入力欄\n",
    "mmin=statistics.median_low(d)\n",
    "mmax=statistics.median_high(d)\n",
    "print(\"リスト d の要素を小さい順に並べたとき，中央を挟む２つの要素のうちで小さい方の値は\",mmin,\"大きい方の値は\",mmax)"
   ]
  },
  {
   "cell_type": "markdown",
   "id": "888a6fdd",
   "metadata": {},
   "source": [
    "## （６）リスト d の最頻値を表示するプログラム"
   ]
  },
  {
   "cell_type": "code",
   "execution_count": 7,
   "id": "865ce5db",
   "metadata": {},
   "outputs": [
    {
     "data": {
      "text/plain": [
       "31"
      ]
     },
     "execution_count": 7,
     "metadata": {},
     "output_type": "execute_result"
    }
   ],
   "source": [
    "# 問１（６）の入力欄\n",
    "statistics.mode(d)"
   ]
  },
  {
   "cell_type": "markdown",
   "id": "113c98b7",
   "metadata": {},
   "source": [
    "## （７）リスト d の最頻値の出現回数を表示するプログラム"
   ]
  },
  {
   "cell_type": "code",
   "execution_count": 8,
   "id": "5ab76c29",
   "metadata": {},
   "outputs": [
    {
     "data": {
      "text/plain": [
       "3"
      ]
     },
     "execution_count": 8,
     "metadata": {},
     "output_type": "execute_result"
    }
   ],
   "source": [
    "# 問１（７）の入力欄\n",
    "d.count(statistics.mode(d))"
   ]
  },
  {
   "cell_type": "markdown",
   "id": "0386761d",
   "metadata": {},
   "source": [
    "## 問２．tokyo_data_SJIS.dat あるいは tokyo_data_UTF8.dat の東京の日照時間の平均，分散・標準偏差を表示するプログラムを作成せよ．<br><br>【注意】プログラムが正しければ，<span style=\"color: blue; \">日照時間の平均は 5.348... 時間，分散は 17.253...，標準偏差は 4.153... といった結果が出力される</span>．"
   ]
  },
  {
   "cell_type": "code",
   "execution_count": 6,
   "id": "62adadde",
   "metadata": {},
   "outputs": [
    {
     "name": "stdout",
     "output_type": "stream",
     "text": [
      "東京での日照時間の平均は 5.348493150684932 時間\n",
      "東京での日照時間の分散は 17.253840195158567\n",
      "東京での日照時間の標準偏差は 4.153774210902486\n"
     ]
    }
   ],
   "source": [
    "# 問２の入力欄\n",
    "import re\n",
    "import statistics\n",
    "\n",
    "data=open('tokyo_data_UTF8.dat', encoding=\"utf-8\")\n",
    "list_sunshineh = []\n",
    "for line in data:\n",
    "    if not re.match('#', line):\n",
    "        lines = line.split(' ')           \n",
    "        list_sunshineh.append(float(lines[2]))\n",
    "        \n",
    "print(\"東京での日照時間の平均は\",statistics.mean(list_sunshineh),\"時間\")\n",
    "print(\"東京での日照時間の分散は\",statistics.pvariance(list_sunshineh))\n",
    "print(\"東京での日照時間の標準偏差は\",statistics.pstdev(list_sunshineh),)\n",
    "\n",
    "data.close()"
   ]
  },
  {
   "cell_type": "markdown",
   "id": "464c7195",
   "metadata": {},
   "source": [
    "## 問３（発展）．問３で扱った dat ファイル内の東京の合計降水量が 0 である日は 2020/4/1 から 2021/3/31 までの 365 日のうち何日あるかを表示するためのプログラムを作成せよ．<br><br>【注意】プログラムが正しければ，<span style=\"color: blue; \">東京での合計降水量が 0 である日数は 237 となるような結果が出力される</span>．"
   ]
  },
  {
   "cell_type": "code",
   "execution_count": 8,
   "id": "f9866fae",
   "metadata": {},
   "outputs": [
    {
     "name": "stdout",
     "output_type": "stream",
     "text": [
      "東京での合計降水量が 0 である日数は 237 です。\n"
     ]
    }
   ],
   "source": [
    "# 問３の入力欄\n",
    "import statistics\n",
    "import re        \n",
    "\n",
    "data = open('tokyo_data_SJIS.dat', encoding=\"shift-jis\")\n",
    "list_rain = [] \n",
    "\n",
    "\n",
    "for line in data:\n",
    "    if not re.match('#', line):\n",
    "        lines = line.split(' ')           \n",
    "        list_rain.append(float(lines[3]))\n",
    "        \n",
    "print(\"東京での合計降水量が 0 である日数は\",list_rain.count(0),\"です。\")\n",
    "\n",
    "data.close()"
   ]
  },
  {
   "cell_type": "markdown",
   "id": "4628ac1e",
   "metadata": {},
   "source": [
    "## 【お知らせ】<br>問２と問３については，週の半ばを目処としてヒントを提示します．必要に応じて，後日にアップされる prog11_kadai_hint.ipynb を参照しましょう．"
   ]
  }
 ],
 "metadata": {
  "kernelspec": {
   "display_name": "Python 3 (ipykernel)",
   "language": "python",
   "name": "python3"
  },
  "language_info": {
   "codemirror_mode": {
    "name": "ipython",
    "version": 3
   },
   "file_extension": ".py",
   "mimetype": "text/x-python",
   "name": "python",
   "nbconvert_exporter": "python",
   "pygments_lexer": "ipython3",
   "version": "3.10.9"
  }
 },
 "nbformat": 4,
 "nbformat_minor": 5
}
