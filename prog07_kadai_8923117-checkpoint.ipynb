{
 "cells": [
  {
   "cell_type": "markdown",
   "id": "98b35e82",
   "metadata": {},
   "source": [
    "## 講義（第７回）レポート<br>学籍番号：892〇〇〇〇　氏名：〇〇　〇〇"
   ]
  },
  {
   "cell_type": "markdown",
   "id": "8324c24f",
   "metadata": {},
   "source": [
    "## 次の問に答えよ．ただし，全ての問において，入力したプログラムを自身で実行し，<span style=\"color: blue; \">実行によって出力される表示結果も必ず残したままにすること．</span>"
   ]
  },
  {
   "cell_type": "markdown",
   "id": "6ff491c5",
   "metadata": {},
   "source": [
    "## 問１．while 文を使った，１０個の数 $1^6,2^6,\\ldots,10^6$ の合計を求めるプログラムを作成せよ．"
   ]
  },
  {
   "cell_type": "code",
   "execution_count": 1,
   "id": "4d70ff6d",
   "metadata": {
    "direction": "rtl"
   },
   "outputs": [],
   "source": [
    "# 問１の入力欄\n"
   ]
  },
  {
   "cell_type": "markdown",
   "id": "9285881c",
   "metadata": {},
   "source": [
    "## 問２．while 文を使った，１０個の数 $1^1,3^3,5^5,\\ldots,19^{19}$ の合計を求めるプログラムを作成せよ．<br><br>【注意】プログラムが正しければ，求める合計は <span style=\"color: blue; \">1979247334119251113257580 となる</span>．"
   ]
  },
  {
   "cell_type": "code",
   "execution_count": 2,
   "id": "b6cded1c",
   "metadata": {},
   "outputs": [],
   "source": [
    "# 問２の入力欄\n"
   ]
  },
  {
   "cell_type": "markdown",
   "id": "2106d1a7",
   "metadata": {},
   "source": [
    "## 問３．for 文と range 関数を使った，1 から 30 までの奇数を逆順に（数字の大きい順に）足し上げて合計を求めるプログラムを作成せよ．<br><br>【注意】<span style=\"color: red; \">224 </span>という答が出た場合は，結論が正しいかどうか，今一度見直しましょう．"
   ]
  },
  {
   "cell_type": "code",
   "execution_count": 3,
   "id": "ea19d811",
   "metadata": {},
   "outputs": [],
   "source": [
    "# 問３の入力欄\n"
   ]
  }
 ],
 "metadata": {
  "kernelspec": {
   "display_name": "Python 3",
   "language": "python",
   "name": "python3"
  },
  "language_info": {
   "codemirror_mode": {
    "name": "ipython",
    "version": 3
   },
   "file_extension": ".py",
   "mimetype": "text/x-python",
   "name": "python",
   "nbconvert_exporter": "python",
   "pygments_lexer": "ipython3",
   "version": "3.8.8"
  }
 },
 "nbformat": 4,
 "nbformat_minor": 5
}
