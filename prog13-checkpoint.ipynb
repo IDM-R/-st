{
 "cells": [
  {
   "cell_type": "markdown",
   "id": "c9f418cc",
   "metadata": {},
   "source": [
    "## 講義（第１３回）ノート　＜６章　関数，6.3節～6.5節＞　<br>提出課題は最下部を参照"
   ]
  },
  {
   "cell_type": "markdown",
   "id": "117e2c0a",
   "metadata": {},
   "source": [
    "## 6.3 ローカル変数とグローバル変数（p.76～）<br><br>Python の変数には，ローカル変数（local variable）やグローバル変数（global variable）と呼ばれる２つの種類があり，次のように分類される．<br><br>ローカル変数　：関数の内部で定義された変数（有効範囲：関数内のみ）<br>グローバル変数：関数の外部で定義された変数（有効範囲：Notebook 全体）<br><br>ローカル変数は，関数を実行している間のみ参照可能である．例えば，以下のプログラム："
   ]
  },
  {
   "cell_type": "code",
   "execution_count": 1,
   "id": "4ed6ae91",
   "metadata": {},
   "outputs": [],
   "source": [
    "def f(a,b):\n",
    "    x=a+2\n",
    "    y=b+2"
   ]
  },
  {
   "cell_type": "markdown",
   "id": "c10a9e3e",
   "metadata": {},
   "source": [
    "## では，関数 f の内部で定義された変数 x,y はローカル変数であり，引数 a,b もローカル変数である．変数 x,y は Notebook 全体で定義されていないため，以下のプログラムはエラーを表示する．"
   ]
  },
  {
   "cell_type": "code",
   "execution_count": 2,
   "id": "c4cf15fa",
   "metadata": {},
   "outputs": [
    {
     "ename": "NameError",
     "evalue": "name 'x' is not defined",
     "output_type": "error",
     "traceback": [
      "\u001b[1;31m---------------------------------------------------------------------------\u001b[0m",
      "\u001b[1;31mNameError\u001b[0m                                 Traceback (most recent call last)",
      "\u001b[1;32m<ipython-input-2-6fcf9dfbd479>\u001b[0m in \u001b[0;36m<module>\u001b[1;34m\u001b[0m\n\u001b[1;32m----> 1\u001b[1;33m \u001b[0mx\u001b[0m\u001b[1;33m\u001b[0m\u001b[1;33m\u001b[0m\u001b[0m\n\u001b[0m",
      "\u001b[1;31mNameError\u001b[0m: name 'x' is not defined"
     ]
    }
   ],
   "source": [
    "x"
   ]
  },
  {
   "cell_type": "markdown",
   "id": "cc1404fc",
   "metadata": {},
   "source": [
    "## 次に，ローカル変数とグローバル変数で同じ変数名を使った場合，print 文による出力命令の位置に応じて，どちらが参照されるかを実験的に調べよう．そのために，次のプログラムを考える："
   ]
  },
  {
   "cell_type": "code",
   "execution_count": 3,
   "id": "c718057f",
   "metadata": {},
   "outputs": [
    {
     "name": "stdout",
     "output_type": "stream",
     "text": [
      "100\n",
      "3\n",
      "100\n"
     ]
    }
   ],
   "source": [
    "x = 100        # ここでの x はグローバル変数\n",
    "\n",
    "def test():\n",
    "    x = 3      # ここでの x はローカル変数\n",
    "    print(x)\n",
    "\n",
    "print(x)\n",
    "test()\n",
    "print(x)"
   ]
  },
  {
   "cell_type": "markdown",
   "id": "581a90ab",
   "metadata": {},
   "source": [
    "## 上の出力結果の２，３行目で値の変化から，関数 test() の内部でのみ x=3 とした命令処理が行われ，関数の外部では，全て x=100 とした命令処理が行われていることが確認される．つまり，上のプログラムでは，関数定義の前後でグローバル変数としての x の値が変わることはない．<br><br>一方，実用的かどうかはさておき，関数内部で文字列 \"global\" を変数の手前に添える（global 宣言を行う）と，関数の実行後もグローバル変数で代入した値をそのまま表示できる．"
   ]
  },
  {
   "cell_type": "code",
   "execution_count": 4,
   "id": "2e34af95",
   "metadata": {},
   "outputs": [
    {
     "name": "stdout",
     "output_type": "stream",
     "text": [
      "100\n",
      "3\n",
      "3\n"
     ]
    }
   ],
   "source": [
    "x = 100        # ここでの x はグローバル変数\n",
    "\n",
    "def test():\n",
    "    global x  # x はグローバル宣言であることを宣言する\n",
    "    x = 3      # ここでの x はローカル変数\n",
    "    print(x)\n",
    "\n",
    "print(x)\n",
    "test()\n",
    "print(x)"
   ]
  },
  {
   "cell_type": "markdown",
   "id": "8c71039a",
   "metadata": {},
   "source": [
    "## 上の出力結果の２，３行目で値が 3 のまま変わっていないことから，プログラム途中の関数の内部でローカル変数に対する global 宣言を行うことで，関数定義の前後でグローバル変数としての x の値が 100 から 3 へ書き換えられていることが確認される．<br><br>注意（p.78～）．同じ文字でも参照する変数の種類が異なることへの見落としを無くしたり，無駄にメモリを占有しないためなどの理由で，<span style=\"color: blue; \">同じ変数名をグローバル変数とローカル変数の両方に使うことは推奨されない</span>！"
   ]
  },
  {
   "cell_type": "markdown",
   "id": "2842f316",
   "metadata": {},
   "source": [
    "## 6.4 再帰関数（p.79～）<br><br>関数内から自分自身を呼び出す関数を再帰関数（recursive function）という．再帰関数は，再帰的定義を記述する場合に役立つ．なお，再帰的定義とは，次の３点：<br><br>(1) 有限個の関数値から成る初期条件<br>(2) 再帰関数（関係式）<br>(3) 再帰関数を定める独立変数の範囲<br><br>によって，関数の値を次々と求める方法を表す．<br><br>【再帰関数を構成するためのポイント】<br>はじめに，<span style=\"color: blue; \">$n$ 番目の値</span>を <span style=\"color: red; \">$n-1$ 番目（や $n-2, n-3, \\ldots$ 番目など）の値</span>により表そう．<br><br>例１－１．階乗 $n!=n (n-1) \\cdot \\cdots \\cdot 1 \\ (n \\geq 0, n \\in \\mathbb{Z})$ の再帰的定義<br><br>はじめに，<span style=\"color: blue; \">$n!$</span> $=n$ $\\times$ <span style=\"color: red; \">$(n-1)!$</span> より，<span style=\"color: blue; \">$n$ 番目の値</span>は「１つ」手前の <span style=\"color: red; \">$n-1$ 番目の値</span>により表される．$a_n=n!$ とおくと，$$a_n=n a_{n-1}$$ であり，この再帰関数の下で必要な初期条件の個数は 「１つ」（$n=0$ のとき）である．<br>$a_0=0!=1$ より，求める再帰的定義は次の通りである：$$\\left\\{ \\begin{array}{l} a_0=1,\\\\a_n=n a_{n-1} \\ (n \\geq 1) \\end{array} \\right.$$<br>注意．例１－１における再帰的定義を成す３点の式について，初期条件は $a_0=1$，再帰関数は $a_n=n a_{n-1}$，再帰関数を定める独立変数の範囲は $n \\geq 1$ である．<br><br>問１－１．再帰的定義により， $n! \\ (n \\geq 0, n \\in \\mathbb{Z})$ を計算する関数 fact() を作りなさい．<br><br>【模範解答】"
   ]
  },
  {
   "cell_type": "code",
   "execution_count": 1,
   "id": "a11cc92a",
   "metadata": {},
   "outputs": [],
   "source": [
    "def fact(n):\n",
    "    if n == 0:\n",
    "        return 1           # 初期条件（n=0 のとき）\n",
    "    else:\n",
    "        return n*fact(n-1) # 再帰関数"
   ]
  },
  {
   "cell_type": "code",
   "execution_count": 2,
   "id": "b59db0cc",
   "metadata": {},
   "outputs": [
    {
     "data": {
      "text/plain": [
       "1"
      ]
     },
     "execution_count": 2,
     "metadata": {},
     "output_type": "execute_result"
    }
   ],
   "source": [
    "fact(0)"
   ]
  },
  {
   "cell_type": "code",
   "execution_count": 3,
   "id": "b0725f7c",
   "metadata": {},
   "outputs": [
    {
     "data": {
      "text/plain": [
       "24"
      ]
     },
     "execution_count": 3,
     "metadata": {},
     "output_type": "execute_result"
    }
   ],
   "source": [
    "fact(4) # 4×3×2×1 の計算"
   ]
  },
  {
   "cell_type": "code",
   "execution_count": null,
   "id": "2b05df84",
   "metadata": {},
   "outputs": [],
   "source": [
    "fact(6) # 6×5×4×3×2×1 の計算"
   ]
  },
  {
   "cell_type": "code",
   "execution_count": null,
   "id": "f0a5fbe6",
   "metadata": {},
   "outputs": [],
   "source": [
    "fact(7) # 7×6×5×4×3×2×1 の計算"
   ]
  },
  {
   "cell_type": "markdown",
   "id": "c7f12451",
   "metadata": {},
   "source": [
    "## 例１－２．$5^n-3 \\ (n \\geq 0, n \\in \\mathbb{Z})$ の再帰的定義<br><br>はじめに，<span style=\"color: blue; \">$5^n-3$</span> $=5$ $\\cdot$ <span style=\"color: red; \">$(5^{n-1}-3)$</span>$+12$ より，<span style=\"color: blue; \">$n$ 番目の値</span>は「１つ」手前の <span style=\"color: red; \">$n-1$ 番目の値</span>により表される．$a_n=5^n-3$ とおくと，$$a_n=5 a_{n-1}+12$$ であり，この再帰関数の下で必要な初期条件の個数は 「１つ」（$n=0$ のとき）である．<br>$a_0=5^0-3=-2$ より，求める再帰的定義は次の通りである：$$\\left\\{ \\begin{array}{l} a_0=-2,\\\\a_n=5 a_{n-1}+12 \\ (n \\geq 1) \\end{array} \\right.$$<br>問１－２．再帰的定義により，$5^n-3 \\ (n \\geq 0, n \\in \\mathbb{Z})$ を計算する関数 ex5() を作りなさい．<br><br>【模範解答】"
   ]
  },
  {
   "cell_type": "code",
   "execution_count": 4,
   "id": "1d380558",
   "metadata": {},
   "outputs": [],
   "source": [
    "def ex5(n):\n",
    "    if n == 0:\n",
    "        return -2            # 初期条件（n=0 のとき）\n",
    "    else:\n",
    "        return 5*ex5(n-1)+12 # 再帰関数"
   ]
  },
  {
   "cell_type": "code",
   "execution_count": 5,
   "id": "e2f7941d",
   "metadata": {},
   "outputs": [
    {
     "data": {
      "text/plain": [
       "-2"
      ]
     },
     "execution_count": 5,
     "metadata": {},
     "output_type": "execute_result"
    }
   ],
   "source": [
    "ex5(0)"
   ]
  },
  {
   "cell_type": "code",
   "execution_count": 6,
   "id": "510eea21",
   "metadata": {},
   "outputs": [
    {
     "data": {
      "text/plain": [
       "122"
      ]
     },
     "execution_count": 6,
     "metadata": {},
     "output_type": "execute_result"
    }
   ],
   "source": [
    "ex5(3)"
   ]
  },
  {
   "cell_type": "code",
   "execution_count": null,
   "id": "cac060ba",
   "metadata": {},
   "outputs": [],
   "source": [
    "ex5(2)"
   ]
  },
  {
   "cell_type": "code",
   "execution_count": null,
   "id": "67df55ae",
   "metadata": {},
   "outputs": [],
   "source": [
    "ex5(4)"
   ]
  },
  {
   "cell_type": "markdown",
   "id": "8eedc422",
   "metadata": {},
   "source": [
    "## 例２．２重階乗：$$n!!=\\left\\{ \\begin{array}{l} n (n-2) \\cdot \\cdots \\cdot 3 \\cdot 1 \\ (n: \\mbox{odd}),\\\\n (n-2) \\cdot \\cdots \\cdot 4 \\cdot 2 \\ (n: \\mbox{even}) \\end{array} \\right. \\ \\ \\ \\ \\ \\ \\ \\ (n \\geq 1, n \\in \\mathbb{Z})$$ の再帰的定義<br><br>はじめに，<span style=\"color: blue; \">$n!!$</span> $=n$ $\\times$ <span style=\"color: red; \">$(n-2)!!$</span> より，<span style=\"color: blue; \">$n$ 番目の値</span>は「２つ」手前の <span style=\"color: red; \">$n-2$ 番目の値</span>により表される．$a_n=n!!$ とおくと，$$a_n=n a_{n-2}$$ であり，この再帰関数の下で必要な初期条件の個数は 「２つ」（$n=1,2$ のとき）である．<br>$a_1=1, a_2=2$ より，求める再帰的定義は次の通りである：$$\\left\\{ \\begin{array}{l} a_1=1, \\ a_2=2,\\\\a_n=n a_{n-2} \\ (n \\geq 3) \\end{array} \\right.$$<br><br>問２．再帰的定義により，$n!! \\ (n \\geq 1, n \\in \\mathbb{Z})$ を計算する関数 double_fact() を作りなさい．<br><br>【模範解答】"
   ]
  },
  {
   "cell_type": "code",
   "execution_count": 7,
   "id": "ccc3c7ec",
   "metadata": {},
   "outputs": [],
   "source": [
    "def double_fact(n):\n",
    "    if n == 1:\n",
    "        return 1           # 初期条件（n=1 のとき）\n",
    "    elif n == 2:\n",
    "        return 2           # 初期条件（n=2 のとき）\n",
    "    else:\n",
    "        return n*double_fact(n-2) # 再帰関数"
   ]
  },
  {
   "cell_type": "code",
   "execution_count": 8,
   "id": "31465cd2",
   "metadata": {
    "scrolled": true
   },
   "outputs": [
    {
     "data": {
      "text/plain": [
       "1"
      ]
     },
     "execution_count": 8,
     "metadata": {},
     "output_type": "execute_result"
    }
   ],
   "source": [
    "double_fact(1)"
   ]
  },
  {
   "cell_type": "code",
   "execution_count": 9,
   "id": "07153920",
   "metadata": {},
   "outputs": [
    {
     "data": {
      "text/plain": [
       "2"
      ]
     },
     "execution_count": 9,
     "metadata": {},
     "output_type": "execute_result"
    }
   ],
   "source": [
    "double_fact(2)"
   ]
  },
  {
   "cell_type": "code",
   "execution_count": 10,
   "id": "6900abd9",
   "metadata": {
    "scrolled": true
   },
   "outputs": [
    {
     "data": {
      "text/plain": [
       "48"
      ]
     },
     "execution_count": 10,
     "metadata": {},
     "output_type": "execute_result"
    }
   ],
   "source": [
    "double_fact(6) # 6×4×2 の計算"
   ]
  },
  {
   "cell_type": "code",
   "execution_count": 11,
   "id": "51bc1d15",
   "metadata": {
    "scrolled": true
   },
   "outputs": [
    {
     "data": {
      "text/plain": [
       "105"
      ]
     },
     "execution_count": 11,
     "metadata": {},
     "output_type": "execute_result"
    }
   ],
   "source": [
    "double_fact(7) # 7×5×3×1 の計算"
   ]
  },
  {
   "cell_type": "code",
   "execution_count": null,
   "id": "9515e517",
   "metadata": {},
   "outputs": [],
   "source": [
    "double_fact(8) # 8×6×4×2 の計算"
   ]
  },
  {
   "cell_type": "code",
   "execution_count": null,
   "id": "c4522fa0",
   "metadata": {},
   "outputs": [],
   "source": [
    "double_fact(9) # 9×7×5×3×1 の計算"
   ]
  },
  {
   "cell_type": "markdown",
   "id": "de30a733",
   "metadata": {},
   "source": [
    "## 6.5 関数の実行時間（p.80～）＜問１－１の関数 fact() の定義を予め実行しておくこと！＞<br><br>Jupyter Notebook では，セル内に %%time を利用すると，プログラムの実行時間（Wall time）を表示することができる（実行時間は，PC 性能や OS などの状態によって異なる）．<br><br>例３．階乗 $n! \\ (n \\geq 0, n \\in \\mathbb{Z})$ を計算する関数 fact() の実行時間を求めるプログラム<br><br>注意．$1000!$ の計算に著しく時間がかかるときは，Kernel を終了して（LETUS ページ，第６回）問１－１のプログラムを実行し直した上で，() 内の 1000 を小さな数に変えて測定しよう．"
   ]
  },
  {
   "cell_type": "code",
   "execution_count": 3,
   "id": "2c718677",
   "metadata": {},
   "outputs": [
    {
     "name": "stdout",
     "output_type": "stream",
     "text": [
      "Wall time: 996 µs\n"
     ]
    },
    {
     "data": {
      "text/plain": [
       "402387260077093773543702433923003985719374864210714632543799910429938512398629020592044208486969404800479988610197196058631666872994808558901323829669944590997424504087073759918823627727188732519779505950995276120874975462497043601418278094646496291056393887437886487337119181045825783647849977012476632889835955735432513185323958463075557409114262417474349347553428646576611667797396668820291207379143853719588249808126867838374559731746136085379534524221586593201928090878297308431392844403281231558611036976801357304216168747609675871348312025478589320767169132448426236131412508780208000261683151027341827977704784635868170164365024153691398281264810213092761244896359928705114964975419909342221566832572080821333186116811553615836546984046708975602900950537616475847728421889679646244945160765353408198901385442487984959953319101723355556602139450399736280750137837615307127761926849034352625200015888535147331611702103968175921510907788019393178114194545257223865541461062892187960223838971476088506276862967146674697562911234082439208160153780889893964518263243671616762179168909779911903754031274622289988005195444414282012187361745992642956581746628302955570299024324153181617210465832036786906117260158783520751516284225540265170483304226143974286933061690897968482590125458327168226458066526769958652682272807075781391858178889652208164348344825993266043367660176999612831860788386150279465955131156552036093988180612138558600301435694527224206344631797460594682573103790084024432438465657245014402821885252470935190620929023136493273497565513958720559654228749774011413346962715422845862377387538230483865688976461927383814900140767310446640259899490222221765904339901886018566526485061799702356193897017860040811889729918311021171229845901641921068884387121855646124960798722908519296819372388642614839657382291123125024186649353143970137428531926649875337218940694281434118520158014123344828015051399694290153483077644569099073152433278288269864602789864321139083506217095002597389863554277196742822248757586765752344220207573630569498825087968928162753848863396909959826280956121450994871701244516461260379029309120889086942028510640182154399457156805941872748998094254742173582401063677404595741785160829230135358081840096996372524230560855903700624271243416909004153690105933983835777939410970027753472000000000000000000000000000000000000000000000000000000000000000000000000000000000000000000000000000000000000000000000000000000000000000000000000000000000000000000000000000000000000000000000000000000000000000000000000000000000000000000000000000000000"
      ]
     },
     "execution_count": 3,
     "metadata": {},
     "output_type": "execute_result"
    }
   ],
   "source": [
    "%%time\n",
    "fact(1000) # 1000 の階乗 1000! の値表示"
   ]
  },
  {
   "cell_type": "markdown",
   "id": "c2cddf74",
   "metadata": {},
   "source": [
    "## 上の出力結果より，$1000!$ を計算するための処理にかかった時間は $997 \\ [\\mu s]$（マイクロ秒），すなわち，$997 \\times 10^{-6} \\ [s]$（秒）であることがわかる．人間の計算時間よりも，コンピュータの計算時間の方がはるかに短いことが観察される．<br><br>%%time を使った測定結果は，実行の度に多少変化する．一方，平均的な実行時間やその取り得る範囲を具体的に知りたい場合は，%%timeit を使用すると良い．%%timeit では，実行時間の測定を１セット 1000 回として，７セット分行うため，%%time と比べて処理に時間がかかる．"
   ]
  },
  {
   "cell_type": "code",
   "execution_count": 13,
   "id": "7e9d32a3",
   "metadata": {},
   "outputs": [
    {
     "name": "stdout",
     "output_type": "stream",
     "text": [
      "337 µs ± 9.28 µs per loop (mean ± std. dev. of 7 runs, 1000 loops each)\n"
     ]
    }
   ],
   "source": [
    "%%timeit\n",
    "fact(1000) # 1000 の階乗 1000! の値表示"
   ]
  },
  {
   "cell_type": "markdown",
   "id": "465eeefd",
   "metadata": {},
   "source": [
    "## <span style=\"color: red; \">提出課題＜締切：７月２１日（金）２３：５９＞</span><br><br>prog13_kadai_sample.ipynb 内の問に答えよ．<br>prog13_kadai_sample.ipynb 内の空欄すべてを埋め終えたら，ファイル名を<br><span style=\"color: blue; \">「prog13_kadai_sample」から「prog13_kadai_892〇〇〇〇」<br>（〇〇〇〇：半角の学籍番号下４桁）<br>へ変更し</span>，江夏の宛先へメール添付によりファイルを送信すること．"
   ]
  },
  {
   "cell_type": "markdown",
   "id": "362b54db",
   "metadata": {},
   "source": [
    "## 【お知らせ】<br>講義ノートがアップされるのは，第１４回までです．第１５回では，有志で取り組みたい人向けに，LETUS 上で<span style=\"color: red; \">チャレンジ課題を公開する</span>予定です．提出日時が早く，出来が良好であれば成績に加点します．良い評定を目指したい受講生は，積極的に取り組みましょう．"
   ]
  }
 ],
 "metadata": {
  "kernelspec": {
   "display_name": "Python 3",
   "language": "python",
   "name": "python3"
  },
  "language_info": {
   "codemirror_mode": {
    "name": "ipython",
    "version": 3
   },
   "file_extension": ".py",
   "mimetype": "text/x-python",
   "name": "python",
   "nbconvert_exporter": "python",
   "pygments_lexer": "ipython3",
   "version": "3.8.5"
  }
 },
 "nbformat": 4,
 "nbformat_minor": 5
}
