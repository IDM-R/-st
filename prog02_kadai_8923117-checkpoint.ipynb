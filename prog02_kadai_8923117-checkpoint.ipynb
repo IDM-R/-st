{
 "cells": [
  {
   "cell_type": "markdown",
   "id": "9845bc70",
   "metadata": {},
   "source": [
    "## 講義(第2回)　レポート　学籍番号：8923117　氏名：三好　琉希"
   ]
  },
  {
   "cell_type": "code",
   "execution_count": 2,
   "id": "991c8bd5",
   "metadata": {},
   "outputs": [
    {
     "name": "stdout",
     "output_type": "stream",
     "text": [
      "+++++ +++++ +++++ +++++   +     +   +++++\n",
      "+   + +   +     +     +  ++    ++       +\n",
      "+++++ +++++ +++++ +++++   +     +      +\n",
      "+   +     + +         +   +     +     +\n",
      "+++++ +++++ +++++ +++++ +++++ +++++  +\n"
     ]
    }
   ],
   "source": [
    "print(\"\"\"+++++ +++++ +++++ +++++   +     +   +++++\n",
    "+   + +   +     +     +  ++    ++       +\n",
    "+++++ +++++ +++++ +++++   +     +      +\n",
    "+   +     + +         +   +     +     +\n",
    "+++++ +++++ +++++ +++++ +++++ +++++  +\"\"\")"
   ]
  },
  {
   "cell_type": "markdown",
   "id": "701ec32d",
   "metadata": {},
   "source": [
    "Windows11"
   ]
  },
  {
   "cell_type": "code",
   "execution_count": null,
   "id": "3eb025b8",
   "metadata": {},
   "outputs": [],
   "source": []
  }
 ],
 "metadata": {
  "kernelspec": {
   "display_name": "Python 3 (ipykernel)",
   "language": "python",
   "name": "python3"
  },
  "language_info": {
   "codemirror_mode": {
    "name": "ipython",
    "version": 3
   },
   "file_extension": ".py",
   "mimetype": "text/x-python",
   "name": "python",
   "nbconvert_exporter": "python",
   "pygments_lexer": "ipython3",
   "version": "3.10.9"
  }
 },
 "nbformat": 4,
 "nbformat_minor": 5
}
