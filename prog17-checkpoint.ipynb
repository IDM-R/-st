{
 "cells": [
  {
   "cell_type": "markdown",
   "id": "3a6482bb",
   "metadata": {},
   "source": [
    "## 講義（後期，第３回）ノート　＜８章　アルゴリズム１　線形探索と二分探索，8.3節＞<br>提出課題はありません．"
   ]
  },
  {
   "cell_type": "markdown",
   "id": "1aa7b6dc",
   "metadata": {},
   "source": [
    "## 【再掲】7.3.2 乱数でグラフを書く（応用例：第 10,11 章）<br><br>関数 random() を使うことで，乱数が生成される．random() を使うためには，次の Code セルを実行し，random モジュールをインポートする必要がある．"
   ]
  },
  {
   "cell_type": "code",
   "execution_count": 1,
   "id": "bd654a78",
   "metadata": {},
   "outputs": [],
   "source": [
    "import random"
   ]
  },
  {
   "cell_type": "markdown",
   "id": "b179154d",
   "metadata": {},
   "source": [
    "## 8.3 線形探索アルゴリズム（p.101～）<br><br>8.3.1 線形探索アルゴリズムとは<br><br>線形探索アルゴリズムは，探索対象のデータを端から順番に調べて探す方法である．条件に合うデータが見つからない場合や要素が順に並んでいないデータに対しては，すべてのデータを調べあげる必要があるため，すべてのデータの検査が必要になる．したがって，データの（要素）数を $n$ とおくと，線形探索アルゴリズムによるデータ探索の処理時間は，<span style=\"color: blue; \">$n$ に（一次関数的に）比例する</span>．<br><br>8.3.2 線形探索アルゴリズムの例<br><br>（１）トランプカードのデータ構造<br><br>　例として，トランプのカードを扱う．下記の表の通り，トランプは<br><br>・ハート　　　13枚<br>・スペード　　13枚<br>・クラブ　　　13枚<br>・ダイヤ　　　13枚<br>・ジョーカー　1枚<br><br>の全53枚から構成されるものとする（【例】HA：ハートのエース，S7：スペードの７）．"
   ]
  },
  {
   "cell_type": "markdown",
   "id": "b4e811d9",
   "metadata": {},
   "source": [
    "| <span style=\"font-size: 150%;\">インデックス/スート|<span style=\"font-size: 150%;\">ハート |<span style=\"font-size: 150%;\">スペード |<span style=\"font-size: 150%;\">クラブ |<span style=\"font-size: 150%;\">ダイヤ |<span style=\"font-size: 150%;\">他|\n",
    "|:---:|:---:|:---:|:---:|:---:|:---:|\n",
    "|<span style=\"font-size: 150%;\">A（エース） |<span style=\"font-size: 150%;\">HA| <span style=\"font-size: 150%;\">SA |<span style=\"font-size: 150%;\">CA |<span style=\"font-size: 150%;\">DA ||\n",
    "|<span style=\"font-size: 150%;\">2 |<span style=\"font-size: 150%;\">H2| <span style=\"font-size: 150%;\">S2 |<span style=\"font-size: 150%;\">C2 |<span style=\"font-size: 150%;\">D2 ||\n",
    "|<span style=\"font-size: 150%;\">3 |<span style=\"font-size: 150%;\">H3| <span style=\"font-size: 150%;\">S3 |<span style=\"font-size: 150%;\">C3 |<span style=\"font-size: 150%;\">D3 ||\n",
    "|<span style=\"font-size: 150%;\">4 |<span style=\"font-size: 150%;\">H4| <span style=\"font-size: 150%;\">S4 |<span style=\"font-size: 150%;\">C4 |<span style=\"font-size: 150%;\">D4 ||\n",
    "|<span style=\"font-size: 150%;\">5 |<span style=\"font-size: 150%;\">H5| <span style=\"font-size: 150%;\">S5 |<span style=\"font-size: 150%;\">C5 |<span style=\"font-size: 150%;\">D5 ||\n",
    "|<span style=\"font-size: 150%;\">6 |<span style=\"font-size: 150%;\">H6| <span style=\"font-size: 150%;\">S6 |<span style=\"font-size: 150%;\">C6 |<span style=\"font-size: 150%;\">D6 ||\n",
    "|<span style=\"font-size: 150%;\">7 |<span style=\"font-size: 150%;\">H7| <span style=\"font-size: 150%;\">S7 |<span style=\"font-size: 150%;\">C7 |<span style=\"font-size: 150%;\">D7 ||\n",
    "|<span style=\"font-size: 150%;\">8 |<span style=\"font-size: 150%;\">H8| <span style=\"font-size: 150%;\">S8 |<span style=\"font-size: 150%;\">C8 |<span style=\"font-size: 150%;\">D8 ||\n",
    "|<span style=\"font-size: 150%;\">9 |<span style=\"font-size: 150%;\">H9| <span style=\"font-size: 150%;\">S9 |<span style=\"font-size: 150%;\">C9 |<span style=\"font-size: 150%;\">D9 ||\n",
    "|<span style=\"font-size: 150%;\">10 |<span style=\"font-size: 150%;\">H10| <span style=\"font-size: 150%;\">S10 |<span style=\"font-size: 150%;\">C10 |<span style=\"font-size: 150%;\">D10 ||\n",
    "|<span style=\"font-size: 150%;\">J（ジャック） |<span style=\"font-size: 150%;\">HJ| <span style=\"font-size: 150%;\">SJ |<span style=\"font-size: 150%;\">CJ |<span style=\"font-size: 150%;\">DJ ||\n",
    "|<span style=\"font-size: 150%;\">Q（クイーン） |<span style=\"font-size: 150%;\">HQ| <span style=\"font-size: 150%;\">SQ |<span style=\"font-size: 150%;\">CQ |<span style=\"font-size: 150%;\">DQ ||\n",
    "|<span style=\"font-size: 150%;\">K（キング） |<span style=\"font-size: 150%;\">HK| <span style=\"font-size: 150%;\">SK |<span style=\"font-size: 150%;\">CK |<span style=\"font-size: 150%;\">DK ||\n",
    "|<span style=\"font-size: 150%;\">Joker（ジョーカー） |||||<span style=\"font-size: 150%;\">Joker|"
   ]
  },
  {
   "cell_type": "markdown",
   "id": "c4609a7e",
   "metadata": {},
   "source": [
    "## 配られた札を Python のリストで表現したい．そのために，以下の命令文を実行し，Python ですべてのカードを含むリスト（変数名：cards）を始めに作成する．"
   ]
  },
  {
   "cell_type": "code",
   "execution_count": 2,
   "id": "fdbac72b",
   "metadata": {},
   "outputs": [],
   "source": [
    "cards = [\"HA\", \"H2\", \"H3\", \"H4\", \"H5\", \"H6\", \"H7\", \"H8\", \"H9\", \"H10\", \"HJ\", \"HQ\", \"HK\", \"SA\", \"S2\", \"S3\", \"S4\", \"S5\", \"S6\", \"S7\", \"S8\", \"S9\", \"S10\", \"SJ\", \"SQ\", \"SK\", \"CA\", \"C2\", \"C3\", \"C4\", \"C5\", \"C6\", \"C7\", \"C8\", \"C9\", \"C10\", \"CJ\", \"CQ\", \"CK\", \"DA\", \"D2\", \"D3\", \"D4\", \"D5\", \"D6\", \"D7\", \"D8\", \"D9\", \"D10\", \"DJ\", \"DQ\", \"DK\", \"Joker\"]"
   ]
  },
  {
   "cell_type": "code",
   "execution_count": 3,
   "id": "130d80dd",
   "metadata": {},
   "outputs": [
    {
     "data": {
      "text/plain": [
       "['HA',\n",
       " 'H2',\n",
       " 'H3',\n",
       " 'H4',\n",
       " 'H5',\n",
       " 'H6',\n",
       " 'H7',\n",
       " 'H8',\n",
       " 'H9',\n",
       " 'H10',\n",
       " 'HJ',\n",
       " 'HQ',\n",
       " 'HK',\n",
       " 'SA',\n",
       " 'S2',\n",
       " 'S3',\n",
       " 'S4',\n",
       " 'S5',\n",
       " 'S6',\n",
       " 'S7',\n",
       " 'S8',\n",
       " 'S9',\n",
       " 'S10',\n",
       " 'SJ',\n",
       " 'SQ',\n",
       " 'SK',\n",
       " 'CA',\n",
       " 'C2',\n",
       " 'C3',\n",
       " 'C4',\n",
       " 'C5',\n",
       " 'C6',\n",
       " 'C7',\n",
       " 'C8',\n",
       " 'C9',\n",
       " 'C10',\n",
       " 'CJ',\n",
       " 'CQ',\n",
       " 'CK',\n",
       " 'DA',\n",
       " 'D2',\n",
       " 'D3',\n",
       " 'D4',\n",
       " 'D5',\n",
       " 'D6',\n",
       " 'D7',\n",
       " 'D8',\n",
       " 'D9',\n",
       " 'D10',\n",
       " 'DJ',\n",
       " 'DQ',\n",
       " 'DK',\n",
       " 'Joker']"
      ]
     },
     "execution_count": 3,
     "metadata": {},
     "output_type": "execute_result"
    }
   ],
   "source": [
    "cards"
   ]
  },
  {
   "cell_type": "markdown",
   "id": "a346ff3b",
   "metadata": {},
   "source": [
    "## 次に，最初に配る札13枚をランダムに選択し，リスト first に代入する．ここでは，カードのリストから要素をランダムに選択するため，random モジュールを利用する．関数 random.sample() は，リスト cards の中から「重複なく」13枚を選択する関数である（実行の度に出力が変わる）．"
   ]
  },
  {
   "cell_type": "code",
   "execution_count": 4,
   "id": "6767acb7",
   "metadata": {},
   "outputs": [
    {
     "name": "stdout",
     "output_type": "stream",
     "text": [
      "['D5', 'S8', 'Joker', 'S5', 'H8', 'S10', 'D3', 'S6', 'HA', 'H9', 'SQ', 'H5', 'DA']\n"
     ]
    }
   ],
   "source": [
    "first = random.sample(cards, 13)\n",
    "print(first)"
   ]
  },
  {
   "cell_type": "markdown",
   "id": "49aea022",
   "metadata": {},
   "source": [
    "## （２）手札を探索する<br><br>リスト first の中にジョーカーが含まれているかどうかを，線形探索アルゴリズムを使って調べる．次の命令文を実行し，線形探索アルゴリズムによるカード探索のプログラムを作成する．"
   ]
  },
  {
   "cell_type": "code",
   "execution_count": 5,
   "id": "d1bc62fc",
   "metadata": {
    "scrolled": true
   },
   "outputs": [],
   "source": [
    "def findJoker(l):\n",
    "    i = 0 # i：要素の取り出し位置\n",
    "    while i < len(l): # 要素が残っている限り，探索を続ける\n",
    "        if l[i] == \"Joker\":\n",
    "            print(\"発見\") # 要素が \"Joker\" であれば，発見\n",
    "            break # \"Joker\" を発見し次第，プログラムそのものを終了する\n",
    "        i += 1 # i を 1 つ進めて繰り返す"
   ]
  },
  {
   "cell_type": "markdown",
   "id": "720b01e1",
   "metadata": {},
   "source": [
    "## 関数 findJoker() の引数を２つ前のセルで定めたリスト first として，リスト first の中に Joker が含まれていれば「発見」という文字列が出力される（含まれていなければ，出力無し）．"
   ]
  },
  {
   "cell_type": "code",
   "execution_count": 6,
   "id": "357658aa",
   "metadata": {},
   "outputs": [
    {
     "name": "stdout",
     "output_type": "stream",
     "text": [
      "発見\n"
     ]
    }
   ],
   "source": [
    "# ２つ上の Code セルでの実行結果では，\n",
    "# first = ['D5', 'S8', 'Joker', 'S5', 'H8', 'S10', 'D3', 'S6', 'HA', 'H9', 'SQ', 'H5', 'DA']\n",
    "findJoker(first) "
   ]
  },
  {
   "cell_type": "markdown",
   "id": "416a79db",
   "metadata": {},
   "source": [
    "## 8.3.3 線形探索アルゴリズムの処理時間<br><br>13枚のカードをランダムに選択してから，ジョーカーが含まれているかどうかを調べるまでの試行を 100,000 回行う．ジョーカーを発見した回数を集計するために，直前の Code セルで定めた関数 findJoker() の数行を修正した次の関数 findJpoint() を定める．"
   ]
  },
  {
   "cell_type": "code",
   "execution_count": 7,
   "id": "ab2e6f9d",
   "metadata": {
    "scrolled": false
   },
   "outputs": [],
   "source": [
    "def findJpoint(l):\n",
    "    i = 0 # i：取り出し位置\n",
    "    while i < len(l):\n",
    "        if l[i] == \"Joker\":\n",
    "            return(1) # 発見した場合は 1 を返す\n",
    "        i += 1\n",
    "    return(0) # 発見できなかった場合は 0 を返す"
   ]
  },
  {
   "cell_type": "markdown",
   "id": "30b0ba28",
   "metadata": {},
   "source": [
    "## 上のプログラムを実行した後に次のプログラムを実行することで，100000 回のうちでジョーカーを発見した回数が出力される．"
   ]
  },
  {
   "cell_type": "code",
   "execution_count": 8,
   "id": "aac31e80",
   "metadata": {
    "scrolled": true
   },
   "outputs": [
    {
     "name": "stdout",
     "output_type": "stream",
     "text": [
      "24446\n"
     ]
    }
   ],
   "source": [
    "sum = 0\n",
    "for i in range(100000):\n",
    "    first = random.sample(cards, 13)\n",
    "    sum += findJpoint(first)\n",
    "print(sum)"
   ]
  },
  {
   "cell_type": "markdown",
   "id": "bb76799e",
   "metadata": {},
   "source": [
    "## 直前の Code セルで与えた findJpoint() による集計プログラムの実行時間を測定するためには，以下のプログラムを実行すれば良い．"
   ]
  },
  {
   "cell_type": "code",
   "execution_count": 9,
   "id": "348dfc69",
   "metadata": {
    "scrolled": false
   },
   "outputs": [
    {
     "name": "stdout",
     "output_type": "stream",
     "text": [
      "24437\n",
      "Wall time: 1.42 s\n"
     ]
    }
   ],
   "source": [
    "%%time\n",
    "sum = 0\n",
    "for i in range(100000):\n",
    "    first = random.sample(cards, 13)\n",
    "    sum += findJpoint(first)\n",
    "print(sum)"
   ]
  },
  {
   "cell_type": "markdown",
   "id": "5486f89c",
   "metadata": {},
   "source": [
    "## ランダムに選んだ13枚のカードの中にジョーカーがあるかどうかを調べる回数を $n$ 回として，$n$ 回の試行によってジョーカーを発見した回数を $m$ 回とおく．実際，配られたカード13枚のうち，ジョーカーが含まれる確率は$$\\frac{_{52}C_{12}}{_{53}C_{13}}=\\frac{13}{53}=0.2452...$$となる（テキスト p110，問 8.4）．そのため，試行回数 $n$ を大きくすると，ジョーカーの出現割合 $\\frac{m}{n}$ は $\\frac{13}{53}$ に近い値をとる．このことは，試行回数を 1 回から 1000 回までとしたジョーカーの出現確率に関する下記のグラフでも観察される．"
   ]
  },
  {
   "cell_type": "code",
   "execution_count": 10,
   "id": "fc4e9b38",
   "metadata": {},
   "outputs": [],
   "source": [
    "%matplotlib inline\n",
    "import time\n",
    "import matplotlib.pyplot as plt\n",
    "\n",
    "def findJtime(n):\n",
    "    x=range(1,n+1)\n",
    "    y=[]\n",
    "    z=[]\n",
    "    \n",
    "    for i in range(n):\n",
    "        sum = 0\n",
    "        for j in range(i+1):\n",
    "            first = random.sample(cards, 13)\n",
    "            sum += findJpoint(first)\n",
    "        \n",
    "        y.append(sum/(i+1)) # 試行回数 n の値とジョーカーの出現割合 m/n の実行時間に関するグラフが通る点の y 座標の格納\n",
    "        z.append(13/53) # 試行回数 n の値とジョーカーの出現確率（定数）のグラフが通る点の y 座標の格納\n",
    "    \n",
    "    plt.xlabel('number of trials $n$') # 軸の下側に表示される横軸の説明\n",
    "    \n",
    "    ### グラフ描画と label オプション ###\n",
    "    plt.plot(x,y, label=\"$m/n$ (the ratio of getting Joker for $n$ trials)\")\n",
    "    plt.plot(x,z, label=\"$13/53=0.2452...$ (the probability of getting Joker)\")\n",
    "    \n",
    "    ### 凡例（legend）の位置についてのオプション ###\n",
    "    ### 図全体の左下の座標を(0,0), 右上の座標を(1,1)とした凡例の位置調整 ###\n",
    "    plt.legend(bbox_to_anchor=(1.05, 1), loc='upper left')"
   ]
  },
  {
   "cell_type": "code",
   "execution_count": 11,
   "id": "14b05261",
   "metadata": {},
   "outputs": [
    {
     "data": {
      "image/png": "[encoded data removed]",
      "text/plain": [
       "<Figure size 432x288 with 1 Axes>"
      ]
     },
     "metadata": {
      "needs_background": "light"
     },
     "output_type": "display_data"
    }
   ],
   "source": [
    "findJtime(1000)"
   ]
  }
 ],
 "metadata": {
  "kernelspec": {
   "display_name": "Python 3",
   "language": "python",
   "name": "python3"
  },
  "language_info": {
   "codemirror_mode": {
    "name": "ipython",
    "version": 3
   },
   "file_extension": ".py",
   "mimetype": "text/x-python",
   "name": "python",
   "nbconvert_exporter": "python",
   "pygments_lexer": "ipython3",
   "version": "3.8.5"
  }
 },
 "nbformat": 4,
 "nbformat_minor": 5
}
