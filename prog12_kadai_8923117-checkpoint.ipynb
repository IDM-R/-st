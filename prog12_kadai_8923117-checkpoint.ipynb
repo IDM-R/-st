{
 "cells": [
  {
   "cell_type": "markdown",
   "id": "5358ff71",
   "metadata": {},
   "source": [
    "## 講義（第１２回）レポート<br>学籍番号：892〇〇〇〇　氏名：〇〇　〇〇"
   ]
  },
  {
   "cell_type": "markdown",
   "id": "402d2be3",
   "metadata": {},
   "source": [
    "## 次の問に答えよ．ただし，全ての問において，入力したプログラムを自身で実行し，<span style=\"color: blue; \">実行によって出力される表示結果も必ず残したままにすること</span>．今回の問は，全て解答必須の課題とする．"
   ]
  },
  {
   "cell_type": "markdown",
   "id": "7922d89d",
   "metadata": {},
   "source": [
    "## 問１．引数が偶数であれば True を返す（かつ奇数であれば False を返す）関数 iseven() を作りなさい．また，引数を $-5$ としたときの関数 iseven() の出力結果を表示せよ．"
   ]
  },
  {
   "cell_type": "code",
   "execution_count": 1,
   "id": "d84a8979",
   "metadata": {},
   "outputs": [],
   "source": [
    "# 問１の入力欄：関数 iseven() の定義\n",
    "def iseven(x):        \n",
    "    if (x%2==0):      \n",
    "        return True\n",
    "    else:\n",
    "        return False"
   ]
  },
  {
   "cell_type": "code",
   "execution_count": 2,
   "id": "3795bff5",
   "metadata": {},
   "outputs": [
    {
     "data": {
      "text/plain": [
       "False"
      ]
     },
     "execution_count": 2,
     "metadata": {},
     "output_type": "execute_result"
    }
   ],
   "source": [
    "# 問１の入力欄：引数を −5 としたときの関数の出力結果表示\n",
    "iseven(-5)"
   ]
  },
  {
   "cell_type": "markdown",
   "id": "4f15275b",
   "metadata": {},
   "source": [
    "## 問２．半径 $r$ の球の体積を求める関数 vol_ball() を作りたい．求める球の体積は $$v=\\frac{4}{3} \\pi r^3$$ で与えられる．次の問に答えよ．<br><br>(1) 引数として $r$ を受け取った上で体積を返す関数を作りなさい．<br>(2) 関数 vol_ball() を使って，半径 5 の球の体積を計算しなさい．<br>(3) 関数 vol_ball() を使って，$r$ を 1 から 10 まで 1 ずつ大きくしたときの体積を表示しなさい．"
   ]
  },
  {
   "cell_type": "code",
   "execution_count": 8,
   "id": "a0eb8805",
   "metadata": {},
   "outputs": [],
   "source": [
    "# 問２（１）の入力欄\n",
    "import math\n",
    "def vol_ball(r):        \n",
    "    return (4/3)*math.pi*math.pow(r,3)"
   ]
  },
  {
   "cell_type": "code",
   "execution_count": 9,
   "id": "b7511af6",
   "metadata": {},
   "outputs": [
    {
     "data": {
      "text/plain": [
       "523.5987755982989"
      ]
     },
     "execution_count": 9,
     "metadata": {},
     "output_type": "execute_result"
    }
   ],
   "source": [
    "# 問２（２）の入力欄\n",
    "vol_ball(5)"
   ]
  },
  {
   "cell_type": "code",
   "execution_count": 15,
   "id": "1607b971",
   "metadata": {},
   "outputs": [
    {
     "name": "stdout",
     "output_type": "stream",
     "text": [
      "  1 4.1887902047863905\n",
      "  2 33.510321638291124\n",
      "  3 113.09733552923254\n",
      "  4 268.082573106329\n",
      "  5 523.5987755982989\n",
      "  6 904.7786842338603\n",
      "  7 1436.7550402417319\n",
      "  8 2144.660584850632\n",
      "  9 3053.6280592892786\n",
      " 10 4188.790204786391\n"
     ]
    }
   ],
   "source": [
    "# 問２（３）の入力欄：！！r の値は「１の位が揃う形で出力されるように」表示すること！！\n",
    "for r in range(1,11):\n",
    "    v=vol_ball(r)\n",
    "    print(\"%3d\"%r,v)"
   ]
  },
  {
   "cell_type": "markdown",
   "id": "03e2ad2f",
   "metadata": {},
   "source": [
    "## 問３．底面積を $S$，高さを $h$ とする角錐の体積を求める関数 vol_pyramid() を作りたい．求める体積は $$V=\\frac{1}{3}Sh$$ で与えられる．次の問に答えよ．<br><br>(1) 引数として $S,h$ を受け取った上で体積を返す関数を作りなさい．<br>(2) 関数 vol_pyramid を使って，底面積を $5$，高さを $6$ とする角錐の体積を計算しなさい．"
   ]
  },
  {
   "cell_type": "code",
   "execution_count": 2,
   "id": "8436ba96",
   "metadata": {},
   "outputs": [],
   "source": [
    "# 問３（１）の入力欄\n",
    "def vol_pyramid(S,h):\n",
    "    return (1/3)*S*h"
   ]
  },
  {
   "cell_type": "code",
   "execution_count": 3,
   "id": "c4553563",
   "metadata": {},
   "outputs": [
    {
     "data": {
      "text/plain": [
       "10.0"
      ]
     },
     "execution_count": 3,
     "metadata": {},
     "output_type": "execute_result"
    }
   ],
   "source": [
    "# 問３（２）の入力欄\n",
    "vol_pyramid(5,6)"
   ]
  }
 ],
 "metadata": {
  "kernelspec": {
   "display_name": "Python 3 (ipykernel)",
   "language": "python",
   "name": "python3"
  },
  "language_info": {
   "codemirror_mode": {
    "name": "ipython",
    "version": 3
   },
   "file_extension": ".py",
   "mimetype": "text/x-python",
   "name": "python",
   "nbconvert_exporter": "python",
   "pygments_lexer": "ipython3",
   "version": "3.10.9"
  }
 },
 "nbformat": 4,
 "nbformat_minor": 5
}
